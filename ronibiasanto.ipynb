{
 "cells": [
  {
   "cell_type": "code",
   "execution_count": 1,
   "metadata": {
    "colab": {
     "background_save": true
    },
    "id": "RWFZnAGlypfM"
   },
   "outputs": [],
   "source": [
    "import pandas as pd\n",
    "import numpy as np\n",
    "\n",
    "from sklearn.preprocessing import MinMaxScaler , StandardScaler\n",
    "from sklearn.model_selection import train_test_split\n",
    "from sklearn.preprocessing import LabelEncoder\n",
    "import matplotlib.pyplot as plt\n",
    "import seaborn as sns"
   ]
  },
  {
   "cell_type": "code",
   "execution_count": 2,
   "metadata": {
    "id": "7WK8FBVisnYP"
   },
   "outputs": [
    {
     "data": {
      "text/html": [
       "<div>\n",
       "<style scoped>\n",
       "    .dataframe tbody tr th:only-of-type {\n",
       "        vertical-align: middle;\n",
       "    }\n",
       "\n",
       "    .dataframe tbody tr th {\n",
       "        vertical-align: top;\n",
       "    }\n",
       "\n",
       "    .dataframe thead th {\n",
       "        text-align: right;\n",
       "    }\n",
       "</style>\n",
       "<table border=\"1\" class=\"dataframe\">\n",
       "  <thead>\n",
       "    <tr style=\"text-align: right;\">\n",
       "      <th></th>\n",
       "      <th>id</th>\n",
       "      <th>diagnosis</th>\n",
       "      <th>radius_mean</th>\n",
       "      <th>texture_mean</th>\n",
       "      <th>perimeter_mean</th>\n",
       "      <th>area_mean</th>\n",
       "      <th>smoothness_mean</th>\n",
       "      <th>compactness_mean</th>\n",
       "      <th>concavity_mean</th>\n",
       "      <th>concave points_mean</th>\n",
       "      <th>...</th>\n",
       "      <th>radius_worst</th>\n",
       "      <th>texture_worst</th>\n",
       "      <th>perimeter_worst</th>\n",
       "      <th>area_worst</th>\n",
       "      <th>smoothness_worst</th>\n",
       "      <th>compactness_worst</th>\n",
       "      <th>concavity_worst</th>\n",
       "      <th>concave points_worst</th>\n",
       "      <th>symmetry_worst</th>\n",
       "      <th>fractal_dimension_worst</th>\n",
       "    </tr>\n",
       "  </thead>\n",
       "  <tbody>\n",
       "    <tr>\n",
       "      <th>426</th>\n",
       "      <td>907409</td>\n",
       "      <td>B</td>\n",
       "      <td>10.48</td>\n",
       "      <td>14.98</td>\n",
       "      <td>67.49</td>\n",
       "      <td>333.6</td>\n",
       "      <td>0.09816</td>\n",
       "      <td>0.10130</td>\n",
       "      <td>0.06335</td>\n",
       "      <td>0.02218</td>\n",
       "      <td>...</td>\n",
       "      <td>12.13</td>\n",
       "      <td>21.57</td>\n",
       "      <td>81.41</td>\n",
       "      <td>440.4</td>\n",
       "      <td>0.13270</td>\n",
       "      <td>0.2996</td>\n",
       "      <td>0.2939</td>\n",
       "      <td>0.09310</td>\n",
       "      <td>0.3020</td>\n",
       "      <td>0.09646</td>\n",
       "    </tr>\n",
       "    <tr>\n",
       "      <th>17</th>\n",
       "      <td>84862001</td>\n",
       "      <td>M</td>\n",
       "      <td>16.13</td>\n",
       "      <td>20.68</td>\n",
       "      <td>108.10</td>\n",
       "      <td>798.8</td>\n",
       "      <td>0.11700</td>\n",
       "      <td>0.20220</td>\n",
       "      <td>0.17220</td>\n",
       "      <td>0.10280</td>\n",
       "      <td>...</td>\n",
       "      <td>20.96</td>\n",
       "      <td>31.48</td>\n",
       "      <td>136.80</td>\n",
       "      <td>1315.0</td>\n",
       "      <td>0.17890</td>\n",
       "      <td>0.4233</td>\n",
       "      <td>0.4784</td>\n",
       "      <td>0.20730</td>\n",
       "      <td>0.3706</td>\n",
       "      <td>0.11420</td>\n",
       "    </tr>\n",
       "    <tr>\n",
       "      <th>43</th>\n",
       "      <td>856106</td>\n",
       "      <td>M</td>\n",
       "      <td>13.28</td>\n",
       "      <td>20.28</td>\n",
       "      <td>87.32</td>\n",
       "      <td>545.2</td>\n",
       "      <td>0.10410</td>\n",
       "      <td>0.14360</td>\n",
       "      <td>0.09847</td>\n",
       "      <td>0.06158</td>\n",
       "      <td>...</td>\n",
       "      <td>17.38</td>\n",
       "      <td>28.00</td>\n",
       "      <td>113.10</td>\n",
       "      <td>907.2</td>\n",
       "      <td>0.15300</td>\n",
       "      <td>0.3724</td>\n",
       "      <td>0.3664</td>\n",
       "      <td>0.14920</td>\n",
       "      <td>0.3739</td>\n",
       "      <td>0.10270</td>\n",
       "    </tr>\n",
       "    <tr>\n",
       "      <th>450</th>\n",
       "      <td>9111596</td>\n",
       "      <td>B</td>\n",
       "      <td>11.87</td>\n",
       "      <td>21.54</td>\n",
       "      <td>76.83</td>\n",
       "      <td>432.0</td>\n",
       "      <td>0.06613</td>\n",
       "      <td>0.10640</td>\n",
       "      <td>0.08777</td>\n",
       "      <td>0.02386</td>\n",
       "      <td>...</td>\n",
       "      <td>12.79</td>\n",
       "      <td>28.18</td>\n",
       "      <td>83.51</td>\n",
       "      <td>507.2</td>\n",
       "      <td>0.09457</td>\n",
       "      <td>0.3399</td>\n",
       "      <td>0.3218</td>\n",
       "      <td>0.08750</td>\n",
       "      <td>0.2305</td>\n",
       "      <td>0.09952</td>\n",
       "    </tr>\n",
       "    <tr>\n",
       "      <th>497</th>\n",
       "      <td>914580</td>\n",
       "      <td>B</td>\n",
       "      <td>12.47</td>\n",
       "      <td>17.31</td>\n",
       "      <td>80.45</td>\n",
       "      <td>480.1</td>\n",
       "      <td>0.08928</td>\n",
       "      <td>0.07630</td>\n",
       "      <td>0.03609</td>\n",
       "      <td>0.02369</td>\n",
       "      <td>...</td>\n",
       "      <td>14.06</td>\n",
       "      <td>24.34</td>\n",
       "      <td>92.82</td>\n",
       "      <td>607.3</td>\n",
       "      <td>0.12760</td>\n",
       "      <td>0.2506</td>\n",
       "      <td>0.2028</td>\n",
       "      <td>0.10530</td>\n",
       "      <td>0.3035</td>\n",
       "      <td>0.07661</td>\n",
       "    </tr>\n",
       "    <tr>\n",
       "      <th>154</th>\n",
       "      <td>8711002</td>\n",
       "      <td>B</td>\n",
       "      <td>13.15</td>\n",
       "      <td>15.34</td>\n",
       "      <td>85.31</td>\n",
       "      <td>538.9</td>\n",
       "      <td>0.09384</td>\n",
       "      <td>0.08498</td>\n",
       "      <td>0.09293</td>\n",
       "      <td>0.03483</td>\n",
       "      <td>...</td>\n",
       "      <td>14.77</td>\n",
       "      <td>20.50</td>\n",
       "      <td>97.67</td>\n",
       "      <td>677.3</td>\n",
       "      <td>0.14780</td>\n",
       "      <td>0.2256</td>\n",
       "      <td>0.3009</td>\n",
       "      <td>0.09722</td>\n",
       "      <td>0.3849</td>\n",
       "      <td>0.08633</td>\n",
       "    </tr>\n",
       "    <tr>\n",
       "      <th>23</th>\n",
       "      <td>851509</td>\n",
       "      <td>M</td>\n",
       "      <td>21.16</td>\n",
       "      <td>23.04</td>\n",
       "      <td>137.20</td>\n",
       "      <td>1404.0</td>\n",
       "      <td>0.09428</td>\n",
       "      <td>0.10220</td>\n",
       "      <td>0.10970</td>\n",
       "      <td>0.08632</td>\n",
       "      <td>...</td>\n",
       "      <td>29.17</td>\n",
       "      <td>35.59</td>\n",
       "      <td>188.00</td>\n",
       "      <td>2615.0</td>\n",
       "      <td>0.14010</td>\n",
       "      <td>0.2600</td>\n",
       "      <td>0.3155</td>\n",
       "      <td>0.20090</td>\n",
       "      <td>0.2822</td>\n",
       "      <td>0.07526</td>\n",
       "    </tr>\n",
       "    <tr>\n",
       "      <th>129</th>\n",
       "      <td>866674</td>\n",
       "      <td>M</td>\n",
       "      <td>19.79</td>\n",
       "      <td>25.12</td>\n",
       "      <td>130.40</td>\n",
       "      <td>1192.0</td>\n",
       "      <td>0.10150</td>\n",
       "      <td>0.15890</td>\n",
       "      <td>0.25450</td>\n",
       "      <td>0.11490</td>\n",
       "      <td>...</td>\n",
       "      <td>22.63</td>\n",
       "      <td>33.58</td>\n",
       "      <td>148.70</td>\n",
       "      <td>1589.0</td>\n",
       "      <td>0.12750</td>\n",
       "      <td>0.3861</td>\n",
       "      <td>0.5673</td>\n",
       "      <td>0.17320</td>\n",
       "      <td>0.3305</td>\n",
       "      <td>0.08465</td>\n",
       "    </tr>\n",
       "    <tr>\n",
       "      <th>131</th>\n",
       "      <td>8670</td>\n",
       "      <td>M</td>\n",
       "      <td>15.46</td>\n",
       "      <td>19.48</td>\n",
       "      <td>101.70</td>\n",
       "      <td>748.9</td>\n",
       "      <td>0.10920</td>\n",
       "      <td>0.12230</td>\n",
       "      <td>0.14660</td>\n",
       "      <td>0.08087</td>\n",
       "      <td>...</td>\n",
       "      <td>19.26</td>\n",
       "      <td>26.00</td>\n",
       "      <td>124.90</td>\n",
       "      <td>1156.0</td>\n",
       "      <td>0.15460</td>\n",
       "      <td>0.2394</td>\n",
       "      <td>0.3791</td>\n",
       "      <td>0.15140</td>\n",
       "      <td>0.2837</td>\n",
       "      <td>0.08019</td>\n",
       "    </tr>\n",
       "    <tr>\n",
       "      <th>106</th>\n",
       "      <td>863031</td>\n",
       "      <td>B</td>\n",
       "      <td>11.64</td>\n",
       "      <td>18.33</td>\n",
       "      <td>75.17</td>\n",
       "      <td>412.5</td>\n",
       "      <td>0.11420</td>\n",
       "      <td>0.10170</td>\n",
       "      <td>0.07070</td>\n",
       "      <td>0.03485</td>\n",
       "      <td>...</td>\n",
       "      <td>13.14</td>\n",
       "      <td>29.26</td>\n",
       "      <td>85.51</td>\n",
       "      <td>521.7</td>\n",
       "      <td>0.16880</td>\n",
       "      <td>0.2660</td>\n",
       "      <td>0.2873</td>\n",
       "      <td>0.12180</td>\n",
       "      <td>0.2806</td>\n",
       "      <td>0.09097</td>\n",
       "    </tr>\n",
       "  </tbody>\n",
       "</table>\n",
       "<p>10 rows × 32 columns</p>\n",
       "</div>"
      ],
      "text/plain": [
       "           id diagnosis  radius_mean  texture_mean  perimeter_mean  area_mean  \\\n",
       "426    907409         B        10.48         14.98           67.49      333.6   \n",
       "17   84862001         M        16.13         20.68          108.10      798.8   \n",
       "43     856106         M        13.28         20.28           87.32      545.2   \n",
       "450   9111596         B        11.87         21.54           76.83      432.0   \n",
       "497    914580         B        12.47         17.31           80.45      480.1   \n",
       "154   8711002         B        13.15         15.34           85.31      538.9   \n",
       "23     851509         M        21.16         23.04          137.20     1404.0   \n",
       "129    866674         M        19.79         25.12          130.40     1192.0   \n",
       "131      8670         M        15.46         19.48          101.70      748.9   \n",
       "106    863031         B        11.64         18.33           75.17      412.5   \n",
       "\n",
       "     smoothness_mean  compactness_mean  concavity_mean  concave points_mean  \\\n",
       "426          0.09816           0.10130         0.06335              0.02218   \n",
       "17           0.11700           0.20220         0.17220              0.10280   \n",
       "43           0.10410           0.14360         0.09847              0.06158   \n",
       "450          0.06613           0.10640         0.08777              0.02386   \n",
       "497          0.08928           0.07630         0.03609              0.02369   \n",
       "154          0.09384           0.08498         0.09293              0.03483   \n",
       "23           0.09428           0.10220         0.10970              0.08632   \n",
       "129          0.10150           0.15890         0.25450              0.11490   \n",
       "131          0.10920           0.12230         0.14660              0.08087   \n",
       "106          0.11420           0.10170         0.07070              0.03485   \n",
       "\n",
       "     ...  radius_worst  texture_worst  perimeter_worst  area_worst  \\\n",
       "426  ...         12.13          21.57            81.41       440.4   \n",
       "17   ...         20.96          31.48           136.80      1315.0   \n",
       "43   ...         17.38          28.00           113.10       907.2   \n",
       "450  ...         12.79          28.18            83.51       507.2   \n",
       "497  ...         14.06          24.34            92.82       607.3   \n",
       "154  ...         14.77          20.50            97.67       677.3   \n",
       "23   ...         29.17          35.59           188.00      2615.0   \n",
       "129  ...         22.63          33.58           148.70      1589.0   \n",
       "131  ...         19.26          26.00           124.90      1156.0   \n",
       "106  ...         13.14          29.26            85.51       521.7   \n",
       "\n",
       "     smoothness_worst  compactness_worst  concavity_worst  \\\n",
       "426           0.13270             0.2996           0.2939   \n",
       "17            0.17890             0.4233           0.4784   \n",
       "43            0.15300             0.3724           0.3664   \n",
       "450           0.09457             0.3399           0.3218   \n",
       "497           0.12760             0.2506           0.2028   \n",
       "154           0.14780             0.2256           0.3009   \n",
       "23            0.14010             0.2600           0.3155   \n",
       "129           0.12750             0.3861           0.5673   \n",
       "131           0.15460             0.2394           0.3791   \n",
       "106           0.16880             0.2660           0.2873   \n",
       "\n",
       "     concave points_worst  symmetry_worst  fractal_dimension_worst  \n",
       "426               0.09310          0.3020                  0.09646  \n",
       "17                0.20730          0.3706                  0.11420  \n",
       "43                0.14920          0.3739                  0.10270  \n",
       "450               0.08750          0.2305                  0.09952  \n",
       "497               0.10530          0.3035                  0.07661  \n",
       "154               0.09722          0.3849                  0.08633  \n",
       "23                0.20090          0.2822                  0.07526  \n",
       "129               0.17320          0.3305                  0.08465  \n",
       "131               0.15140          0.2837                  0.08019  \n",
       "106               0.12180          0.2806                  0.09097  \n",
       "\n",
       "[10 rows x 32 columns]"
      ]
     },
     "execution_count": 2,
     "metadata": {},
     "output_type": "execute_result"
    }
   ],
   "source": [
    "df = pd.read_csv('Breast_Cancern.csv')\n",
    "df.sample(10)"
   ]
  },
  {
   "cell_type": "code",
   "execution_count": 3,
   "metadata": {
    "colab": {
     "background_save": true
    },
    "id": "DKA0HrdkZZ29"
   },
   "outputs": [],
   "source": [
    "from sklearn.datasets import load_breast_cancer\n",
    "from sklearn.preprocessing import MinMaxScaler\n",
    "from sklearn.model_selection import train_test_split, cross_val_score\n",
    "from sklearn.discriminant_analysis import LinearDiscriminantAnalysis\n",
    "\n",
    "#Models\n",
    "from sklearn.neighbors import KNeighborsClassifier\n",
    "from sklearn.svm import SVC\n",
    "from sklearn.ensemble import GradientBoostingClassifier, RandomForestClassifier\n",
    "from sklearn.tree import DecisionTreeClassifier\n",
    "from sklearn.linear_model import LogisticRegression\n",
    "\n",
    "#Model Performance Evaluators\n",
    "from sklearn.metrics import confusion_matrix, classification_report, roc_curve, roc_auc_score"
   ]
  },
  {
   "cell_type": "code",
   "execution_count": 4,
   "metadata": {
    "colab": {
     "background_save": true
    },
    "id": "HhIIucZLZcKx",
    "outputId": "6cfaa7ac-8656-4676-ffe2-019f4c5dd3b8"
   },
   "outputs": [
    {
     "data": {
      "text/html": [
       "<div>\n",
       "<style scoped>\n",
       "    .dataframe tbody tr th:only-of-type {\n",
       "        vertical-align: middle;\n",
       "    }\n",
       "\n",
       "    .dataframe tbody tr th {\n",
       "        vertical-align: top;\n",
       "    }\n",
       "\n",
       "    .dataframe thead th {\n",
       "        text-align: right;\n",
       "    }\n",
       "</style>\n",
       "<table border=\"1\" class=\"dataframe\">\n",
       "  <thead>\n",
       "    <tr style=\"text-align: right;\">\n",
       "      <th></th>\n",
       "      <th>mean radius</th>\n",
       "      <th>mean texture</th>\n",
       "      <th>mean perimeter</th>\n",
       "      <th>mean area</th>\n",
       "      <th>mean smoothness</th>\n",
       "      <th>mean compactness</th>\n",
       "      <th>mean concavity</th>\n",
       "      <th>mean concave points</th>\n",
       "      <th>mean symmetry</th>\n",
       "      <th>mean fractal dimension</th>\n",
       "      <th>...</th>\n",
       "      <th>worst texture</th>\n",
       "      <th>worst perimeter</th>\n",
       "      <th>worst area</th>\n",
       "      <th>worst smoothness</th>\n",
       "      <th>worst compactness</th>\n",
       "      <th>worst concavity</th>\n",
       "      <th>worst concave points</th>\n",
       "      <th>worst symmetry</th>\n",
       "      <th>worst fractal dimension</th>\n",
       "      <th>target</th>\n",
       "    </tr>\n",
       "  </thead>\n",
       "  <tbody>\n",
       "    <tr>\n",
       "      <th>0</th>\n",
       "      <td>17.99</td>\n",
       "      <td>10.38</td>\n",
       "      <td>122.80</td>\n",
       "      <td>1001.0</td>\n",
       "      <td>0.11840</td>\n",
       "      <td>0.27760</td>\n",
       "      <td>0.3001</td>\n",
       "      <td>0.14710</td>\n",
       "      <td>0.2419</td>\n",
       "      <td>0.07871</td>\n",
       "      <td>...</td>\n",
       "      <td>17.33</td>\n",
       "      <td>184.60</td>\n",
       "      <td>2019.0</td>\n",
       "      <td>0.1622</td>\n",
       "      <td>0.6656</td>\n",
       "      <td>0.7119</td>\n",
       "      <td>0.2654</td>\n",
       "      <td>0.4601</td>\n",
       "      <td>0.11890</td>\n",
       "      <td>0</td>\n",
       "    </tr>\n",
       "    <tr>\n",
       "      <th>1</th>\n",
       "      <td>20.57</td>\n",
       "      <td>17.77</td>\n",
       "      <td>132.90</td>\n",
       "      <td>1326.0</td>\n",
       "      <td>0.08474</td>\n",
       "      <td>0.07864</td>\n",
       "      <td>0.0869</td>\n",
       "      <td>0.07017</td>\n",
       "      <td>0.1812</td>\n",
       "      <td>0.05667</td>\n",
       "      <td>...</td>\n",
       "      <td>23.41</td>\n",
       "      <td>158.80</td>\n",
       "      <td>1956.0</td>\n",
       "      <td>0.1238</td>\n",
       "      <td>0.1866</td>\n",
       "      <td>0.2416</td>\n",
       "      <td>0.1860</td>\n",
       "      <td>0.2750</td>\n",
       "      <td>0.08902</td>\n",
       "      <td>0</td>\n",
       "    </tr>\n",
       "    <tr>\n",
       "      <th>2</th>\n",
       "      <td>19.69</td>\n",
       "      <td>21.25</td>\n",
       "      <td>130.00</td>\n",
       "      <td>1203.0</td>\n",
       "      <td>0.10960</td>\n",
       "      <td>0.15990</td>\n",
       "      <td>0.1974</td>\n",
       "      <td>0.12790</td>\n",
       "      <td>0.2069</td>\n",
       "      <td>0.05999</td>\n",
       "      <td>...</td>\n",
       "      <td>25.53</td>\n",
       "      <td>152.50</td>\n",
       "      <td>1709.0</td>\n",
       "      <td>0.1444</td>\n",
       "      <td>0.4245</td>\n",
       "      <td>0.4504</td>\n",
       "      <td>0.2430</td>\n",
       "      <td>0.3613</td>\n",
       "      <td>0.08758</td>\n",
       "      <td>0</td>\n",
       "    </tr>\n",
       "    <tr>\n",
       "      <th>3</th>\n",
       "      <td>11.42</td>\n",
       "      <td>20.38</td>\n",
       "      <td>77.58</td>\n",
       "      <td>386.1</td>\n",
       "      <td>0.14250</td>\n",
       "      <td>0.28390</td>\n",
       "      <td>0.2414</td>\n",
       "      <td>0.10520</td>\n",
       "      <td>0.2597</td>\n",
       "      <td>0.09744</td>\n",
       "      <td>...</td>\n",
       "      <td>26.50</td>\n",
       "      <td>98.87</td>\n",
       "      <td>567.7</td>\n",
       "      <td>0.2098</td>\n",
       "      <td>0.8663</td>\n",
       "      <td>0.6869</td>\n",
       "      <td>0.2575</td>\n",
       "      <td>0.6638</td>\n",
       "      <td>0.17300</td>\n",
       "      <td>0</td>\n",
       "    </tr>\n",
       "    <tr>\n",
       "      <th>4</th>\n",
       "      <td>20.29</td>\n",
       "      <td>14.34</td>\n",
       "      <td>135.10</td>\n",
       "      <td>1297.0</td>\n",
       "      <td>0.10030</td>\n",
       "      <td>0.13280</td>\n",
       "      <td>0.1980</td>\n",
       "      <td>0.10430</td>\n",
       "      <td>0.1809</td>\n",
       "      <td>0.05883</td>\n",
       "      <td>...</td>\n",
       "      <td>16.67</td>\n",
       "      <td>152.20</td>\n",
       "      <td>1575.0</td>\n",
       "      <td>0.1374</td>\n",
       "      <td>0.2050</td>\n",
       "      <td>0.4000</td>\n",
       "      <td>0.1625</td>\n",
       "      <td>0.2364</td>\n",
       "      <td>0.07678</td>\n",
       "      <td>0</td>\n",
       "    </tr>\n",
       "  </tbody>\n",
       "</table>\n",
       "<p>5 rows × 31 columns</p>\n",
       "</div>"
      ],
      "text/plain": [
       "   mean radius  mean texture  mean perimeter  mean area  mean smoothness  \\\n",
       "0        17.99         10.38          122.80     1001.0          0.11840   \n",
       "1        20.57         17.77          132.90     1326.0          0.08474   \n",
       "2        19.69         21.25          130.00     1203.0          0.10960   \n",
       "3        11.42         20.38           77.58      386.1          0.14250   \n",
       "4        20.29         14.34          135.10     1297.0          0.10030   \n",
       "\n",
       "   mean compactness  mean concavity  mean concave points  mean symmetry  \\\n",
       "0           0.27760          0.3001              0.14710         0.2419   \n",
       "1           0.07864          0.0869              0.07017         0.1812   \n",
       "2           0.15990          0.1974              0.12790         0.2069   \n",
       "3           0.28390          0.2414              0.10520         0.2597   \n",
       "4           0.13280          0.1980              0.10430         0.1809   \n",
       "\n",
       "   mean fractal dimension  ...  worst texture  worst perimeter  worst area  \\\n",
       "0                 0.07871  ...          17.33           184.60      2019.0   \n",
       "1                 0.05667  ...          23.41           158.80      1956.0   \n",
       "2                 0.05999  ...          25.53           152.50      1709.0   \n",
       "3                 0.09744  ...          26.50            98.87       567.7   \n",
       "4                 0.05883  ...          16.67           152.20      1575.0   \n",
       "\n",
       "   worst smoothness  worst compactness  worst concavity  worst concave points  \\\n",
       "0            0.1622             0.6656           0.7119                0.2654   \n",
       "1            0.1238             0.1866           0.2416                0.1860   \n",
       "2            0.1444             0.4245           0.4504                0.2430   \n",
       "3            0.2098             0.8663           0.6869                0.2575   \n",
       "4            0.1374             0.2050           0.4000                0.1625   \n",
       "\n",
       "   worst symmetry  worst fractal dimension  target  \n",
       "0          0.4601                  0.11890       0  \n",
       "1          0.2750                  0.08902       0  \n",
       "2          0.3613                  0.08758       0  \n",
       "3          0.6638                  0.17300       0  \n",
       "4          0.2364                  0.07678       0  \n",
       "\n",
       "[5 rows x 31 columns]"
      ]
     },
     "execution_count": 4,
     "metadata": {},
     "output_type": "execute_result"
    }
   ],
   "source": [
    "data = load_breast_cancer()\n",
    "df = pd.DataFrame(data=data.data, columns=data.feature_names)\n",
    "df['target'] = data.target\n",
    "df.head()"
   ]
  },
  {
   "cell_type": "code",
   "execution_count": 5,
   "metadata": {
    "colab": {
     "background_save": true
    },
    "id": "tOGzCc6_ZcEd",
    "outputId": "31cb67a1-d43c-4fd7-d295-9a768571d7af"
   },
   "outputs": [
    {
     "name": "stdout",
     "output_type": "stream",
     "text": [
      "<class 'pandas.core.frame.DataFrame'>\n",
      "RangeIndex: 569 entries, 0 to 568\n",
      "Data columns (total 31 columns):\n",
      " #   Column                   Non-Null Count  Dtype  \n",
      "---  ------                   --------------  -----  \n",
      " 0   mean radius              569 non-null    float64\n",
      " 1   mean texture             569 non-null    float64\n",
      " 2   mean perimeter           569 non-null    float64\n",
      " 3   mean area                569 non-null    float64\n",
      " 4   mean smoothness          569 non-null    float64\n",
      " 5   mean compactness         569 non-null    float64\n",
      " 6   mean concavity           569 non-null    float64\n",
      " 7   mean concave points      569 non-null    float64\n",
      " 8   mean symmetry            569 non-null    float64\n",
      " 9   mean fractal dimension   569 non-null    float64\n",
      " 10  radius error             569 non-null    float64\n",
      " 11  texture error            569 non-null    float64\n",
      " 12  perimeter error          569 non-null    float64\n",
      " 13  area error               569 non-null    float64\n",
      " 14  smoothness error         569 non-null    float64\n",
      " 15  compactness error        569 non-null    float64\n",
      " 16  concavity error          569 non-null    float64\n",
      " 17  concave points error     569 non-null    float64\n",
      " 18  symmetry error           569 non-null    float64\n",
      " 19  fractal dimension error  569 non-null    float64\n",
      " 20  worst radius             569 non-null    float64\n",
      " 21  worst texture            569 non-null    float64\n",
      " 22  worst perimeter          569 non-null    float64\n",
      " 23  worst area               569 non-null    float64\n",
      " 24  worst smoothness         569 non-null    float64\n",
      " 25  worst compactness        569 non-null    float64\n",
      " 26  worst concavity          569 non-null    float64\n",
      " 27  worst concave points     569 non-null    float64\n",
      " 28  worst symmetry           569 non-null    float64\n",
      " 29  worst fractal dimension  569 non-null    float64\n",
      " 30  target                   569 non-null    int64  \n",
      "dtypes: float64(30), int64(1)\n",
      "memory usage: 137.9 KB\n"
     ]
    }
   ],
   "source": [
    "df.info()"
   ]
  },
  {
   "cell_type": "code",
   "execution_count": 6,
   "metadata": {
    "colab": {
     "background_save": true
    },
    "id": "ykWws9RoZb6O",
    "outputId": "f58d45c9-b888-4955-d246-e5094bac6956"
   },
   "outputs": [
    {
     "data": {
      "text/plain": [
       "float64    30\n",
       "int64       1\n",
       "Name: count, dtype: int64"
      ]
     },
     "execution_count": 6,
     "metadata": {},
     "output_type": "execute_result"
    }
   ],
   "source": [
    "#Value counts of unique data types in our dataframe\n",
    "df.dtypes.value_counts()"
   ]
  },
  {
   "cell_type": "code",
   "execution_count": 7,
   "metadata": {
    "colab": {
     "background_save": true
    },
    "id": "maLDFmyKZr67",
    "outputId": "7c7c300d-150a-4213-cf16-ee0593ba106a"
   },
   "outputs": [
    {
     "data": {
      "text/html": [
       "<div>\n",
       "<style scoped>\n",
       "    .dataframe tbody tr th:only-of-type {\n",
       "        vertical-align: middle;\n",
       "    }\n",
       "\n",
       "    .dataframe tbody tr th {\n",
       "        vertical-align: top;\n",
       "    }\n",
       "\n",
       "    .dataframe thead th {\n",
       "        text-align: right;\n",
       "    }\n",
       "</style>\n",
       "<table border=\"1\" class=\"dataframe\">\n",
       "  <thead>\n",
       "    <tr style=\"text-align: right;\">\n",
       "      <th></th>\n",
       "      <th>count</th>\n",
       "      <th>mean</th>\n",
       "      <th>std</th>\n",
       "      <th>min</th>\n",
       "      <th>25%</th>\n",
       "      <th>50%</th>\n",
       "      <th>75%</th>\n",
       "      <th>max</th>\n",
       "    </tr>\n",
       "  </thead>\n",
       "  <tbody>\n",
       "    <tr>\n",
       "      <th>mean radius</th>\n",
       "      <td>569.0</td>\n",
       "      <td>14.127292</td>\n",
       "      <td>3.524049</td>\n",
       "      <td>6.981000</td>\n",
       "      <td>11.700000</td>\n",
       "      <td>13.370000</td>\n",
       "      <td>15.780000</td>\n",
       "      <td>28.11000</td>\n",
       "    </tr>\n",
       "    <tr>\n",
       "      <th>mean texture</th>\n",
       "      <td>569.0</td>\n",
       "      <td>19.289649</td>\n",
       "      <td>4.301036</td>\n",
       "      <td>9.710000</td>\n",
       "      <td>16.170000</td>\n",
       "      <td>18.840000</td>\n",
       "      <td>21.800000</td>\n",
       "      <td>39.28000</td>\n",
       "    </tr>\n",
       "    <tr>\n",
       "      <th>mean perimeter</th>\n",
       "      <td>569.0</td>\n",
       "      <td>91.969033</td>\n",
       "      <td>24.298981</td>\n",
       "      <td>43.790000</td>\n",
       "      <td>75.170000</td>\n",
       "      <td>86.240000</td>\n",
       "      <td>104.100000</td>\n",
       "      <td>188.50000</td>\n",
       "    </tr>\n",
       "    <tr>\n",
       "      <th>mean area</th>\n",
       "      <td>569.0</td>\n",
       "      <td>654.889104</td>\n",
       "      <td>351.914129</td>\n",
       "      <td>143.500000</td>\n",
       "      <td>420.300000</td>\n",
       "      <td>551.100000</td>\n",
       "      <td>782.700000</td>\n",
       "      <td>2501.00000</td>\n",
       "    </tr>\n",
       "    <tr>\n",
       "      <th>mean smoothness</th>\n",
       "      <td>569.0</td>\n",
       "      <td>0.096360</td>\n",
       "      <td>0.014064</td>\n",
       "      <td>0.052630</td>\n",
       "      <td>0.086370</td>\n",
       "      <td>0.095870</td>\n",
       "      <td>0.105300</td>\n",
       "      <td>0.16340</td>\n",
       "    </tr>\n",
       "    <tr>\n",
       "      <th>mean compactness</th>\n",
       "      <td>569.0</td>\n",
       "      <td>0.104341</td>\n",
       "      <td>0.052813</td>\n",
       "      <td>0.019380</td>\n",
       "      <td>0.064920</td>\n",
       "      <td>0.092630</td>\n",
       "      <td>0.130400</td>\n",
       "      <td>0.34540</td>\n",
       "    </tr>\n",
       "    <tr>\n",
       "      <th>mean concavity</th>\n",
       "      <td>569.0</td>\n",
       "      <td>0.088799</td>\n",
       "      <td>0.079720</td>\n",
       "      <td>0.000000</td>\n",
       "      <td>0.029560</td>\n",
       "      <td>0.061540</td>\n",
       "      <td>0.130700</td>\n",
       "      <td>0.42680</td>\n",
       "    </tr>\n",
       "    <tr>\n",
       "      <th>mean concave points</th>\n",
       "      <td>569.0</td>\n",
       "      <td>0.048919</td>\n",
       "      <td>0.038803</td>\n",
       "      <td>0.000000</td>\n",
       "      <td>0.020310</td>\n",
       "      <td>0.033500</td>\n",
       "      <td>0.074000</td>\n",
       "      <td>0.20120</td>\n",
       "    </tr>\n",
       "    <tr>\n",
       "      <th>mean symmetry</th>\n",
       "      <td>569.0</td>\n",
       "      <td>0.181162</td>\n",
       "      <td>0.027414</td>\n",
       "      <td>0.106000</td>\n",
       "      <td>0.161900</td>\n",
       "      <td>0.179200</td>\n",
       "      <td>0.195700</td>\n",
       "      <td>0.30400</td>\n",
       "    </tr>\n",
       "    <tr>\n",
       "      <th>mean fractal dimension</th>\n",
       "      <td>569.0</td>\n",
       "      <td>0.062798</td>\n",
       "      <td>0.007060</td>\n",
       "      <td>0.049960</td>\n",
       "      <td>0.057700</td>\n",
       "      <td>0.061540</td>\n",
       "      <td>0.066120</td>\n",
       "      <td>0.09744</td>\n",
       "    </tr>\n",
       "    <tr>\n",
       "      <th>radius error</th>\n",
       "      <td>569.0</td>\n",
       "      <td>0.405172</td>\n",
       "      <td>0.277313</td>\n",
       "      <td>0.111500</td>\n",
       "      <td>0.232400</td>\n",
       "      <td>0.324200</td>\n",
       "      <td>0.478900</td>\n",
       "      <td>2.87300</td>\n",
       "    </tr>\n",
       "    <tr>\n",
       "      <th>texture error</th>\n",
       "      <td>569.0</td>\n",
       "      <td>1.216853</td>\n",
       "      <td>0.551648</td>\n",
       "      <td>0.360200</td>\n",
       "      <td>0.833900</td>\n",
       "      <td>1.108000</td>\n",
       "      <td>1.474000</td>\n",
       "      <td>4.88500</td>\n",
       "    </tr>\n",
       "    <tr>\n",
       "      <th>perimeter error</th>\n",
       "      <td>569.0</td>\n",
       "      <td>2.866059</td>\n",
       "      <td>2.021855</td>\n",
       "      <td>0.757000</td>\n",
       "      <td>1.606000</td>\n",
       "      <td>2.287000</td>\n",
       "      <td>3.357000</td>\n",
       "      <td>21.98000</td>\n",
       "    </tr>\n",
       "    <tr>\n",
       "      <th>area error</th>\n",
       "      <td>569.0</td>\n",
       "      <td>40.337079</td>\n",
       "      <td>45.491006</td>\n",
       "      <td>6.802000</td>\n",
       "      <td>17.850000</td>\n",
       "      <td>24.530000</td>\n",
       "      <td>45.190000</td>\n",
       "      <td>542.20000</td>\n",
       "    </tr>\n",
       "    <tr>\n",
       "      <th>smoothness error</th>\n",
       "      <td>569.0</td>\n",
       "      <td>0.007041</td>\n",
       "      <td>0.003003</td>\n",
       "      <td>0.001713</td>\n",
       "      <td>0.005169</td>\n",
       "      <td>0.006380</td>\n",
       "      <td>0.008146</td>\n",
       "      <td>0.03113</td>\n",
       "    </tr>\n",
       "    <tr>\n",
       "      <th>compactness error</th>\n",
       "      <td>569.0</td>\n",
       "      <td>0.025478</td>\n",
       "      <td>0.017908</td>\n",
       "      <td>0.002252</td>\n",
       "      <td>0.013080</td>\n",
       "      <td>0.020450</td>\n",
       "      <td>0.032450</td>\n",
       "      <td>0.13540</td>\n",
       "    </tr>\n",
       "    <tr>\n",
       "      <th>concavity error</th>\n",
       "      <td>569.0</td>\n",
       "      <td>0.031894</td>\n",
       "      <td>0.030186</td>\n",
       "      <td>0.000000</td>\n",
       "      <td>0.015090</td>\n",
       "      <td>0.025890</td>\n",
       "      <td>0.042050</td>\n",
       "      <td>0.39600</td>\n",
       "    </tr>\n",
       "    <tr>\n",
       "      <th>concave points error</th>\n",
       "      <td>569.0</td>\n",
       "      <td>0.011796</td>\n",
       "      <td>0.006170</td>\n",
       "      <td>0.000000</td>\n",
       "      <td>0.007638</td>\n",
       "      <td>0.010930</td>\n",
       "      <td>0.014710</td>\n",
       "      <td>0.05279</td>\n",
       "    </tr>\n",
       "    <tr>\n",
       "      <th>symmetry error</th>\n",
       "      <td>569.0</td>\n",
       "      <td>0.020542</td>\n",
       "      <td>0.008266</td>\n",
       "      <td>0.007882</td>\n",
       "      <td>0.015160</td>\n",
       "      <td>0.018730</td>\n",
       "      <td>0.023480</td>\n",
       "      <td>0.07895</td>\n",
       "    </tr>\n",
       "    <tr>\n",
       "      <th>fractal dimension error</th>\n",
       "      <td>569.0</td>\n",
       "      <td>0.003795</td>\n",
       "      <td>0.002646</td>\n",
       "      <td>0.000895</td>\n",
       "      <td>0.002248</td>\n",
       "      <td>0.003187</td>\n",
       "      <td>0.004558</td>\n",
       "      <td>0.02984</td>\n",
       "    </tr>\n",
       "    <tr>\n",
       "      <th>worst radius</th>\n",
       "      <td>569.0</td>\n",
       "      <td>16.269190</td>\n",
       "      <td>4.833242</td>\n",
       "      <td>7.930000</td>\n",
       "      <td>13.010000</td>\n",
       "      <td>14.970000</td>\n",
       "      <td>18.790000</td>\n",
       "      <td>36.04000</td>\n",
       "    </tr>\n",
       "    <tr>\n",
       "      <th>worst texture</th>\n",
       "      <td>569.0</td>\n",
       "      <td>25.677223</td>\n",
       "      <td>6.146258</td>\n",
       "      <td>12.020000</td>\n",
       "      <td>21.080000</td>\n",
       "      <td>25.410000</td>\n",
       "      <td>29.720000</td>\n",
       "      <td>49.54000</td>\n",
       "    </tr>\n",
       "    <tr>\n",
       "      <th>worst perimeter</th>\n",
       "      <td>569.0</td>\n",
       "      <td>107.261213</td>\n",
       "      <td>33.602542</td>\n",
       "      <td>50.410000</td>\n",
       "      <td>84.110000</td>\n",
       "      <td>97.660000</td>\n",
       "      <td>125.400000</td>\n",
       "      <td>251.20000</td>\n",
       "    </tr>\n",
       "    <tr>\n",
       "      <th>worst area</th>\n",
       "      <td>569.0</td>\n",
       "      <td>880.583128</td>\n",
       "      <td>569.356993</td>\n",
       "      <td>185.200000</td>\n",
       "      <td>515.300000</td>\n",
       "      <td>686.500000</td>\n",
       "      <td>1084.000000</td>\n",
       "      <td>4254.00000</td>\n",
       "    </tr>\n",
       "    <tr>\n",
       "      <th>worst smoothness</th>\n",
       "      <td>569.0</td>\n",
       "      <td>0.132369</td>\n",
       "      <td>0.022832</td>\n",
       "      <td>0.071170</td>\n",
       "      <td>0.116600</td>\n",
       "      <td>0.131300</td>\n",
       "      <td>0.146000</td>\n",
       "      <td>0.22260</td>\n",
       "    </tr>\n",
       "    <tr>\n",
       "      <th>worst compactness</th>\n",
       "      <td>569.0</td>\n",
       "      <td>0.254265</td>\n",
       "      <td>0.157336</td>\n",
       "      <td>0.027290</td>\n",
       "      <td>0.147200</td>\n",
       "      <td>0.211900</td>\n",
       "      <td>0.339100</td>\n",
       "      <td>1.05800</td>\n",
       "    </tr>\n",
       "    <tr>\n",
       "      <th>worst concavity</th>\n",
       "      <td>569.0</td>\n",
       "      <td>0.272188</td>\n",
       "      <td>0.208624</td>\n",
       "      <td>0.000000</td>\n",
       "      <td>0.114500</td>\n",
       "      <td>0.226700</td>\n",
       "      <td>0.382900</td>\n",
       "      <td>1.25200</td>\n",
       "    </tr>\n",
       "    <tr>\n",
       "      <th>worst concave points</th>\n",
       "      <td>569.0</td>\n",
       "      <td>0.114606</td>\n",
       "      <td>0.065732</td>\n",
       "      <td>0.000000</td>\n",
       "      <td>0.064930</td>\n",
       "      <td>0.099930</td>\n",
       "      <td>0.161400</td>\n",
       "      <td>0.29100</td>\n",
       "    </tr>\n",
       "    <tr>\n",
       "      <th>worst symmetry</th>\n",
       "      <td>569.0</td>\n",
       "      <td>0.290076</td>\n",
       "      <td>0.061867</td>\n",
       "      <td>0.156500</td>\n",
       "      <td>0.250400</td>\n",
       "      <td>0.282200</td>\n",
       "      <td>0.317900</td>\n",
       "      <td>0.66380</td>\n",
       "    </tr>\n",
       "    <tr>\n",
       "      <th>worst fractal dimension</th>\n",
       "      <td>569.0</td>\n",
       "      <td>0.083946</td>\n",
       "      <td>0.018061</td>\n",
       "      <td>0.055040</td>\n",
       "      <td>0.071460</td>\n",
       "      <td>0.080040</td>\n",
       "      <td>0.092080</td>\n",
       "      <td>0.20750</td>\n",
       "    </tr>\n",
       "    <tr>\n",
       "      <th>target</th>\n",
       "      <td>569.0</td>\n",
       "      <td>0.627417</td>\n",
       "      <td>0.483918</td>\n",
       "      <td>0.000000</td>\n",
       "      <td>0.000000</td>\n",
       "      <td>1.000000</td>\n",
       "      <td>1.000000</td>\n",
       "      <td>1.00000</td>\n",
       "    </tr>\n",
       "  </tbody>\n",
       "</table>\n",
       "</div>"
      ],
      "text/plain": [
       "                         count        mean         std         min  \\\n",
       "mean radius              569.0   14.127292    3.524049    6.981000   \n",
       "mean texture             569.0   19.289649    4.301036    9.710000   \n",
       "mean perimeter           569.0   91.969033   24.298981   43.790000   \n",
       "mean area                569.0  654.889104  351.914129  143.500000   \n",
       "mean smoothness          569.0    0.096360    0.014064    0.052630   \n",
       "mean compactness         569.0    0.104341    0.052813    0.019380   \n",
       "mean concavity           569.0    0.088799    0.079720    0.000000   \n",
       "mean concave points      569.0    0.048919    0.038803    0.000000   \n",
       "mean symmetry            569.0    0.181162    0.027414    0.106000   \n",
       "mean fractal dimension   569.0    0.062798    0.007060    0.049960   \n",
       "radius error             569.0    0.405172    0.277313    0.111500   \n",
       "texture error            569.0    1.216853    0.551648    0.360200   \n",
       "perimeter error          569.0    2.866059    2.021855    0.757000   \n",
       "area error               569.0   40.337079   45.491006    6.802000   \n",
       "smoothness error         569.0    0.007041    0.003003    0.001713   \n",
       "compactness error        569.0    0.025478    0.017908    0.002252   \n",
       "concavity error          569.0    0.031894    0.030186    0.000000   \n",
       "concave points error     569.0    0.011796    0.006170    0.000000   \n",
       "symmetry error           569.0    0.020542    0.008266    0.007882   \n",
       "fractal dimension error  569.0    0.003795    0.002646    0.000895   \n",
       "worst radius             569.0   16.269190    4.833242    7.930000   \n",
       "worst texture            569.0   25.677223    6.146258   12.020000   \n",
       "worst perimeter          569.0  107.261213   33.602542   50.410000   \n",
       "worst area               569.0  880.583128  569.356993  185.200000   \n",
       "worst smoothness         569.0    0.132369    0.022832    0.071170   \n",
       "worst compactness        569.0    0.254265    0.157336    0.027290   \n",
       "worst concavity          569.0    0.272188    0.208624    0.000000   \n",
       "worst concave points     569.0    0.114606    0.065732    0.000000   \n",
       "worst symmetry           569.0    0.290076    0.061867    0.156500   \n",
       "worst fractal dimension  569.0    0.083946    0.018061    0.055040   \n",
       "target                   569.0    0.627417    0.483918    0.000000   \n",
       "\n",
       "                                25%         50%          75%         max  \n",
       "mean radius               11.700000   13.370000    15.780000    28.11000  \n",
       "mean texture              16.170000   18.840000    21.800000    39.28000  \n",
       "mean perimeter            75.170000   86.240000   104.100000   188.50000  \n",
       "mean area                420.300000  551.100000   782.700000  2501.00000  \n",
       "mean smoothness            0.086370    0.095870     0.105300     0.16340  \n",
       "mean compactness           0.064920    0.092630     0.130400     0.34540  \n",
       "mean concavity             0.029560    0.061540     0.130700     0.42680  \n",
       "mean concave points        0.020310    0.033500     0.074000     0.20120  \n",
       "mean symmetry              0.161900    0.179200     0.195700     0.30400  \n",
       "mean fractal dimension     0.057700    0.061540     0.066120     0.09744  \n",
       "radius error               0.232400    0.324200     0.478900     2.87300  \n",
       "texture error              0.833900    1.108000     1.474000     4.88500  \n",
       "perimeter error            1.606000    2.287000     3.357000    21.98000  \n",
       "area error                17.850000   24.530000    45.190000   542.20000  \n",
       "smoothness error           0.005169    0.006380     0.008146     0.03113  \n",
       "compactness error          0.013080    0.020450     0.032450     0.13540  \n",
       "concavity error            0.015090    0.025890     0.042050     0.39600  \n",
       "concave points error       0.007638    0.010930     0.014710     0.05279  \n",
       "symmetry error             0.015160    0.018730     0.023480     0.07895  \n",
       "fractal dimension error    0.002248    0.003187     0.004558     0.02984  \n",
       "worst radius              13.010000   14.970000    18.790000    36.04000  \n",
       "worst texture             21.080000   25.410000    29.720000    49.54000  \n",
       "worst perimeter           84.110000   97.660000   125.400000   251.20000  \n",
       "worst area               515.300000  686.500000  1084.000000  4254.00000  \n",
       "worst smoothness           0.116600    0.131300     0.146000     0.22260  \n",
       "worst compactness          0.147200    0.211900     0.339100     1.05800  \n",
       "worst concavity            0.114500    0.226700     0.382900     1.25200  \n",
       "worst concave points       0.064930    0.099930     0.161400     0.29100  \n",
       "worst symmetry             0.250400    0.282200     0.317900     0.66380  \n",
       "worst fractal dimension    0.071460    0.080040     0.092080     0.20750  \n",
       "target                     0.000000    1.000000     1.000000     1.00000  "
      ]
     },
     "execution_count": 7,
     "metadata": {},
     "output_type": "execute_result"
    }
   ],
   "source": [
    "df[df.columns].describe().T"
   ]
  },
  {
   "cell_type": "code",
   "execution_count": 8,
   "metadata": {
    "colab": {
     "background_save": true
    },
    "id": "_rHiYe-rZspw",
    "outputId": "d791f6ec-20b1-4b0c-ea55-11736cdd8765"
   },
   "outputs": [
    {
     "data": {
      "image/png": "[encoded data removed]",
      "text/plain": [
       "<Figure size 640x480 with 1 Axes>"
      ]
     },
     "metadata": {},
     "output_type": "display_data"
    }
   ],
   "source": [
    "sns.countplot(x='target', data=df, dodge=False)\n",
    "plt.gca().spines['top'].set_visible(False)\n",
    "plt.gca().spines['right'].set_visible(False)\n",
    "plt.title('Distribution of Target Values', fontsize=24)\n",
    "\n",
    "plt.show()"
   ]
  },
  {
   "cell_type": "code",
   "execution_count": 13,
   "metadata": {},
   "outputs": [],
   "source": [
    "from scipy import stats"
   ]
  },
  {
   "cell_type": "code",
   "execution_count": 22,
   "metadata": {
    "colab": {
     "background_save": true
    },
    "id": "PUEX_p6zZ4_2",
    "outputId": "7c5a6821-c746-42de-cc11-f0cfb7d27aa6"
   },
   "outputs": [
    {
     "name": "stdout",
     "output_type": "stream",
     "text": [
      "ANOVA statistic: 646.98\n",
      "p-value: 8.46594057226382e-96\n",
      "\u001b[32mReject the null hypothesis: There is a significant relationship between mean radius and target\n",
      "\u001b[0m\n",
      "ANOVA statistic: 118.1\n",
      "p-value: 4.0586360478986136e-25\n",
      "\u001b[32mReject the null hypothesis: There is a significant relationship between mean texture and target\n",
      "\u001b[0m\n",
      "ANOVA statistic: 697.24\n",
      "p-value: 8.43625103617395e-101\n",
      "\u001b[32mReject the null hypothesis: There is a significant relationship between mean perimeter and target\n",
      "\u001b[0m\n",
      "ANOVA statistic: 573.06\n",
      "p-value: 4.7345643103077244e-88\n",
      "\u001b[32mReject the null hypothesis: There is a significant relationship between mean area and target\n",
      "\u001b[0m\n",
      "ANOVA statistic: 83.65\n",
      "p-value: 1.051850359203376e-18\n",
      "\u001b[32mReject the null hypothesis: There is a significant relationship between mean smoothness and target\n",
      "\u001b[0m\n",
      "ANOVA statistic: 313.23\n",
      "p-value: 3.938263105887389e-56\n",
      "\u001b[32mReject the null hypothesis: There is a significant relationship between mean compactness and target\n",
      "\u001b[0m\n",
      "ANOVA statistic: 533.79\n",
      "p-value: 9.966555755074321e-84\n",
      "\u001b[32mReject the null hypothesis: There is a significant relationship between mean concavity and target\n",
      "\u001b[0m\n",
      "ANOVA statistic: 861.68\n",
      "p-value: 7.101150161059154e-116\n",
      "\u001b[32mReject the null hypothesis: There is a significant relationship between mean concave points and target\n",
      "\u001b[0m\n",
      "ANOVA statistic: 69.53\n",
      "p-value: 5.73338402846732e-16\n",
      "\u001b[32mReject the null hypothesis: There is a significant relationship between mean symmetry and target\n",
      "\u001b[0m\n",
      "ANOVA statistic: 0.09\n",
      "p-value: 0.7599368037255626\n",
      "\u001b[31mNo significant relationship between mean fractal dimension and target\n",
      "\u001b[0m\n",
      "ANOVA statistic: 268.84\n",
      "p-value: 9.738948656462521e-50\n",
      "\u001b[32mReject the null hypothesis: There is a significant relationship between radius error and target\n",
      "\u001b[0m\n",
      "ANOVA statistic: 0.04\n",
      "p-value: 0.8433320287670788\n",
      "\u001b[31mNo significant relationship between texture error and target\n",
      "\u001b[0m\n",
      "ANOVA statistic: 253.9\n",
      "p-value: 1.6519051758498877e-47\n",
      "\u001b[32mReject the null hypothesis: There is a significant relationship between perimeter error and target\n",
      "\u001b[0m\n",
      "ANOVA statistic: 243.65\n",
      "p-value: 5.895521392606798e-46\n",
      "\u001b[32mReject the null hypothesis: There is a significant relationship between area error and target\n",
      "\u001b[0m\n",
      "ANOVA statistic: 2.56\n",
      "p-value: 0.11029660865790443\n",
      "\u001b[31mNo significant relationship between smoothness error and target\n",
      "\u001b[0m\n",
      "ANOVA statistic: 53.25\n",
      "p-value: 9.975994654075776e-13\n",
      "\u001b[32mReject the null hypothesis: There is a significant relationship between compactness error and target\n",
      "\u001b[0m\n",
      "ANOVA statistic: 39.01\n",
      "p-value: 8.260176167970819e-10\n",
      "\u001b[32mReject the null hypothesis: There is a significant relationship between concavity error and target\n",
      "\u001b[0m\n",
      "ANOVA statistic: 113.26\n",
      "p-value: 3.072308768818453e-24\n",
      "\u001b[32mReject the null hypothesis: There is a significant relationship between concave points error and target\n",
      "\u001b[0m\n",
      "ANOVA statistic: 0.02\n",
      "p-value: 0.8766418183860331\n",
      "\u001b[31mNo significant relationship between symmetry error and target\n",
      "\u001b[0m\n",
      "ANOVA statistic: 3.47\n",
      "p-value: 0.06307355082240175\n",
      "\u001b[31mNo significant relationship between fractal dimension error and target\n",
      "\u001b[0m\n",
      "ANOVA statistic: 860.78\n",
      "p-value: 8.482291921685478e-116\n",
      "\u001b[32mReject the null hypothesis: There is a significant relationship between worst radius and target\n",
      "\u001b[0m\n",
      "ANOVA statistic: 149.6\n",
      "p-value: 1.0780574879494634e-30\n",
      "\u001b[32mReject the null hypothesis: There is a significant relationship between worst texture and target\n",
      "\u001b[0m\n",
      "ANOVA statistic: 897.94\n",
      "p-value: 5.771397139669512e-119\n",
      "\u001b[32mReject the null hypothesis: There is a significant relationship between worst perimeter and target\n",
      "\u001b[0m\n",
      "ANOVA statistic: 661.6\n",
      "p-value: 2.8288477042872213e-97\n",
      "\u001b[32mReject the null hypothesis: There is a significant relationship between worst area and target\n",
      "\u001b[0m\n",
      "ANOVA statistic: 122.47\n",
      "p-value: 6.575143633985019e-26\n",
      "\u001b[32mReject the null hypothesis: There is a significant relationship between worst smoothness and target\n",
      "\u001b[0m\n",
      "ANOVA statistic: 304.34\n",
      "p-value: 7.069816352539104e-55\n",
      "\u001b[32mReject the null hypothesis: There is a significant relationship between worst compactness and target\n",
      "\u001b[0m\n",
      "ANOVA statistic: 436.69\n",
      "p-value: 2.464663956782974e-72\n",
      "\u001b[32mReject the null hypothesis: There is a significant relationship between worst concavity and target\n",
      "\u001b[0m\n",
      "ANOVA statistic: 964.39\n",
      "p-value: 1.9690997072169153e-124\n",
      "\u001b[32mReject the null hypothesis: There is a significant relationship between worst concave points and target\n",
      "\u001b[0m\n",
      "ANOVA statistic: 118.86\n",
      "p-value: 2.9511205771542106e-25\n",
      "\u001b[32mReject the null hypothesis: There is a significant relationship between worst symmetry and target\n",
      "\u001b[0m\n",
      "ANOVA statistic: 66.44\n",
      "p-value: 2.31643244998312e-15\n",
      "\u001b[32mReject the null hypothesis: There is a significant relationship between worst fractal dimension and target\n",
      "\u001b[0m\n"
     ]
    }
   ],
   "source": [
    "num_cols = list(df.select_dtypes('float64').columns)\n",
    "unrelated_num_cols = []\n",
    "categorical_col = 'target'\n",
    "\n",
    "for i in num_cols:\n",
    "    grouped_data = [df[i][df[categorical_col] == category] for category in df[categorical_col].unique()]\n",
    "    statistic, p_value = stats.f_oneway(*grouped_data)\n",
    "\n",
    "    alpha = 0.05\n",
    "\n",
    "    if p_value < alpha:\n",
    "        print( f\"ANOVA statistic: {round(statistic, 2)}\")\n",
    "        print(f\"p-value: {p_value}\")\n",
    "        print(\"\\033[32m\" + f\"Reject the null hypothesis: There is a significant relationship between {i} and {categorical_col}\")\n",
    "        print(\"\\033[0m\")  \n",
    "    else:\n",
    "        print( f\"ANOVA statistic: {round(statistic, 2)}\")\n",
    "        print(f\"p-value: {p_value}\")\n",
    "        print(\"\\033[31m\" + f\"No significant relationship between {i} and {categorical_col}\")\n",
    "        print(\"\\033[0m\")  \n",
    "        unrelated_num_cols.append(i)\n",
    "     "
   ]
  },
  {
   "cell_type": "code",
   "execution_count": 23,
   "metadata": {
    "colab": {
     "background_save": true
    },
    "id": "xXSrcqAxZ49O",
    "outputId": "0d26345e-fa49-4302-8314-627907d0a482",
    "scrolled": true
   },
   "outputs": [
    {
     "name": "stdout",
     "output_type": "stream",
     "text": [
      "The columns that failed the ANOVA test are ['mean fractal dimension', 'texture error', 'smoothness error', 'symmetry error', 'fractal dimension error']. These columns don't help in making predictions.\n"
     ]
    }
   ],
   "source": [
    "print(f'The columns that failed the ANOVA test are {unrelated_num_cols}. These columns don\\'t help in making predictions.')"
   ]
  },
  {
   "cell_type": "code",
   "execution_count": 24,
   "metadata": {},
   "outputs": [],
   "source": [
    "import plotly.express as px"
   ]
  },
  {
   "cell_type": "code",
   "execution_count": 25,
   "metadata": {
    "colab": {
     "background_save": true
    },
    "id": "AB6w3ZkPZ46o",
    "outputId": "f1ae465c-3916-4fb3-c8a1-7472441af569"
   },
   "outputs": [
    {
     "data": {
      "application/vnd.plotly.v1+json": {
       "config": {
        "plotlyServerURL": "https://plot.ly"
       },
       "data": [
        {
         "customdata": [
          [
           0
          ],
          [
           0
          ],
          [
           0
          ],
          [
           0
          ],
          [
           0
          ],
          [
           0
          ],
          [
           0
          ],
          [
           0
          ],
          [
           0
          ],
          [
           0
          ],
          [
           0
          ],
          [
           0
          ],
          [
           0
          ],
          [
           0
          ],
          [
           0
          ],
          [
           0
          ],
          [
           0
          ],
          [
           0
          ],
          [
           0
          ],
          [
           1
          ],
          [
           1
          ],
          [
           1
          ],
          [
           0
          ],
          [
           0
          ],
          [
           0
          ],
          [
           0
          ],
          [
           0
          ],
          [
           0
          ],
          [
           0
          ],
          [
           0
          ],
          [
           0
          ],
          [
           0
          ],
          [
           0
          ],
          [
           0
          ],
          [
           0
          ],
          [
           0
          ],
          [
           0
          ],
          [
           1
          ],
          [
           0
          ],
          [
           0
          ],
          [
           0
          ],
          [
           0
          ],
          [
           0
          ],
          [
           0
          ],
          [
           0
          ],
          [
           0
          ],
          [
           1
          ],
          [
           0
          ],
          [
           1
          ],
          [
           1
          ],
          [
           1
          ],
          [
           1
          ],
          [
           1
          ],
          [
           0
          ],
          [
           0
          ],
          [
           1
          ],
          [
           0
          ],
          [
           0
          ],
          [
           1
          ],
          [
           1
          ],
          [
           1
          ],
          [
           1
          ],
          [
           0
          ],
          [
           1
          ],
          [
           0
          ],
          [
           0
          ],
          [
           1
          ],
          [
           1
          ],
          [
           1
          ],
          [
           1
          ],
          [
           0
          ],
          [
           1
          ],
          [
           0
          ],
          [
           0
          ],
          [
           1
          ],
          [
           0
          ],
          [
           1
          ],
          [
           0
          ],
          [
           0
          ],
          [
           1
          ],
          [
           1
          ],
          [
           1
          ],
          [
           0
          ],
          [
           0
          ],
          [
           1
          ],
          [
           0
          ],
          [
           0
          ],
          [
           0
          ],
          [
           1
          ],
          [
           1
          ],
          [
           1
          ],
          [
           0
          ],
          [
           1
          ],
          [
           1
          ],
          [
           0
          ],
          [
           0
          ],
          [
           1
          ],
          [
           1
          ],
          [
           1
          ],
          [
           0
          ],
          [
           0
          ],
          [
           1
          ],
          [
           1
          ],
          [
           1
          ],
          [
           1
          ],
          [
           0
          ],
          [
           1
          ],
          [
           1
          ],
          [
           0
          ],
          [
           1
          ],
          [
           1
          ],
          [
           1
          ],
          [
           1
          ],
          [
           1
          ],
          [
           1
          ],
          [
           1
          ],
          [
           1
          ],
          [
           0
          ],
          [
           0
          ],
          [
           0
          ],
          [
           1
          ],
          [
           0
          ],
          [
           0
          ],
          [
           1
          ],
          [
           1
          ],
          [
           1
          ],
          [
           0
          ],
          [
           0
          ],
          [
           1
          ],
          [
           0
          ],
          [
           1
          ],
          [
           0
          ],
          [
           0
          ],
          [
           1
          ],
          [
           0
          ],
          [
           0
          ],
          [
           1
          ],
          [
           1
          ],
          [
           0
          ],
          [
           1
          ],
          [
           1
          ],
          [
           0
          ],
          [
           1
          ],
          [
           1
          ],
          [
           1
          ],
          [
           1
          ],
          [
           0
          ],
          [
           1
          ],
          [
           1
          ],
          [
           1
          ],
          [
           1
          ],
          [
           1
          ],
          [
           1
          ],
          [
           1
          ],
          [
           1
          ],
          [
           1
          ],
          [
           0
          ],
          [
           1
          ],
          [
           1
          ],
          [
           1
          ],
          [
           1
          ],
          [
           0
          ],
          [
           0
          ],
          [
           1
          ],
          [
           0
          ],
          [
           1
          ],
          [
           1
          ],
          [
           0
          ],
          [
           0
          ],
          [
           1
          ],
          [
           1
          ],
          [
           0
          ],
          [
           0
          ],
          [
           1
          ],
          [
           1
          ],
          [
           1
          ],
          [
           1
          ],
          [
           0
          ],
          [
           1
          ],
          [
           1
          ],
          [
           0
          ],
          [
           0
          ],
          [
           0
          ],
          [
           1
          ],
          [
           0
          ],
          [
           1
          ],
          [
           0
          ],
          [
           1
          ],
          [
           1
          ],
          [
           1
          ],
          [
           0
          ],
          [
           1
          ],
          [
           1
          ],
          [
           0
          ],
          [
           0
          ],
          [
           1
          ],
          [
           0
          ],
          [
           0
          ],
          [
           0
          ],
          [
           0
          ],
          [
           1
          ],
          [
           0
          ],
          [
           0
          ],
          [
           0
          ],
          [
           1
          ],
          [
           0
          ],
          [
           1
          ],
          [
           0
          ],
          [
           1
          ],
          [
           1
          ],
          [
           0
          ],
          [
           1
          ],
          [
           0
          ],
          [
           0
          ],
          [
           0
          ],
          [
           0
          ],
          [
           1
          ],
          [
           1
          ],
          [
           0
          ],
          [
           0
          ],
          [
           1
          ],
          [
           1
          ],
          [
           1
          ],
          [
           0
          ],
          [
           1
          ],
          [
           1
          ],
          [
           1
          ],
          [
           1
          ],
          [
           1
          ],
          [
           0
          ],
          [
           0
          ],
          [
           1
          ],
          [
           1
          ],
          [
           0
          ],
          [
           1
          ],
          [
           1
          ],
          [
           0
          ],
          [
           0
          ],
          [
           1
          ],
          [
           0
          ],
          [
           1
          ],
          [
           1
          ],
          [
           1
          ],
          [
           1
          ],
          [
           0
          ],
          [
           1
          ],
          [
           1
          ],
          [
           1
          ],
          [
           1
          ],
          [
           1
          ],
          [
           0
          ],
          [
           1
          ],
          [
           0
          ],
          [
           0
          ],
          [
           0
          ],
          [
           0
          ],
          [
           0
          ],
          [
           0
          ],
          [
           0
          ],
          [
           0
          ],
          [
           0
          ],
          [
           0
          ],
          [
           0
          ],
          [
           0
          ],
          [
           0
          ],
          [
           0
          ],
          [
           1
          ],
          [
           1
          ],
          [
           1
          ],
          [
           1
          ],
          [
           1
          ],
          [
           1
          ],
          [
           0
          ],
          [
           1
          ],
          [
           0
          ],
          [
           1
          ],
          [
           1
          ],
          [
           0
          ],
          [
           1
          ],
          [
           1
          ],
          [
           0
          ],
          [
           1
          ],
          [
           0
          ],
          [
           0
          ],
          [
           1
          ],
          [
           1
          ],
          [
           1
          ],
          [
           1
          ],
          [
           1
          ],
          [
           1
          ],
          [
           1
          ],
          [
           1
          ],
          [
           1
          ],
          [
           1
          ],
          [
           1
          ],
          [
           1
          ],
          [
           1
          ],
          [
           0
          ],
          [
           1
          ],
          [
           1
          ],
          [
           0
          ],
          [
           1
          ],
          [
           0
          ],
          [
           1
          ],
          [
           1
          ],
          [
           1
          ],
          [
           1
          ],
          [
           1
          ],
          [
           1
          ],
          [
           1
          ],
          [
           1
          ],
          [
           1
          ],
          [
           1
          ],
          [
           1
          ],
          [
           1
          ],
          [
           1
          ],
          [
           1
          ],
          [
           0
          ],
          [
           1
          ],
          [
           1
          ],
          [
           1
          ],
          [
           0
          ],
          [
           1
          ],
          [
           0
          ],
          [
           1
          ],
          [
           1
          ],
          [
           1
          ],
          [
           1
          ],
          [
           0
          ],
          [
           0
          ],
          [
           0
          ],
          [
           1
          ],
          [
           1
          ],
          [
           1
          ],
          [
           1
          ],
          [
           0
          ],
          [
           1
          ],
          [
           0
          ],
          [
           1
          ],
          [
           0
          ],
          [
           1
          ],
          [
           1
          ],
          [
           1
          ],
          [
           0
          ],
          [
           1
          ],
          [
           1
          ],
          [
           1
          ],
          [
           1
          ],
          [
           1
          ],
          [
           1
          ],
          [
           1
          ],
          [
           0
          ],
          [
           0
          ],
          [
           0
          ],
          [
           1
          ],
          [
           1
          ],
          [
           1
          ],
          [
           1
          ],
          [
           1
          ],
          [
           1
          ],
          [
           1
          ],
          [
           1
          ],
          [
           1
          ],
          [
           1
          ],
          [
           1
          ],
          [
           0
          ],
          [
           0
          ],
          [
           1
          ],
          [
           0
          ],
          [
           0
          ],
          [
           0
          ],
          [
           1
          ],
          [
           0
          ],
          [
           0
          ],
          [
           1
          ],
          [
           1
          ],
          [
           1
          ],
          [
           1
          ],
          [
           1
          ],
          [
           0
          ],
          [
           1
          ],
          [
           1
          ],
          [
           1
          ],
          [
           1
          ],
          [
           1
          ],
          [
           0
          ],
          [
           1
          ],
          [
           1
          ],
          [
           1
          ],
          [
           0
          ],
          [
           1
          ],
          [
           1
          ],
          [
           0
          ],
          [
           0
          ],
          [
           1
          ],
          [
           1
          ],
          [
           1
          ],
          [
           1
          ],
          [
           1
          ],
          [
           1
          ],
          [
           0
          ],
          [
           1
          ],
          [
           1
          ],
          [
           1
          ],
          [
           1
          ],
          [
           1
          ],
          [
           1
          ],
          [
           1
          ],
          [
           0
          ],
          [
           1
          ],
          [
           1
          ],
          [
           1
          ],
          [
           1
          ],
          [
           1
          ],
          [
           0
          ],
          [
           1
          ],
          [
           1
          ],
          [
           0
          ],
          [
           1
          ],
          [
           1
          ],
          [
           1
          ],
          [
           1
          ],
          [
           1
          ],
          [
           1
          ],
          [
           1
          ],
          [
           1
          ],
          [
           1
          ],
          [
           1
          ],
          [
           1
          ],
          [
           1
          ],
          [
           0
          ],
          [
           1
          ],
          [
           0
          ],
          [
           0
          ],
          [
           1
          ],
          [
           0
          ],
          [
           1
          ],
          [
           1
          ],
          [
           1
          ],
          [
           1
          ],
          [
           1
          ],
          [
           0
          ],
          [
           1
          ],
          [
           1
          ],
          [
           0
          ],
          [
           1
          ],
          [
           0
          ],
          [
           1
          ],
          [
           1
          ],
          [
           0
          ],
          [
           1
          ],
          [
           0
          ],
          [
           1
          ],
          [
           1
          ],
          [
           1
          ],
          [
           1
          ],
          [
           1
          ],
          [
           1
          ],
          [
           1
          ],
          [
           1
          ],
          [
           0
          ],
          [
           0
          ],
          [
           1
          ],
          [
           1
          ],
          [
           1
          ],
          [
           1
          ],
          [
           1
          ],
          [
           1
          ],
          [
           0
          ],
          [
           1
          ],
          [
           1
          ],
          [
           1
          ],
          [
           1
          ],
          [
           1
          ],
          [
           1
          ],
          [
           1
          ],
          [
           1
          ],
          [
           1
          ],
          [
           1
          ],
          [
           0
          ],
          [
           1
          ],
          [
           1
          ],
          [
           1
          ],
          [
           1
          ],
          [
           1
          ],
          [
           1
          ],
          [
           1
          ],
          [
           0
          ],
          [
           1
          ],
          [
           0
          ],
          [
           1
          ],
          [
           1
          ],
          [
           0
          ],
          [
           1
          ],
          [
           1
          ],
          [
           1
          ],
          [
           1
          ],
          [
           1
          ],
          [
           0
          ],
          [
           0
          ],
          [
           1
          ],
          [
           0
          ],
          [
           1
          ],
          [
           0
          ],
          [
           1
          ],
          [
           1
          ],
          [
           1
          ],
          [
           1
          ],
          [
           1
          ],
          [
           0
          ],
          [
           1
          ],
          [
           1
          ],
          [
           0
          ],
          [
           1
          ],
          [
           0
          ],
          [
           1
          ],
          [
           0
          ],
          [
           0
          ],
          [
           1
          ],
          [
           1
          ],
          [
           1
          ],
          [
           0
          ],
          [
           1
          ],
          [
           1
          ],
          [
           1
          ],
          [
           1
          ],
          [
           1
          ],
          [
           1
          ],
          [
           1
          ],
          [
           1
          ],
          [
           1
          ],
          [
           1
          ],
          [
           1
          ],
          [
           0
          ],
          [
           1
          ],
          [
           0
          ],
          [
           0
          ],
          [
           1
          ],
          [
           1
          ],
          [
           1
          ],
          [
           1
          ],
          [
           1
          ],
          [
           1
          ],
          [
           1
          ],
          [
           1
          ],
          [
           1
          ],
          [
           1
          ],
          [
           1
          ],
          [
           1
          ],
          [
           1
          ],
          [
           1
          ],
          [
           1
          ],
          [
           1
          ],
          [
           1
          ],
          [
           1
          ],
          [
           1
          ],
          [
           1
          ],
          [
           1
          ],
          [
           1
          ],
          [
           1
          ],
          [
           1
          ],
          [
           1
          ],
          [
           0
          ],
          [
           0
          ],
          [
           0
          ],
          [
           0
          ],
          [
           0
          ],
          [
           0
          ],
          [
           1
          ]
         ],
         "hovertemplate": "Mean Texture=%{marker.size}<br>index=%{y}<br>Target=%{marker.color}<extra></extra>",
         "legendgroup": "",
         "marker": {
          "color": [
           0,
           0,
           0,
           0,
           0,
           0,
           0,
           0,
           0,
           0,
           0,
           0,
           0,
           0,
           0,
           0,
           0,
           0,
           0,
           1,
           1,
           1,
           0,
           0,
           0,
           0,
           0,
           0,
           0,
           0,
           0,
           0,
           0,
           0,
           0,
           0,
           0,
           1,
           0,
           0,
           0,
           0,
           0,
           0,
           0,
           0,
           1,
           0,
           1,
           1,
           1,
           1,
           1,
           0,
           0,
           1,
           0,
           0,
           1,
           1,
           1,
           1,
           0,
           1,
           0,
           0,
           1,
           1,
           1,
           1,
           0,
           1,
           0,
           0,
           1,
           0,
           1,
           0,
           0,
           1,
           1,
           1,
           0,
           0,
           1,
           0,
           0,
           0,
           1,
           1,
           1,
           0,
           1,
           1,
           0,
           0,
           1,
           1,
           1,
           0,
           0,
           1,
           1,
           1,
           1,
           0,
           1,
           1,
           0,
           1,
           1,
           1,
           1,
           1,
           1,
           1,
           1,
           0,
           0,
           0,
           1,
           0,
           0,
           1,
           1,
           1,
           0,
           0,
           1,
           0,
           1,
           0,
           0,
           1,
           0,
           0,
           1,
           1,
           0,
           1,
           1,
           0,
           1,
           1,
           1,
           1,
           0,
           1,
           1,
           1,
           1,
           1,
           1,
           1,
           1,
           1,
           0,
           1,
           1,
           1,
           1,
           0,
           0,
           1,
           0,
           1,
           1,
           0,
           0,
           1,
           1,
           0,
           0,
           1,
           1,
           1,
           1,
           0,
           1,
           1,
           0,
           0,
           0,
           1,
           0,
           1,
           0,
           1,
           1,
           1,
           0,
           1,
           1,
           0,
           0,
           1,
           0,
           0,
           0,
           0,
           1,
           0,
           0,
           0,
           1,
           0,
           1,
           0,
           1,
           1,
           0,
           1,
           0,
           0,
           0,
           0,
           1,
           1,
           0,
           0,
           1,
           1,
           1,
           0,
           1,
           1,
           1,
           1,
           1,
           0,
           0,
           1,
           1,
           0,
           1,
           1,
           0,
           0,
           1,
           0,
           1,
           1,
           1,
           1,
           0,
           1,
           1,
           1,
           1,
           1,
           0,
           1,
           0,
           0,
           0,
           0,
           0,
           0,
           0,
           0,
           0,
           0,
           0,
           0,
           0,
           0,
           1,
           1,
           1,
           1,
           1,
           1,
           0,
           1,
           0,
           1,
           1,
           0,
           1,
           1,
           0,
           1,
           0,
           0,
           1,
           1,
           1,
           1,
           1,
           1,
           1,
           1,
           1,
           1,
           1,
           1,
           1,
           0,
           1,
           1,
           0,
           1,
           0,
           1,
           1,
           1,
           1,
           1,
           1,
           1,
           1,
           1,
           1,
           1,
           1,
           1,
           1,
           0,
           1,
           1,
           1,
           0,
           1,
           0,
           1,
           1,
           1,
           1,
           0,
           0,
           0,
           1,
           1,
           1,
           1,
           0,
           1,
           0,
           1,
           0,
           1,
           1,
           1,
           0,
           1,
           1,
           1,
           1,
           1,
           1,
           1,
           0,
           0,
           0,
           1,
           1,
           1,
           1,
           1,
           1,
           1,
           1,
           1,
           1,
           1,
           0,
           0,
           1,
           0,
           0,
           0,
           1,
           0,
           0,
           1,
           1,
           1,
           1,
           1,
           0,
           1,
           1,
           1,
           1,
           1,
           0,
           1,
           1,
           1,
           0,
           1,
           1,
           0,
           0,
           1,
           1,
           1,
           1,
           1,
           1,
           0,
           1,
           1,
           1,
           1,
           1,
           1,
           1,
           0,
           1,
           1,
           1,
           1,
           1,
           0,
           1,
           1,
           0,
           1,
           1,
           1,
           1,
           1,
           1,
           1,
           1,
           1,
           1,
           1,
           1,
           0,
           1,
           0,
           0,
           1,
           0,
           1,
           1,
           1,
           1,
           1,
           0,
           1,
           1,
           0,
           1,
           0,
           1,
           1,
           0,
           1,
           0,
           1,
           1,
           1,
           1,
           1,
           1,
           1,
           1,
           0,
           0,
           1,
           1,
           1,
           1,
           1,
           1,
           0,
           1,
           1,
           1,
           1,
           1,
           1,
           1,
           1,
           1,
           1,
           0,
           1,
           1,
           1,
           1,
           1,
           1,
           1,
           0,
           1,
           0,
           1,
           1,
           0,
           1,
           1,
           1,
           1,
           1,
           0,
           0,
           1,
           0,
           1,
           0,
           1,
           1,
           1,
           1,
           1,
           0,
           1,
           1,
           0,
           1,
           0,
           1,
           0,
           0,
           1,
           1,
           1,
           0,
           1,
           1,
           1,
           1,
           1,
           1,
           1,
           1,
           1,
           1,
           1,
           0,
           1,
           0,
           0,
           1,
           1,
           1,
           1,
           1,
           1,
           1,
           1,
           1,
           1,
           1,
           1,
           1,
           1,
           1,
           1,
           1,
           1,
           1,
           1,
           1,
           1,
           1,
           1,
           1,
           0,
           0,
           0,
           0,
           0,
           0,
           1
          ],
          "coloraxis": "coloraxis",
          "size": [
           10.38,
           17.77,
           21.25,
           20.38,
           14.34,
           15.7,
           19.98,
           20.83,
           21.82,
           24.04,
           23.24,
           17.89,
           24.8,
           23.95,
           22.61,
           27.54,
           20.13,
           20.68,
           22.15,
           14.36,
           15.71,
           12.44,
           14.26,
           23.04,
           21.38,
           16.4,
           21.53,
           20.25,
           25.27,
           15.05,
           25.11,
           18.7,
           23.98,
           26.47,
           17.88,
           21.59,
           21.72,
           18.42,
           25.2,
           20.82,
           21.58,
           21.35,
           24.81,
           20.28,
           21.81,
           17.6,
           16.84,
           18.66,
           14.63,
           22.3,
           21.6,
           16.34,
           18.24,
           18.7,
           22.02,
           18.75,
           18.57,
           21.59,
           19.31,
           11.79,
           14.88,
           20.98,
           22.15,
           13.86,
           23.84,
           23.94,
           21.01,
           19.04,
           17.33,
           16.49,
           21.31,
           14.64,
           24.52,
           15.79,
           16.52,
           19.65,
           10.94,
           16.15,
           23.97,
           18,
           20.97,
           15.86,
           24.91,
           26.29,
           15.65,
           18.52,
           21.46,
           24.59,
           21.8,
           15.24,
           24.02,
           22.76,
           14.76,
           18.3,
           19.83,
           23.03,
           17.84,
           19.94,
           12.84,
           19.77,
           24.98,
           13.43,
           20.52,
           19.4,
           19.29,
           15.56,
           18.33,
           18.54,
           19.67,
           21.26,
           16.99,
           20.76,
           19.65,
           20.19,
           15.83,
           21.53,
           15.76,
           16.67,
           22.91,
           20.01,
           10.82,
           17.12,
           20.2,
           10.89,
           16.39,
           17.21,
           24.69,
           18.91,
           16.39,
           25.12,
           13.29,
           19.48,
           21.54,
           13.93,
           21.91,
           22.47,
           16.67,
           15.39,
           17.57,
           13.39,
           11.97,
           18.05,
           17.31,
           15.92,
           14.97,
           14.65,
           16.58,
           18.77,
           15.18,
           17.91,
           20.78,
           20.7,
           15.34,
           13.08,
           15.34,
           17.94,
           20.74,
           19.46,
           12.74,
           12.96,
           20.18,
           15.94,
           18.15,
           22.22,
           22.04,
           19.76,
           9.71,
           18.8,
           24.68,
           16.95,
           12.39,
           19.63,
           11.89,
           14.71,
           15.15,
           14.45,
           18.06,
           20.11,
           22.22,
           13.06,
           21.87,
           26.57,
           20.31,
           14.92,
           22.41,
           15.11,
           18.58,
           17.19,
           17.39,
           15.9,
           23.12,
           21.41,
           18.22,
           26.86,
           23.21,
           16.33,
           22.29,
           21.84,
           22.49,
           20.22,
           19.56,
           19.32,
           26.67,
           23.75,
           18.6,
           16.68,
           17.27,
           20.26,
           22.54,
           12.91,
           22.14,
           18.94,
           18.47,
           25.56,
           23.81,
           16.93,
           18.35,
           17.48,
           21.56,
           32.47,
           13.16,
           13.9,
           17.53,
           20.25,
           17.02,
           13.47,
           15.46,
           15.51,
           23.97,
           22.33,
           19.08,
           27.08,
           33.81,
           27.81,
           15.91,
           21.25,
           26.97,
           21.46,
           27.85,
           39.28,
           15.6,
           15.04,
           18.19,
           23.77,
           23.5,
           19.86,
           17.43,
           14.11,
           25.22,
           14.93,
           23.56,
           18.45,
           19.82,
           17.08,
           19.33,
           17.05,
           28.77,
           17.27,
           23.2,
           33.56,
           27.06,
           23.06,
           22.13,
           19.38,
           22.07,
           31.12,
           18.95,
           21.84,
           16.21,
           20.39,
           16.82,
           13.04,
           20.99,
           15.67,
           24.48,
           17.36,
           14.16,
           19.98,
           17.84,
           15.18,
           26.6,
           14.02,
           18.18,
           18.77,
           15.7,
           18.4,
           20.76,
           13.12,
           19.96,
           18.89,
           19.73,
           19.1,
           16.02,
           17.46,
           13.78,
           13.27,
           12.35,
           18.14,
           18.17,
           23.09,
           18.9,
           19.89,
           23.86,
           18.61,
           18.16,
           24.49,
           15.82,
           14.4,
           12.71,
           13.84,
           19.11,
           15.69,
           13.37,
           10.72,
           18.6,
           16.85,
           14.08,
           18.87,
           18.9,
           17,
           16.18,
           19.66,
           13.32,
           21.51,
           15.21,
           17.3,
           12.88,
           17.93,
           20.71,
           21.88,
           15.51,
           19.35,
           19.86,
           14.78,
           19.02,
           21,
           14.23,
           21.43,
           17.53,
           24.27,
           16.54,
           16.84,
           14.96,
           21.68,
           15.45,
           14.71,
           18.9,
           14.74,
           16.03,
           14.96,
           17.07,
           19.22,
           17.46,
           25.74,
           14.07,
           19.07,
           18.59,
           16.21,
           15.49,
           18.32,
           18.07,
           21.57,
           18.84,
           18.29,
           16.95,
           21.78,
           26.83,
           18.02,
           17.25,
           21.9,
           23.29,
           13.21,
           15.1,
           17.35,
           16.07,
           16.07,
           20.22,
           28.21,
           15.15,
           18.83,
           12.96,
           14.93,
           22.72,
           17.48,
           13.72,
           23.29,
           14.09,
           16.16,
           15.5,
           23.21,
           12.22,
           16.84,
           19.97,
           22.28,
           17.72,
           17.18,
           18.89,
           17.46,
           14.83,
           17.26,
           21.02,
           10.91,
           18.29,
           16.17,
           14.95,
           18.59,
           14.86,
           21.37,
           20.66,
           17.92,
           17.57,
           16.83,
           21.68,
           22.11,
           29.81,
           21.17,
           21.7,
           21.08,
           12.17,
           21.41,
           19.04,
           13.98,
           16.02,
           19.13,
           19.12,
           21.28,
           14.98,
           21.98,
           16.62,
           17.67,
           22.53,
           17.68,
           19.54,
           21.97,
           16.94,
           19.62,
           19.54,
           15.98,
           19.6,
           15.66,
           17.2,
           25.42,
           15.79,
           18.32,
           16.85,
           24.89,
           28.03,
           17.66,
           19.34,
           20.52,
           21.54,
           25,
           28.23,
           13.98,
           17.15,
           30.72,
           29.29,
           25.25,
           25.13,
           28.2,
           27.15,
           26.27,
           26.99,
           18.36,
           18.22,
           20.13,
           20.74,
           18.1,
           23.33,
           18.18,
           18.49,
           28.14,
           14.93,
           29.97,
           15.62,
           15.73,
           20.53,
           16.62,
           14.59,
           19.51,
           18.03,
           19.24,
           14.06,
           17.64,
           11.28,
           16.41,
           16.85,
           18.82,
           16.17,
           20.2,
           22.44,
           13.23,
           20.56,
           12.83,
           20.54,
           20.21,
           18.17,
           17.31,
           17.52,
           21.24,
           16.74,
           24.49,
           16.32,
           19.83,
           12.87,
           13.14,
           20.04,
           17.12,
           15.7,
           23.95,
           14.69,
           14.7,
           20.52,
           13.66,
           19.07,
           18.61,
           20.58,
           20.26,
           18.22,
           16.7,
           13.9,
           21.6,
           19.83,
           18.68,
           15.68,
           13.1,
           18.75,
           12.27,
           13.17,
           13.44,
           17.56,
           20.02,
           16.33,
           20.67,
           17.62,
           20.86,
           22.55,
           24.44,
           25.49,
           25.44,
           14.44,
           24.99,
           25.42,
           28.06,
           20.7,
           23.23,
           16.35,
           16.58,
           19.34,
           24.21,
           21.48,
           22.44,
           29.43,
           21.94,
           28.92,
           27.61,
           19.59,
           27.88,
           22.68,
           23.93,
           27.15,
           29.37,
           30.62,
           25.09,
           22.39,
           28.25,
           28.08,
           29.33,
           24.54
          ],
          "sizemode": "area",
          "sizeref": 0.09820000000000001,
          "symbol": "circle"
         },
         "mode": "markers",
         "name": "",
         "orientation": "h",
         "showlegend": false,
         "type": "scatter",
         "x": [
          10.38,
          17.77,
          21.25,
          20.38,
          14.34,
          15.7,
          19.98,
          20.83,
          21.82,
          24.04,
          23.24,
          17.89,
          24.8,
          23.95,
          22.61,
          27.54,
          20.13,
          20.68,
          22.15,
          14.36,
          15.71,
          12.44,
          14.26,
          23.04,
          21.38,
          16.4,
          21.53,
          20.25,
          25.27,
          15.05,
          25.11,
          18.7,
          23.98,
          26.47,
          17.88,
          21.59,
          21.72,
          18.42,
          25.2,
          20.82,
          21.58,
          21.35,
          24.81,
          20.28,
          21.81,
          17.6,
          16.84,
          18.66,
          14.63,
          22.3,
          21.6,
          16.34,
          18.24,
          18.7,
          22.02,
          18.75,
          18.57,
          21.59,
          19.31,
          11.79,
          14.88,
          20.98,
          22.15,
          13.86,
          23.84,
          23.94,
          21.01,
          19.04,
          17.33,
          16.49,
          21.31,
          14.64,
          24.52,
          15.79,
          16.52,
          19.65,
          10.94,
          16.15,
          23.97,
          18,
          20.97,
          15.86,
          24.91,
          26.29,
          15.65,
          18.52,
          21.46,
          24.59,
          21.8,
          15.24,
          24.02,
          22.76,
          14.76,
          18.3,
          19.83,
          23.03,
          17.84,
          19.94,
          12.84,
          19.77,
          24.98,
          13.43,
          20.52,
          19.4,
          19.29,
          15.56,
          18.33,
          18.54,
          19.67,
          21.26,
          16.99,
          20.76,
          19.65,
          20.19,
          15.83,
          21.53,
          15.76,
          16.67,
          22.91,
          20.01,
          10.82,
          17.12,
          20.2,
          10.89,
          16.39,
          17.21,
          24.69,
          18.91,
          16.39,
          25.12,
          13.29,
          19.48,
          21.54,
          13.93,
          21.91,
          22.47,
          16.67,
          15.39,
          17.57,
          13.39,
          11.97,
          18.05,
          17.31,
          15.92,
          14.97,
          14.65,
          16.58,
          18.77,
          15.18,
          17.91,
          20.78,
          20.7,
          15.34,
          13.08,
          15.34,
          17.94,
          20.74,
          19.46,
          12.74,
          12.96,
          20.18,
          15.94,
          18.15,
          22.22,
          22.04,
          19.76,
          9.71,
          18.8,
          24.68,
          16.95,
          12.39,
          19.63,
          11.89,
          14.71,
          15.15,
          14.45,
          18.06,
          20.11,
          22.22,
          13.06,
          21.87,
          26.57,
          20.31,
          14.92,
          22.41,
          15.11,
          18.58,
          17.19,
          17.39,
          15.9,
          23.12,
          21.41,
          18.22,
          26.86,
          23.21,
          16.33,
          22.29,
          21.84,
          22.49,
          20.22,
          19.56,
          19.32,
          26.67,
          23.75,
          18.6,
          16.68,
          17.27,
          20.26,
          22.54,
          12.91,
          22.14,
          18.94,
          18.47,
          25.56,
          23.81,
          16.93,
          18.35,
          17.48,
          21.56,
          32.47,
          13.16,
          13.9,
          17.53,
          20.25,
          17.02,
          13.47,
          15.46,
          15.51,
          23.97,
          22.33,
          19.08,
          27.08,
          33.81,
          27.81,
          15.91,
          21.25,
          26.97,
          21.46,
          27.85,
          39.28,
          15.6,
          15.04,
          18.19,
          23.77,
          23.5,
          19.86,
          17.43,
          14.11,
          25.22,
          14.93,
          23.56,
          18.45,
          19.82,
          17.08,
          19.33,
          17.05,
          28.77,
          17.27,
          23.2,
          33.56,
          27.06,
          23.06,
          22.13,
          19.38,
          22.07,
          31.12,
          18.95,
          21.84,
          16.21,
          20.39,
          16.82,
          13.04,
          20.99,
          15.67,
          24.48,
          17.36,
          14.16,
          19.98,
          17.84,
          15.18,
          26.6,
          14.02,
          18.18,
          18.77,
          15.7,
          18.4,
          20.76,
          13.12,
          19.96,
          18.89,
          19.73,
          19.1,
          16.02,
          17.46,
          13.78,
          13.27,
          12.35,
          18.14,
          18.17,
          23.09,
          18.9,
          19.89,
          23.86,
          18.61,
          18.16,
          24.49,
          15.82,
          14.4,
          12.71,
          13.84,
          19.11,
          15.69,
          13.37,
          10.72,
          18.6,
          16.85,
          14.08,
          18.87,
          18.9,
          17,
          16.18,
          19.66,
          13.32,
          21.51,
          15.21,
          17.3,
          12.88,
          17.93,
          20.71,
          21.88,
          15.51,
          19.35,
          19.86,
          14.78,
          19.02,
          21,
          14.23,
          21.43,
          17.53,
          24.27,
          16.54,
          16.84,
          14.96,
          21.68,
          15.45,
          14.71,
          18.9,
          14.74,
          16.03,
          14.96,
          17.07,
          19.22,
          17.46,
          25.74,
          14.07,
          19.07,
          18.59,
          16.21,
          15.49,
          18.32,
          18.07,
          21.57,
          18.84,
          18.29,
          16.95,
          21.78,
          26.83,
          18.02,
          17.25,
          21.9,
          23.29,
          13.21,
          15.1,
          17.35,
          16.07,
          16.07,
          20.22,
          28.21,
          15.15,
          18.83,
          12.96,
          14.93,
          22.72,
          17.48,
          13.72,
          23.29,
          14.09,
          16.16,
          15.5,
          23.21,
          12.22,
          16.84,
          19.97,
          22.28,
          17.72,
          17.18,
          18.89,
          17.46,
          14.83,
          17.26,
          21.02,
          10.91,
          18.29,
          16.17,
          14.95,
          18.59,
          14.86,
          21.37,
          20.66,
          17.92,
          17.57,
          16.83,
          21.68,
          22.11,
          29.81,
          21.17,
          21.7,
          21.08,
          12.17,
          21.41,
          19.04,
          13.98,
          16.02,
          19.13,
          19.12,
          21.28,
          14.98,
          21.98,
          16.62,
          17.67,
          22.53,
          17.68,
          19.54,
          21.97,
          16.94,
          19.62,
          19.54,
          15.98,
          19.6,
          15.66,
          17.2,
          25.42,
          15.79,
          18.32,
          16.85,
          24.89,
          28.03,
          17.66,
          19.34,
          20.52,
          21.54,
          25,
          28.23,
          13.98,
          17.15,
          30.72,
          29.29,
          25.25,
          25.13,
          28.2,
          27.15,
          26.27,
          26.99,
          18.36,
          18.22,
          20.13,
          20.74,
          18.1,
          23.33,
          18.18,
          18.49,
          28.14,
          14.93,
          29.97,
          15.62,
          15.73,
          20.53,
          16.62,
          14.59,
          19.51,
          18.03,
          19.24,
          14.06,
          17.64,
          11.28,
          16.41,
          16.85,
          18.82,
          16.17,
          20.2,
          22.44,
          13.23,
          20.56,
          12.83,
          20.54,
          20.21,
          18.17,
          17.31,
          17.52,
          21.24,
          16.74,
          24.49,
          16.32,
          19.83,
          12.87,
          13.14,
          20.04,
          17.12,
          15.7,
          23.95,
          14.69,
          14.7,
          20.52,
          13.66,
          19.07,
          18.61,
          20.58,
          20.26,
          18.22,
          16.7,
          13.9,
          21.6,
          19.83,
          18.68,
          15.68,
          13.1,
          18.75,
          12.27,
          13.17,
          13.44,
          17.56,
          20.02,
          16.33,
          20.67,
          17.62,
          20.86,
          22.55,
          24.44,
          25.49,
          25.44,
          14.44,
          24.99,
          25.42,
          28.06,
          20.7,
          23.23,
          16.35,
          16.58,
          19.34,
          24.21,
          21.48,
          22.44,
          29.43,
          21.94,
          28.92,
          27.61,
          19.59,
          27.88,
          22.68,
          23.93,
          27.15,
          29.37,
          30.62,
          25.09,
          22.39,
          28.25,
          28.08,
          29.33,
          24.54
         ],
         "xaxis": "x",
         "y": [
          0,
          1,
          2,
          3,
          4,
          5,
          6,
          7,
          8,
          9,
          10,
          11,
          12,
          13,
          14,
          15,
          16,
          17,
          18,
          19,
          20,
          21,
          22,
          23,
          24,
          25,
          26,
          27,
          28,
          29,
          30,
          31,
          32,
          33,
          34,
          35,
          36,
          37,
          38,
          39,
          40,
          41,
          42,
          43,
          44,
          45,
          46,
          47,
          48,
          49,
          50,
          51,
          52,
          53,
          54,
          55,
          56,
          57,
          58,
          59,
          60,
          61,
          62,
          63,
          64,
          65,
          66,
          67,
          68,
          69,
          70,
          71,
          72,
          73,
          74,
          75,
          76,
          77,
          78,
          79,
          80,
          81,
          82,
          83,
          84,
          85,
          86,
          87,
          88,
          89,
          90,
          91,
          92,
          93,
          94,
          95,
          96,
          97,
          98,
          99,
          100,
          101,
          102,
          103,
          104,
          105,
          106,
          107,
          108,
          109,
          110,
          111,
          112,
          113,
          114,
          115,
          116,
          117,
          118,
          119,
          120,
          121,
          122,
          123,
          124,
          125,
          126,
          127,
          128,
          129,
          130,
          131,
          132,
          133,
          134,
          135,
          136,
          137,
          138,
          139,
          140,
          141,
          142,
          143,
          144,
          145,
          146,
          147,
          148,
          149,
          150,
          151,
          152,
          153,
          154,
          155,
          156,
          157,
          158,
          159,
          160,
          161,
          162,
          163,
          164,
          165,
          166,
          167,
          168,
          169,
          170,
          171,
          172,
          173,
          174,
          175,
          176,
          177,
          178,
          179,
          180,
          181,
          182,
          183,
          184,
          185,
          186,
          187,
          188,
          189,
          190,
          191,
          192,
          193,
          194,
          195,
          196,
          197,
          198,
          199,
          200,
          201,
          202,
          203,
          204,
          205,
          206,
          207,
          208,
          209,
          210,
          211,
          212,
          213,
          214,
          215,
          216,
          217,
          218,
          219,
          220,
          221,
          222,
          223,
          224,
          225,
          226,
          227,
          228,
          229,
          230,
          231,
          232,
          233,
          234,
          235,
          236,
          237,
          238,
          239,
          240,
          241,
          242,
          243,
          244,
          245,
          246,
          247,
          248,
          249,
          250,
          251,
          252,
          253,
          254,
          255,
          256,
          257,
          258,
          259,
          260,
          261,
          262,
          263,
          264,
          265,
          266,
          267,
          268,
          269,
          270,
          271,
          272,
          273,
          274,
          275,
          276,
          277,
          278,
          279,
          280,
          281,
          282,
          283,
          284,
          285,
          286,
          287,
          288,
          289,
          290,
          291,
          292,
          293,
          294,
          295,
          296,
          297,
          298,
          299,
          300,
          301,
          302,
          303,
          304,
          305,
          306,
          307,
          308,
          309,
          310,
          311,
          312,
          313,
          314,
          315,
          316,
          317,
          318,
          319,
          320,
          321,
          322,
          323,
          324,
          325,
          326,
          327,
          328,
          329,
          330,
          331,
          332,
          333,
          334,
          335,
          336,
          337,
          338,
          339,
          340,
          341,
          342,
          343,
          344,
          345,
          346,
          347,
          348,
          349,
          350,
          351,
          352,
          353,
          354,
          355,
          356,
          357,
          358,
          359,
          360,
          361,
          362,
          363,
          364,
          365,
          366,
          367,
          368,
          369,
          370,
          371,
          372,
          373,
          374,
          375,
          376,
          377,
          378,
          379,
          380,
          381,
          382,
          383,
          384,
          385,
          386,
          387,
          388,
          389,
          390,
          391,
          392,
          393,
          394,
          395,
          396,
          397,
          398,
          399,
          400,
          401,
          402,
          403,
          404,
          405,
          406,
          407,
          408,
          409,
          410,
          411,
          412,
          413,
          414,
          415,
          416,
          417,
          418,
          419,
          420,
          421,
          422,
          423,
          424,
          425,
          426,
          427,
          428,
          429,
          430,
          431,
          432,
          433,
          434,
          435,
          436,
          437,
          438,
          439,
          440,
          441,
          442,
          443,
          444,
          445,
          446,
          447,
          448,
          449,
          450,
          451,
          452,
          453,
          454,
          455,
          456,
          457,
          458,
          459,
          460,
          461,
          462,
          463,
          464,
          465,
          466,
          467,
          468,
          469,
          470,
          471,
          472,
          473,
          474,
          475,
          476,
          477,
          478,
          479,
          480,
          481,
          482,
          483,
          484,
          485,
          486,
          487,
          488,
          489,
          490,
          491,
          492,
          493,
          494,
          495,
          496,
          497,
          498,
          499,
          500,
          501,
          502,
          503,
          504,
          505,
          506,
          507,
          508,
          509,
          510,
          511,
          512,
          513,
          514,
          515,
          516,
          517,
          518,
          519,
          520,
          521,
          522,
          523,
          524,
          525,
          526,
          527,
          528,
          529,
          530,
          531,
          532,
          533,
          534,
          535,
          536,
          537,
          538,
          539,
          540,
          541,
          542,
          543,
          544,
          545,
          546,
          547,
          548,
          549,
          550,
          551,
          552,
          553,
          554,
          555,
          556,
          557,
          558,
          559,
          560,
          561,
          562,
          563,
          564,
          565,
          566,
          567,
          568
         ],
         "yaxis": "y"
        }
       ],
       "layout": {
        "coloraxis": {
         "colorbar": {
          "title": {
           "text": "Target"
          }
         },
         "colorscale": [
          [
           0,
           "#440154"
          ],
          [
           0.1111111111111111,
           "#482878"
          ],
          [
           0.2222222222222222,
           "#3e4989"
          ],
          [
           0.3333333333333333,
           "#31688e"
          ],
          [
           0.4444444444444444,
           "#26828e"
          ],
          [
           0.5555555555555556,
           "#1f9e89"
          ],
          [
           0.6666666666666666,
           "#35b779"
          ],
          [
           0.7777777777777778,
           "#6ece58"
          ],
          [
           0.8888888888888888,
           "#b5de2b"
          ],
          [
           1,
           "#fde725"
          ]
         ]
        },
        "legend": {
         "itemsizing": "constant",
         "tracegroupgap": 0
        },
        "template": {
         "data": {
          "bar": [
           {
            "error_x": {
             "color": "rgb(36,36,36)"
            },
            "error_y": {
             "color": "rgb(36,36,36)"
            },
            "marker": {
             "line": {
              "color": "white",
              "width": 0.5
             },
             "pattern": {
              "fillmode": "overlay",
              "size": 10,
              "solidity": 0.2
             }
            },
            "type": "bar"
           }
          ],
          "barpolar": [
           {
            "marker": {
             "line": {
              "color": "white",
              "width": 0.5
             },
             "pattern": {
              "fillmode": "overlay",
              "size": 10,
              "solidity": 0.2
             }
            },
            "type": "barpolar"
           }
          ],
          "carpet": [
           {
            "aaxis": {
             "endlinecolor": "rgb(36,36,36)",
             "gridcolor": "white",
             "linecolor": "white",
             "minorgridcolor": "white",
             "startlinecolor": "rgb(36,36,36)"
            },
            "baxis": {
             "endlinecolor": "rgb(36,36,36)",
             "gridcolor": "white",
             "linecolor": "white",
             "minorgridcolor": "white",
             "startlinecolor": "rgb(36,36,36)"
            },
            "type": "carpet"
           }
          ],
          "choropleth": [
           {
            "colorbar": {
             "outlinewidth": 1,
             "tickcolor": "rgb(36,36,36)",
             "ticks": "outside"
            },
            "type": "choropleth"
           }
          ],
          "contour": [
           {
            "colorbar": {
             "outlinewidth": 1,
             "tickcolor": "rgb(36,36,36)",
             "ticks": "outside"
            },
            "colorscale": [
             [
              0,
              "#440154"
             ],
             [
              0.1111111111111111,
              "#482878"
             ],
             [
              0.2222222222222222,
              "#3e4989"
             ],
             [
              0.3333333333333333,
              "#31688e"
             ],
             [
              0.4444444444444444,
              "#26828e"
             ],
             [
              0.5555555555555556,
              "#1f9e89"
             ],
             [
              0.6666666666666666,
              "#35b779"
             ],
             [
              0.7777777777777778,
              "#6ece58"
             ],
             [
              0.8888888888888888,
              "#b5de2b"
             ],
             [
              1,
              "#fde725"
             ]
            ],
            "type": "contour"
           }
          ],
          "contourcarpet": [
           {
            "colorbar": {
             "outlinewidth": 1,
             "tickcolor": "rgb(36,36,36)",
             "ticks": "outside"
            },
            "type": "contourcarpet"
           }
          ],
          "heatmap": [
           {
            "colorbar": {
             "outlinewidth": 1,
             "tickcolor": "rgb(36,36,36)",
             "ticks": "outside"
            },
            "colorscale": [
             [
              0,
              "#440154"
             ],
             [
              0.1111111111111111,
              "#482878"
             ],
             [
              0.2222222222222222,
              "#3e4989"
             ],
             [
              0.3333333333333333,
              "#31688e"
             ],
             [
              0.4444444444444444,
              "#26828e"
             ],
             [
              0.5555555555555556,
              "#1f9e89"
             ],
             [
              0.6666666666666666,
              "#35b779"
             ],
             [
              0.7777777777777778,
              "#6ece58"
             ],
             [
              0.8888888888888888,
              "#b5de2b"
             ],
             [
              1,
              "#fde725"
             ]
            ],
            "type": "heatmap"
           }
          ],
          "heatmapgl": [
           {
            "colorbar": {
             "outlinewidth": 1,
             "tickcolor": "rgb(36,36,36)",
             "ticks": "outside"
            },
            "colorscale": [
             [
              0,
              "#440154"
             ],
             [
              0.1111111111111111,
              "#482878"
             ],
             [
              0.2222222222222222,
              "#3e4989"
             ],
             [
              0.3333333333333333,
              "#31688e"
             ],
             [
              0.4444444444444444,
              "#26828e"
             ],
             [
              0.5555555555555556,
              "#1f9e89"
             ],
             [
              0.6666666666666666,
              "#35b779"
             ],
             [
              0.7777777777777778,
              "#6ece58"
             ],
             [
              0.8888888888888888,
              "#b5de2b"
             ],
             [
              1,
              "#fde725"
             ]
            ],
            "type": "heatmapgl"
           }
          ],
          "histogram": [
           {
            "marker": {
             "line": {
              "color": "white",
              "width": 0.6
             }
            },
            "type": "histogram"
           }
          ],
          "histogram2d": [
           {
            "colorbar": {
             "outlinewidth": 1,
             "tickcolor": "rgb(36,36,36)",
             "ticks": "outside"
            },
            "colorscale": [
             [
              0,
              "#440154"
             ],
             [
              0.1111111111111111,
              "#482878"
             ],
             [
              0.2222222222222222,
              "#3e4989"
             ],
             [
              0.3333333333333333,
              "#31688e"
             ],
             [
              0.4444444444444444,
              "#26828e"
             ],
             [
              0.5555555555555556,
              "#1f9e89"
             ],
             [
              0.6666666666666666,
              "#35b779"
             ],
             [
              0.7777777777777778,
              "#6ece58"
             ],
             [
              0.8888888888888888,
              "#b5de2b"
             ],
             [
              1,
              "#fde725"
             ]
            ],
            "type": "histogram2d"
           }
          ],
          "histogram2dcontour": [
           {
            "colorbar": {
             "outlinewidth": 1,
             "tickcolor": "rgb(36,36,36)",
             "ticks": "outside"
            },
            "colorscale": [
             [
              0,
              "#440154"
             ],
             [
              0.1111111111111111,
              "#482878"
             ],
             [
              0.2222222222222222,
              "#3e4989"
             ],
             [
              0.3333333333333333,
              "#31688e"
             ],
             [
              0.4444444444444444,
              "#26828e"
             ],
             [
              0.5555555555555556,
              "#1f9e89"
             ],
             [
              0.6666666666666666,
              "#35b779"
             ],
             [
              0.7777777777777778,
              "#6ece58"
             ],
             [
              0.8888888888888888,
              "#b5de2b"
             ],
             [
              1,
              "#fde725"
             ]
            ],
            "type": "histogram2dcontour"
           }
          ],
          "mesh3d": [
           {
            "colorbar": {
             "outlinewidth": 1,
             "tickcolor": "rgb(36,36,36)",
             "ticks": "outside"
            },
            "type": "mesh3d"
           }
          ],
          "parcoords": [
           {
            "line": {
             "colorbar": {
              "outlinewidth": 1,
              "tickcolor": "rgb(36,36,36)",
              "ticks": "outside"
             }
            },
            "type": "parcoords"
           }
          ],
          "pie": [
           {
            "automargin": true,
            "type": "pie"
           }
          ],
          "scatter": [
           {
            "fillpattern": {
             "fillmode": "overlay",
             "size": 10,
             "solidity": 0.2
            },
            "type": "scatter"
           }
          ],
          "scatter3d": [
           {
            "line": {
             "colorbar": {
              "outlinewidth": 1,
              "tickcolor": "rgb(36,36,36)",
              "ticks": "outside"
             }
            },
            "marker": {
             "colorbar": {
              "outlinewidth": 1,
              "tickcolor": "rgb(36,36,36)",
              "ticks": "outside"
             }
            },
            "type": "scatter3d"
           }
          ],
          "scattercarpet": [
           {
            "marker": {
             "colorbar": {
              "outlinewidth": 1,
              "tickcolor": "rgb(36,36,36)",
              "ticks": "outside"
             }
            },
            "type": "scattercarpet"
           }
          ],
          "scattergeo": [
           {
            "marker": {
             "colorbar": {
              "outlinewidth": 1,
              "tickcolor": "rgb(36,36,36)",
              "ticks": "outside"
             }
            },
            "type": "scattergeo"
           }
          ],
          "scattergl": [
           {
            "marker": {
             "colorbar": {
              "outlinewidth": 1,
              "tickcolor": "rgb(36,36,36)",
              "ticks": "outside"
             }
            },
            "type": "scattergl"
           }
          ],
          "scattermapbox": [
           {
            "marker": {
             "colorbar": {
              "outlinewidth": 1,
              "tickcolor": "rgb(36,36,36)",
              "ticks": "outside"
             }
            },
            "type": "scattermapbox"
           }
          ],
          "scatterpolar": [
           {
            "marker": {
             "colorbar": {
              "outlinewidth": 1,
              "tickcolor": "rgb(36,36,36)",
              "ticks": "outside"
             }
            },
            "type": "scatterpolar"
           }
          ],
          "scatterpolargl": [
           {
            "marker": {
             "colorbar": {
              "outlinewidth": 1,
              "tickcolor": "rgb(36,36,36)",
              "ticks": "outside"
             }
            },
            "type": "scatterpolargl"
           }
          ],
          "scatterternary": [
           {
            "marker": {
             "colorbar": {
              "outlinewidth": 1,
              "tickcolor": "rgb(36,36,36)",
              "ticks": "outside"
             }
            },
            "type": "scatterternary"
           }
          ],
          "surface": [
           {
            "colorbar": {
             "outlinewidth": 1,
             "tickcolor": "rgb(36,36,36)",
             "ticks": "outside"
            },
            "colorscale": [
             [
              0,
              "#440154"
             ],
             [
              0.1111111111111111,
              "#482878"
             ],
             [
              0.2222222222222222,
              "#3e4989"
             ],
             [
              0.3333333333333333,
              "#31688e"
             ],
             [
              0.4444444444444444,
              "#26828e"
             ],
             [
              0.5555555555555556,
              "#1f9e89"
             ],
             [
              0.6666666666666666,
              "#35b779"
             ],
             [
              0.7777777777777778,
              "#6ece58"
             ],
             [
              0.8888888888888888,
              "#b5de2b"
             ],
             [
              1,
              "#fde725"
             ]
            ],
            "type": "surface"
           }
          ],
          "table": [
           {
            "cells": {
             "fill": {
              "color": "rgb(237,237,237)"
             },
             "line": {
              "color": "white"
             }
            },
            "header": {
             "fill": {
              "color": "rgb(217,217,217)"
             },
             "line": {
              "color": "white"
             }
            },
            "type": "table"
           }
          ]
         },
         "layout": {
          "annotationdefaults": {
           "arrowhead": 0,
           "arrowwidth": 1
          },
          "autotypenumbers": "strict",
          "coloraxis": {
           "colorbar": {
            "outlinewidth": 1,
            "tickcolor": "rgb(36,36,36)",
            "ticks": "outside"
           }
          },
          "colorscale": {
           "diverging": [
            [
             0,
             "rgb(103,0,31)"
            ],
            [
             0.1,
             "rgb(178,24,43)"
            ],
            [
             0.2,
             "rgb(214,96,77)"
            ],
            [
             0.3,
             "rgb(244,165,130)"
            ],
            [
             0.4,
             "rgb(253,219,199)"
            ],
            [
             0.5,
             "rgb(247,247,247)"
            ],
            [
             0.6,
             "rgb(209,229,240)"
            ],
            [
             0.7,
             "rgb(146,197,222)"
            ],
            [
             0.8,
             "rgb(67,147,195)"
            ],
            [
             0.9,
             "rgb(33,102,172)"
            ],
            [
             1,
             "rgb(5,48,97)"
            ]
           ],
           "sequential": [
            [
             0,
             "#440154"
            ],
            [
             0.1111111111111111,
             "#482878"
            ],
            [
             0.2222222222222222,
             "#3e4989"
            ],
            [
             0.3333333333333333,
             "#31688e"
            ],
            [
             0.4444444444444444,
             "#26828e"
            ],
            [
             0.5555555555555556,
             "#1f9e89"
            ],
            [
             0.6666666666666666,
             "#35b779"
            ],
            [
             0.7777777777777778,
             "#6ece58"
            ],
            [
             0.8888888888888888,
             "#b5de2b"
            ],
            [
             1,
             "#fde725"
            ]
           ],
           "sequentialminus": [
            [
             0,
             "#440154"
            ],
            [
             0.1111111111111111,
             "#482878"
            ],
            [
             0.2222222222222222,
             "#3e4989"
            ],
            [
             0.3333333333333333,
             "#31688e"
            ],
            [
             0.4444444444444444,
             "#26828e"
            ],
            [
             0.5555555555555556,
             "#1f9e89"
            ],
            [
             0.6666666666666666,
             "#35b779"
            ],
            [
             0.7777777777777778,
             "#6ece58"
            ],
            [
             0.8888888888888888,
             "#b5de2b"
            ],
            [
             1,
             "#fde725"
            ]
           ]
          },
          "colorway": [
           "#1F77B4",
           "#FF7F0E",
           "#2CA02C",
           "#D62728",
           "#9467BD",
           "#8C564B",
           "#E377C2",
           "#7F7F7F",
           "#BCBD22",
           "#17BECF"
          ],
          "font": {
           "color": "rgb(36,36,36)"
          },
          "geo": {
           "bgcolor": "white",
           "lakecolor": "white",
           "landcolor": "white",
           "showlakes": true,
           "showland": true,
           "subunitcolor": "white"
          },
          "hoverlabel": {
           "align": "left"
          },
          "hovermode": "closest",
          "mapbox": {
           "style": "light"
          },
          "paper_bgcolor": "white",
          "plot_bgcolor": "white",
          "polar": {
           "angularaxis": {
            "gridcolor": "rgb(232,232,232)",
            "linecolor": "rgb(36,36,36)",
            "showgrid": false,
            "showline": true,
            "ticks": "outside"
           },
           "bgcolor": "white",
           "radialaxis": {
            "gridcolor": "rgb(232,232,232)",
            "linecolor": "rgb(36,36,36)",
            "showgrid": false,
            "showline": true,
            "ticks": "outside"
           }
          },
          "scene": {
           "xaxis": {
            "backgroundcolor": "white",
            "gridcolor": "rgb(232,232,232)",
            "gridwidth": 2,
            "linecolor": "rgb(36,36,36)",
            "showbackground": true,
            "showgrid": false,
            "showline": true,
            "ticks": "outside",
            "zeroline": false,
            "zerolinecolor": "rgb(36,36,36)"
           },
           "yaxis": {
            "backgroundcolor": "white",
            "gridcolor": "rgb(232,232,232)",
            "gridwidth": 2,
            "linecolor": "rgb(36,36,36)",
            "showbackground": true,
            "showgrid": false,
            "showline": true,
            "ticks": "outside",
            "zeroline": false,
            "zerolinecolor": "rgb(36,36,36)"
           },
           "zaxis": {
            "backgroundcolor": "white",
            "gridcolor": "rgb(232,232,232)",
            "gridwidth": 2,
            "linecolor": "rgb(36,36,36)",
            "showbackground": true,
            "showgrid": false,
            "showline": true,
            "ticks": "outside",
            "zeroline": false,
            "zerolinecolor": "rgb(36,36,36)"
           }
          },
          "shapedefaults": {
           "fillcolor": "black",
           "line": {
            "width": 0
           },
           "opacity": 0.3
          },
          "ternary": {
           "aaxis": {
            "gridcolor": "rgb(232,232,232)",
            "linecolor": "rgb(36,36,36)",
            "showgrid": false,
            "showline": true,
            "ticks": "outside"
           },
           "baxis": {
            "gridcolor": "rgb(232,232,232)",
            "linecolor": "rgb(36,36,36)",
            "showgrid": false,
            "showline": true,
            "ticks": "outside"
           },
           "bgcolor": "white",
           "caxis": {
            "gridcolor": "rgb(232,232,232)",
            "linecolor": "rgb(36,36,36)",
            "showgrid": false,
            "showline": true,
            "ticks": "outside"
           }
          },
          "title": {
           "x": 0.05
          },
          "xaxis": {
           "automargin": true,
           "gridcolor": "rgb(232,232,232)",
           "linecolor": "rgb(36,36,36)",
           "showgrid": false,
           "showline": true,
           "ticks": "outside",
           "title": {
            "standoff": 15
           },
           "zeroline": false,
           "zerolinecolor": "rgb(36,36,36)"
          },
          "yaxis": {
           "automargin": true,
           "gridcolor": "rgb(232,232,232)",
           "linecolor": "rgb(36,36,36)",
           "showgrid": false,
           "showline": true,
           "ticks": "outside",
           "title": {
            "standoff": 15
           },
           "zeroline": false,
           "zerolinecolor": "rgb(36,36,36)"
          }
         }
        },
        "title": {
         "text": "Cancer Mean Texture Spread"
        },
        "xaxis": {
         "anchor": "y",
         "domain": [
          0,
          1
         ],
         "title": {
          "text": "Mean Texture"
         }
        },
        "yaxis": {
         "anchor": "x",
         "domain": [
          0,
          1
         ],
         "title": {
          "text": " "
         }
        }
       }
      },
      "text/html": [
       "<div>                            <div id=\"15287796-cc0d-4a86-be8d-767e3a3133cf\" class=\"plotly-graph-div\" style=\"height:525px; width:100%;\"></div>            <script type=\"text/javascript\">                require([\"plotly\"], function(Plotly) {                    window.PLOTLYENV=window.PLOTLYENV || {};                                    if (document.getElementById(\"15287796-cc0d-4a86-be8d-767e3a3133cf\")) {                    Plotly.newPlot(                        \"15287796-cc0d-4a86-be8d-767e3a3133cf\",                        [{\"customdata\":[[0],[0],[0],[0],[0],[0],[0],[0],[0],[0],[0],[0],[0],[0],[0],[0],[0],[0],[0],[1],[1],[1],[0],[0],[0],[0],[0],[0],[0],[0],[0],[0],[0],[0],[0],[0],[0],[1],[0],[0],[0],[0],[0],[0],[0],[0],[1],[0],[1],[1],[1],[1],[1],[0],[0],[1],[0],[0],[1],[1],[1],[1],[0],[1],[0],[0],[1],[1],[1],[1],[0],[1],[0],[0],[1],[0],[1],[0],[0],[1],[1],[1],[0],[0],[1],[0],[0],[0],[1],[1],[1],[0],[1],[1],[0],[0],[1],[1],[1],[0],[0],[1],[1],[1],[1],[0],[1],[1],[0],[1],[1],[1],[1],[1],[1],[1],[1],[0],[0],[0],[1],[0],[0],[1],[1],[1],[0],[0],[1],[0],[1],[0],[0],[1],[0],[0],[1],[1],[0],[1],[1],[0],[1],[1],[1],[1],[0],[1],[1],[1],[1],[1],[1],[1],[1],[1],[0],[1],[1],[1],[1],[0],[0],[1],[0],[1],[1],[0],[0],[1],[1],[0],[0],[1],[1],[1],[1],[0],[1],[1],[0],[0],[0],[1],[0],[1],[0],[1],[1],[1],[0],[1],[1],[0],[0],[1],[0],[0],[0],[0],[1],[0],[0],[0],[1],[0],[1],[0],[1],[1],[0],[1],[0],[0],[0],[0],[1],[1],[0],[0],[1],[1],[1],[0],[1],[1],[1],[1],[1],[0],[0],[1],[1],[0],[1],[1],[0],[0],[1],[0],[1],[1],[1],[1],[0],[1],[1],[1],[1],[1],[0],[1],[0],[0],[0],[0],[0],[0],[0],[0],[0],[0],[0],[0],[0],[0],[1],[1],[1],[1],[1],[1],[0],[1],[0],[1],[1],[0],[1],[1],[0],[1],[0],[0],[1],[1],[1],[1],[1],[1],[1],[1],[1],[1],[1],[1],[1],[0],[1],[1],[0],[1],[0],[1],[1],[1],[1],[1],[1],[1],[1],[1],[1],[1],[1],[1],[1],[0],[1],[1],[1],[0],[1],[0],[1],[1],[1],[1],[0],[0],[0],[1],[1],[1],[1],[0],[1],[0],[1],[0],[1],[1],[1],[0],[1],[1],[1],[1],[1],[1],[1],[0],[0],[0],[1],[1],[1],[1],[1],[1],[1],[1],[1],[1],[1],[0],[0],[1],[0],[0],[0],[1],[0],[0],[1],[1],[1],[1],[1],[0],[1],[1],[1],[1],[1],[0],[1],[1],[1],[0],[1],[1],[0],[0],[1],[1],[1],[1],[1],[1],[0],[1],[1],[1],[1],[1],[1],[1],[0],[1],[1],[1],[1],[1],[0],[1],[1],[0],[1],[1],[1],[1],[1],[1],[1],[1],[1],[1],[1],[1],[0],[1],[0],[0],[1],[0],[1],[1],[1],[1],[1],[0],[1],[1],[0],[1],[0],[1],[1],[0],[1],[0],[1],[1],[1],[1],[1],[1],[1],[1],[0],[0],[1],[1],[1],[1],[1],[1],[0],[1],[1],[1],[1],[1],[1],[1],[1],[1],[1],[0],[1],[1],[1],[1],[1],[1],[1],[0],[1],[0],[1],[1],[0],[1],[1],[1],[1],[1],[0],[0],[1],[0],[1],[0],[1],[1],[1],[1],[1],[0],[1],[1],[0],[1],[0],[1],[0],[0],[1],[1],[1],[0],[1],[1],[1],[1],[1],[1],[1],[1],[1],[1],[1],[0],[1],[0],[0],[1],[1],[1],[1],[1],[1],[1],[1],[1],[1],[1],[1],[1],[1],[1],[1],[1],[1],[1],[1],[1],[1],[1],[1],[1],[0],[0],[0],[0],[0],[0],[1]],\"hovertemplate\":\"Mean Texture=%{marker.size}<br>index=%{y}<br>Target=%{marker.color}<extra></extra>\",\"legendgroup\":\"\",\"marker\":{\"color\":[0,0,0,0,0,0,0,0,0,0,0,0,0,0,0,0,0,0,0,1,1,1,0,0,0,0,0,0,0,0,0,0,0,0,0,0,0,1,0,0,0,0,0,0,0,0,1,0,1,1,1,1,1,0,0,1,0,0,1,1,1,1,0,1,0,0,1,1,1,1,0,1,0,0,1,0,1,0,0,1,1,1,0,0,1,0,0,0,1,1,1,0,1,1,0,0,1,1,1,0,0,1,1,1,1,0,1,1,0,1,1,1,1,1,1,1,1,0,0,0,1,0,0,1,1,1,0,0,1,0,1,0,0,1,0,0,1,1,0,1,1,0,1,1,1,1,0,1,1,1,1,1,1,1,1,1,0,1,1,1,1,0,0,1,0,1,1,0,0,1,1,0,0,1,1,1,1,0,1,1,0,0,0,1,0,1,0,1,1,1,0,1,1,0,0,1,0,0,0,0,1,0,0,0,1,0,1,0,1,1,0,1,0,0,0,0,1,1,0,0,1,1,1,0,1,1,1,1,1,0,0,1,1,0,1,1,0,0,1,0,1,1,1,1,0,1,1,1,1,1,0,1,0,0,0,0,0,0,0,0,0,0,0,0,0,0,1,1,1,1,1,1,0,1,0,1,1,0,1,1,0,1,0,0,1,1,1,1,1,1,1,1,1,1,1,1,1,0,1,1,0,1,0,1,1,1,1,1,1,1,1,1,1,1,1,1,1,0,1,1,1,0,1,0,1,1,1,1,0,0,0,1,1,1,1,0,1,0,1,0,1,1,1,0,1,1,1,1,1,1,1,0,0,0,1,1,1,1,1,1,1,1,1,1,1,0,0,1,0,0,0,1,0,0,1,1,1,1,1,0,1,1,1,1,1,0,1,1,1,0,1,1,0,0,1,1,1,1,1,1,0,1,1,1,1,1,1,1,0,1,1,1,1,1,0,1,1,0,1,1,1,1,1,1,1,1,1,1,1,1,0,1,0,0,1,0,1,1,1,1,1,0,1,1,0,1,0,1,1,0,1,0,1,1,1,1,1,1,1,1,0,0,1,1,1,1,1,1,0,1,1,1,1,1,1,1,1,1,1,0,1,1,1,1,1,1,1,0,1,0,1,1,0,1,1,1,1,1,0,0,1,0,1,0,1,1,1,1,1,0,1,1,0,1,0,1,0,0,1,1,1,0,1,1,1,1,1,1,1,1,1,1,1,0,1,0,0,1,1,1,1,1,1,1,1,1,1,1,1,1,1,1,1,1,1,1,1,1,1,1,1,1,0,0,0,0,0,0,1],\"coloraxis\":\"coloraxis\",\"size\":[10.38,17.77,21.25,20.38,14.34,15.7,19.98,20.83,21.82,24.04,23.24,17.89,24.8,23.95,22.61,27.54,20.13,20.68,22.15,14.36,15.71,12.44,14.26,23.04,21.38,16.4,21.53,20.25,25.27,15.05,25.11,18.7,23.98,26.47,17.88,21.59,21.72,18.42,25.2,20.82,21.58,21.35,24.81,20.28,21.81,17.6,16.84,18.66,14.63,22.3,21.6,16.34,18.24,18.7,22.02,18.75,18.57,21.59,19.31,11.79,14.88,20.98,22.15,13.86,23.84,23.94,21.01,19.04,17.33,16.49,21.31,14.64,24.52,15.79,16.52,19.65,10.94,16.15,23.97,18.0,20.97,15.86,24.91,26.29,15.65,18.52,21.46,24.59,21.8,15.24,24.02,22.76,14.76,18.3,19.83,23.03,17.84,19.94,12.84,19.77,24.98,13.43,20.52,19.4,19.29,15.56,18.33,18.54,19.67,21.26,16.99,20.76,19.65,20.19,15.83,21.53,15.76,16.67,22.91,20.01,10.82,17.12,20.2,10.89,16.39,17.21,24.69,18.91,16.39,25.12,13.29,19.48,21.54,13.93,21.91,22.47,16.67,15.39,17.57,13.39,11.97,18.05,17.31,15.92,14.97,14.65,16.58,18.77,15.18,17.91,20.78,20.7,15.34,13.08,15.34,17.94,20.74,19.46,12.74,12.96,20.18,15.94,18.15,22.22,22.04,19.76,9.71,18.8,24.68,16.95,12.39,19.63,11.89,14.71,15.15,14.45,18.06,20.11,22.22,13.06,21.87,26.57,20.31,14.92,22.41,15.11,18.58,17.19,17.39,15.9,23.12,21.41,18.22,26.86,23.21,16.33,22.29,21.84,22.49,20.22,19.56,19.32,26.67,23.75,18.6,16.68,17.27,20.26,22.54,12.91,22.14,18.94,18.47,25.56,23.81,16.93,18.35,17.48,21.56,32.47,13.16,13.9,17.53,20.25,17.02,13.47,15.46,15.51,23.97,22.33,19.08,27.08,33.81,27.81,15.91,21.25,26.97,21.46,27.85,39.28,15.6,15.04,18.19,23.77,23.5,19.86,17.43,14.11,25.22,14.93,23.56,18.45,19.82,17.08,19.33,17.05,28.77,17.27,23.2,33.56,27.06,23.06,22.13,19.38,22.07,31.12,18.95,21.84,16.21,20.39,16.82,13.04,20.99,15.67,24.48,17.36,14.16,19.98,17.84,15.18,26.6,14.02,18.18,18.77,15.7,18.4,20.76,13.12,19.96,18.89,19.73,19.1,16.02,17.46,13.78,13.27,12.35,18.14,18.17,23.09,18.9,19.89,23.86,18.61,18.16,24.49,15.82,14.4,12.71,13.84,19.11,15.69,13.37,10.72,18.6,16.85,14.08,18.87,18.9,17.0,16.18,19.66,13.32,21.51,15.21,17.3,12.88,17.93,20.71,21.88,15.51,19.35,19.86,14.78,19.02,21.0,14.23,21.43,17.53,24.27,16.54,16.84,14.96,21.68,15.45,14.71,18.9,14.74,16.03,14.96,17.07,19.22,17.46,25.74,14.07,19.07,18.59,16.21,15.49,18.32,18.07,21.57,18.84,18.29,16.95,21.78,26.83,18.02,17.25,21.9,23.29,13.21,15.1,17.35,16.07,16.07,20.22,28.21,15.15,18.83,12.96,14.93,22.72,17.48,13.72,23.29,14.09,16.16,15.5,23.21,12.22,16.84,19.97,22.28,17.72,17.18,18.89,17.46,14.83,17.26,21.02,10.91,18.29,16.17,14.95,18.59,14.86,21.37,20.66,17.92,17.57,16.83,21.68,22.11,29.81,21.17,21.7,21.08,12.17,21.41,19.04,13.98,16.02,19.13,19.12,21.28,14.98,21.98,16.62,17.67,22.53,17.68,19.54,21.97,16.94,19.62,19.54,15.98,19.6,15.66,17.2,25.42,15.79,18.32,16.85,24.89,28.03,17.66,19.34,20.52,21.54,25.0,28.23,13.98,17.15,30.72,29.29,25.25,25.13,28.2,27.15,26.27,26.99,18.36,18.22,20.13,20.74,18.1,23.33,18.18,18.49,28.14,14.93,29.97,15.62,15.73,20.53,16.62,14.59,19.51,18.03,19.24,14.06,17.64,11.28,16.41,16.85,18.82,16.17,20.2,22.44,13.23,20.56,12.83,20.54,20.21,18.17,17.31,17.52,21.24,16.74,24.49,16.32,19.83,12.87,13.14,20.04,17.12,15.7,23.95,14.69,14.7,20.52,13.66,19.07,18.61,20.58,20.26,18.22,16.7,13.9,21.6,19.83,18.68,15.68,13.1,18.75,12.27,13.17,13.44,17.56,20.02,16.33,20.67,17.62,20.86,22.55,24.44,25.49,25.44,14.44,24.99,25.42,28.06,20.7,23.23,16.35,16.58,19.34,24.21,21.48,22.44,29.43,21.94,28.92,27.61,19.59,27.88,22.68,23.93,27.15,29.37,30.62,25.09,22.39,28.25,28.08,29.33,24.54],\"sizemode\":\"area\",\"sizeref\":0.09820000000000001,\"symbol\":\"circle\"},\"mode\":\"markers\",\"name\":\"\",\"orientation\":\"h\",\"showlegend\":false,\"x\":[10.38,17.77,21.25,20.38,14.34,15.7,19.98,20.83,21.82,24.04,23.24,17.89,24.8,23.95,22.61,27.54,20.13,20.68,22.15,14.36,15.71,12.44,14.26,23.04,21.38,16.4,21.53,20.25,25.27,15.05,25.11,18.7,23.98,26.47,17.88,21.59,21.72,18.42,25.2,20.82,21.58,21.35,24.81,20.28,21.81,17.6,16.84,18.66,14.63,22.3,21.6,16.34,18.24,18.7,22.02,18.75,18.57,21.59,19.31,11.79,14.88,20.98,22.15,13.86,23.84,23.94,21.01,19.04,17.33,16.49,21.31,14.64,24.52,15.79,16.52,19.65,10.94,16.15,23.97,18.0,20.97,15.86,24.91,26.29,15.65,18.52,21.46,24.59,21.8,15.24,24.02,22.76,14.76,18.3,19.83,23.03,17.84,19.94,12.84,19.77,24.98,13.43,20.52,19.4,19.29,15.56,18.33,18.54,19.67,21.26,16.99,20.76,19.65,20.19,15.83,21.53,15.76,16.67,22.91,20.01,10.82,17.12,20.2,10.89,16.39,17.21,24.69,18.91,16.39,25.12,13.29,19.48,21.54,13.93,21.91,22.47,16.67,15.39,17.57,13.39,11.97,18.05,17.31,15.92,14.97,14.65,16.58,18.77,15.18,17.91,20.78,20.7,15.34,13.08,15.34,17.94,20.74,19.46,12.74,12.96,20.18,15.94,18.15,22.22,22.04,19.76,9.71,18.8,24.68,16.95,12.39,19.63,11.89,14.71,15.15,14.45,18.06,20.11,22.22,13.06,21.87,26.57,20.31,14.92,22.41,15.11,18.58,17.19,17.39,15.9,23.12,21.41,18.22,26.86,23.21,16.33,22.29,21.84,22.49,20.22,19.56,19.32,26.67,23.75,18.6,16.68,17.27,20.26,22.54,12.91,22.14,18.94,18.47,25.56,23.81,16.93,18.35,17.48,21.56,32.47,13.16,13.9,17.53,20.25,17.02,13.47,15.46,15.51,23.97,22.33,19.08,27.08,33.81,27.81,15.91,21.25,26.97,21.46,27.85,39.28,15.6,15.04,18.19,23.77,23.5,19.86,17.43,14.11,25.22,14.93,23.56,18.45,19.82,17.08,19.33,17.05,28.77,17.27,23.2,33.56,27.06,23.06,22.13,19.38,22.07,31.12,18.95,21.84,16.21,20.39,16.82,13.04,20.99,15.67,24.48,17.36,14.16,19.98,17.84,15.18,26.6,14.02,18.18,18.77,15.7,18.4,20.76,13.12,19.96,18.89,19.73,19.1,16.02,17.46,13.78,13.27,12.35,18.14,18.17,23.09,18.9,19.89,23.86,18.61,18.16,24.49,15.82,14.4,12.71,13.84,19.11,15.69,13.37,10.72,18.6,16.85,14.08,18.87,18.9,17.0,16.18,19.66,13.32,21.51,15.21,17.3,12.88,17.93,20.71,21.88,15.51,19.35,19.86,14.78,19.02,21.0,14.23,21.43,17.53,24.27,16.54,16.84,14.96,21.68,15.45,14.71,18.9,14.74,16.03,14.96,17.07,19.22,17.46,25.74,14.07,19.07,18.59,16.21,15.49,18.32,18.07,21.57,18.84,18.29,16.95,21.78,26.83,18.02,17.25,21.9,23.29,13.21,15.1,17.35,16.07,16.07,20.22,28.21,15.15,18.83,12.96,14.93,22.72,17.48,13.72,23.29,14.09,16.16,15.5,23.21,12.22,16.84,19.97,22.28,17.72,17.18,18.89,17.46,14.83,17.26,21.02,10.91,18.29,16.17,14.95,18.59,14.86,21.37,20.66,17.92,17.57,16.83,21.68,22.11,29.81,21.17,21.7,21.08,12.17,21.41,19.04,13.98,16.02,19.13,19.12,21.28,14.98,21.98,16.62,17.67,22.53,17.68,19.54,21.97,16.94,19.62,19.54,15.98,19.6,15.66,17.2,25.42,15.79,18.32,16.85,24.89,28.03,17.66,19.34,20.52,21.54,25.0,28.23,13.98,17.15,30.72,29.29,25.25,25.13,28.2,27.15,26.27,26.99,18.36,18.22,20.13,20.74,18.1,23.33,18.18,18.49,28.14,14.93,29.97,15.62,15.73,20.53,16.62,14.59,19.51,18.03,19.24,14.06,17.64,11.28,16.41,16.85,18.82,16.17,20.2,22.44,13.23,20.56,12.83,20.54,20.21,18.17,17.31,17.52,21.24,16.74,24.49,16.32,19.83,12.87,13.14,20.04,17.12,15.7,23.95,14.69,14.7,20.52,13.66,19.07,18.61,20.58,20.26,18.22,16.7,13.9,21.6,19.83,18.68,15.68,13.1,18.75,12.27,13.17,13.44,17.56,20.02,16.33,20.67,17.62,20.86,22.55,24.44,25.49,25.44,14.44,24.99,25.42,28.06,20.7,23.23,16.35,16.58,19.34,24.21,21.48,22.44,29.43,21.94,28.92,27.61,19.59,27.88,22.68,23.93,27.15,29.37,30.62,25.09,22.39,28.25,28.08,29.33,24.54],\"xaxis\":\"x\",\"y\":[0,1,2,3,4,5,6,7,8,9,10,11,12,13,14,15,16,17,18,19,20,21,22,23,24,25,26,27,28,29,30,31,32,33,34,35,36,37,38,39,40,41,42,43,44,45,46,47,48,49,50,51,52,53,54,55,56,57,58,59,60,61,62,63,64,65,66,67,68,69,70,71,72,73,74,75,76,77,78,79,80,81,82,83,84,85,86,87,88,89,90,91,92,93,94,95,96,97,98,99,100,101,102,103,104,105,106,107,108,109,110,111,112,113,114,115,116,117,118,119,120,121,122,123,124,125,126,127,128,129,130,131,132,133,134,135,136,137,138,139,140,141,142,143,144,145,146,147,148,149,150,151,152,153,154,155,156,157,158,159,160,161,162,163,164,165,166,167,168,169,170,171,172,173,174,175,176,177,178,179,180,181,182,183,184,185,186,187,188,189,190,191,192,193,194,195,196,197,198,199,200,201,202,203,204,205,206,207,208,209,210,211,212,213,214,215,216,217,218,219,220,221,222,223,224,225,226,227,228,229,230,231,232,233,234,235,236,237,238,239,240,241,242,243,244,245,246,247,248,249,250,251,252,253,254,255,256,257,258,259,260,261,262,263,264,265,266,267,268,269,270,271,272,273,274,275,276,277,278,279,280,281,282,283,284,285,286,287,288,289,290,291,292,293,294,295,296,297,298,299,300,301,302,303,304,305,306,307,308,309,310,311,312,313,314,315,316,317,318,319,320,321,322,323,324,325,326,327,328,329,330,331,332,333,334,335,336,337,338,339,340,341,342,343,344,345,346,347,348,349,350,351,352,353,354,355,356,357,358,359,360,361,362,363,364,365,366,367,368,369,370,371,372,373,374,375,376,377,378,379,380,381,382,383,384,385,386,387,388,389,390,391,392,393,394,395,396,397,398,399,400,401,402,403,404,405,406,407,408,409,410,411,412,413,414,415,416,417,418,419,420,421,422,423,424,425,426,427,428,429,430,431,432,433,434,435,436,437,438,439,440,441,442,443,444,445,446,447,448,449,450,451,452,453,454,455,456,457,458,459,460,461,462,463,464,465,466,467,468,469,470,471,472,473,474,475,476,477,478,479,480,481,482,483,484,485,486,487,488,489,490,491,492,493,494,495,496,497,498,499,500,501,502,503,504,505,506,507,508,509,510,511,512,513,514,515,516,517,518,519,520,521,522,523,524,525,526,527,528,529,530,531,532,533,534,535,536,537,538,539,540,541,542,543,544,545,546,547,548,549,550,551,552,553,554,555,556,557,558,559,560,561,562,563,564,565,566,567,568],\"yaxis\":\"y\",\"type\":\"scatter\"}],                        {\"template\":{\"data\":{\"barpolar\":[{\"marker\":{\"line\":{\"color\":\"white\",\"width\":0.5},\"pattern\":{\"fillmode\":\"overlay\",\"size\":10,\"solidity\":0.2}},\"type\":\"barpolar\"}],\"bar\":[{\"error_x\":{\"color\":\"rgb(36,36,36)\"},\"error_y\":{\"color\":\"rgb(36,36,36)\"},\"marker\":{\"line\":{\"color\":\"white\",\"width\":0.5},\"pattern\":{\"fillmode\":\"overlay\",\"size\":10,\"solidity\":0.2}},\"type\":\"bar\"}],\"carpet\":[{\"aaxis\":{\"endlinecolor\":\"rgb(36,36,36)\",\"gridcolor\":\"white\",\"linecolor\":\"white\",\"minorgridcolor\":\"white\",\"startlinecolor\":\"rgb(36,36,36)\"},\"baxis\":{\"endlinecolor\":\"rgb(36,36,36)\",\"gridcolor\":\"white\",\"linecolor\":\"white\",\"minorgridcolor\":\"white\",\"startlinecolor\":\"rgb(36,36,36)\"},\"type\":\"carpet\"}],\"choropleth\":[{\"colorbar\":{\"outlinewidth\":1,\"tickcolor\":\"rgb(36,36,36)\",\"ticks\":\"outside\"},\"type\":\"choropleth\"}],\"contourcarpet\":[{\"colorbar\":{\"outlinewidth\":1,\"tickcolor\":\"rgb(36,36,36)\",\"ticks\":\"outside\"},\"type\":\"contourcarpet\"}],\"contour\":[{\"colorbar\":{\"outlinewidth\":1,\"tickcolor\":\"rgb(36,36,36)\",\"ticks\":\"outside\"},\"colorscale\":[[0.0,\"#440154\"],[0.1111111111111111,\"#482878\"],[0.2222222222222222,\"#3e4989\"],[0.3333333333333333,\"#31688e\"],[0.4444444444444444,\"#26828e\"],[0.5555555555555556,\"#1f9e89\"],[0.6666666666666666,\"#35b779\"],[0.7777777777777778,\"#6ece58\"],[0.8888888888888888,\"#b5de2b\"],[1.0,\"#fde725\"]],\"type\":\"contour\"}],\"heatmapgl\":[{\"colorbar\":{\"outlinewidth\":1,\"tickcolor\":\"rgb(36,36,36)\",\"ticks\":\"outside\"},\"colorscale\":[[0.0,\"#440154\"],[0.1111111111111111,\"#482878\"],[0.2222222222222222,\"#3e4989\"],[0.3333333333333333,\"#31688e\"],[0.4444444444444444,\"#26828e\"],[0.5555555555555556,\"#1f9e89\"],[0.6666666666666666,\"#35b779\"],[0.7777777777777778,\"#6ece58\"],[0.8888888888888888,\"#b5de2b\"],[1.0,\"#fde725\"]],\"type\":\"heatmapgl\"}],\"heatmap\":[{\"colorbar\":{\"outlinewidth\":1,\"tickcolor\":\"rgb(36,36,36)\",\"ticks\":\"outside\"},\"colorscale\":[[0.0,\"#440154\"],[0.1111111111111111,\"#482878\"],[0.2222222222222222,\"#3e4989\"],[0.3333333333333333,\"#31688e\"],[0.4444444444444444,\"#26828e\"],[0.5555555555555556,\"#1f9e89\"],[0.6666666666666666,\"#35b779\"],[0.7777777777777778,\"#6ece58\"],[0.8888888888888888,\"#b5de2b\"],[1.0,\"#fde725\"]],\"type\":\"heatmap\"}],\"histogram2dcontour\":[{\"colorbar\":{\"outlinewidth\":1,\"tickcolor\":\"rgb(36,36,36)\",\"ticks\":\"outside\"},\"colorscale\":[[0.0,\"#440154\"],[0.1111111111111111,\"#482878\"],[0.2222222222222222,\"#3e4989\"],[0.3333333333333333,\"#31688e\"],[0.4444444444444444,\"#26828e\"],[0.5555555555555556,\"#1f9e89\"],[0.6666666666666666,\"#35b779\"],[0.7777777777777778,\"#6ece58\"],[0.8888888888888888,\"#b5de2b\"],[1.0,\"#fde725\"]],\"type\":\"histogram2dcontour\"}],\"histogram2d\":[{\"colorbar\":{\"outlinewidth\":1,\"tickcolor\":\"rgb(36,36,36)\",\"ticks\":\"outside\"},\"colorscale\":[[0.0,\"#440154\"],[0.1111111111111111,\"#482878\"],[0.2222222222222222,\"#3e4989\"],[0.3333333333333333,\"#31688e\"],[0.4444444444444444,\"#26828e\"],[0.5555555555555556,\"#1f9e89\"],[0.6666666666666666,\"#35b779\"],[0.7777777777777778,\"#6ece58\"],[0.8888888888888888,\"#b5de2b\"],[1.0,\"#fde725\"]],\"type\":\"histogram2d\"}],\"histogram\":[{\"marker\":{\"line\":{\"color\":\"white\",\"width\":0.6}},\"type\":\"histogram\"}],\"mesh3d\":[{\"colorbar\":{\"outlinewidth\":1,\"tickcolor\":\"rgb(36,36,36)\",\"ticks\":\"outside\"},\"type\":\"mesh3d\"}],\"parcoords\":[{\"line\":{\"colorbar\":{\"outlinewidth\":1,\"tickcolor\":\"rgb(36,36,36)\",\"ticks\":\"outside\"}},\"type\":\"parcoords\"}],\"pie\":[{\"automargin\":true,\"type\":\"pie\"}],\"scatter3d\":[{\"line\":{\"colorbar\":{\"outlinewidth\":1,\"tickcolor\":\"rgb(36,36,36)\",\"ticks\":\"outside\"}},\"marker\":{\"colorbar\":{\"outlinewidth\":1,\"tickcolor\":\"rgb(36,36,36)\",\"ticks\":\"outside\"}},\"type\":\"scatter3d\"}],\"scattercarpet\":[{\"marker\":{\"colorbar\":{\"outlinewidth\":1,\"tickcolor\":\"rgb(36,36,36)\",\"ticks\":\"outside\"}},\"type\":\"scattercarpet\"}],\"scattergeo\":[{\"marker\":{\"colorbar\":{\"outlinewidth\":1,\"tickcolor\":\"rgb(36,36,36)\",\"ticks\":\"outside\"}},\"type\":\"scattergeo\"}],\"scattergl\":[{\"marker\":{\"colorbar\":{\"outlinewidth\":1,\"tickcolor\":\"rgb(36,36,36)\",\"ticks\":\"outside\"}},\"type\":\"scattergl\"}],\"scattermapbox\":[{\"marker\":{\"colorbar\":{\"outlinewidth\":1,\"tickcolor\":\"rgb(36,36,36)\",\"ticks\":\"outside\"}},\"type\":\"scattermapbox\"}],\"scatterpolargl\":[{\"marker\":{\"colorbar\":{\"outlinewidth\":1,\"tickcolor\":\"rgb(36,36,36)\",\"ticks\":\"outside\"}},\"type\":\"scatterpolargl\"}],\"scatterpolar\":[{\"marker\":{\"colorbar\":{\"outlinewidth\":1,\"tickcolor\":\"rgb(36,36,36)\",\"ticks\":\"outside\"}},\"type\":\"scatterpolar\"}],\"scatter\":[{\"fillpattern\":{\"fillmode\":\"overlay\",\"size\":10,\"solidity\":0.2},\"type\":\"scatter\"}],\"scatterternary\":[{\"marker\":{\"colorbar\":{\"outlinewidth\":1,\"tickcolor\":\"rgb(36,36,36)\",\"ticks\":\"outside\"}},\"type\":\"scatterternary\"}],\"surface\":[{\"colorbar\":{\"outlinewidth\":1,\"tickcolor\":\"rgb(36,36,36)\",\"ticks\":\"outside\"},\"colorscale\":[[0.0,\"#440154\"],[0.1111111111111111,\"#482878\"],[0.2222222222222222,\"#3e4989\"],[0.3333333333333333,\"#31688e\"],[0.4444444444444444,\"#26828e\"],[0.5555555555555556,\"#1f9e89\"],[0.6666666666666666,\"#35b779\"],[0.7777777777777778,\"#6ece58\"],[0.8888888888888888,\"#b5de2b\"],[1.0,\"#fde725\"]],\"type\":\"surface\"}],\"table\":[{\"cells\":{\"fill\":{\"color\":\"rgb(237,237,237)\"},\"line\":{\"color\":\"white\"}},\"header\":{\"fill\":{\"color\":\"rgb(217,217,217)\"},\"line\":{\"color\":\"white\"}},\"type\":\"table\"}]},\"layout\":{\"annotationdefaults\":{\"arrowhead\":0,\"arrowwidth\":1},\"autotypenumbers\":\"strict\",\"coloraxis\":{\"colorbar\":{\"outlinewidth\":1,\"tickcolor\":\"rgb(36,36,36)\",\"ticks\":\"outside\"}},\"colorscale\":{\"diverging\":[[0.0,\"rgb(103,0,31)\"],[0.1,\"rgb(178,24,43)\"],[0.2,\"rgb(214,96,77)\"],[0.3,\"rgb(244,165,130)\"],[0.4,\"rgb(253,219,199)\"],[0.5,\"rgb(247,247,247)\"],[0.6,\"rgb(209,229,240)\"],[0.7,\"rgb(146,197,222)\"],[0.8,\"rgb(67,147,195)\"],[0.9,\"rgb(33,102,172)\"],[1.0,\"rgb(5,48,97)\"]],\"sequential\":[[0.0,\"#440154\"],[0.1111111111111111,\"#482878\"],[0.2222222222222222,\"#3e4989\"],[0.3333333333333333,\"#31688e\"],[0.4444444444444444,\"#26828e\"],[0.5555555555555556,\"#1f9e89\"],[0.6666666666666666,\"#35b779\"],[0.7777777777777778,\"#6ece58\"],[0.8888888888888888,\"#b5de2b\"],[1.0,\"#fde725\"]],\"sequentialminus\":[[0.0,\"#440154\"],[0.1111111111111111,\"#482878\"],[0.2222222222222222,\"#3e4989\"],[0.3333333333333333,\"#31688e\"],[0.4444444444444444,\"#26828e\"],[0.5555555555555556,\"#1f9e89\"],[0.6666666666666666,\"#35b779\"],[0.7777777777777778,\"#6ece58\"],[0.8888888888888888,\"#b5de2b\"],[1.0,\"#fde725\"]]},\"colorway\":[\"#1F77B4\",\"#FF7F0E\",\"#2CA02C\",\"#D62728\",\"#9467BD\",\"#8C564B\",\"#E377C2\",\"#7F7F7F\",\"#BCBD22\",\"#17BECF\"],\"font\":{\"color\":\"rgb(36,36,36)\"},\"geo\":{\"bgcolor\":\"white\",\"lakecolor\":\"white\",\"landcolor\":\"white\",\"showlakes\":true,\"showland\":true,\"subunitcolor\":\"white\"},\"hoverlabel\":{\"align\":\"left\"},\"hovermode\":\"closest\",\"mapbox\":{\"style\":\"light\"},\"paper_bgcolor\":\"white\",\"plot_bgcolor\":\"white\",\"polar\":{\"angularaxis\":{\"gridcolor\":\"rgb(232,232,232)\",\"linecolor\":\"rgb(36,36,36)\",\"showgrid\":false,\"showline\":true,\"ticks\":\"outside\"},\"bgcolor\":\"white\",\"radialaxis\":{\"gridcolor\":\"rgb(232,232,232)\",\"linecolor\":\"rgb(36,36,36)\",\"showgrid\":false,\"showline\":true,\"ticks\":\"outside\"}},\"scene\":{\"xaxis\":{\"backgroundcolor\":\"white\",\"gridcolor\":\"rgb(232,232,232)\",\"gridwidth\":2,\"linecolor\":\"rgb(36,36,36)\",\"showbackground\":true,\"showgrid\":false,\"showline\":true,\"ticks\":\"outside\",\"zeroline\":false,\"zerolinecolor\":\"rgb(36,36,36)\"},\"yaxis\":{\"backgroundcolor\":\"white\",\"gridcolor\":\"rgb(232,232,232)\",\"gridwidth\":2,\"linecolor\":\"rgb(36,36,36)\",\"showbackground\":true,\"showgrid\":false,\"showline\":true,\"ticks\":\"outside\",\"zeroline\":false,\"zerolinecolor\":\"rgb(36,36,36)\"},\"zaxis\":{\"backgroundcolor\":\"white\",\"gridcolor\":\"rgb(232,232,232)\",\"gridwidth\":2,\"linecolor\":\"rgb(36,36,36)\",\"showbackground\":true,\"showgrid\":false,\"showline\":true,\"ticks\":\"outside\",\"zeroline\":false,\"zerolinecolor\":\"rgb(36,36,36)\"}},\"shapedefaults\":{\"fillcolor\":\"black\",\"line\":{\"width\":0},\"opacity\":0.3},\"ternary\":{\"aaxis\":{\"gridcolor\":\"rgb(232,232,232)\",\"linecolor\":\"rgb(36,36,36)\",\"showgrid\":false,\"showline\":true,\"ticks\":\"outside\"},\"baxis\":{\"gridcolor\":\"rgb(232,232,232)\",\"linecolor\":\"rgb(36,36,36)\",\"showgrid\":false,\"showline\":true,\"ticks\":\"outside\"},\"bgcolor\":\"white\",\"caxis\":{\"gridcolor\":\"rgb(232,232,232)\",\"linecolor\":\"rgb(36,36,36)\",\"showgrid\":false,\"showline\":true,\"ticks\":\"outside\"}},\"title\":{\"x\":0.05},\"xaxis\":{\"automargin\":true,\"gridcolor\":\"rgb(232,232,232)\",\"linecolor\":\"rgb(36,36,36)\",\"showgrid\":false,\"showline\":true,\"ticks\":\"outside\",\"title\":{\"standoff\":15},\"zeroline\":false,\"zerolinecolor\":\"rgb(36,36,36)\"},\"yaxis\":{\"automargin\":true,\"gridcolor\":\"rgb(232,232,232)\",\"linecolor\":\"rgb(36,36,36)\",\"showgrid\":false,\"showline\":true,\"ticks\":\"outside\",\"title\":{\"standoff\":15},\"zeroline\":false,\"zerolinecolor\":\"rgb(36,36,36)\"}}},\"xaxis\":{\"anchor\":\"y\",\"domain\":[0.0,1.0],\"title\":{\"text\":\"Mean Texture\"}},\"yaxis\":{\"anchor\":\"x\",\"domain\":[0.0,1.0],\"title\":{\"text\":\" \"}},\"coloraxis\":{\"colorbar\":{\"title\":{\"text\":\"Target\"}},\"colorscale\":[[0.0,\"#440154\"],[0.1111111111111111,\"#482878\"],[0.2222222222222222,\"#3e4989\"],[0.3333333333333333,\"#31688e\"],[0.4444444444444444,\"#26828e\"],[0.5555555555555556,\"#1f9e89\"],[0.6666666666666666,\"#35b779\"],[0.7777777777777778,\"#6ece58\"],[0.8888888888888888,\"#b5de2b\"],[1.0,\"#fde725\"]]},\"legend\":{\"tracegroupgap\":0,\"itemsizing\":\"constant\"},\"title\":{\"text\":\"Cancer Mean Texture Spread\"}},                        {\"responsive\": true}                    ).then(function(){\n",
       "                            \n",
       "var gd = document.getElementById('15287796-cc0d-4a86-be8d-767e3a3133cf');\n",
       "var x = new MutationObserver(function (mutations, observer) {{\n",
       "        var display = window.getComputedStyle(gd).display;\n",
       "        if (!display || display === 'none') {{\n",
       "            console.log([gd, 'removed!']);\n",
       "            Plotly.purge(gd);\n",
       "            observer.disconnect();\n",
       "        }}\n",
       "}});\n",
       "\n",
       "// Listen for the removal of the full notebook cells\n",
       "var notebookContainer = gd.closest('#notebook-container');\n",
       "if (notebookContainer) {{\n",
       "    x.observe(notebookContainer, {childList: true});\n",
       "}}\n",
       "\n",
       "// Listen for the clearing of the current output cell\n",
       "var outputEl = gd.closest('.output');\n",
       "if (outputEl) {{\n",
       "    x.observe(outputEl, {childList: true});\n",
       "}}\n",
       "\n",
       "                        })                };                });            </script>        </div>"
      ]
     },
     "metadata": {},
     "output_type": "display_data"
    }
   ],
   "source": [
    "fig = px.scatter(df,\n",
    "                 x='mean texture',\n",
    "                 color='target',\n",
    "                 size='mean texture',\n",
    "                 template='simple_white',\n",
    "                 title='Cancer Mean Texture Spread',\n",
    "                 labels={\"mean texture\": \"Mean Texture\", \"target\":\"Target\"},\n",
    "                 hover_data=[\"target\"])\n",
    "\n",
    "fig.update_layout(xaxis_title=\"Mean Texture\",yaxis_title=\" \")\n",
    "\n",
    "fig.show()"
   ]
  },
  {
   "cell_type": "code",
   "execution_count": 26,
   "metadata": {
    "colab": {
     "background_save": true
    },
    "id": "KhOhQOW8Z43q",
    "outputId": "bf417dfa-e649-4fb1-a5c7-ffbed1919e62"
   },
   "outputs": [
    {
     "data": {
      "application/vnd.plotly.v1+json": {
       "config": {
        "plotlyServerURL": "https://plot.ly"
       },
       "data": [
        {
         "customdata": [
          [
           0
          ],
          [
           0
          ],
          [
           0
          ],
          [
           0
          ],
          [
           0
          ],
          [
           0
          ],
          [
           0
          ],
          [
           0
          ],
          [
           0
          ],
          [
           0
          ],
          [
           0
          ],
          [
           0
          ],
          [
           0
          ],
          [
           0
          ],
          [
           0
          ],
          [
           0
          ],
          [
           0
          ],
          [
           0
          ],
          [
           0
          ],
          [
           1
          ],
          [
           1
          ],
          [
           1
          ],
          [
           0
          ],
          [
           0
          ],
          [
           0
          ],
          [
           0
          ],
          [
           0
          ],
          [
           0
          ],
          [
           0
          ],
          [
           0
          ],
          [
           0
          ],
          [
           0
          ],
          [
           0
          ],
          [
           0
          ],
          [
           0
          ],
          [
           0
          ],
          [
           0
          ],
          [
           1
          ],
          [
           0
          ],
          [
           0
          ],
          [
           0
          ],
          [
           0
          ],
          [
           0
          ],
          [
           0
          ],
          [
           0
          ],
          [
           0
          ],
          [
           1
          ],
          [
           0
          ],
          [
           1
          ],
          [
           1
          ],
          [
           1
          ],
          [
           1
          ],
          [
           1
          ],
          [
           0
          ],
          [
           0
          ],
          [
           1
          ],
          [
           0
          ],
          [
           0
          ],
          [
           1
          ],
          [
           1
          ],
          [
           1
          ],
          [
           1
          ],
          [
           0
          ],
          [
           1
          ],
          [
           0
          ],
          [
           0
          ],
          [
           1
          ],
          [
           1
          ],
          [
           1
          ],
          [
           1
          ],
          [
           0
          ],
          [
           1
          ],
          [
           0
          ],
          [
           0
          ],
          [
           1
          ],
          [
           0
          ],
          [
           1
          ],
          [
           0
          ],
          [
           0
          ],
          [
           1
          ],
          [
           1
          ],
          [
           1
          ],
          [
           0
          ],
          [
           0
          ],
          [
           1
          ],
          [
           0
          ],
          [
           0
          ],
          [
           0
          ],
          [
           1
          ],
          [
           1
          ],
          [
           1
          ],
          [
           0
          ],
          [
           1
          ],
          [
           1
          ],
          [
           0
          ],
          [
           0
          ],
          [
           1
          ],
          [
           1
          ],
          [
           1
          ],
          [
           0
          ],
          [
           0
          ],
          [
           1
          ],
          [
           1
          ],
          [
           1
          ],
          [
           1
          ],
          [
           0
          ],
          [
           1
          ],
          [
           1
          ],
          [
           0
          ],
          [
           1
          ],
          [
           1
          ],
          [
           1
          ],
          [
           1
          ],
          [
           1
          ],
          [
           1
          ],
          [
           1
          ],
          [
           1
          ],
          [
           0
          ],
          [
           0
          ],
          [
           0
          ],
          [
           1
          ],
          [
           0
          ],
          [
           0
          ],
          [
           1
          ],
          [
           1
          ],
          [
           1
          ],
          [
           0
          ],
          [
           0
          ],
          [
           1
          ],
          [
           0
          ],
          [
           1
          ],
          [
           0
          ],
          [
           0
          ],
          [
           1
          ],
          [
           0
          ],
          [
           0
          ],
          [
           1
          ],
          [
           1
          ],
          [
           0
          ],
          [
           1
          ],
          [
           1
          ],
          [
           0
          ],
          [
           1
          ],
          [
           1
          ],
          [
           1
          ],
          [
           1
          ],
          [
           0
          ],
          [
           1
          ],
          [
           1
          ],
          [
           1
          ],
          [
           1
          ],
          [
           1
          ],
          [
           1
          ],
          [
           1
          ],
          [
           1
          ],
          [
           1
          ],
          [
           0
          ],
          [
           1
          ],
          [
           1
          ],
          [
           1
          ],
          [
           1
          ],
          [
           0
          ],
          [
           0
          ],
          [
           1
          ],
          [
           0
          ],
          [
           1
          ],
          [
           1
          ],
          [
           0
          ],
          [
           0
          ],
          [
           1
          ],
          [
           1
          ],
          [
           0
          ],
          [
           0
          ],
          [
           1
          ],
          [
           1
          ],
          [
           1
          ],
          [
           1
          ],
          [
           0
          ],
          [
           1
          ],
          [
           1
          ],
          [
           0
          ],
          [
           0
          ],
          [
           0
          ],
          [
           1
          ],
          [
           0
          ],
          [
           1
          ],
          [
           0
          ],
          [
           1
          ],
          [
           1
          ],
          [
           1
          ],
          [
           0
          ],
          [
           1
          ],
          [
           1
          ],
          [
           0
          ],
          [
           0
          ],
          [
           1
          ],
          [
           0
          ],
          [
           0
          ],
          [
           0
          ],
          [
           0
          ],
          [
           1
          ],
          [
           0
          ],
          [
           0
          ],
          [
           0
          ],
          [
           1
          ],
          [
           0
          ],
          [
           1
          ],
          [
           0
          ],
          [
           1
          ],
          [
           1
          ],
          [
           0
          ],
          [
           1
          ],
          [
           0
          ],
          [
           0
          ],
          [
           0
          ],
          [
           0
          ],
          [
           1
          ],
          [
           1
          ],
          [
           0
          ],
          [
           0
          ],
          [
           1
          ],
          [
           1
          ],
          [
           1
          ],
          [
           0
          ],
          [
           1
          ],
          [
           1
          ],
          [
           1
          ],
          [
           1
          ],
          [
           1
          ],
          [
           0
          ],
          [
           0
          ],
          [
           1
          ],
          [
           1
          ],
          [
           0
          ],
          [
           1
          ],
          [
           1
          ],
          [
           0
          ],
          [
           0
          ],
          [
           1
          ],
          [
           0
          ],
          [
           1
          ],
          [
           1
          ],
          [
           1
          ],
          [
           1
          ],
          [
           0
          ],
          [
           1
          ],
          [
           1
          ],
          [
           1
          ],
          [
           1
          ],
          [
           1
          ],
          [
           0
          ],
          [
           1
          ],
          [
           0
          ],
          [
           0
          ],
          [
           0
          ],
          [
           0
          ],
          [
           0
          ],
          [
           0
          ],
          [
           0
          ],
          [
           0
          ],
          [
           0
          ],
          [
           0
          ],
          [
           0
          ],
          [
           0
          ],
          [
           0
          ],
          [
           0
          ],
          [
           1
          ],
          [
           1
          ],
          [
           1
          ],
          [
           1
          ],
          [
           1
          ],
          [
           1
          ],
          [
           0
          ],
          [
           1
          ],
          [
           0
          ],
          [
           1
          ],
          [
           1
          ],
          [
           0
          ],
          [
           1
          ],
          [
           1
          ],
          [
           0
          ],
          [
           1
          ],
          [
           0
          ],
          [
           0
          ],
          [
           1
          ],
          [
           1
          ],
          [
           1
          ],
          [
           1
          ],
          [
           1
          ],
          [
           1
          ],
          [
           1
          ],
          [
           1
          ],
          [
           1
          ],
          [
           1
          ],
          [
           1
          ],
          [
           1
          ],
          [
           1
          ],
          [
           0
          ],
          [
           1
          ],
          [
           1
          ],
          [
           0
          ],
          [
           1
          ],
          [
           0
          ],
          [
           1
          ],
          [
           1
          ],
          [
           1
          ],
          [
           1
          ],
          [
           1
          ],
          [
           1
          ],
          [
           1
          ],
          [
           1
          ],
          [
           1
          ],
          [
           1
          ],
          [
           1
          ],
          [
           1
          ],
          [
           1
          ],
          [
           1
          ],
          [
           0
          ],
          [
           1
          ],
          [
           1
          ],
          [
           1
          ],
          [
           0
          ],
          [
           1
          ],
          [
           0
          ],
          [
           1
          ],
          [
           1
          ],
          [
           1
          ],
          [
           1
          ],
          [
           0
          ],
          [
           0
          ],
          [
           0
          ],
          [
           1
          ],
          [
           1
          ],
          [
           1
          ],
          [
           1
          ],
          [
           0
          ],
          [
           1
          ],
          [
           0
          ],
          [
           1
          ],
          [
           0
          ],
          [
           1
          ],
          [
           1
          ],
          [
           1
          ],
          [
           0
          ],
          [
           1
          ],
          [
           1
          ],
          [
           1
          ],
          [
           1
          ],
          [
           1
          ],
          [
           1
          ],
          [
           1
          ],
          [
           0
          ],
          [
           0
          ],
          [
           0
          ],
          [
           1
          ],
          [
           1
          ],
          [
           1
          ],
          [
           1
          ],
          [
           1
          ],
          [
           1
          ],
          [
           1
          ],
          [
           1
          ],
          [
           1
          ],
          [
           1
          ],
          [
           1
          ],
          [
           0
          ],
          [
           0
          ],
          [
           1
          ],
          [
           0
          ],
          [
           0
          ],
          [
           0
          ],
          [
           1
          ],
          [
           0
          ],
          [
           0
          ],
          [
           1
          ],
          [
           1
          ],
          [
           1
          ],
          [
           1
          ],
          [
           1
          ],
          [
           0
          ],
          [
           1
          ],
          [
           1
          ],
          [
           1
          ],
          [
           1
          ],
          [
           1
          ],
          [
           0
          ],
          [
           1
          ],
          [
           1
          ],
          [
           1
          ],
          [
           0
          ],
          [
           1
          ],
          [
           1
          ],
          [
           0
          ],
          [
           0
          ],
          [
           1
          ],
          [
           1
          ],
          [
           1
          ],
          [
           1
          ],
          [
           1
          ],
          [
           1
          ],
          [
           0
          ],
          [
           1
          ],
          [
           1
          ],
          [
           1
          ],
          [
           1
          ],
          [
           1
          ],
          [
           1
          ],
          [
           1
          ],
          [
           0
          ],
          [
           1
          ],
          [
           1
          ],
          [
           1
          ],
          [
           1
          ],
          [
           1
          ],
          [
           0
          ],
          [
           1
          ],
          [
           1
          ],
          [
           0
          ],
          [
           1
          ],
          [
           1
          ],
          [
           1
          ],
          [
           1
          ],
          [
           1
          ],
          [
           1
          ],
          [
           1
          ],
          [
           1
          ],
          [
           1
          ],
          [
           1
          ],
          [
           1
          ],
          [
           1
          ],
          [
           0
          ],
          [
           1
          ],
          [
           0
          ],
          [
           0
          ],
          [
           1
          ],
          [
           0
          ],
          [
           1
          ],
          [
           1
          ],
          [
           1
          ],
          [
           1
          ],
          [
           1
          ],
          [
           0
          ],
          [
           1
          ],
          [
           1
          ],
          [
           0
          ],
          [
           1
          ],
          [
           0
          ],
          [
           1
          ],
          [
           1
          ],
          [
           0
          ],
          [
           1
          ],
          [
           0
          ],
          [
           1
          ],
          [
           1
          ],
          [
           1
          ],
          [
           1
          ],
          [
           1
          ],
          [
           1
          ],
          [
           1
          ],
          [
           1
          ],
          [
           0
          ],
          [
           0
          ],
          [
           1
          ],
          [
           1
          ],
          [
           1
          ],
          [
           1
          ],
          [
           1
          ],
          [
           1
          ],
          [
           0
          ],
          [
           1
          ],
          [
           1
          ],
          [
           1
          ],
          [
           1
          ],
          [
           1
          ],
          [
           1
          ],
          [
           1
          ],
          [
           1
          ],
          [
           1
          ],
          [
           1
          ],
          [
           0
          ],
          [
           1
          ],
          [
           1
          ],
          [
           1
          ],
          [
           1
          ],
          [
           1
          ],
          [
           1
          ],
          [
           1
          ],
          [
           0
          ],
          [
           1
          ],
          [
           0
          ],
          [
           1
          ],
          [
           1
          ],
          [
           0
          ],
          [
           1
          ],
          [
           1
          ],
          [
           1
          ],
          [
           1
          ],
          [
           1
          ],
          [
           0
          ],
          [
           0
          ],
          [
           1
          ],
          [
           0
          ],
          [
           1
          ],
          [
           0
          ],
          [
           1
          ],
          [
           1
          ],
          [
           1
          ],
          [
           1
          ],
          [
           1
          ],
          [
           0
          ],
          [
           1
          ],
          [
           1
          ],
          [
           0
          ],
          [
           1
          ],
          [
           0
          ],
          [
           1
          ],
          [
           0
          ],
          [
           0
          ],
          [
           1
          ],
          [
           1
          ],
          [
           1
          ],
          [
           0
          ],
          [
           1
          ],
          [
           1
          ],
          [
           1
          ],
          [
           1
          ],
          [
           1
          ],
          [
           1
          ],
          [
           1
          ],
          [
           1
          ],
          [
           1
          ],
          [
           1
          ],
          [
           1
          ],
          [
           0
          ],
          [
           1
          ],
          [
           0
          ],
          [
           0
          ],
          [
           1
          ],
          [
           1
          ],
          [
           1
          ],
          [
           1
          ],
          [
           1
          ],
          [
           1
          ],
          [
           1
          ],
          [
           1
          ],
          [
           1
          ],
          [
           1
          ],
          [
           1
          ],
          [
           1
          ],
          [
           1
          ],
          [
           1
          ],
          [
           1
          ],
          [
           1
          ],
          [
           1
          ],
          [
           1
          ],
          [
           1
          ],
          [
           1
          ],
          [
           1
          ],
          [
           1
          ],
          [
           1
          ],
          [
           1
          ],
          [
           1
          ],
          [
           0
          ],
          [
           0
          ],
          [
           0
          ],
          [
           0
          ],
          [
           0
          ],
          [
           0
          ],
          [
           1
          ]
         ],
         "hovertemplate": "Mean Compactness=%{marker.color}<br>index=%{y}<br>target=%{customdata[0]}<extra></extra>",
         "legendgroup": "",
         "marker": {
          "color": [
           0.2776,
           0.07864,
           0.1599,
           0.2839,
           0.1328,
           0.17,
           0.109,
           0.1645,
           0.1932,
           0.2396,
           0.06669,
           0.1292,
           0.2458,
           0.1002,
           0.2293,
           0.1595,
           0.072,
           0.2022,
           0.1027,
           0.08129,
           0.127,
           0.06492,
           0.2135,
           0.1022,
           0.1457,
           0.2276,
           0.1868,
           0.1066,
           0.1697,
           0.1157,
           0.1887,
           0.1516,
           0.1496,
           0.1719,
           0.1559,
           0.1336,
           0.1098,
           0.03766,
           0.05131,
           0.1255,
           0.06031,
           0.1218,
           0.219,
           0.1436,
           0.1047,
           0.1686,
           0.05943,
           0.1231,
           0.09092,
           0.07698,
           0.04966,
           0.06059,
           0.04751,
           0.1485,
           0.07081,
           0.05473,
           0.1267,
           0.1365,
           0.03789,
           0.05272,
           0.08061,
           0.08963,
           0.2008,
           0.08751,
           0.1262,
           0.1479,
           0.07773,
           0.04701,
           0.1413,
           0.05234,
           0.1029,
           0.1531,
           0.183,
           0.128,
           0.06829,
           0.08424,
           0.1047,
           0.2146,
           0.3454,
           0.09546,
           0.09362,
           0.1535,
           0.2665,
           0.1791,
           0.07165,
           0.1053,
           0.09947,
           0.1206,
           0.09445,
           0.1339,
           0.08606,
           0.1036,
           0.05055,
           0.08165,
           0.1553,
           0.1313,
           0.07057,
           0.05301,
           0.07525,
           0.1141,
           0.08511,
           0.07568,
           0.04038,
           0.09697,
           0.08578,
           0.1765,
           0.1017,
           0.06815,
           0.2768,
           0.06575,
           0.08404,
           0.1209,
           0.2233,
           0.1303,
           0.08201,
           0.07849,
           0.1243,
           0.1649,
           0.1752,
           0.06722,
           0.06685,
           0.11,
           0.2867,
           0.1099,
           0.07325,
           0.06136,
           0.07862,
           0.08028,
           0.1807,
           0.1589,
           0.09509,
           0.1223,
           0.1284,
           0.09462,
           0.09709,
           0.05761,
           0.06095,
           0.06889,
           0.1305,
           0.1136,
           0.04102,
           0.1137,
           0.09486,
           0.09509,
           0.05139,
           0.1296,
           0.17,
           0.1167,
           0.1021,
           0.06376,
           0.07589,
           0.1305,
           0.1599,
           0.05113,
           0.08498,
           0.06679,
           0.1665,
           0.07223,
           0.05241,
           0.03718,
           0.1141,
           0.1185,
           0.1666,
           0.1015,
           0.1145,
           0.05352,
           0.05736,
           0.09182,
           0.1603,
           0.07885,
           0.06981,
           0.06288,
           0.1555,
           0.05743,
           0.04302,
           0.04276,
           0.1294,
           0.1556,
           0.01938,
           0.03774,
           0.1914,
           0.2832,
           0.08799,
           0.08155,
           0.1052,
           0.04695,
           0.08468,
           0.06141,
           0.05562,
           0.07253,
           0.2413,
           0.06601,
           0.02344,
           0.1353,
           0.198,
           0.05366,
           0.1267,
           0.08642,
           0.1428,
           0.1206,
           0.08087,
           0.1198,
           0.2084,
           0.1768,
           0.1058,
           0.09588,
           0.07232,
           0.07304,
           0.1483,
           0.0623,
           0.1348,
           0.069,
           0.1516,
           0.1146,
           0.1306,
           0.1517,
           0.1154,
           0.05907,
           0.1306,
           0.113,
           0.08711,
           0.1192,
           0.08502,
           0.1204,
           0.04994,
           0.07624,
           0.07722,
           0.1096,
           0.07529,
           0.1799,
           0.1572,
           0.03813,
           0.03574,
           0.1074,
           0.04087,
           0.06945,
           0.1682,
           0.08348,
           0.1039,
           0.1298,
           0.0663,
           0.03393,
           0.1325,
           0.06807,
           0.1558,
           0.05971,
           0.04524,
           0.1346,
           0.07234,
           0.07808,
           0.1606,
           0.05991,
           0.1849,
           0.1041,
           0.1188,
           0.1279,
           0.2063,
           0.2284,
           0.3114,
           0.1639,
           0.1088,
           0.0629,
           0.1273,
           0.05616,
           0.08995,
           0.1143,
           0.1147,
           0.08259,
           0.06219,
           0.1289,
           0.02675,
           0.07608,
           0.1961,
           0.04689,
           0.07027,
           0.0721,
           0.03872,
           0.05884,
           0.04052,
           0.07688,
           0.1453,
           0.0434,
           0.1442,
           0.1802,
           0.0958,
           0.04216,
           0.1011,
           0.03729,
           0.1181,
           0.05008,
           0.1676,
           0.09823,
           0.07943,
           0.05642,
           0.08393,
           0.06221,
           0.04721,
           0.05914,
           0.0522,
           0.06797,
           0.1642,
           0.1014,
           0.1838,
           0.06678,
           0.07694,
           0.05688,
           0.05251,
           0.03116,
           0.03614,
           0.03735,
           0.05253,
           0.03515,
           0.07948,
           0.05969,
           0.05847,
           0.03834,
           0.03212,
           0.1117,
           0.1972,
           0.03454,
           0.1111,
           0.08564,
           0.08834,
           0.1875,
           0.06545,
           0.07664,
           0.05306,
           0.03892,
           0.1319,
           0.1283,
           0.1371,
           0.1125,
           0.06779,
           0.04458,
           0.04202,
           0.1056,
           0.09965,
           0.1402,
           0.07326,
           0.1283,
           0.1139,
           0.09228,
           0.09097,
           0.1339,
           0.07281,
           0.09159,
           0.05794,
           0.0778,
           0.05886,
           0.1206,
           0.0363,
           0.2364,
           0.2363,
           0.09769,
           0.06064,
           0.1038,
           0.1304,
           0.05492,
           0.07698,
           0.05956,
           0.0265,
           0.06373,
           0.07952,
           0.08468,
           0.05696,
           0.1131,
           0.1669,
           0.07175,
           0.08562,
           0.1954,
           0.1497,
           0.06934,
           0.1515,
           0.1076,
           0.06374,
           0.1438,
           0.166,
           0.04726,
           0.07548,
           0.2154,
           0.1111,
           0.07079,
           0.1073,
           0.1297,
           0.08575,
           0.06636,
           0.07823,
           0.04831,
           0.1114,
           0.1318,
           0.07542,
           0.07428,
           0.1562,
           0.2087,
           0.09758,
           0.05361,
           0.1147,
           0.08895,
           0.04768,
           0.06232,
           0.2576,
           0.05242,
           0.07899,
           0.08836,
           0.04571,
           0.0746,
           0.08501,
           0.08316,
           0.1304,
           0.06526,
           0.05313,
           0.07804,
           0.06053,
           0.1025,
           0.04605,
           0.0812,
           0.06159,
           0.1571,
           0.05794,
           0.05978,
           0.07722,
           0.1836,
           0.1168,
           0.1147,
           0.08333,
           0.03912,
           0.1013,
           0.05743,
           0.03834,
           0.04522,
           0.2225,
           0.1316,
           0.1489,
           0.1389,
           0.07074,
           0.1133,
           0.07883,
           0.05895,
           0.0633,
           0.05581,
           0.1113,
           0.1109,
           0.06718,
           0.04462,
           0.1232,
           0.09218,
           0.1314,
           0.0889,
           0.078,
           0.1175,
           0.1064,
           0.09871,
           0.0645,
           0.09242,
           0.0543,
           0.07426,
           0.08574,
           0.05205,
           0.05073,
           0.04626,
           0.111,
           0.1988,
           0.05223,
           0.05855,
           0.05994,
           0.1223,
           0.1089,
           0.05428,
           0.2004,
           0.1483,
           0.06258,
           0.06,
           0.08549,
           0.03398,
           0.1069,
           0.08269,
           0.1108,
           0.05319,
           0.08228,
           0.1893,
           0.07838,
           0.05326,
           0.1155,
           0.07957,
           0.1299,
           0.1511,
           0.06698,
           0.1448,
           0.09263,
           0.07112,
           0.052,
           0.06217,
           0.1289,
           0.04043,
           0.05275,
           0.08345,
           0.1334,
           0.0763,
           0.1317,
           0.1644,
           0.1364,
           0.1681,
           0.1085,
           0.1275,
           0.2239,
           0.2204,
           0.1152,
           0.1071,
           0.06712,
           0.187,
           0.09661,
           0.05016,
           0.1469,
           0.08918,
           0.08597,
           0.08499,
           0.1248,
           0.131,
           0.1661,
           0.1117,
           0.1225,
           0.2106,
           0.04413,
           0.107,
           0.08419,
           0.07632,
           0.1138,
           0.06307,
           0.09755,
           0.09009,
           0.09713,
           0.09453,
           0.07255,
           0.1313,
           0.09752,
           0.1739,
           0.1154,
           0.1552,
           0.04878,
           0.1199,
           0.112,
           0.123,
           0.07214,
           0.06877,
           0.1018,
           0.06747,
           0.04994,
           0.08066,
           0.0503,
           0.06602,
           0.04227,
           0.08194,
           0.04234,
           0.05605,
           0.05824,
           0.07658,
           0.07504,
           0.04971,
           0.133,
           0.1021,
           0.1126,
           0.03558,
           0.2087,
           0.2236,
           0.1159,
           0.1034,
           0.1023,
           0.277,
           0.04362
          ],
          "coloraxis": "coloraxis",
          "size": [
           0.2776,
           0.07864,
           0.1599,
           0.2839,
           0.1328,
           0.17,
           0.109,
           0.1645,
           0.1932,
           0.2396,
           0.06669,
           0.1292,
           0.2458,
           0.1002,
           0.2293,
           0.1595,
           0.072,
           0.2022,
           0.1027,
           0.08129,
           0.127,
           0.06492,
           0.2135,
           0.1022,
           0.1457,
           0.2276,
           0.1868,
           0.1066,
           0.1697,
           0.1157,
           0.1887,
           0.1516,
           0.1496,
           0.1719,
           0.1559,
           0.1336,
           0.1098,
           0.03766,
           0.05131,
           0.1255,
           0.06031,
           0.1218,
           0.219,
           0.1436,
           0.1047,
           0.1686,
           0.05943,
           0.1231,
           0.09092,
           0.07698,
           0.04966,
           0.06059,
           0.04751,
           0.1485,
           0.07081,
           0.05473,
           0.1267,
           0.1365,
           0.03789,
           0.05272,
           0.08061,
           0.08963,
           0.2008,
           0.08751,
           0.1262,
           0.1479,
           0.07773,
           0.04701,
           0.1413,
           0.05234,
           0.1029,
           0.1531,
           0.183,
           0.128,
           0.06829,
           0.08424,
           0.1047,
           0.2146,
           0.3454,
           0.09546,
           0.09362,
           0.1535,
           0.2665,
           0.1791,
           0.07165,
           0.1053,
           0.09947,
           0.1206,
           0.09445,
           0.1339,
           0.08606,
           0.1036,
           0.05055,
           0.08165,
           0.1553,
           0.1313,
           0.07057,
           0.05301,
           0.07525,
           0.1141,
           0.08511,
           0.07568,
           0.04038,
           0.09697,
           0.08578,
           0.1765,
           0.1017,
           0.06815,
           0.2768,
           0.06575,
           0.08404,
           0.1209,
           0.2233,
           0.1303,
           0.08201,
           0.07849,
           0.1243,
           0.1649,
           0.1752,
           0.06722,
           0.06685,
           0.11,
           0.2867,
           0.1099,
           0.07325,
           0.06136,
           0.07862,
           0.08028,
           0.1807,
           0.1589,
           0.09509,
           0.1223,
           0.1284,
           0.09462,
           0.09709,
           0.05761,
           0.06095,
           0.06889,
           0.1305,
           0.1136,
           0.04102,
           0.1137,
           0.09486,
           0.09509,
           0.05139,
           0.1296,
           0.17,
           0.1167,
           0.1021,
           0.06376,
           0.07589,
           0.1305,
           0.1599,
           0.05113,
           0.08498,
           0.06679,
           0.1665,
           0.07223,
           0.05241,
           0.03718,
           0.1141,
           0.1185,
           0.1666,
           0.1015,
           0.1145,
           0.05352,
           0.05736,
           0.09182,
           0.1603,
           0.07885,
           0.06981,
           0.06288,
           0.1555,
           0.05743,
           0.04302,
           0.04276,
           0.1294,
           0.1556,
           0.01938,
           0.03774,
           0.1914,
           0.2832,
           0.08799,
           0.08155,
           0.1052,
           0.04695,
           0.08468,
           0.06141,
           0.05562,
           0.07253,
           0.2413,
           0.06601,
           0.02344,
           0.1353,
           0.198,
           0.05366,
           0.1267,
           0.08642,
           0.1428,
           0.1206,
           0.08087,
           0.1198,
           0.2084,
           0.1768,
           0.1058,
           0.09588,
           0.07232,
           0.07304,
           0.1483,
           0.0623,
           0.1348,
           0.069,
           0.1516,
           0.1146,
           0.1306,
           0.1517,
           0.1154,
           0.05907,
           0.1306,
           0.113,
           0.08711,
           0.1192,
           0.08502,
           0.1204,
           0.04994,
           0.07624,
           0.07722,
           0.1096,
           0.07529,
           0.1799,
           0.1572,
           0.03813,
           0.03574,
           0.1074,
           0.04087,
           0.06945,
           0.1682,
           0.08348,
           0.1039,
           0.1298,
           0.0663,
           0.03393,
           0.1325,
           0.06807,
           0.1558,
           0.05971,
           0.04524,
           0.1346,
           0.07234,
           0.07808,
           0.1606,
           0.05991,
           0.1849,
           0.1041,
           0.1188,
           0.1279,
           0.2063,
           0.2284,
           0.3114,
           0.1639,
           0.1088,
           0.0629,
           0.1273,
           0.05616,
           0.08995,
           0.1143,
           0.1147,
           0.08259,
           0.06219,
           0.1289,
           0.02675,
           0.07608,
           0.1961,
           0.04689,
           0.07027,
           0.0721,
           0.03872,
           0.05884,
           0.04052,
           0.07688,
           0.1453,
           0.0434,
           0.1442,
           0.1802,
           0.0958,
           0.04216,
           0.1011,
           0.03729,
           0.1181,
           0.05008,
           0.1676,
           0.09823,
           0.07943,
           0.05642,
           0.08393,
           0.06221,
           0.04721,
           0.05914,
           0.0522,
           0.06797,
           0.1642,
           0.1014,
           0.1838,
           0.06678,
           0.07694,
           0.05688,
           0.05251,
           0.03116,
           0.03614,
           0.03735,
           0.05253,
           0.03515,
           0.07948,
           0.05969,
           0.05847,
           0.03834,
           0.03212,
           0.1117,
           0.1972,
           0.03454,
           0.1111,
           0.08564,
           0.08834,
           0.1875,
           0.06545,
           0.07664,
           0.05306,
           0.03892,
           0.1319,
           0.1283,
           0.1371,
           0.1125,
           0.06779,
           0.04458,
           0.04202,
           0.1056,
           0.09965,
           0.1402,
           0.07326,
           0.1283,
           0.1139,
           0.09228,
           0.09097,
           0.1339,
           0.07281,
           0.09159,
           0.05794,
           0.0778,
           0.05886,
           0.1206,
           0.0363,
           0.2364,
           0.2363,
           0.09769,
           0.06064,
           0.1038,
           0.1304,
           0.05492,
           0.07698,
           0.05956,
           0.0265,
           0.06373,
           0.07952,
           0.08468,
           0.05696,
           0.1131,
           0.1669,
           0.07175,
           0.08562,
           0.1954,
           0.1497,
           0.06934,
           0.1515,
           0.1076,
           0.06374,
           0.1438,
           0.166,
           0.04726,
           0.07548,
           0.2154,
           0.1111,
           0.07079,
           0.1073,
           0.1297,
           0.08575,
           0.06636,
           0.07823,
           0.04831,
           0.1114,
           0.1318,
           0.07542,
           0.07428,
           0.1562,
           0.2087,
           0.09758,
           0.05361,
           0.1147,
           0.08895,
           0.04768,
           0.06232,
           0.2576,
           0.05242,
           0.07899,
           0.08836,
           0.04571,
           0.0746,
           0.08501,
           0.08316,
           0.1304,
           0.06526,
           0.05313,
           0.07804,
           0.06053,
           0.1025,
           0.04605,
           0.0812,
           0.06159,
           0.1571,
           0.05794,
           0.05978,
           0.07722,
           0.1836,
           0.1168,
           0.1147,
           0.08333,
           0.03912,
           0.1013,
           0.05743,
           0.03834,
           0.04522,
           0.2225,
           0.1316,
           0.1489,
           0.1389,
           0.07074,
           0.1133,
           0.07883,
           0.05895,
           0.0633,
           0.05581,
           0.1113,
           0.1109,
           0.06718,
           0.04462,
           0.1232,
           0.09218,
           0.1314,
           0.0889,
           0.078,
           0.1175,
           0.1064,
           0.09871,
           0.0645,
           0.09242,
           0.0543,
           0.07426,
           0.08574,
           0.05205,
           0.05073,
           0.04626,
           0.111,
           0.1988,
           0.05223,
           0.05855,
           0.05994,
           0.1223,
           0.1089,
           0.05428,
           0.2004,
           0.1483,
           0.06258,
           0.06,
           0.08549,
           0.03398,
           0.1069,
           0.08269,
           0.1108,
           0.05319,
           0.08228,
           0.1893,
           0.07838,
           0.05326,
           0.1155,
           0.07957,
           0.1299,
           0.1511,
           0.06698,
           0.1448,
           0.09263,
           0.07112,
           0.052,
           0.06217,
           0.1289,
           0.04043,
           0.05275,
           0.08345,
           0.1334,
           0.0763,
           0.1317,
           0.1644,
           0.1364,
           0.1681,
           0.1085,
           0.1275,
           0.2239,
           0.2204,
           0.1152,
           0.1071,
           0.06712,
           0.187,
           0.09661,
           0.05016,
           0.1469,
           0.08918,
           0.08597,
           0.08499,
           0.1248,
           0.131,
           0.1661,
           0.1117,
           0.1225,
           0.2106,
           0.04413,
           0.107,
           0.08419,
           0.07632,
           0.1138,
           0.06307,
           0.09755,
           0.09009,
           0.09713,
           0.09453,
           0.07255,
           0.1313,
           0.09752,
           0.1739,
           0.1154,
           0.1552,
           0.04878,
           0.1199,
           0.112,
           0.123,
           0.07214,
           0.06877,
           0.1018,
           0.06747,
           0.04994,
           0.08066,
           0.0503,
           0.06602,
           0.04227,
           0.08194,
           0.04234,
           0.05605,
           0.05824,
           0.07658,
           0.07504,
           0.04971,
           0.133,
           0.1021,
           0.1126,
           0.03558,
           0.2087,
           0.2236,
           0.1159,
           0.1034,
           0.1023,
           0.277,
           0.04362
          ],
          "sizemode": "area",
          "sizeref": 0.0008635,
          "symbol": "circle"
         },
         "mode": "markers",
         "name": "",
         "orientation": "h",
         "showlegend": false,
         "type": "scatter",
         "x": [
          0.2776,
          0.07864,
          0.1599,
          0.2839,
          0.1328,
          0.17,
          0.109,
          0.1645,
          0.1932,
          0.2396,
          0.06669,
          0.1292,
          0.2458,
          0.1002,
          0.2293,
          0.1595,
          0.072,
          0.2022,
          0.1027,
          0.08129,
          0.127,
          0.06492,
          0.2135,
          0.1022,
          0.1457,
          0.2276,
          0.1868,
          0.1066,
          0.1697,
          0.1157,
          0.1887,
          0.1516,
          0.1496,
          0.1719,
          0.1559,
          0.1336,
          0.1098,
          0.03766,
          0.05131,
          0.1255,
          0.06031,
          0.1218,
          0.219,
          0.1436,
          0.1047,
          0.1686,
          0.05943,
          0.1231,
          0.09092,
          0.07698,
          0.04966,
          0.06059,
          0.04751,
          0.1485,
          0.07081,
          0.05473,
          0.1267,
          0.1365,
          0.03789,
          0.05272,
          0.08061,
          0.08963,
          0.2008,
          0.08751,
          0.1262,
          0.1479,
          0.07773,
          0.04701,
          0.1413,
          0.05234,
          0.1029,
          0.1531,
          0.183,
          0.128,
          0.06829,
          0.08424,
          0.1047,
          0.2146,
          0.3454,
          0.09546,
          0.09362,
          0.1535,
          0.2665,
          0.1791,
          0.07165,
          0.1053,
          0.09947,
          0.1206,
          0.09445,
          0.1339,
          0.08606,
          0.1036,
          0.05055,
          0.08165,
          0.1553,
          0.1313,
          0.07057,
          0.05301,
          0.07525,
          0.1141,
          0.08511,
          0.07568,
          0.04038,
          0.09697,
          0.08578,
          0.1765,
          0.1017,
          0.06815,
          0.2768,
          0.06575,
          0.08404,
          0.1209,
          0.2233,
          0.1303,
          0.08201,
          0.07849,
          0.1243,
          0.1649,
          0.1752,
          0.06722,
          0.06685,
          0.11,
          0.2867,
          0.1099,
          0.07325,
          0.06136,
          0.07862,
          0.08028,
          0.1807,
          0.1589,
          0.09509,
          0.1223,
          0.1284,
          0.09462,
          0.09709,
          0.05761,
          0.06095,
          0.06889,
          0.1305,
          0.1136,
          0.04102,
          0.1137,
          0.09486,
          0.09509,
          0.05139,
          0.1296,
          0.17,
          0.1167,
          0.1021,
          0.06376,
          0.07589,
          0.1305,
          0.1599,
          0.05113,
          0.08498,
          0.06679,
          0.1665,
          0.07223,
          0.05241,
          0.03718,
          0.1141,
          0.1185,
          0.1666,
          0.1015,
          0.1145,
          0.05352,
          0.05736,
          0.09182,
          0.1603,
          0.07885,
          0.06981,
          0.06288,
          0.1555,
          0.05743,
          0.04302,
          0.04276,
          0.1294,
          0.1556,
          0.01938,
          0.03774,
          0.1914,
          0.2832,
          0.08799,
          0.08155,
          0.1052,
          0.04695,
          0.08468,
          0.06141,
          0.05562,
          0.07253,
          0.2413,
          0.06601,
          0.02344,
          0.1353,
          0.198,
          0.05366,
          0.1267,
          0.08642,
          0.1428,
          0.1206,
          0.08087,
          0.1198,
          0.2084,
          0.1768,
          0.1058,
          0.09588,
          0.07232,
          0.07304,
          0.1483,
          0.0623,
          0.1348,
          0.069,
          0.1516,
          0.1146,
          0.1306,
          0.1517,
          0.1154,
          0.05907,
          0.1306,
          0.113,
          0.08711,
          0.1192,
          0.08502,
          0.1204,
          0.04994,
          0.07624,
          0.07722,
          0.1096,
          0.07529,
          0.1799,
          0.1572,
          0.03813,
          0.03574,
          0.1074,
          0.04087,
          0.06945,
          0.1682,
          0.08348,
          0.1039,
          0.1298,
          0.0663,
          0.03393,
          0.1325,
          0.06807,
          0.1558,
          0.05971,
          0.04524,
          0.1346,
          0.07234,
          0.07808,
          0.1606,
          0.05991,
          0.1849,
          0.1041,
          0.1188,
          0.1279,
          0.2063,
          0.2284,
          0.3114,
          0.1639,
          0.1088,
          0.0629,
          0.1273,
          0.05616,
          0.08995,
          0.1143,
          0.1147,
          0.08259,
          0.06219,
          0.1289,
          0.02675,
          0.07608,
          0.1961,
          0.04689,
          0.07027,
          0.0721,
          0.03872,
          0.05884,
          0.04052,
          0.07688,
          0.1453,
          0.0434,
          0.1442,
          0.1802,
          0.0958,
          0.04216,
          0.1011,
          0.03729,
          0.1181,
          0.05008,
          0.1676,
          0.09823,
          0.07943,
          0.05642,
          0.08393,
          0.06221,
          0.04721,
          0.05914,
          0.0522,
          0.06797,
          0.1642,
          0.1014,
          0.1838,
          0.06678,
          0.07694,
          0.05688,
          0.05251,
          0.03116,
          0.03614,
          0.03735,
          0.05253,
          0.03515,
          0.07948,
          0.05969,
          0.05847,
          0.03834,
          0.03212,
          0.1117,
          0.1972,
          0.03454,
          0.1111,
          0.08564,
          0.08834,
          0.1875,
          0.06545,
          0.07664,
          0.05306,
          0.03892,
          0.1319,
          0.1283,
          0.1371,
          0.1125,
          0.06779,
          0.04458,
          0.04202,
          0.1056,
          0.09965,
          0.1402,
          0.07326,
          0.1283,
          0.1139,
          0.09228,
          0.09097,
          0.1339,
          0.07281,
          0.09159,
          0.05794,
          0.0778,
          0.05886,
          0.1206,
          0.0363,
          0.2364,
          0.2363,
          0.09769,
          0.06064,
          0.1038,
          0.1304,
          0.05492,
          0.07698,
          0.05956,
          0.0265,
          0.06373,
          0.07952,
          0.08468,
          0.05696,
          0.1131,
          0.1669,
          0.07175,
          0.08562,
          0.1954,
          0.1497,
          0.06934,
          0.1515,
          0.1076,
          0.06374,
          0.1438,
          0.166,
          0.04726,
          0.07548,
          0.2154,
          0.1111,
          0.07079,
          0.1073,
          0.1297,
          0.08575,
          0.06636,
          0.07823,
          0.04831,
          0.1114,
          0.1318,
          0.07542,
          0.07428,
          0.1562,
          0.2087,
          0.09758,
          0.05361,
          0.1147,
          0.08895,
          0.04768,
          0.06232,
          0.2576,
          0.05242,
          0.07899,
          0.08836,
          0.04571,
          0.0746,
          0.08501,
          0.08316,
          0.1304,
          0.06526,
          0.05313,
          0.07804,
          0.06053,
          0.1025,
          0.04605,
          0.0812,
          0.06159,
          0.1571,
          0.05794,
          0.05978,
          0.07722,
          0.1836,
          0.1168,
          0.1147,
          0.08333,
          0.03912,
          0.1013,
          0.05743,
          0.03834,
          0.04522,
          0.2225,
          0.1316,
          0.1489,
          0.1389,
          0.07074,
          0.1133,
          0.07883,
          0.05895,
          0.0633,
          0.05581,
          0.1113,
          0.1109,
          0.06718,
          0.04462,
          0.1232,
          0.09218,
          0.1314,
          0.0889,
          0.078,
          0.1175,
          0.1064,
          0.09871,
          0.0645,
          0.09242,
          0.0543,
          0.07426,
          0.08574,
          0.05205,
          0.05073,
          0.04626,
          0.111,
          0.1988,
          0.05223,
          0.05855,
          0.05994,
          0.1223,
          0.1089,
          0.05428,
          0.2004,
          0.1483,
          0.06258,
          0.06,
          0.08549,
          0.03398,
          0.1069,
          0.08269,
          0.1108,
          0.05319,
          0.08228,
          0.1893,
          0.07838,
          0.05326,
          0.1155,
          0.07957,
          0.1299,
          0.1511,
          0.06698,
          0.1448,
          0.09263,
          0.07112,
          0.052,
          0.06217,
          0.1289,
          0.04043,
          0.05275,
          0.08345,
          0.1334,
          0.0763,
          0.1317,
          0.1644,
          0.1364,
          0.1681,
          0.1085,
          0.1275,
          0.2239,
          0.2204,
          0.1152,
          0.1071,
          0.06712,
          0.187,
          0.09661,
          0.05016,
          0.1469,
          0.08918,
          0.08597,
          0.08499,
          0.1248,
          0.131,
          0.1661,
          0.1117,
          0.1225,
          0.2106,
          0.04413,
          0.107,
          0.08419,
          0.07632,
          0.1138,
          0.06307,
          0.09755,
          0.09009,
          0.09713,
          0.09453,
          0.07255,
          0.1313,
          0.09752,
          0.1739,
          0.1154,
          0.1552,
          0.04878,
          0.1199,
          0.112,
          0.123,
          0.07214,
          0.06877,
          0.1018,
          0.06747,
          0.04994,
          0.08066,
          0.0503,
          0.06602,
          0.04227,
          0.08194,
          0.04234,
          0.05605,
          0.05824,
          0.07658,
          0.07504,
          0.04971,
          0.133,
          0.1021,
          0.1126,
          0.03558,
          0.2087,
          0.2236,
          0.1159,
          0.1034,
          0.1023,
          0.277,
          0.04362
         ],
         "xaxis": "x",
         "y": [
          0,
          1,
          2,
          3,
          4,
          5,
          6,
          7,
          8,
          9,
          10,
          11,
          12,
          13,
          14,
          15,
          16,
          17,
          18,
          19,
          20,
          21,
          22,
          23,
          24,
          25,
          26,
          27,
          28,
          29,
          30,
          31,
          32,
          33,
          34,
          35,
          36,
          37,
          38,
          39,
          40,
          41,
          42,
          43,
          44,
          45,
          46,
          47,
          48,
          49,
          50,
          51,
          52,
          53,
          54,
          55,
          56,
          57,
          58,
          59,
          60,
          61,
          62,
          63,
          64,
          65,
          66,
          67,
          68,
          69,
          70,
          71,
          72,
          73,
          74,
          75,
          76,
          77,
          78,
          79,
          80,
          81,
          82,
          83,
          84,
          85,
          86,
          87,
          88,
          89,
          90,
          91,
          92,
          93,
          94,
          95,
          96,
          97,
          98,
          99,
          100,
          101,
          102,
          103,
          104,
          105,
          106,
          107,
          108,
          109,
          110,
          111,
          112,
          113,
          114,
          115,
          116,
          117,
          118,
          119,
          120,
          121,
          122,
          123,
          124,
          125,
          126,
          127,
          128,
          129,
          130,
          131,
          132,
          133,
          134,
          135,
          136,
          137,
          138,
          139,
          140,
          141,
          142,
          143,
          144,
          145,
          146,
          147,
          148,
          149,
          150,
          151,
          152,
          153,
          154,
          155,
          156,
          157,
          158,
          159,
          160,
          161,
          162,
          163,
          164,
          165,
          166,
          167,
          168,
          169,
          170,
          171,
          172,
          173,
          174,
          175,
          176,
          177,
          178,
          179,
          180,
          181,
          182,
          183,
          184,
          185,
          186,
          187,
          188,
          189,
          190,
          191,
          192,
          193,
          194,
          195,
          196,
          197,
          198,
          199,
          200,
          201,
          202,
          203,
          204,
          205,
          206,
          207,
          208,
          209,
          210,
          211,
          212,
          213,
          214,
          215,
          216,
          217,
          218,
          219,
          220,
          221,
          222,
          223,
          224,
          225,
          226,
          227,
          228,
          229,
          230,
          231,
          232,
          233,
          234,
          235,
          236,
          237,
          238,
          239,
          240,
          241,
          242,
          243,
          244,
          245,
          246,
          247,
          248,
          249,
          250,
          251,
          252,
          253,
          254,
          255,
          256,
          257,
          258,
          259,
          260,
          261,
          262,
          263,
          264,
          265,
          266,
          267,
          268,
          269,
          270,
          271,
          272,
          273,
          274,
          275,
          276,
          277,
          278,
          279,
          280,
          281,
          282,
          283,
          284,
          285,
          286,
          287,
          288,
          289,
          290,
          291,
          292,
          293,
          294,
          295,
          296,
          297,
          298,
          299,
          300,
          301,
          302,
          303,
          304,
          305,
          306,
          307,
          308,
          309,
          310,
          311,
          312,
          313,
          314,
          315,
          316,
          317,
          318,
          319,
          320,
          321,
          322,
          323,
          324,
          325,
          326,
          327,
          328,
          329,
          330,
          331,
          332,
          333,
          334,
          335,
          336,
          337,
          338,
          339,
          340,
          341,
          342,
          343,
          344,
          345,
          346,
          347,
          348,
          349,
          350,
          351,
          352,
          353,
          354,
          355,
          356,
          357,
          358,
          359,
          360,
          361,
          362,
          363,
          364,
          365,
          366,
          367,
          368,
          369,
          370,
          371,
          372,
          373,
          374,
          375,
          376,
          377,
          378,
          379,
          380,
          381,
          382,
          383,
          384,
          385,
          386,
          387,
          388,
          389,
          390,
          391,
          392,
          393,
          394,
          395,
          396,
          397,
          398,
          399,
          400,
          401,
          402,
          403,
          404,
          405,
          406,
          407,
          408,
          409,
          410,
          411,
          412,
          413,
          414,
          415,
          416,
          417,
          418,
          419,
          420,
          421,
          422,
          423,
          424,
          425,
          426,
          427,
          428,
          429,
          430,
          431,
          432,
          433,
          434,
          435,
          436,
          437,
          438,
          439,
          440,
          441,
          442,
          443,
          444,
          445,
          446,
          447,
          448,
          449,
          450,
          451,
          452,
          453,
          454,
          455,
          456,
          457,
          458,
          459,
          460,
          461,
          462,
          463,
          464,
          465,
          466,
          467,
          468,
          469,
          470,
          471,
          472,
          473,
          474,
          475,
          476,
          477,
          478,
          479,
          480,
          481,
          482,
          483,
          484,
          485,
          486,
          487,
          488,
          489,
          490,
          491,
          492,
          493,
          494,
          495,
          496,
          497,
          498,
          499,
          500,
          501,
          502,
          503,
          504,
          505,
          506,
          507,
          508,
          509,
          510,
          511,
          512,
          513,
          514,
          515,
          516,
          517,
          518,
          519,
          520,
          521,
          522,
          523,
          524,
          525,
          526,
          527,
          528,
          529,
          530,
          531,
          532,
          533,
          534,
          535,
          536,
          537,
          538,
          539,
          540,
          541,
          542,
          543,
          544,
          545,
          546,
          547,
          548,
          549,
          550,
          551,
          552,
          553,
          554,
          555,
          556,
          557,
          558,
          559,
          560,
          561,
          562,
          563,
          564,
          565,
          566,
          567,
          568
         ],
         "yaxis": "y"
        }
       ],
       "layout": {
        "coloraxis": {
         "colorbar": {
          "title": {
           "text": "Mean Compactness"
          }
         },
         "colorscale": [
          [
           0,
           "#440154"
          ],
          [
           0.1111111111111111,
           "#482878"
          ],
          [
           0.2222222222222222,
           "#3e4989"
          ],
          [
           0.3333333333333333,
           "#31688e"
          ],
          [
           0.4444444444444444,
           "#26828e"
          ],
          [
           0.5555555555555556,
           "#1f9e89"
          ],
          [
           0.6666666666666666,
           "#35b779"
          ],
          [
           0.7777777777777778,
           "#6ece58"
          ],
          [
           0.8888888888888888,
           "#b5de2b"
          ],
          [
           1,
           "#fde725"
          ]
         ]
        },
        "legend": {
         "itemsizing": "constant",
         "tracegroupgap": 0
        },
        "template": {
         "data": {
          "bar": [
           {
            "error_x": {
             "color": "rgb(36,36,36)"
            },
            "error_y": {
             "color": "rgb(36,36,36)"
            },
            "marker": {
             "line": {
              "color": "white",
              "width": 0.5
             },
             "pattern": {
              "fillmode": "overlay",
              "size": 10,
              "solidity": 0.2
             }
            },
            "type": "bar"
           }
          ],
          "barpolar": [
           {
            "marker": {
             "line": {
              "color": "white",
              "width": 0.5
             },
             "pattern": {
              "fillmode": "overlay",
              "size": 10,
              "solidity": 0.2
             }
            },
            "type": "barpolar"
           }
          ],
          "carpet": [
           {
            "aaxis": {
             "endlinecolor": "rgb(36,36,36)",
             "gridcolor": "white",
             "linecolor": "white",
             "minorgridcolor": "white",
             "startlinecolor": "rgb(36,36,36)"
            },
            "baxis": {
             "endlinecolor": "rgb(36,36,36)",
             "gridcolor": "white",
             "linecolor": "white",
             "minorgridcolor": "white",
             "startlinecolor": "rgb(36,36,36)"
            },
            "type": "carpet"
           }
          ],
          "choropleth": [
           {
            "colorbar": {
             "outlinewidth": 1,
             "tickcolor": "rgb(36,36,36)",
             "ticks": "outside"
            },
            "type": "choropleth"
           }
          ],
          "contour": [
           {
            "colorbar": {
             "outlinewidth": 1,
             "tickcolor": "rgb(36,36,36)",
             "ticks": "outside"
            },
            "colorscale": [
             [
              0,
              "#440154"
             ],
             [
              0.1111111111111111,
              "#482878"
             ],
             [
              0.2222222222222222,
              "#3e4989"
             ],
             [
              0.3333333333333333,
              "#31688e"
             ],
             [
              0.4444444444444444,
              "#26828e"
             ],
             [
              0.5555555555555556,
              "#1f9e89"
             ],
             [
              0.6666666666666666,
              "#35b779"
             ],
             [
              0.7777777777777778,
              "#6ece58"
             ],
             [
              0.8888888888888888,
              "#b5de2b"
             ],
             [
              1,
              "#fde725"
             ]
            ],
            "type": "contour"
           }
          ],
          "contourcarpet": [
           {
            "colorbar": {
             "outlinewidth": 1,
             "tickcolor": "rgb(36,36,36)",
             "ticks": "outside"
            },
            "type": "contourcarpet"
           }
          ],
          "heatmap": [
           {
            "colorbar": {
             "outlinewidth": 1,
             "tickcolor": "rgb(36,36,36)",
             "ticks": "outside"
            },
            "colorscale": [
             [
              0,
              "#440154"
             ],
             [
              0.1111111111111111,
              "#482878"
             ],
             [
              0.2222222222222222,
              "#3e4989"
             ],
             [
              0.3333333333333333,
              "#31688e"
             ],
             [
              0.4444444444444444,
              "#26828e"
             ],
             [
              0.5555555555555556,
              "#1f9e89"
             ],
             [
              0.6666666666666666,
              "#35b779"
             ],
             [
              0.7777777777777778,
              "#6ece58"
             ],
             [
              0.8888888888888888,
              "#b5de2b"
             ],
             [
              1,
              "#fde725"
             ]
            ],
            "type": "heatmap"
           }
          ],
          "heatmapgl": [
           {
            "colorbar": {
             "outlinewidth": 1,
             "tickcolor": "rgb(36,36,36)",
             "ticks": "outside"
            },
            "colorscale": [
             [
              0,
              "#440154"
             ],
             [
              0.1111111111111111,
              "#482878"
             ],
             [
              0.2222222222222222,
              "#3e4989"
             ],
             [
              0.3333333333333333,
              "#31688e"
             ],
             [
              0.4444444444444444,
              "#26828e"
             ],
             [
              0.5555555555555556,
              "#1f9e89"
             ],
             [
              0.6666666666666666,
              "#35b779"
             ],
             [
              0.7777777777777778,
              "#6ece58"
             ],
             [
              0.8888888888888888,
              "#b5de2b"
             ],
             [
              1,
              "#fde725"
             ]
            ],
            "type": "heatmapgl"
           }
          ],
          "histogram": [
           {
            "marker": {
             "line": {
              "color": "white",
              "width": 0.6
             }
            },
            "type": "histogram"
           }
          ],
          "histogram2d": [
           {
            "colorbar": {
             "outlinewidth": 1,
             "tickcolor": "rgb(36,36,36)",
             "ticks": "outside"
            },
            "colorscale": [
             [
              0,
              "#440154"
             ],
             [
              0.1111111111111111,
              "#482878"
             ],
             [
              0.2222222222222222,
              "#3e4989"
             ],
             [
              0.3333333333333333,
              "#31688e"
             ],
             [
              0.4444444444444444,
              "#26828e"
             ],
             [
              0.5555555555555556,
              "#1f9e89"
             ],
             [
              0.6666666666666666,
              "#35b779"
             ],
             [
              0.7777777777777778,
              "#6ece58"
             ],
             [
              0.8888888888888888,
              "#b5de2b"
             ],
             [
              1,
              "#fde725"
             ]
            ],
            "type": "histogram2d"
           }
          ],
          "histogram2dcontour": [
           {
            "colorbar": {
             "outlinewidth": 1,
             "tickcolor": "rgb(36,36,36)",
             "ticks": "outside"
            },
            "colorscale": [
             [
              0,
              "#440154"
             ],
             [
              0.1111111111111111,
              "#482878"
             ],
             [
              0.2222222222222222,
              "#3e4989"
             ],
             [
              0.3333333333333333,
              "#31688e"
             ],
             [
              0.4444444444444444,
              "#26828e"
             ],
             [
              0.5555555555555556,
              "#1f9e89"
             ],
             [
              0.6666666666666666,
              "#35b779"
             ],
             [
              0.7777777777777778,
              "#6ece58"
             ],
             [
              0.8888888888888888,
              "#b5de2b"
             ],
             [
              1,
              "#fde725"
             ]
            ],
            "type": "histogram2dcontour"
           }
          ],
          "mesh3d": [
           {
            "colorbar": {
             "outlinewidth": 1,
             "tickcolor": "rgb(36,36,36)",
             "ticks": "outside"
            },
            "type": "mesh3d"
           }
          ],
          "parcoords": [
           {
            "line": {
             "colorbar": {
              "outlinewidth": 1,
              "tickcolor": "rgb(36,36,36)",
              "ticks": "outside"
             }
            },
            "type": "parcoords"
           }
          ],
          "pie": [
           {
            "automargin": true,
            "type": "pie"
           }
          ],
          "scatter": [
           {
            "fillpattern": {
             "fillmode": "overlay",
             "size": 10,
             "solidity": 0.2
            },
            "type": "scatter"
           }
          ],
          "scatter3d": [
           {
            "line": {
             "colorbar": {
              "outlinewidth": 1,
              "tickcolor": "rgb(36,36,36)",
              "ticks": "outside"
             }
            },
            "marker": {
             "colorbar": {
              "outlinewidth": 1,
              "tickcolor": "rgb(36,36,36)",
              "ticks": "outside"
             }
            },
            "type": "scatter3d"
           }
          ],
          "scattercarpet": [
           {
            "marker": {
             "colorbar": {
              "outlinewidth": 1,
              "tickcolor": "rgb(36,36,36)",
              "ticks": "outside"
             }
            },
            "type": "scattercarpet"
           }
          ],
          "scattergeo": [
           {
            "marker": {
             "colorbar": {
              "outlinewidth": 1,
              "tickcolor": "rgb(36,36,36)",
              "ticks": "outside"
             }
            },
            "type": "scattergeo"
           }
          ],
          "scattergl": [
           {
            "marker": {
             "colorbar": {
              "outlinewidth": 1,
              "tickcolor": "rgb(36,36,36)",
              "ticks": "outside"
             }
            },
            "type": "scattergl"
           }
          ],
          "scattermapbox": [
           {
            "marker": {
             "colorbar": {
              "outlinewidth": 1,
              "tickcolor": "rgb(36,36,36)",
              "ticks": "outside"
             }
            },
            "type": "scattermapbox"
           }
          ],
          "scatterpolar": [
           {
            "marker": {
             "colorbar": {
              "outlinewidth": 1,
              "tickcolor": "rgb(36,36,36)",
              "ticks": "outside"
             }
            },
            "type": "scatterpolar"
           }
          ],
          "scatterpolargl": [
           {
            "marker": {
             "colorbar": {
              "outlinewidth": 1,
              "tickcolor": "rgb(36,36,36)",
              "ticks": "outside"
             }
            },
            "type": "scatterpolargl"
           }
          ],
          "scatterternary": [
           {
            "marker": {
             "colorbar": {
              "outlinewidth": 1,
              "tickcolor": "rgb(36,36,36)",
              "ticks": "outside"
             }
            },
            "type": "scatterternary"
           }
          ],
          "surface": [
           {
            "colorbar": {
             "outlinewidth": 1,
             "tickcolor": "rgb(36,36,36)",
             "ticks": "outside"
            },
            "colorscale": [
             [
              0,
              "#440154"
             ],
             [
              0.1111111111111111,
              "#482878"
             ],
             [
              0.2222222222222222,
              "#3e4989"
             ],
             [
              0.3333333333333333,
              "#31688e"
             ],
             [
              0.4444444444444444,
              "#26828e"
             ],
             [
              0.5555555555555556,
              "#1f9e89"
             ],
             [
              0.6666666666666666,
              "#35b779"
             ],
             [
              0.7777777777777778,
              "#6ece58"
             ],
             [
              0.8888888888888888,
              "#b5de2b"
             ],
             [
              1,
              "#fde725"
             ]
            ],
            "type": "surface"
           }
          ],
          "table": [
           {
            "cells": {
             "fill": {
              "color": "rgb(237,237,237)"
             },
             "line": {
              "color": "white"
             }
            },
            "header": {
             "fill": {
              "color": "rgb(217,217,217)"
             },
             "line": {
              "color": "white"
             }
            },
            "type": "table"
           }
          ]
         },
         "layout": {
          "annotationdefaults": {
           "arrowhead": 0,
           "arrowwidth": 1
          },
          "autotypenumbers": "strict",
          "coloraxis": {
           "colorbar": {
            "outlinewidth": 1,
            "tickcolor": "rgb(36,36,36)",
            "ticks": "outside"
           }
          },
          "colorscale": {
           "diverging": [
            [
             0,
             "rgb(103,0,31)"
            ],
            [
             0.1,
             "rgb(178,24,43)"
            ],
            [
             0.2,
             "rgb(214,96,77)"
            ],
            [
             0.3,
             "rgb(244,165,130)"
            ],
            [
             0.4,
             "rgb(253,219,199)"
            ],
            [
             0.5,
             "rgb(247,247,247)"
            ],
            [
             0.6,
             "rgb(209,229,240)"
            ],
            [
             0.7,
             "rgb(146,197,222)"
            ],
            [
             0.8,
             "rgb(67,147,195)"
            ],
            [
             0.9,
             "rgb(33,102,172)"
            ],
            [
             1,
             "rgb(5,48,97)"
            ]
           ],
           "sequential": [
            [
             0,
             "#440154"
            ],
            [
             0.1111111111111111,
             "#482878"
            ],
            [
             0.2222222222222222,
             "#3e4989"
            ],
            [
             0.3333333333333333,
             "#31688e"
            ],
            [
             0.4444444444444444,
             "#26828e"
            ],
            [
             0.5555555555555556,
             "#1f9e89"
            ],
            [
             0.6666666666666666,
             "#35b779"
            ],
            [
             0.7777777777777778,
             "#6ece58"
            ],
            [
             0.8888888888888888,
             "#b5de2b"
            ],
            [
             1,
             "#fde725"
            ]
           ],
           "sequentialminus": [
            [
             0,
             "#440154"
            ],
            [
             0.1111111111111111,
             "#482878"
            ],
            [
             0.2222222222222222,
             "#3e4989"
            ],
            [
             0.3333333333333333,
             "#31688e"
            ],
            [
             0.4444444444444444,
             "#26828e"
            ],
            [
             0.5555555555555556,
             "#1f9e89"
            ],
            [
             0.6666666666666666,
             "#35b779"
            ],
            [
             0.7777777777777778,
             "#6ece58"
            ],
            [
             0.8888888888888888,
             "#b5de2b"
            ],
            [
             1,
             "#fde725"
            ]
           ]
          },
          "colorway": [
           "#1F77B4",
           "#FF7F0E",
           "#2CA02C",
           "#D62728",
           "#9467BD",
           "#8C564B",
           "#E377C2",
           "#7F7F7F",
           "#BCBD22",
           "#17BECF"
          ],
          "font": {
           "color": "rgb(36,36,36)"
          },
          "geo": {
           "bgcolor": "white",
           "lakecolor": "white",
           "landcolor": "white",
           "showlakes": true,
           "showland": true,
           "subunitcolor": "white"
          },
          "hoverlabel": {
           "align": "left"
          },
          "hovermode": "closest",
          "mapbox": {
           "style": "light"
          },
          "paper_bgcolor": "white",
          "plot_bgcolor": "white",
          "polar": {
           "angularaxis": {
            "gridcolor": "rgb(232,232,232)",
            "linecolor": "rgb(36,36,36)",
            "showgrid": false,
            "showline": true,
            "ticks": "outside"
           },
           "bgcolor": "white",
           "radialaxis": {
            "gridcolor": "rgb(232,232,232)",
            "linecolor": "rgb(36,36,36)",
            "showgrid": false,
            "showline": true,
            "ticks": "outside"
           }
          },
          "scene": {
           "xaxis": {
            "backgroundcolor": "white",
            "gridcolor": "rgb(232,232,232)",
            "gridwidth": 2,
            "linecolor": "rgb(36,36,36)",
            "showbackground": true,
            "showgrid": false,
            "showline": true,
            "ticks": "outside",
            "zeroline": false,
            "zerolinecolor": "rgb(36,36,36)"
           },
           "yaxis": {
            "backgroundcolor": "white",
            "gridcolor": "rgb(232,232,232)",
            "gridwidth": 2,
            "linecolor": "rgb(36,36,36)",
            "showbackground": true,
            "showgrid": false,
            "showline": true,
            "ticks": "outside",
            "zeroline": false,
            "zerolinecolor": "rgb(36,36,36)"
           },
           "zaxis": {
            "backgroundcolor": "white",
            "gridcolor": "rgb(232,232,232)",
            "gridwidth": 2,
            "linecolor": "rgb(36,36,36)",
            "showbackground": true,
            "showgrid": false,
            "showline": true,
            "ticks": "outside",
            "zeroline": false,
            "zerolinecolor": "rgb(36,36,36)"
           }
          },
          "shapedefaults": {
           "fillcolor": "black",
           "line": {
            "width": 0
           },
           "opacity": 0.3
          },
          "ternary": {
           "aaxis": {
            "gridcolor": "rgb(232,232,232)",
            "linecolor": "rgb(36,36,36)",
            "showgrid": false,
            "showline": true,
            "ticks": "outside"
           },
           "baxis": {
            "gridcolor": "rgb(232,232,232)",
            "linecolor": "rgb(36,36,36)",
            "showgrid": false,
            "showline": true,
            "ticks": "outside"
           },
           "bgcolor": "white",
           "caxis": {
            "gridcolor": "rgb(232,232,232)",
            "linecolor": "rgb(36,36,36)",
            "showgrid": false,
            "showline": true,
            "ticks": "outside"
           }
          },
          "title": {
           "x": 0.05
          },
          "xaxis": {
           "automargin": true,
           "gridcolor": "rgb(232,232,232)",
           "linecolor": "rgb(36,36,36)",
           "showgrid": false,
           "showline": true,
           "ticks": "outside",
           "title": {
            "standoff": 15
           },
           "zeroline": false,
           "zerolinecolor": "rgb(36,36,36)"
          },
          "yaxis": {
           "automargin": true,
           "gridcolor": "rgb(232,232,232)",
           "linecolor": "rgb(36,36,36)",
           "showgrid": false,
           "showline": true,
           "ticks": "outside",
           "title": {
            "standoff": 15
           },
           "zeroline": false,
           "zerolinecolor": "rgb(36,36,36)"
          }
         }
        },
        "title": {
         "text": "Cancer Compactness Mean"
        },
        "xaxis": {
         "anchor": "y",
         "domain": [
          0,
          1
         ],
         "title": {
          "text": "Mean Compactness"
         }
        },
        "yaxis": {
         "anchor": "x",
         "domain": [
          0,
          1
         ],
         "title": {
          "text": " "
         }
        }
       }
      },
      "text/html": [
       "<div>                            <div id=\"09cf65b2-905c-4549-a16b-edf89e55c4a6\" class=\"plotly-graph-div\" style=\"height:525px; width:100%;\"></div>            <script type=\"text/javascript\">                require([\"plotly\"], function(Plotly) {                    window.PLOTLYENV=window.PLOTLYENV || {};                                    if (document.getElementById(\"09cf65b2-905c-4549-a16b-edf89e55c4a6\")) {                    Plotly.newPlot(                        \"09cf65b2-905c-4549-a16b-edf89e55c4a6\",                        [{\"customdata\":[[0],[0],[0],[0],[0],[0],[0],[0],[0],[0],[0],[0],[0],[0],[0],[0],[0],[0],[0],[1],[1],[1],[0],[0],[0],[0],[0],[0],[0],[0],[0],[0],[0],[0],[0],[0],[0],[1],[0],[0],[0],[0],[0],[0],[0],[0],[1],[0],[1],[1],[1],[1],[1],[0],[0],[1],[0],[0],[1],[1],[1],[1],[0],[1],[0],[0],[1],[1],[1],[1],[0],[1],[0],[0],[1],[0],[1],[0],[0],[1],[1],[1],[0],[0],[1],[0],[0],[0],[1],[1],[1],[0],[1],[1],[0],[0],[1],[1],[1],[0],[0],[1],[1],[1],[1],[0],[1],[1],[0],[1],[1],[1],[1],[1],[1],[1],[1],[0],[0],[0],[1],[0],[0],[1],[1],[1],[0],[0],[1],[0],[1],[0],[0],[1],[0],[0],[1],[1],[0],[1],[1],[0],[1],[1],[1],[1],[0],[1],[1],[1],[1],[1],[1],[1],[1],[1],[0],[1],[1],[1],[1],[0],[0],[1],[0],[1],[1],[0],[0],[1],[1],[0],[0],[1],[1],[1],[1],[0],[1],[1],[0],[0],[0],[1],[0],[1],[0],[1],[1],[1],[0],[1],[1],[0],[0],[1],[0],[0],[0],[0],[1],[0],[0],[0],[1],[0],[1],[0],[1],[1],[0],[1],[0],[0],[0],[0],[1],[1],[0],[0],[1],[1],[1],[0],[1],[1],[1],[1],[1],[0],[0],[1],[1],[0],[1],[1],[0],[0],[1],[0],[1],[1],[1],[1],[0],[1],[1],[1],[1],[1],[0],[1],[0],[0],[0],[0],[0],[0],[0],[0],[0],[0],[0],[0],[0],[0],[1],[1],[1],[1],[1],[1],[0],[1],[0],[1],[1],[0],[1],[1],[0],[1],[0],[0],[1],[1],[1],[1],[1],[1],[1],[1],[1],[1],[1],[1],[1],[0],[1],[1],[0],[1],[0],[1],[1],[1],[1],[1],[1],[1],[1],[1],[1],[1],[1],[1],[1],[0],[1],[1],[1],[0],[1],[0],[1],[1],[1],[1],[0],[0],[0],[1],[1],[1],[1],[0],[1],[0],[1],[0],[1],[1],[1],[0],[1],[1],[1],[1],[1],[1],[1],[0],[0],[0],[1],[1],[1],[1],[1],[1],[1],[1],[1],[1],[1],[0],[0],[1],[0],[0],[0],[1],[0],[0],[1],[1],[1],[1],[1],[0],[1],[1],[1],[1],[1],[0],[1],[1],[1],[0],[1],[1],[0],[0],[1],[1],[1],[1],[1],[1],[0],[1],[1],[1],[1],[1],[1],[1],[0],[1],[1],[1],[1],[1],[0],[1],[1],[0],[1],[1],[1],[1],[1],[1],[1],[1],[1],[1],[1],[1],[0],[1],[0],[0],[1],[0],[1],[1],[1],[1],[1],[0],[1],[1],[0],[1],[0],[1],[1],[0],[1],[0],[1],[1],[1],[1],[1],[1],[1],[1],[0],[0],[1],[1],[1],[1],[1],[1],[0],[1],[1],[1],[1],[1],[1],[1],[1],[1],[1],[0],[1],[1],[1],[1],[1],[1],[1],[0],[1],[0],[1],[1],[0],[1],[1],[1],[1],[1],[0],[0],[1],[0],[1],[0],[1],[1],[1],[1],[1],[0],[1],[1],[0],[1],[0],[1],[0],[0],[1],[1],[1],[0],[1],[1],[1],[1],[1],[1],[1],[1],[1],[1],[1],[0],[1],[0],[0],[1],[1],[1],[1],[1],[1],[1],[1],[1],[1],[1],[1],[1],[1],[1],[1],[1],[1],[1],[1],[1],[1],[1],[1],[1],[0],[0],[0],[0],[0],[0],[1]],\"hovertemplate\":\"Mean Compactness=%{marker.color}<br>index=%{y}<br>target=%{customdata[0]}<extra></extra>\",\"legendgroup\":\"\",\"marker\":{\"color\":[0.2776,0.07864,0.1599,0.2839,0.1328,0.17,0.109,0.1645,0.1932,0.2396,0.06669,0.1292,0.2458,0.1002,0.2293,0.1595,0.072,0.2022,0.1027,0.08129,0.127,0.06492,0.2135,0.1022,0.1457,0.2276,0.1868,0.1066,0.1697,0.1157,0.1887,0.1516,0.1496,0.1719,0.1559,0.1336,0.1098,0.03766,0.05131,0.1255,0.06031,0.1218,0.219,0.1436,0.1047,0.1686,0.05943,0.1231,0.09092,0.07698,0.04966,0.06059,0.04751,0.1485,0.07081,0.05473,0.1267,0.1365,0.03789,0.05272,0.08061,0.08963,0.2008,0.08751,0.1262,0.1479,0.07773,0.04701,0.1413,0.05234,0.1029,0.1531,0.183,0.128,0.06829,0.08424,0.1047,0.2146,0.3454,0.09546,0.09362,0.1535,0.2665,0.1791,0.07165,0.1053,0.09947,0.1206,0.09445,0.1339,0.08606,0.1036,0.05055,0.08165,0.1553,0.1313,0.07057,0.05301,0.07525,0.1141,0.08511,0.07568,0.04038,0.09697,0.08578,0.1765,0.1017,0.06815,0.2768,0.06575,0.08404,0.1209,0.2233,0.1303,0.08201,0.07849,0.1243,0.1649,0.1752,0.06722,0.06685,0.11,0.2867,0.1099,0.07325,0.06136,0.07862,0.08028,0.1807,0.1589,0.09509,0.1223,0.1284,0.09462,0.09709,0.05761,0.06095,0.06889,0.1305,0.1136,0.04102,0.1137,0.09486,0.09509,0.05139,0.1296,0.17,0.1167,0.1021,0.06376,0.07589,0.1305,0.1599,0.05113,0.08498,0.06679,0.1665,0.07223,0.05241,0.03718,0.1141,0.1185,0.1666,0.1015,0.1145,0.05352,0.05736,0.09182,0.1603,0.07885,0.06981,0.06288,0.1555,0.05743,0.04302,0.04276,0.1294,0.1556,0.01938,0.03774,0.1914,0.2832,0.08799,0.08155,0.1052,0.04695,0.08468,0.06141,0.05562,0.07253,0.2413,0.06601,0.02344,0.1353,0.198,0.05366,0.1267,0.08642,0.1428,0.1206,0.08087,0.1198,0.2084,0.1768,0.1058,0.09588,0.07232,0.07304,0.1483,0.0623,0.1348,0.069,0.1516,0.1146,0.1306,0.1517,0.1154,0.05907,0.1306,0.113,0.08711,0.1192,0.08502,0.1204,0.04994,0.07624,0.07722,0.1096,0.07529,0.1799,0.1572,0.03813,0.03574,0.1074,0.04087,0.06945,0.1682,0.08348,0.1039,0.1298,0.0663,0.03393,0.1325,0.06807,0.1558,0.05971,0.04524,0.1346,0.07234,0.07808,0.1606,0.05991,0.1849,0.1041,0.1188,0.1279,0.2063,0.2284,0.3114,0.1639,0.1088,0.0629,0.1273,0.05616,0.08995,0.1143,0.1147,0.08259,0.06219,0.1289,0.02675,0.07608,0.1961,0.04689,0.07027,0.0721,0.03872,0.05884,0.04052,0.07688,0.1453,0.0434,0.1442,0.1802,0.0958,0.04216,0.1011,0.03729,0.1181,0.05008,0.1676,0.09823,0.07943,0.05642,0.08393,0.06221,0.04721,0.05914,0.0522,0.06797,0.1642,0.1014,0.1838,0.06678,0.07694,0.05688,0.05251,0.03116,0.03614,0.03735,0.05253,0.03515,0.07948,0.05969,0.05847,0.03834,0.03212,0.1117,0.1972,0.03454,0.1111,0.08564,0.08834,0.1875,0.06545,0.07664,0.05306,0.03892,0.1319,0.1283,0.1371,0.1125,0.06779,0.04458,0.04202,0.1056,0.09965,0.1402,0.07326,0.1283,0.1139,0.09228,0.09097,0.1339,0.07281,0.09159,0.05794,0.0778,0.05886,0.1206,0.0363,0.2364,0.2363,0.09769,0.06064,0.1038,0.1304,0.05492,0.07698,0.05956,0.0265,0.06373,0.07952,0.08468,0.05696,0.1131,0.1669,0.07175,0.08562,0.1954,0.1497,0.06934,0.1515,0.1076,0.06374,0.1438,0.166,0.04726,0.07548,0.2154,0.1111,0.07079,0.1073,0.1297,0.08575,0.06636,0.07823,0.04831,0.1114,0.1318,0.07542,0.07428,0.1562,0.2087,0.09758,0.05361,0.1147,0.08895,0.04768,0.06232,0.2576,0.05242,0.07899,0.08836,0.04571,0.0746,0.08501,0.08316,0.1304,0.06526,0.05313,0.07804,0.06053,0.1025,0.04605,0.0812,0.06159,0.1571,0.05794,0.05978,0.07722,0.1836,0.1168,0.1147,0.08333,0.03912,0.1013,0.05743,0.03834,0.04522,0.2225,0.1316,0.1489,0.1389,0.07074,0.1133,0.07883,0.05895,0.0633,0.05581,0.1113,0.1109,0.06718,0.04462,0.1232,0.09218,0.1314,0.0889,0.078,0.1175,0.1064,0.09871,0.0645,0.09242,0.0543,0.07426,0.08574,0.05205,0.05073,0.04626,0.111,0.1988,0.05223,0.05855,0.05994,0.1223,0.1089,0.05428,0.2004,0.1483,0.06258,0.06,0.08549,0.03398,0.1069,0.08269,0.1108,0.05319,0.08228,0.1893,0.07838,0.05326,0.1155,0.07957,0.1299,0.1511,0.06698,0.1448,0.09263,0.07112,0.052,0.06217,0.1289,0.04043,0.05275,0.08345,0.1334,0.0763,0.1317,0.1644,0.1364,0.1681,0.1085,0.1275,0.2239,0.2204,0.1152,0.1071,0.06712,0.187,0.09661,0.05016,0.1469,0.08918,0.08597,0.08499,0.1248,0.131,0.1661,0.1117,0.1225,0.2106,0.04413,0.107,0.08419,0.07632,0.1138,0.06307,0.09755,0.09009,0.09713,0.09453,0.07255,0.1313,0.09752,0.1739,0.1154,0.1552,0.04878,0.1199,0.112,0.123,0.07214,0.06877,0.1018,0.06747,0.04994,0.08066,0.0503,0.06602,0.04227,0.08194,0.04234,0.05605,0.05824,0.07658,0.07504,0.04971,0.133,0.1021,0.1126,0.03558,0.2087,0.2236,0.1159,0.1034,0.1023,0.277,0.04362],\"coloraxis\":\"coloraxis\",\"size\":[0.2776,0.07864,0.1599,0.2839,0.1328,0.17,0.109,0.1645,0.1932,0.2396,0.06669,0.1292,0.2458,0.1002,0.2293,0.1595,0.072,0.2022,0.1027,0.08129,0.127,0.06492,0.2135,0.1022,0.1457,0.2276,0.1868,0.1066,0.1697,0.1157,0.1887,0.1516,0.1496,0.1719,0.1559,0.1336,0.1098,0.03766,0.05131,0.1255,0.06031,0.1218,0.219,0.1436,0.1047,0.1686,0.05943,0.1231,0.09092,0.07698,0.04966,0.06059,0.04751,0.1485,0.07081,0.05473,0.1267,0.1365,0.03789,0.05272,0.08061,0.08963,0.2008,0.08751,0.1262,0.1479,0.07773,0.04701,0.1413,0.05234,0.1029,0.1531,0.183,0.128,0.06829,0.08424,0.1047,0.2146,0.3454,0.09546,0.09362,0.1535,0.2665,0.1791,0.07165,0.1053,0.09947,0.1206,0.09445,0.1339,0.08606,0.1036,0.05055,0.08165,0.1553,0.1313,0.07057,0.05301,0.07525,0.1141,0.08511,0.07568,0.04038,0.09697,0.08578,0.1765,0.1017,0.06815,0.2768,0.06575,0.08404,0.1209,0.2233,0.1303,0.08201,0.07849,0.1243,0.1649,0.1752,0.06722,0.06685,0.11,0.2867,0.1099,0.07325,0.06136,0.07862,0.08028,0.1807,0.1589,0.09509,0.1223,0.1284,0.09462,0.09709,0.05761,0.06095,0.06889,0.1305,0.1136,0.04102,0.1137,0.09486,0.09509,0.05139,0.1296,0.17,0.1167,0.1021,0.06376,0.07589,0.1305,0.1599,0.05113,0.08498,0.06679,0.1665,0.07223,0.05241,0.03718,0.1141,0.1185,0.1666,0.1015,0.1145,0.05352,0.05736,0.09182,0.1603,0.07885,0.06981,0.06288,0.1555,0.05743,0.04302,0.04276,0.1294,0.1556,0.01938,0.03774,0.1914,0.2832,0.08799,0.08155,0.1052,0.04695,0.08468,0.06141,0.05562,0.07253,0.2413,0.06601,0.02344,0.1353,0.198,0.05366,0.1267,0.08642,0.1428,0.1206,0.08087,0.1198,0.2084,0.1768,0.1058,0.09588,0.07232,0.07304,0.1483,0.0623,0.1348,0.069,0.1516,0.1146,0.1306,0.1517,0.1154,0.05907,0.1306,0.113,0.08711,0.1192,0.08502,0.1204,0.04994,0.07624,0.07722,0.1096,0.07529,0.1799,0.1572,0.03813,0.03574,0.1074,0.04087,0.06945,0.1682,0.08348,0.1039,0.1298,0.0663,0.03393,0.1325,0.06807,0.1558,0.05971,0.04524,0.1346,0.07234,0.07808,0.1606,0.05991,0.1849,0.1041,0.1188,0.1279,0.2063,0.2284,0.3114,0.1639,0.1088,0.0629,0.1273,0.05616,0.08995,0.1143,0.1147,0.08259,0.06219,0.1289,0.02675,0.07608,0.1961,0.04689,0.07027,0.0721,0.03872,0.05884,0.04052,0.07688,0.1453,0.0434,0.1442,0.1802,0.0958,0.04216,0.1011,0.03729,0.1181,0.05008,0.1676,0.09823,0.07943,0.05642,0.08393,0.06221,0.04721,0.05914,0.0522,0.06797,0.1642,0.1014,0.1838,0.06678,0.07694,0.05688,0.05251,0.03116,0.03614,0.03735,0.05253,0.03515,0.07948,0.05969,0.05847,0.03834,0.03212,0.1117,0.1972,0.03454,0.1111,0.08564,0.08834,0.1875,0.06545,0.07664,0.05306,0.03892,0.1319,0.1283,0.1371,0.1125,0.06779,0.04458,0.04202,0.1056,0.09965,0.1402,0.07326,0.1283,0.1139,0.09228,0.09097,0.1339,0.07281,0.09159,0.05794,0.0778,0.05886,0.1206,0.0363,0.2364,0.2363,0.09769,0.06064,0.1038,0.1304,0.05492,0.07698,0.05956,0.0265,0.06373,0.07952,0.08468,0.05696,0.1131,0.1669,0.07175,0.08562,0.1954,0.1497,0.06934,0.1515,0.1076,0.06374,0.1438,0.166,0.04726,0.07548,0.2154,0.1111,0.07079,0.1073,0.1297,0.08575,0.06636,0.07823,0.04831,0.1114,0.1318,0.07542,0.07428,0.1562,0.2087,0.09758,0.05361,0.1147,0.08895,0.04768,0.06232,0.2576,0.05242,0.07899,0.08836,0.04571,0.0746,0.08501,0.08316,0.1304,0.06526,0.05313,0.07804,0.06053,0.1025,0.04605,0.0812,0.06159,0.1571,0.05794,0.05978,0.07722,0.1836,0.1168,0.1147,0.08333,0.03912,0.1013,0.05743,0.03834,0.04522,0.2225,0.1316,0.1489,0.1389,0.07074,0.1133,0.07883,0.05895,0.0633,0.05581,0.1113,0.1109,0.06718,0.04462,0.1232,0.09218,0.1314,0.0889,0.078,0.1175,0.1064,0.09871,0.0645,0.09242,0.0543,0.07426,0.08574,0.05205,0.05073,0.04626,0.111,0.1988,0.05223,0.05855,0.05994,0.1223,0.1089,0.05428,0.2004,0.1483,0.06258,0.06,0.08549,0.03398,0.1069,0.08269,0.1108,0.05319,0.08228,0.1893,0.07838,0.05326,0.1155,0.07957,0.1299,0.1511,0.06698,0.1448,0.09263,0.07112,0.052,0.06217,0.1289,0.04043,0.05275,0.08345,0.1334,0.0763,0.1317,0.1644,0.1364,0.1681,0.1085,0.1275,0.2239,0.2204,0.1152,0.1071,0.06712,0.187,0.09661,0.05016,0.1469,0.08918,0.08597,0.08499,0.1248,0.131,0.1661,0.1117,0.1225,0.2106,0.04413,0.107,0.08419,0.07632,0.1138,0.06307,0.09755,0.09009,0.09713,0.09453,0.07255,0.1313,0.09752,0.1739,0.1154,0.1552,0.04878,0.1199,0.112,0.123,0.07214,0.06877,0.1018,0.06747,0.04994,0.08066,0.0503,0.06602,0.04227,0.08194,0.04234,0.05605,0.05824,0.07658,0.07504,0.04971,0.133,0.1021,0.1126,0.03558,0.2087,0.2236,0.1159,0.1034,0.1023,0.277,0.04362],\"sizemode\":\"area\",\"sizeref\":0.0008635,\"symbol\":\"circle\"},\"mode\":\"markers\",\"name\":\"\",\"orientation\":\"h\",\"showlegend\":false,\"x\":[0.2776,0.07864,0.1599,0.2839,0.1328,0.17,0.109,0.1645,0.1932,0.2396,0.06669,0.1292,0.2458,0.1002,0.2293,0.1595,0.072,0.2022,0.1027,0.08129,0.127,0.06492,0.2135,0.1022,0.1457,0.2276,0.1868,0.1066,0.1697,0.1157,0.1887,0.1516,0.1496,0.1719,0.1559,0.1336,0.1098,0.03766,0.05131,0.1255,0.06031,0.1218,0.219,0.1436,0.1047,0.1686,0.05943,0.1231,0.09092,0.07698,0.04966,0.06059,0.04751,0.1485,0.07081,0.05473,0.1267,0.1365,0.03789,0.05272,0.08061,0.08963,0.2008,0.08751,0.1262,0.1479,0.07773,0.04701,0.1413,0.05234,0.1029,0.1531,0.183,0.128,0.06829,0.08424,0.1047,0.2146,0.3454,0.09546,0.09362,0.1535,0.2665,0.1791,0.07165,0.1053,0.09947,0.1206,0.09445,0.1339,0.08606,0.1036,0.05055,0.08165,0.1553,0.1313,0.07057,0.05301,0.07525,0.1141,0.08511,0.07568,0.04038,0.09697,0.08578,0.1765,0.1017,0.06815,0.2768,0.06575,0.08404,0.1209,0.2233,0.1303,0.08201,0.07849,0.1243,0.1649,0.1752,0.06722,0.06685,0.11,0.2867,0.1099,0.07325,0.06136,0.07862,0.08028,0.1807,0.1589,0.09509,0.1223,0.1284,0.09462,0.09709,0.05761,0.06095,0.06889,0.1305,0.1136,0.04102,0.1137,0.09486,0.09509,0.05139,0.1296,0.17,0.1167,0.1021,0.06376,0.07589,0.1305,0.1599,0.05113,0.08498,0.06679,0.1665,0.07223,0.05241,0.03718,0.1141,0.1185,0.1666,0.1015,0.1145,0.05352,0.05736,0.09182,0.1603,0.07885,0.06981,0.06288,0.1555,0.05743,0.04302,0.04276,0.1294,0.1556,0.01938,0.03774,0.1914,0.2832,0.08799,0.08155,0.1052,0.04695,0.08468,0.06141,0.05562,0.07253,0.2413,0.06601,0.02344,0.1353,0.198,0.05366,0.1267,0.08642,0.1428,0.1206,0.08087,0.1198,0.2084,0.1768,0.1058,0.09588,0.07232,0.07304,0.1483,0.0623,0.1348,0.069,0.1516,0.1146,0.1306,0.1517,0.1154,0.05907,0.1306,0.113,0.08711,0.1192,0.08502,0.1204,0.04994,0.07624,0.07722,0.1096,0.07529,0.1799,0.1572,0.03813,0.03574,0.1074,0.04087,0.06945,0.1682,0.08348,0.1039,0.1298,0.0663,0.03393,0.1325,0.06807,0.1558,0.05971,0.04524,0.1346,0.07234,0.07808,0.1606,0.05991,0.1849,0.1041,0.1188,0.1279,0.2063,0.2284,0.3114,0.1639,0.1088,0.0629,0.1273,0.05616,0.08995,0.1143,0.1147,0.08259,0.06219,0.1289,0.02675,0.07608,0.1961,0.04689,0.07027,0.0721,0.03872,0.05884,0.04052,0.07688,0.1453,0.0434,0.1442,0.1802,0.0958,0.04216,0.1011,0.03729,0.1181,0.05008,0.1676,0.09823,0.07943,0.05642,0.08393,0.06221,0.04721,0.05914,0.0522,0.06797,0.1642,0.1014,0.1838,0.06678,0.07694,0.05688,0.05251,0.03116,0.03614,0.03735,0.05253,0.03515,0.07948,0.05969,0.05847,0.03834,0.03212,0.1117,0.1972,0.03454,0.1111,0.08564,0.08834,0.1875,0.06545,0.07664,0.05306,0.03892,0.1319,0.1283,0.1371,0.1125,0.06779,0.04458,0.04202,0.1056,0.09965,0.1402,0.07326,0.1283,0.1139,0.09228,0.09097,0.1339,0.07281,0.09159,0.05794,0.0778,0.05886,0.1206,0.0363,0.2364,0.2363,0.09769,0.06064,0.1038,0.1304,0.05492,0.07698,0.05956,0.0265,0.06373,0.07952,0.08468,0.05696,0.1131,0.1669,0.07175,0.08562,0.1954,0.1497,0.06934,0.1515,0.1076,0.06374,0.1438,0.166,0.04726,0.07548,0.2154,0.1111,0.07079,0.1073,0.1297,0.08575,0.06636,0.07823,0.04831,0.1114,0.1318,0.07542,0.07428,0.1562,0.2087,0.09758,0.05361,0.1147,0.08895,0.04768,0.06232,0.2576,0.05242,0.07899,0.08836,0.04571,0.0746,0.08501,0.08316,0.1304,0.06526,0.05313,0.07804,0.06053,0.1025,0.04605,0.0812,0.06159,0.1571,0.05794,0.05978,0.07722,0.1836,0.1168,0.1147,0.08333,0.03912,0.1013,0.05743,0.03834,0.04522,0.2225,0.1316,0.1489,0.1389,0.07074,0.1133,0.07883,0.05895,0.0633,0.05581,0.1113,0.1109,0.06718,0.04462,0.1232,0.09218,0.1314,0.0889,0.078,0.1175,0.1064,0.09871,0.0645,0.09242,0.0543,0.07426,0.08574,0.05205,0.05073,0.04626,0.111,0.1988,0.05223,0.05855,0.05994,0.1223,0.1089,0.05428,0.2004,0.1483,0.06258,0.06,0.08549,0.03398,0.1069,0.08269,0.1108,0.05319,0.08228,0.1893,0.07838,0.05326,0.1155,0.07957,0.1299,0.1511,0.06698,0.1448,0.09263,0.07112,0.052,0.06217,0.1289,0.04043,0.05275,0.08345,0.1334,0.0763,0.1317,0.1644,0.1364,0.1681,0.1085,0.1275,0.2239,0.2204,0.1152,0.1071,0.06712,0.187,0.09661,0.05016,0.1469,0.08918,0.08597,0.08499,0.1248,0.131,0.1661,0.1117,0.1225,0.2106,0.04413,0.107,0.08419,0.07632,0.1138,0.06307,0.09755,0.09009,0.09713,0.09453,0.07255,0.1313,0.09752,0.1739,0.1154,0.1552,0.04878,0.1199,0.112,0.123,0.07214,0.06877,0.1018,0.06747,0.04994,0.08066,0.0503,0.06602,0.04227,0.08194,0.04234,0.05605,0.05824,0.07658,0.07504,0.04971,0.133,0.1021,0.1126,0.03558,0.2087,0.2236,0.1159,0.1034,0.1023,0.277,0.04362],\"xaxis\":\"x\",\"y\":[0,1,2,3,4,5,6,7,8,9,10,11,12,13,14,15,16,17,18,19,20,21,22,23,24,25,26,27,28,29,30,31,32,33,34,35,36,37,38,39,40,41,42,43,44,45,46,47,48,49,50,51,52,53,54,55,56,57,58,59,60,61,62,63,64,65,66,67,68,69,70,71,72,73,74,75,76,77,78,79,80,81,82,83,84,85,86,87,88,89,90,91,92,93,94,95,96,97,98,99,100,101,102,103,104,105,106,107,108,109,110,111,112,113,114,115,116,117,118,119,120,121,122,123,124,125,126,127,128,129,130,131,132,133,134,135,136,137,138,139,140,141,142,143,144,145,146,147,148,149,150,151,152,153,154,155,156,157,158,159,160,161,162,163,164,165,166,167,168,169,170,171,172,173,174,175,176,177,178,179,180,181,182,183,184,185,186,187,188,189,190,191,192,193,194,195,196,197,198,199,200,201,202,203,204,205,206,207,208,209,210,211,212,213,214,215,216,217,218,219,220,221,222,223,224,225,226,227,228,229,230,231,232,233,234,235,236,237,238,239,240,241,242,243,244,245,246,247,248,249,250,251,252,253,254,255,256,257,258,259,260,261,262,263,264,265,266,267,268,269,270,271,272,273,274,275,276,277,278,279,280,281,282,283,284,285,286,287,288,289,290,291,292,293,294,295,296,297,298,299,300,301,302,303,304,305,306,307,308,309,310,311,312,313,314,315,316,317,318,319,320,321,322,323,324,325,326,327,328,329,330,331,332,333,334,335,336,337,338,339,340,341,342,343,344,345,346,347,348,349,350,351,352,353,354,355,356,357,358,359,360,361,362,363,364,365,366,367,368,369,370,371,372,373,374,375,376,377,378,379,380,381,382,383,384,385,386,387,388,389,390,391,392,393,394,395,396,397,398,399,400,401,402,403,404,405,406,407,408,409,410,411,412,413,414,415,416,417,418,419,420,421,422,423,424,425,426,427,428,429,430,431,432,433,434,435,436,437,438,439,440,441,442,443,444,445,446,447,448,449,450,451,452,453,454,455,456,457,458,459,460,461,462,463,464,465,466,467,468,469,470,471,472,473,474,475,476,477,478,479,480,481,482,483,484,485,486,487,488,489,490,491,492,493,494,495,496,497,498,499,500,501,502,503,504,505,506,507,508,509,510,511,512,513,514,515,516,517,518,519,520,521,522,523,524,525,526,527,528,529,530,531,532,533,534,535,536,537,538,539,540,541,542,543,544,545,546,547,548,549,550,551,552,553,554,555,556,557,558,559,560,561,562,563,564,565,566,567,568],\"yaxis\":\"y\",\"type\":\"scatter\"}],                        {\"template\":{\"data\":{\"barpolar\":[{\"marker\":{\"line\":{\"color\":\"white\",\"width\":0.5},\"pattern\":{\"fillmode\":\"overlay\",\"size\":10,\"solidity\":0.2}},\"type\":\"barpolar\"}],\"bar\":[{\"error_x\":{\"color\":\"rgb(36,36,36)\"},\"error_y\":{\"color\":\"rgb(36,36,36)\"},\"marker\":{\"line\":{\"color\":\"white\",\"width\":0.5},\"pattern\":{\"fillmode\":\"overlay\",\"size\":10,\"solidity\":0.2}},\"type\":\"bar\"}],\"carpet\":[{\"aaxis\":{\"endlinecolor\":\"rgb(36,36,36)\",\"gridcolor\":\"white\",\"linecolor\":\"white\",\"minorgridcolor\":\"white\",\"startlinecolor\":\"rgb(36,36,36)\"},\"baxis\":{\"endlinecolor\":\"rgb(36,36,36)\",\"gridcolor\":\"white\",\"linecolor\":\"white\",\"minorgridcolor\":\"white\",\"startlinecolor\":\"rgb(36,36,36)\"},\"type\":\"carpet\"}],\"choropleth\":[{\"colorbar\":{\"outlinewidth\":1,\"tickcolor\":\"rgb(36,36,36)\",\"ticks\":\"outside\"},\"type\":\"choropleth\"}],\"contourcarpet\":[{\"colorbar\":{\"outlinewidth\":1,\"tickcolor\":\"rgb(36,36,36)\",\"ticks\":\"outside\"},\"type\":\"contourcarpet\"}],\"contour\":[{\"colorbar\":{\"outlinewidth\":1,\"tickcolor\":\"rgb(36,36,36)\",\"ticks\":\"outside\"},\"colorscale\":[[0.0,\"#440154\"],[0.1111111111111111,\"#482878\"],[0.2222222222222222,\"#3e4989\"],[0.3333333333333333,\"#31688e\"],[0.4444444444444444,\"#26828e\"],[0.5555555555555556,\"#1f9e89\"],[0.6666666666666666,\"#35b779\"],[0.7777777777777778,\"#6ece58\"],[0.8888888888888888,\"#b5de2b\"],[1.0,\"#fde725\"]],\"type\":\"contour\"}],\"heatmapgl\":[{\"colorbar\":{\"outlinewidth\":1,\"tickcolor\":\"rgb(36,36,36)\",\"ticks\":\"outside\"},\"colorscale\":[[0.0,\"#440154\"],[0.1111111111111111,\"#482878\"],[0.2222222222222222,\"#3e4989\"],[0.3333333333333333,\"#31688e\"],[0.4444444444444444,\"#26828e\"],[0.5555555555555556,\"#1f9e89\"],[0.6666666666666666,\"#35b779\"],[0.7777777777777778,\"#6ece58\"],[0.8888888888888888,\"#b5de2b\"],[1.0,\"#fde725\"]],\"type\":\"heatmapgl\"}],\"heatmap\":[{\"colorbar\":{\"outlinewidth\":1,\"tickcolor\":\"rgb(36,36,36)\",\"ticks\":\"outside\"},\"colorscale\":[[0.0,\"#440154\"],[0.1111111111111111,\"#482878\"],[0.2222222222222222,\"#3e4989\"],[0.3333333333333333,\"#31688e\"],[0.4444444444444444,\"#26828e\"],[0.5555555555555556,\"#1f9e89\"],[0.6666666666666666,\"#35b779\"],[0.7777777777777778,\"#6ece58\"],[0.8888888888888888,\"#b5de2b\"],[1.0,\"#fde725\"]],\"type\":\"heatmap\"}],\"histogram2dcontour\":[{\"colorbar\":{\"outlinewidth\":1,\"tickcolor\":\"rgb(36,36,36)\",\"ticks\":\"outside\"},\"colorscale\":[[0.0,\"#440154\"],[0.1111111111111111,\"#482878\"],[0.2222222222222222,\"#3e4989\"],[0.3333333333333333,\"#31688e\"],[0.4444444444444444,\"#26828e\"],[0.5555555555555556,\"#1f9e89\"],[0.6666666666666666,\"#35b779\"],[0.7777777777777778,\"#6ece58\"],[0.8888888888888888,\"#b5de2b\"],[1.0,\"#fde725\"]],\"type\":\"histogram2dcontour\"}],\"histogram2d\":[{\"colorbar\":{\"outlinewidth\":1,\"tickcolor\":\"rgb(36,36,36)\",\"ticks\":\"outside\"},\"colorscale\":[[0.0,\"#440154\"],[0.1111111111111111,\"#482878\"],[0.2222222222222222,\"#3e4989\"],[0.3333333333333333,\"#31688e\"],[0.4444444444444444,\"#26828e\"],[0.5555555555555556,\"#1f9e89\"],[0.6666666666666666,\"#35b779\"],[0.7777777777777778,\"#6ece58\"],[0.8888888888888888,\"#b5de2b\"],[1.0,\"#fde725\"]],\"type\":\"histogram2d\"}],\"histogram\":[{\"marker\":{\"line\":{\"color\":\"white\",\"width\":0.6}},\"type\":\"histogram\"}],\"mesh3d\":[{\"colorbar\":{\"outlinewidth\":1,\"tickcolor\":\"rgb(36,36,36)\",\"ticks\":\"outside\"},\"type\":\"mesh3d\"}],\"parcoords\":[{\"line\":{\"colorbar\":{\"outlinewidth\":1,\"tickcolor\":\"rgb(36,36,36)\",\"ticks\":\"outside\"}},\"type\":\"parcoords\"}],\"pie\":[{\"automargin\":true,\"type\":\"pie\"}],\"scatter3d\":[{\"line\":{\"colorbar\":{\"outlinewidth\":1,\"tickcolor\":\"rgb(36,36,36)\",\"ticks\":\"outside\"}},\"marker\":{\"colorbar\":{\"outlinewidth\":1,\"tickcolor\":\"rgb(36,36,36)\",\"ticks\":\"outside\"}},\"type\":\"scatter3d\"}],\"scattercarpet\":[{\"marker\":{\"colorbar\":{\"outlinewidth\":1,\"tickcolor\":\"rgb(36,36,36)\",\"ticks\":\"outside\"}},\"type\":\"scattercarpet\"}],\"scattergeo\":[{\"marker\":{\"colorbar\":{\"outlinewidth\":1,\"tickcolor\":\"rgb(36,36,36)\",\"ticks\":\"outside\"}},\"type\":\"scattergeo\"}],\"scattergl\":[{\"marker\":{\"colorbar\":{\"outlinewidth\":1,\"tickcolor\":\"rgb(36,36,36)\",\"ticks\":\"outside\"}},\"type\":\"scattergl\"}],\"scattermapbox\":[{\"marker\":{\"colorbar\":{\"outlinewidth\":1,\"tickcolor\":\"rgb(36,36,36)\",\"ticks\":\"outside\"}},\"type\":\"scattermapbox\"}],\"scatterpolargl\":[{\"marker\":{\"colorbar\":{\"outlinewidth\":1,\"tickcolor\":\"rgb(36,36,36)\",\"ticks\":\"outside\"}},\"type\":\"scatterpolargl\"}],\"scatterpolar\":[{\"marker\":{\"colorbar\":{\"outlinewidth\":1,\"tickcolor\":\"rgb(36,36,36)\",\"ticks\":\"outside\"}},\"type\":\"scatterpolar\"}],\"scatter\":[{\"fillpattern\":{\"fillmode\":\"overlay\",\"size\":10,\"solidity\":0.2},\"type\":\"scatter\"}],\"scatterternary\":[{\"marker\":{\"colorbar\":{\"outlinewidth\":1,\"tickcolor\":\"rgb(36,36,36)\",\"ticks\":\"outside\"}},\"type\":\"scatterternary\"}],\"surface\":[{\"colorbar\":{\"outlinewidth\":1,\"tickcolor\":\"rgb(36,36,36)\",\"ticks\":\"outside\"},\"colorscale\":[[0.0,\"#440154\"],[0.1111111111111111,\"#482878\"],[0.2222222222222222,\"#3e4989\"],[0.3333333333333333,\"#31688e\"],[0.4444444444444444,\"#26828e\"],[0.5555555555555556,\"#1f9e89\"],[0.6666666666666666,\"#35b779\"],[0.7777777777777778,\"#6ece58\"],[0.8888888888888888,\"#b5de2b\"],[1.0,\"#fde725\"]],\"type\":\"surface\"}],\"table\":[{\"cells\":{\"fill\":{\"color\":\"rgb(237,237,237)\"},\"line\":{\"color\":\"white\"}},\"header\":{\"fill\":{\"color\":\"rgb(217,217,217)\"},\"line\":{\"color\":\"white\"}},\"type\":\"table\"}]},\"layout\":{\"annotationdefaults\":{\"arrowhead\":0,\"arrowwidth\":1},\"autotypenumbers\":\"strict\",\"coloraxis\":{\"colorbar\":{\"outlinewidth\":1,\"tickcolor\":\"rgb(36,36,36)\",\"ticks\":\"outside\"}},\"colorscale\":{\"diverging\":[[0.0,\"rgb(103,0,31)\"],[0.1,\"rgb(178,24,43)\"],[0.2,\"rgb(214,96,77)\"],[0.3,\"rgb(244,165,130)\"],[0.4,\"rgb(253,219,199)\"],[0.5,\"rgb(247,247,247)\"],[0.6,\"rgb(209,229,240)\"],[0.7,\"rgb(146,197,222)\"],[0.8,\"rgb(67,147,195)\"],[0.9,\"rgb(33,102,172)\"],[1.0,\"rgb(5,48,97)\"]],\"sequential\":[[0.0,\"#440154\"],[0.1111111111111111,\"#482878\"],[0.2222222222222222,\"#3e4989\"],[0.3333333333333333,\"#31688e\"],[0.4444444444444444,\"#26828e\"],[0.5555555555555556,\"#1f9e89\"],[0.6666666666666666,\"#35b779\"],[0.7777777777777778,\"#6ece58\"],[0.8888888888888888,\"#b5de2b\"],[1.0,\"#fde725\"]],\"sequentialminus\":[[0.0,\"#440154\"],[0.1111111111111111,\"#482878\"],[0.2222222222222222,\"#3e4989\"],[0.3333333333333333,\"#31688e\"],[0.4444444444444444,\"#26828e\"],[0.5555555555555556,\"#1f9e89\"],[0.6666666666666666,\"#35b779\"],[0.7777777777777778,\"#6ece58\"],[0.8888888888888888,\"#b5de2b\"],[1.0,\"#fde725\"]]},\"colorway\":[\"#1F77B4\",\"#FF7F0E\",\"#2CA02C\",\"#D62728\",\"#9467BD\",\"#8C564B\",\"#E377C2\",\"#7F7F7F\",\"#BCBD22\",\"#17BECF\"],\"font\":{\"color\":\"rgb(36,36,36)\"},\"geo\":{\"bgcolor\":\"white\",\"lakecolor\":\"white\",\"landcolor\":\"white\",\"showlakes\":true,\"showland\":true,\"subunitcolor\":\"white\"},\"hoverlabel\":{\"align\":\"left\"},\"hovermode\":\"closest\",\"mapbox\":{\"style\":\"light\"},\"paper_bgcolor\":\"white\",\"plot_bgcolor\":\"white\",\"polar\":{\"angularaxis\":{\"gridcolor\":\"rgb(232,232,232)\",\"linecolor\":\"rgb(36,36,36)\",\"showgrid\":false,\"showline\":true,\"ticks\":\"outside\"},\"bgcolor\":\"white\",\"radialaxis\":{\"gridcolor\":\"rgb(232,232,232)\",\"linecolor\":\"rgb(36,36,36)\",\"showgrid\":false,\"showline\":true,\"ticks\":\"outside\"}},\"scene\":{\"xaxis\":{\"backgroundcolor\":\"white\",\"gridcolor\":\"rgb(232,232,232)\",\"gridwidth\":2,\"linecolor\":\"rgb(36,36,36)\",\"showbackground\":true,\"showgrid\":false,\"showline\":true,\"ticks\":\"outside\",\"zeroline\":false,\"zerolinecolor\":\"rgb(36,36,36)\"},\"yaxis\":{\"backgroundcolor\":\"white\",\"gridcolor\":\"rgb(232,232,232)\",\"gridwidth\":2,\"linecolor\":\"rgb(36,36,36)\",\"showbackground\":true,\"showgrid\":false,\"showline\":true,\"ticks\":\"outside\",\"zeroline\":false,\"zerolinecolor\":\"rgb(36,36,36)\"},\"zaxis\":{\"backgroundcolor\":\"white\",\"gridcolor\":\"rgb(232,232,232)\",\"gridwidth\":2,\"linecolor\":\"rgb(36,36,36)\",\"showbackground\":true,\"showgrid\":false,\"showline\":true,\"ticks\":\"outside\",\"zeroline\":false,\"zerolinecolor\":\"rgb(36,36,36)\"}},\"shapedefaults\":{\"fillcolor\":\"black\",\"line\":{\"width\":0},\"opacity\":0.3},\"ternary\":{\"aaxis\":{\"gridcolor\":\"rgb(232,232,232)\",\"linecolor\":\"rgb(36,36,36)\",\"showgrid\":false,\"showline\":true,\"ticks\":\"outside\"},\"baxis\":{\"gridcolor\":\"rgb(232,232,232)\",\"linecolor\":\"rgb(36,36,36)\",\"showgrid\":false,\"showline\":true,\"ticks\":\"outside\"},\"bgcolor\":\"white\",\"caxis\":{\"gridcolor\":\"rgb(232,232,232)\",\"linecolor\":\"rgb(36,36,36)\",\"showgrid\":false,\"showline\":true,\"ticks\":\"outside\"}},\"title\":{\"x\":0.05},\"xaxis\":{\"automargin\":true,\"gridcolor\":\"rgb(232,232,232)\",\"linecolor\":\"rgb(36,36,36)\",\"showgrid\":false,\"showline\":true,\"ticks\":\"outside\",\"title\":{\"standoff\":15},\"zeroline\":false,\"zerolinecolor\":\"rgb(36,36,36)\"},\"yaxis\":{\"automargin\":true,\"gridcolor\":\"rgb(232,232,232)\",\"linecolor\":\"rgb(36,36,36)\",\"showgrid\":false,\"showline\":true,\"ticks\":\"outside\",\"title\":{\"standoff\":15},\"zeroline\":false,\"zerolinecolor\":\"rgb(36,36,36)\"}}},\"xaxis\":{\"anchor\":\"y\",\"domain\":[0.0,1.0],\"title\":{\"text\":\"Mean Compactness\"}},\"yaxis\":{\"anchor\":\"x\",\"domain\":[0.0,1.0],\"title\":{\"text\":\" \"}},\"coloraxis\":{\"colorbar\":{\"title\":{\"text\":\"Mean Compactness\"}},\"colorscale\":[[0.0,\"#440154\"],[0.1111111111111111,\"#482878\"],[0.2222222222222222,\"#3e4989\"],[0.3333333333333333,\"#31688e\"],[0.4444444444444444,\"#26828e\"],[0.5555555555555556,\"#1f9e89\"],[0.6666666666666666,\"#35b779\"],[0.7777777777777778,\"#6ece58\"],[0.8888888888888888,\"#b5de2b\"],[1.0,\"#fde725\"]]},\"legend\":{\"tracegroupgap\":0,\"itemsizing\":\"constant\"},\"title\":{\"text\":\"Cancer Compactness Mean\"}},                        {\"responsive\": true}                    ).then(function(){\n",
       "                            \n",
       "var gd = document.getElementById('09cf65b2-905c-4549-a16b-edf89e55c4a6');\n",
       "var x = new MutationObserver(function (mutations, observer) {{\n",
       "        var display = window.getComputedStyle(gd).display;\n",
       "        if (!display || display === 'none') {{\n",
       "            console.log([gd, 'removed!']);\n",
       "            Plotly.purge(gd);\n",
       "            observer.disconnect();\n",
       "        }}\n",
       "}});\n",
       "\n",
       "// Listen for the removal of the full notebook cells\n",
       "var notebookContainer = gd.closest('#notebook-container');\n",
       "if (notebookContainer) {{\n",
       "    x.observe(notebookContainer, {childList: true});\n",
       "}}\n",
       "\n",
       "// Listen for the clearing of the current output cell\n",
       "var outputEl = gd.closest('.output');\n",
       "if (outputEl) {{\n",
       "    x.observe(outputEl, {childList: true});\n",
       "}}\n",
       "\n",
       "                        })                };                });            </script>        </div>"
      ]
     },
     "metadata": {},
     "output_type": "display_data"
    }
   ],
   "source": [
    "fig = px.scatter(df,\n",
    "                 x=\"mean compactness\",\n",
    "                 size=\"mean compactness\",\n",
    "                 color=\"mean compactness\",\n",
    "                  labels={\"mean compactness\": \"Mean Compactness\"},\n",
    "                 hover_data=[\"target\"],\n",
    "                 template='simple_white',\n",
    "                 title=\"Cancer Compactness Mean\")\n",
    "fig.update_layout(xaxis_title=\"Mean Compactness\",yaxis_title=\" \")\n",
    "fig.show()"
   ]
  },
  {
   "cell_type": "code",
   "execution_count": 27,
   "metadata": {
    "colab": {
     "background_save": true
    },
    "id": "3evR7GYHZ4uW",
    "outputId": "ac0e20e3-21a6-4fa2-bca9-a496378a125e"
   },
   "outputs": [
    {
     "data": {
      "application/vnd.plotly.v1+json": {
       "config": {
        "plotlyServerURL": "https://plot.ly"
       },
       "data": [
        {
         "customdata": [
          [
           0
          ],
          [
           0
          ],
          [
           0
          ],
          [
           0
          ],
          [
           0
          ],
          [
           0
          ],
          [
           0
          ],
          [
           0
          ],
          [
           0
          ],
          [
           0
          ],
          [
           0
          ],
          [
           0
          ],
          [
           0
          ],
          [
           0
          ],
          [
           0
          ],
          [
           0
          ],
          [
           0
          ],
          [
           0
          ],
          [
           0
          ],
          [
           1
          ],
          [
           1
          ],
          [
           1
          ],
          [
           0
          ],
          [
           0
          ],
          [
           0
          ],
          [
           0
          ],
          [
           0
          ],
          [
           0
          ],
          [
           0
          ],
          [
           0
          ],
          [
           0
          ],
          [
           0
          ],
          [
           0
          ],
          [
           0
          ],
          [
           0
          ],
          [
           0
          ],
          [
           0
          ],
          [
           1
          ],
          [
           0
          ],
          [
           0
          ],
          [
           0
          ],
          [
           0
          ],
          [
           0
          ],
          [
           0
          ],
          [
           0
          ],
          [
           0
          ],
          [
           1
          ],
          [
           0
          ],
          [
           1
          ],
          [
           1
          ],
          [
           1
          ],
          [
           1
          ],
          [
           1
          ],
          [
           0
          ],
          [
           0
          ],
          [
           1
          ],
          [
           0
          ],
          [
           0
          ],
          [
           1
          ],
          [
           1
          ],
          [
           1
          ],
          [
           1
          ],
          [
           0
          ],
          [
           1
          ],
          [
           0
          ],
          [
           0
          ],
          [
           1
          ],
          [
           1
          ],
          [
           1
          ],
          [
           1
          ],
          [
           0
          ],
          [
           1
          ],
          [
           0
          ],
          [
           0
          ],
          [
           1
          ],
          [
           0
          ],
          [
           1
          ],
          [
           0
          ],
          [
           0
          ],
          [
           1
          ],
          [
           1
          ],
          [
           1
          ],
          [
           0
          ],
          [
           0
          ],
          [
           1
          ],
          [
           0
          ],
          [
           0
          ],
          [
           0
          ],
          [
           1
          ],
          [
           1
          ],
          [
           1
          ],
          [
           0
          ],
          [
           1
          ],
          [
           1
          ],
          [
           0
          ],
          [
           0
          ],
          [
           1
          ],
          [
           1
          ],
          [
           1
          ],
          [
           0
          ],
          [
           0
          ],
          [
           1
          ],
          [
           1
          ],
          [
           1
          ],
          [
           1
          ],
          [
           0
          ],
          [
           1
          ],
          [
           1
          ],
          [
           0
          ],
          [
           1
          ],
          [
           1
          ],
          [
           1
          ],
          [
           1
          ],
          [
           1
          ],
          [
           1
          ],
          [
           1
          ],
          [
           1
          ],
          [
           0
          ],
          [
           0
          ],
          [
           0
          ],
          [
           1
          ],
          [
           0
          ],
          [
           0
          ],
          [
           1
          ],
          [
           1
          ],
          [
           1
          ],
          [
           0
          ],
          [
           0
          ],
          [
           1
          ],
          [
           0
          ],
          [
           1
          ],
          [
           0
          ],
          [
           0
          ],
          [
           1
          ],
          [
           0
          ],
          [
           0
          ],
          [
           1
          ],
          [
           1
          ],
          [
           0
          ],
          [
           1
          ],
          [
           1
          ],
          [
           0
          ],
          [
           1
          ],
          [
           1
          ],
          [
           1
          ],
          [
           1
          ],
          [
           0
          ],
          [
           1
          ],
          [
           1
          ],
          [
           1
          ],
          [
           1
          ],
          [
           1
          ],
          [
           1
          ],
          [
           1
          ],
          [
           1
          ],
          [
           1
          ],
          [
           0
          ],
          [
           1
          ],
          [
           1
          ],
          [
           1
          ],
          [
           1
          ],
          [
           0
          ],
          [
           0
          ],
          [
           1
          ],
          [
           0
          ],
          [
           1
          ],
          [
           1
          ],
          [
           0
          ],
          [
           0
          ],
          [
           1
          ],
          [
           1
          ],
          [
           0
          ],
          [
           0
          ],
          [
           1
          ],
          [
           1
          ],
          [
           1
          ],
          [
           1
          ],
          [
           0
          ],
          [
           1
          ],
          [
           1
          ],
          [
           0
          ],
          [
           0
          ],
          [
           0
          ],
          [
           1
          ],
          [
           0
          ],
          [
           1
          ],
          [
           0
          ],
          [
           1
          ],
          [
           1
          ],
          [
           1
          ],
          [
           0
          ],
          [
           1
          ],
          [
           1
          ],
          [
           0
          ],
          [
           0
          ],
          [
           1
          ],
          [
           0
          ],
          [
           0
          ],
          [
           0
          ],
          [
           0
          ],
          [
           1
          ],
          [
           0
          ],
          [
           0
          ],
          [
           0
          ],
          [
           1
          ],
          [
           0
          ],
          [
           1
          ],
          [
           0
          ],
          [
           1
          ],
          [
           1
          ],
          [
           0
          ],
          [
           1
          ],
          [
           0
          ],
          [
           0
          ],
          [
           0
          ],
          [
           0
          ],
          [
           1
          ],
          [
           1
          ],
          [
           0
          ],
          [
           0
          ],
          [
           1
          ],
          [
           1
          ],
          [
           1
          ],
          [
           0
          ],
          [
           1
          ],
          [
           1
          ],
          [
           1
          ],
          [
           1
          ],
          [
           1
          ],
          [
           0
          ],
          [
           0
          ],
          [
           1
          ],
          [
           1
          ],
          [
           0
          ],
          [
           1
          ],
          [
           1
          ],
          [
           0
          ],
          [
           0
          ],
          [
           1
          ],
          [
           0
          ],
          [
           1
          ],
          [
           1
          ],
          [
           1
          ],
          [
           1
          ],
          [
           0
          ],
          [
           1
          ],
          [
           1
          ],
          [
           1
          ],
          [
           1
          ],
          [
           1
          ],
          [
           0
          ],
          [
           1
          ],
          [
           0
          ],
          [
           0
          ],
          [
           0
          ],
          [
           0
          ],
          [
           0
          ],
          [
           0
          ],
          [
           0
          ],
          [
           0
          ],
          [
           0
          ],
          [
           0
          ],
          [
           0
          ],
          [
           0
          ],
          [
           0
          ],
          [
           0
          ],
          [
           1
          ],
          [
           1
          ],
          [
           1
          ],
          [
           1
          ],
          [
           1
          ],
          [
           1
          ],
          [
           0
          ],
          [
           1
          ],
          [
           0
          ],
          [
           1
          ],
          [
           1
          ],
          [
           0
          ],
          [
           1
          ],
          [
           1
          ],
          [
           0
          ],
          [
           1
          ],
          [
           0
          ],
          [
           0
          ],
          [
           1
          ],
          [
           1
          ],
          [
           1
          ],
          [
           1
          ],
          [
           1
          ],
          [
           1
          ],
          [
           1
          ],
          [
           1
          ],
          [
           1
          ],
          [
           1
          ],
          [
           1
          ],
          [
           1
          ],
          [
           1
          ],
          [
           0
          ],
          [
           1
          ],
          [
           1
          ],
          [
           0
          ],
          [
           1
          ],
          [
           0
          ],
          [
           1
          ],
          [
           1
          ],
          [
           1
          ],
          [
           1
          ],
          [
           1
          ],
          [
           1
          ],
          [
           1
          ],
          [
           1
          ],
          [
           1
          ],
          [
           1
          ],
          [
           1
          ],
          [
           1
          ],
          [
           1
          ],
          [
           1
          ],
          [
           0
          ],
          [
           1
          ],
          [
           1
          ],
          [
           1
          ],
          [
           0
          ],
          [
           1
          ],
          [
           0
          ],
          [
           1
          ],
          [
           1
          ],
          [
           1
          ],
          [
           1
          ],
          [
           0
          ],
          [
           0
          ],
          [
           0
          ],
          [
           1
          ],
          [
           1
          ],
          [
           1
          ],
          [
           1
          ],
          [
           0
          ],
          [
           1
          ],
          [
           0
          ],
          [
           1
          ],
          [
           0
          ],
          [
           1
          ],
          [
           1
          ],
          [
           1
          ],
          [
           0
          ],
          [
           1
          ],
          [
           1
          ],
          [
           1
          ],
          [
           1
          ],
          [
           1
          ],
          [
           1
          ],
          [
           1
          ],
          [
           0
          ],
          [
           0
          ],
          [
           0
          ],
          [
           1
          ],
          [
           1
          ],
          [
           1
          ],
          [
           1
          ],
          [
           1
          ],
          [
           1
          ],
          [
           1
          ],
          [
           1
          ],
          [
           1
          ],
          [
           1
          ],
          [
           1
          ],
          [
           0
          ],
          [
           0
          ],
          [
           1
          ],
          [
           0
          ],
          [
           0
          ],
          [
           0
          ],
          [
           1
          ],
          [
           0
          ],
          [
           0
          ],
          [
           1
          ],
          [
           1
          ],
          [
           1
          ],
          [
           1
          ],
          [
           1
          ],
          [
           0
          ],
          [
           1
          ],
          [
           1
          ],
          [
           1
          ],
          [
           1
          ],
          [
           1
          ],
          [
           0
          ],
          [
           1
          ],
          [
           1
          ],
          [
           1
          ],
          [
           0
          ],
          [
           1
          ],
          [
           1
          ],
          [
           0
          ],
          [
           0
          ],
          [
           1
          ],
          [
           1
          ],
          [
           1
          ],
          [
           1
          ],
          [
           1
          ],
          [
           1
          ],
          [
           0
          ],
          [
           1
          ],
          [
           1
          ],
          [
           1
          ],
          [
           1
          ],
          [
           1
          ],
          [
           1
          ],
          [
           1
          ],
          [
           0
          ],
          [
           1
          ],
          [
           1
          ],
          [
           1
          ],
          [
           1
          ],
          [
           1
          ],
          [
           0
          ],
          [
           1
          ],
          [
           1
          ],
          [
           0
          ],
          [
           1
          ],
          [
           1
          ],
          [
           1
          ],
          [
           1
          ],
          [
           1
          ],
          [
           1
          ],
          [
           1
          ],
          [
           1
          ],
          [
           1
          ],
          [
           1
          ],
          [
           1
          ],
          [
           1
          ],
          [
           0
          ],
          [
           1
          ],
          [
           0
          ],
          [
           0
          ],
          [
           1
          ],
          [
           0
          ],
          [
           1
          ],
          [
           1
          ],
          [
           1
          ],
          [
           1
          ],
          [
           1
          ],
          [
           0
          ],
          [
           1
          ],
          [
           1
          ],
          [
           0
          ],
          [
           1
          ],
          [
           0
          ],
          [
           1
          ],
          [
           1
          ],
          [
           0
          ],
          [
           1
          ],
          [
           0
          ],
          [
           1
          ],
          [
           1
          ],
          [
           1
          ],
          [
           1
          ],
          [
           1
          ],
          [
           1
          ],
          [
           1
          ],
          [
           1
          ],
          [
           0
          ],
          [
           0
          ],
          [
           1
          ],
          [
           1
          ],
          [
           1
          ],
          [
           1
          ],
          [
           1
          ],
          [
           1
          ],
          [
           0
          ],
          [
           1
          ],
          [
           1
          ],
          [
           1
          ],
          [
           1
          ],
          [
           1
          ],
          [
           1
          ],
          [
           1
          ],
          [
           1
          ],
          [
           1
          ],
          [
           1
          ],
          [
           0
          ],
          [
           1
          ],
          [
           1
          ],
          [
           1
          ],
          [
           1
          ],
          [
           1
          ],
          [
           1
          ],
          [
           1
          ],
          [
           0
          ],
          [
           1
          ],
          [
           0
          ],
          [
           1
          ],
          [
           1
          ],
          [
           0
          ],
          [
           1
          ],
          [
           1
          ],
          [
           1
          ],
          [
           1
          ],
          [
           1
          ],
          [
           0
          ],
          [
           0
          ],
          [
           1
          ],
          [
           0
          ],
          [
           1
          ],
          [
           0
          ],
          [
           1
          ],
          [
           1
          ],
          [
           1
          ],
          [
           1
          ],
          [
           1
          ],
          [
           0
          ],
          [
           1
          ],
          [
           1
          ],
          [
           0
          ],
          [
           1
          ],
          [
           0
          ],
          [
           1
          ],
          [
           0
          ],
          [
           0
          ],
          [
           1
          ],
          [
           1
          ],
          [
           1
          ],
          [
           0
          ],
          [
           1
          ],
          [
           1
          ],
          [
           1
          ],
          [
           1
          ],
          [
           1
          ],
          [
           1
          ],
          [
           1
          ],
          [
           1
          ],
          [
           1
          ],
          [
           1
          ],
          [
           1
          ],
          [
           0
          ],
          [
           1
          ],
          [
           0
          ],
          [
           0
          ],
          [
           1
          ],
          [
           1
          ],
          [
           1
          ],
          [
           1
          ],
          [
           1
          ],
          [
           1
          ],
          [
           1
          ],
          [
           1
          ],
          [
           1
          ],
          [
           1
          ],
          [
           1
          ],
          [
           1
          ],
          [
           1
          ],
          [
           1
          ],
          [
           1
          ],
          [
           1
          ],
          [
           1
          ],
          [
           1
          ],
          [
           1
          ],
          [
           1
          ],
          [
           1
          ],
          [
           1
          ],
          [
           1
          ],
          [
           1
          ],
          [
           1
          ],
          [
           0
          ],
          [
           0
          ],
          [
           0
          ],
          [
           0
          ],
          [
           0
          ],
          [
           0
          ],
          [
           1
          ]
         ],
         "hovertemplate": "Symmetry Error=%{marker.color}<br>index=%{y}<br>target=%{customdata[0]}<extra></extra>",
         "legendgroup": "",
         "marker": {
          "color": [
           0.03003,
           0.01389,
           0.0225,
           0.05963,
           0.01756,
           0.02165,
           0.01369,
           0.01486,
           0.02143,
           0.01789,
           0.0146,
           0.02008,
           0.04484,
           0.02981,
           0.01961,
           0.01857,
           0.0141,
           0.01689,
           0.01356,
           0.0198,
           0.01678,
           0.02027,
           0.03672,
           0.01083,
           0.01468,
           0.02308,
           0.01454,
           0.02293,
           0.01768,
           0.01925,
           0.02007,
           0.02273,
           0.02102,
           0.01543,
           0.01703,
           0.02789,
           0.02028,
           0.02671,
           0.007882,
           0.01377,
           0.0138,
           0.01357,
           0.05333,
           0.01719,
           0.01113,
           0.02428,
           0.02574,
           0.01743,
           0.01428,
           0.01641,
           0.02406,
           0.01325,
           0.01996,
           0.02674,
           0.01095,
           0.03218,
           0.01852,
           0.01817,
           0.0219,
           0.0209,
           0.04183,
           0.03357,
           0.017,
           0.04192,
           0.01635,
           0.019,
           0.02279,
           0.02183,
           0.04197,
           0.02254,
           0.01386,
           0.02541,
           0.01527,
           0.0122,
           0.01386,
           0.0155,
           0.02572,
           0.02591,
           0.07895,
           0.01748,
           0.01816,
           0.02134,
           0.01065,
           0.03056,
           0.01972,
           0.0237,
           0.02418,
           0.01964,
           0.01958,
           0.02427,
           0.02085,
           0.02471,
           0.01069,
           0.01884,
           0.01498,
           0.02657,
           0.0222,
           0.01801,
           0.01651,
           0.01462,
           0.01465,
           0.02659,
           0.01447,
           0.01609,
           0.0271,
           0.01547,
           0.01565,
           0.01251,
           0.03112,
           0.01568,
           0.03281,
           0.02144,
           0.02566,
           0.02287,
           0.01708,
           0.01278,
           0.02384,
           0.01602,
           0.01495,
           0.05014,
           0.01344,
           0.02045,
           0.04547,
           0.0191,
           0.01208,
           0.01247,
           0.01323,
           0.0203,
           0.02353,
           0.01578,
           0.02662,
           0.01397,
           0.01535,
           0.01669,
           0.01492,
           0.01647,
           0.01359,
           0.01501,
           0.05168,
           0.0158,
           0.02277,
           0.01875,
           0.02282,
           0.02104,
           0.01671,
           0.03127,
           0.05628,
           0.03356,
           0.01454,
           0.01329,
           0.02951,
           0.02309,
           0.03546,
           0.02388,
           0.02769,
           0.01799,
           0.01778,
           0.0152,
           0.01465,
           0.01637,
           0.03397,
           0.03156,
           0.01686,
           0.01879,
           0.01956,
           0.01924,
           0.01254,
           0.02091,
           0.01145,
           0.0135,
           0.01924,
           0.0152,
           0.01792,
           0.03082,
           0.03265,
           0.02711,
           0.0388,
           0.01682,
           0.01613,
           0.01065,
           0.01575,
           0.01798,
           0.01547,
           0.02165,
           0.01172,
           0.02538,
           0.01069,
           0.01897,
           0.03139,
           0.02025,
           0.05113,
           0.03373,
           0.03799,
           0.01878,
           0.02545,
           0.01853,
           0.02689,
           0.0214,
           0.01415,
           0.01522,
           0.01503,
           0.01594,
           0.02175,
           0.01998,
           0.01782,
           0.01523,
           0.0221,
           0.02294,
           0.02514,
           0.009539,
           0.03176,
           0.01616,
           0.04783,
           0.02175,
           0.04499,
           0.01939,
           0.02793,
           0.0256,
           0.01897,
           0.01332,
           0.01371,
           0.01842,
           0.02637,
           0.01772,
           0.01482,
           0.02266,
           0.01502,
           0.01391,
           0.01365,
           0.0168,
           0.01177,
           0.01537,
           0.01916,
           0.01298,
           0.02383,
           0.01263,
           0.0159,
           0.01341,
           0.01185,
           0.01226,
           0.01898,
           0.0172,
           0.01995,
           0.02598,
           0.02186,
           0.03476,
           0.01962,
           0.01266,
           0.02158,
           0.01677,
           0.02401,
           0.02292,
           0.01467,
           0.01394,
           0.01365,
           0.02062,
           0.01936,
           0.01884,
           0.02337,
           0.009947,
           0.01282,
           0.01411,
           0.02747,
           0.01013,
           0.01144,
           0.01367,
           0.03504,
           0.0203,
           0.02593,
           0.02728,
           0.01536,
           0.01692,
           0.01924,
           0.01798,
           0.01419,
           0.02678,
           0.02358,
           0.0193,
           0.01344,
           0.01528,
           0.01435,
           0.02921,
           0.01623,
           0.01388,
           0.01878,
           0.02571,
           0.01872,
           0.01619,
           0.03418,
           0.03416,
           0.04077,
           0.01522,
           0.02625,
           0.01792,
           0.01374,
           0.02154,
           0.02941,
           0.01575,
           0.01103,
           0.03464,
           0.01884,
           0.0274,
           0.02736,
           0.01791,
           0.01894,
           0.03194,
           0.01344,
           0.02701,
           0.0148,
           0.01422,
           0.02349,
           0.01494,
           0.01731,
           0.02032,
           0.06146,
           0.01393,
           0.01977,
           0.01275,
           0.03491,
           0.03433,
           0.02719,
           0.02193,
           0.01202,
           0.02768,
           0.01333,
           0.02057,
           0.01416,
           0.01466,
           0.01536,
           0.04022,
           0.01467,
           0.02751,
           0.04243,
           0.017,
           0.01939,
           0.01829,
           0.01639,
           0.02168,
           0.021,
           0.01479,
           0.01873,
           0.0175,
           0.02348,
           0.03756,
           0.01953,
           0.03675,
           0.01982,
           0.02163,
           0.01755,
           0.02734,
           0.02216,
           0.05543,
           0.02335,
           0.0212,
           0.03102,
           0.02639,
           0.0286,
           0.01544,
           0.02837,
           0.01942,
           0.02043,
           0.01829,
           0.01909,
           0.01694,
           0.01291,
           0.01445,
           0.0371,
           0.01938,
           0.01263,
           0.01518,
           0.03197,
           0.01647,
           0.01675,
           0.01276,
           0.01943,
           0.01934,
           0.01617,
           0.01442,
           0.01818,
           0.01738,
           0.02108,
           0.0188,
           0.0247,
           0.01838,
           0.01461,
           0.0174,
           0.01921,
           0.01647,
           0.01219,
           0.02768,
           0.01938,
           0.01865,
           0.01852,
           0.02045,
           0.02015,
           0.01719,
           0.01315,
           0.01869,
           0.01191,
           0.01477,
           0.01591,
           0.01096,
           0.02632,
           0.0187,
           0.0297,
           0.02079,
           0.015,
           0.02669,
           0.01414,
           0.02578,
           0.01341,
           0.01718,
           0.01951,
           0.01906,
           0.03151,
           0.02258,
           0.03044,
           0.02018,
           0.01713,
           0.02694,
           0.01868,
           0.02653,
           0.01848,
           0.01581,
           0.031,
           0.01445,
           0.02161,
           0.01844,
           0.02009,
           0.0194,
           0.01499,
           0.02187,
           0.02451,
           0.02383,
           0.01551,
           0.01223,
           0.02223,
           0.02005,
           0.02014,
           0.01171,
           0.01516,
           0.01594,
           0.01227,
           0.01717,
           0.01295,
           0.02094,
           0.01237,
           0.02254,
           0.01394,
           0.01029,
           0.02354,
           0.01641,
           0.01745,
           0.02207,
           0.01608,
           0.01564,
           0.02475,
           0.01347,
           0.01215,
           0.01574,
           0.02045,
           0.01697,
           0.01414,
           0.02124,
           0.01093,
           0.01526,
           0.01561,
           0.02693,
           0.01673,
           0.01807,
           0.0196,
           0.02047,
           0.01148,
           0.03141,
           0.01212,
           0.01601,
           0.0161,
           0.01316,
           0.01843,
           0.02773,
           0.01454,
           0.01062,
           0.01698,
           0.01285,
           0.01175,
           0.03232,
           0.01254,
           0.01717,
           0.02152,
           0.01961,
           0.01608,
           0.01302,
           0.02897,
           0.02869,
           0.02086,
           0.01959,
           0.01759,
           0.01536,
           0.01617,
           0.01117,
           0.01055,
           0.02434,
           0.02801,
           0.02201,
           0.02542,
           0.02632,
           0.0132,
           0.0222,
           0.01344,
           0.02105,
           0.0226,
           0.0158,
           0.01705,
           0.01539,
           0.01152,
           0.02434,
           0.01559,
           0.01057,
           0.01816,
           0.01805,
           0.03997,
           0.01879,
           0.01487,
           0.0187,
           0.01824,
           0.01592,
           0.01354,
           0.01129,
           0.01715,
           0.01962,
           0.01835,
           0.01449,
           0.01054,
           0.02816,
           0.01322,
           0.01948,
           0.01451,
           0.0156,
           0.02882,
           0.02105,
           0.0184,
           0.02068,
           0.0187,
           0.01724,
           0.0149,
           0.02087,
           0.0156,
           0.02277,
           0.02203,
           0.02466,
           0.03004,
           0.02912,
           0.01897,
           0.03759,
           0.01695,
           0.01843,
           0.02572,
           0.03004,
           0.01638,
           0.01488,
           0.0208,
           0.01989,
           0.02137,
           0.02057,
           0.01114,
           0.01898,
           0.01318,
           0.02324,
           0.02676
          ],
          "coloraxis": "coloraxis",
          "size": [
           0.03003,
           0.01389,
           0.0225,
           0.05963,
           0.01756,
           0.02165,
           0.01369,
           0.01486,
           0.02143,
           0.01789,
           0.0146,
           0.02008,
           0.04484,
           0.02981,
           0.01961,
           0.01857,
           0.0141,
           0.01689,
           0.01356,
           0.0198,
           0.01678,
           0.02027,
           0.03672,
           0.01083,
           0.01468,
           0.02308,
           0.01454,
           0.02293,
           0.01768,
           0.01925,
           0.02007,
           0.02273,
           0.02102,
           0.01543,
           0.01703,
           0.02789,
           0.02028,
           0.02671,
           0.007882,
           0.01377,
           0.0138,
           0.01357,
           0.05333,
           0.01719,
           0.01113,
           0.02428,
           0.02574,
           0.01743,
           0.01428,
           0.01641,
           0.02406,
           0.01325,
           0.01996,
           0.02674,
           0.01095,
           0.03218,
           0.01852,
           0.01817,
           0.0219,
           0.0209,
           0.04183,
           0.03357,
           0.017,
           0.04192,
           0.01635,
           0.019,
           0.02279,
           0.02183,
           0.04197,
           0.02254,
           0.01386,
           0.02541,
           0.01527,
           0.0122,
           0.01386,
           0.0155,
           0.02572,
           0.02591,
           0.07895,
           0.01748,
           0.01816,
           0.02134,
           0.01065,
           0.03056,
           0.01972,
           0.0237,
           0.02418,
           0.01964,
           0.01958,
           0.02427,
           0.02085,
           0.02471,
           0.01069,
           0.01884,
           0.01498,
           0.02657,
           0.0222,
           0.01801,
           0.01651,
           0.01462,
           0.01465,
           0.02659,
           0.01447,
           0.01609,
           0.0271,
           0.01547,
           0.01565,
           0.01251,
           0.03112,
           0.01568,
           0.03281,
           0.02144,
           0.02566,
           0.02287,
           0.01708,
           0.01278,
           0.02384,
           0.01602,
           0.01495,
           0.05014,
           0.01344,
           0.02045,
           0.04547,
           0.0191,
           0.01208,
           0.01247,
           0.01323,
           0.0203,
           0.02353,
           0.01578,
           0.02662,
           0.01397,
           0.01535,
           0.01669,
           0.01492,
           0.01647,
           0.01359,
           0.01501,
           0.05168,
           0.0158,
           0.02277,
           0.01875,
           0.02282,
           0.02104,
           0.01671,
           0.03127,
           0.05628,
           0.03356,
           0.01454,
           0.01329,
           0.02951,
           0.02309,
           0.03546,
           0.02388,
           0.02769,
           0.01799,
           0.01778,
           0.0152,
           0.01465,
           0.01637,
           0.03397,
           0.03156,
           0.01686,
           0.01879,
           0.01956,
           0.01924,
           0.01254,
           0.02091,
           0.01145,
           0.0135,
           0.01924,
           0.0152,
           0.01792,
           0.03082,
           0.03265,
           0.02711,
           0.0388,
           0.01682,
           0.01613,
           0.01065,
           0.01575,
           0.01798,
           0.01547,
           0.02165,
           0.01172,
           0.02538,
           0.01069,
           0.01897,
           0.03139,
           0.02025,
           0.05113,
           0.03373,
           0.03799,
           0.01878,
           0.02545,
           0.01853,
           0.02689,
           0.0214,
           0.01415,
           0.01522,
           0.01503,
           0.01594,
           0.02175,
           0.01998,
           0.01782,
           0.01523,
           0.0221,
           0.02294,
           0.02514,
           0.009539,
           0.03176,
           0.01616,
           0.04783,
           0.02175,
           0.04499,
           0.01939,
           0.02793,
           0.0256,
           0.01897,
           0.01332,
           0.01371,
           0.01842,
           0.02637,
           0.01772,
           0.01482,
           0.02266,
           0.01502,
           0.01391,
           0.01365,
           0.0168,
           0.01177,
           0.01537,
           0.01916,
           0.01298,
           0.02383,
           0.01263,
           0.0159,
           0.01341,
           0.01185,
           0.01226,
           0.01898,
           0.0172,
           0.01995,
           0.02598,
           0.02186,
           0.03476,
           0.01962,
           0.01266,
           0.02158,
           0.01677,
           0.02401,
           0.02292,
           0.01467,
           0.01394,
           0.01365,
           0.02062,
           0.01936,
           0.01884,
           0.02337,
           0.009947,
           0.01282,
           0.01411,
           0.02747,
           0.01013,
           0.01144,
           0.01367,
           0.03504,
           0.0203,
           0.02593,
           0.02728,
           0.01536,
           0.01692,
           0.01924,
           0.01798,
           0.01419,
           0.02678,
           0.02358,
           0.0193,
           0.01344,
           0.01528,
           0.01435,
           0.02921,
           0.01623,
           0.01388,
           0.01878,
           0.02571,
           0.01872,
           0.01619,
           0.03418,
           0.03416,
           0.04077,
           0.01522,
           0.02625,
           0.01792,
           0.01374,
           0.02154,
           0.02941,
           0.01575,
           0.01103,
           0.03464,
           0.01884,
           0.0274,
           0.02736,
           0.01791,
           0.01894,
           0.03194,
           0.01344,
           0.02701,
           0.0148,
           0.01422,
           0.02349,
           0.01494,
           0.01731,
           0.02032,
           0.06146,
           0.01393,
           0.01977,
           0.01275,
           0.03491,
           0.03433,
           0.02719,
           0.02193,
           0.01202,
           0.02768,
           0.01333,
           0.02057,
           0.01416,
           0.01466,
           0.01536,
           0.04022,
           0.01467,
           0.02751,
           0.04243,
           0.017,
           0.01939,
           0.01829,
           0.01639,
           0.02168,
           0.021,
           0.01479,
           0.01873,
           0.0175,
           0.02348,
           0.03756,
           0.01953,
           0.03675,
           0.01982,
           0.02163,
           0.01755,
           0.02734,
           0.02216,
           0.05543,
           0.02335,
           0.0212,
           0.03102,
           0.02639,
           0.0286,
           0.01544,
           0.02837,
           0.01942,
           0.02043,
           0.01829,
           0.01909,
           0.01694,
           0.01291,
           0.01445,
           0.0371,
           0.01938,
           0.01263,
           0.01518,
           0.03197,
           0.01647,
           0.01675,
           0.01276,
           0.01943,
           0.01934,
           0.01617,
           0.01442,
           0.01818,
           0.01738,
           0.02108,
           0.0188,
           0.0247,
           0.01838,
           0.01461,
           0.0174,
           0.01921,
           0.01647,
           0.01219,
           0.02768,
           0.01938,
           0.01865,
           0.01852,
           0.02045,
           0.02015,
           0.01719,
           0.01315,
           0.01869,
           0.01191,
           0.01477,
           0.01591,
           0.01096,
           0.02632,
           0.0187,
           0.0297,
           0.02079,
           0.015,
           0.02669,
           0.01414,
           0.02578,
           0.01341,
           0.01718,
           0.01951,
           0.01906,
           0.03151,
           0.02258,
           0.03044,
           0.02018,
           0.01713,
           0.02694,
           0.01868,
           0.02653,
           0.01848,
           0.01581,
           0.031,
           0.01445,
           0.02161,
           0.01844,
           0.02009,
           0.0194,
           0.01499,
           0.02187,
           0.02451,
           0.02383,
           0.01551,
           0.01223,
           0.02223,
           0.02005,
           0.02014,
           0.01171,
           0.01516,
           0.01594,
           0.01227,
           0.01717,
           0.01295,
           0.02094,
           0.01237,
           0.02254,
           0.01394,
           0.01029,
           0.02354,
           0.01641,
           0.01745,
           0.02207,
           0.01608,
           0.01564,
           0.02475,
           0.01347,
           0.01215,
           0.01574,
           0.02045,
           0.01697,
           0.01414,
           0.02124,
           0.01093,
           0.01526,
           0.01561,
           0.02693,
           0.01673,
           0.01807,
           0.0196,
           0.02047,
           0.01148,
           0.03141,
           0.01212,
           0.01601,
           0.0161,
           0.01316,
           0.01843,
           0.02773,
           0.01454,
           0.01062,
           0.01698,
           0.01285,
           0.01175,
           0.03232,
           0.01254,
           0.01717,
           0.02152,
           0.01961,
           0.01608,
           0.01302,
           0.02897,
           0.02869,
           0.02086,
           0.01959,
           0.01759,
           0.01536,
           0.01617,
           0.01117,
           0.01055,
           0.02434,
           0.02801,
           0.02201,
           0.02542,
           0.02632,
           0.0132,
           0.0222,
           0.01344,
           0.02105,
           0.0226,
           0.0158,
           0.01705,
           0.01539,
           0.01152,
           0.02434,
           0.01559,
           0.01057,
           0.01816,
           0.01805,
           0.03997,
           0.01879,
           0.01487,
           0.0187,
           0.01824,
           0.01592,
           0.01354,
           0.01129,
           0.01715,
           0.01962,
           0.01835,
           0.01449,
           0.01054,
           0.02816,
           0.01322,
           0.01948,
           0.01451,
           0.0156,
           0.02882,
           0.02105,
           0.0184,
           0.02068,
           0.0187,
           0.01724,
           0.0149,
           0.02087,
           0.0156,
           0.02277,
           0.02203,
           0.02466,
           0.03004,
           0.02912,
           0.01897,
           0.03759,
           0.01695,
           0.01843,
           0.02572,
           0.03004,
           0.01638,
           0.01488,
           0.0208,
           0.01989,
           0.02137,
           0.02057,
           0.01114,
           0.01898,
           0.01318,
           0.02324,
           0.02676
          ],
          "sizemode": "area",
          "sizeref": 0.000197375,
          "symbol": "circle"
         },
         "mode": "markers",
         "name": "",
         "orientation": "h",
         "showlegend": false,
         "type": "scatter",
         "x": [
          0.03003,
          0.01389,
          0.0225,
          0.05963,
          0.01756,
          0.02165,
          0.01369,
          0.01486,
          0.02143,
          0.01789,
          0.0146,
          0.02008,
          0.04484,
          0.02981,
          0.01961,
          0.01857,
          0.0141,
          0.01689,
          0.01356,
          0.0198,
          0.01678,
          0.02027,
          0.03672,
          0.01083,
          0.01468,
          0.02308,
          0.01454,
          0.02293,
          0.01768,
          0.01925,
          0.02007,
          0.02273,
          0.02102,
          0.01543,
          0.01703,
          0.02789,
          0.02028,
          0.02671,
          0.007882,
          0.01377,
          0.0138,
          0.01357,
          0.05333,
          0.01719,
          0.01113,
          0.02428,
          0.02574,
          0.01743,
          0.01428,
          0.01641,
          0.02406,
          0.01325,
          0.01996,
          0.02674,
          0.01095,
          0.03218,
          0.01852,
          0.01817,
          0.0219,
          0.0209,
          0.04183,
          0.03357,
          0.017,
          0.04192,
          0.01635,
          0.019,
          0.02279,
          0.02183,
          0.04197,
          0.02254,
          0.01386,
          0.02541,
          0.01527,
          0.0122,
          0.01386,
          0.0155,
          0.02572,
          0.02591,
          0.07895,
          0.01748,
          0.01816,
          0.02134,
          0.01065,
          0.03056,
          0.01972,
          0.0237,
          0.02418,
          0.01964,
          0.01958,
          0.02427,
          0.02085,
          0.02471,
          0.01069,
          0.01884,
          0.01498,
          0.02657,
          0.0222,
          0.01801,
          0.01651,
          0.01462,
          0.01465,
          0.02659,
          0.01447,
          0.01609,
          0.0271,
          0.01547,
          0.01565,
          0.01251,
          0.03112,
          0.01568,
          0.03281,
          0.02144,
          0.02566,
          0.02287,
          0.01708,
          0.01278,
          0.02384,
          0.01602,
          0.01495,
          0.05014,
          0.01344,
          0.02045,
          0.04547,
          0.0191,
          0.01208,
          0.01247,
          0.01323,
          0.0203,
          0.02353,
          0.01578,
          0.02662,
          0.01397,
          0.01535,
          0.01669,
          0.01492,
          0.01647,
          0.01359,
          0.01501,
          0.05168,
          0.0158,
          0.02277,
          0.01875,
          0.02282,
          0.02104,
          0.01671,
          0.03127,
          0.05628,
          0.03356,
          0.01454,
          0.01329,
          0.02951,
          0.02309,
          0.03546,
          0.02388,
          0.02769,
          0.01799,
          0.01778,
          0.0152,
          0.01465,
          0.01637,
          0.03397,
          0.03156,
          0.01686,
          0.01879,
          0.01956,
          0.01924,
          0.01254,
          0.02091,
          0.01145,
          0.0135,
          0.01924,
          0.0152,
          0.01792,
          0.03082,
          0.03265,
          0.02711,
          0.0388,
          0.01682,
          0.01613,
          0.01065,
          0.01575,
          0.01798,
          0.01547,
          0.02165,
          0.01172,
          0.02538,
          0.01069,
          0.01897,
          0.03139,
          0.02025,
          0.05113,
          0.03373,
          0.03799,
          0.01878,
          0.02545,
          0.01853,
          0.02689,
          0.0214,
          0.01415,
          0.01522,
          0.01503,
          0.01594,
          0.02175,
          0.01998,
          0.01782,
          0.01523,
          0.0221,
          0.02294,
          0.02514,
          0.009539,
          0.03176,
          0.01616,
          0.04783,
          0.02175,
          0.04499,
          0.01939,
          0.02793,
          0.0256,
          0.01897,
          0.01332,
          0.01371,
          0.01842,
          0.02637,
          0.01772,
          0.01482,
          0.02266,
          0.01502,
          0.01391,
          0.01365,
          0.0168,
          0.01177,
          0.01537,
          0.01916,
          0.01298,
          0.02383,
          0.01263,
          0.0159,
          0.01341,
          0.01185,
          0.01226,
          0.01898,
          0.0172,
          0.01995,
          0.02598,
          0.02186,
          0.03476,
          0.01962,
          0.01266,
          0.02158,
          0.01677,
          0.02401,
          0.02292,
          0.01467,
          0.01394,
          0.01365,
          0.02062,
          0.01936,
          0.01884,
          0.02337,
          0.009947,
          0.01282,
          0.01411,
          0.02747,
          0.01013,
          0.01144,
          0.01367,
          0.03504,
          0.0203,
          0.02593,
          0.02728,
          0.01536,
          0.01692,
          0.01924,
          0.01798,
          0.01419,
          0.02678,
          0.02358,
          0.0193,
          0.01344,
          0.01528,
          0.01435,
          0.02921,
          0.01623,
          0.01388,
          0.01878,
          0.02571,
          0.01872,
          0.01619,
          0.03418,
          0.03416,
          0.04077,
          0.01522,
          0.02625,
          0.01792,
          0.01374,
          0.02154,
          0.02941,
          0.01575,
          0.01103,
          0.03464,
          0.01884,
          0.0274,
          0.02736,
          0.01791,
          0.01894,
          0.03194,
          0.01344,
          0.02701,
          0.0148,
          0.01422,
          0.02349,
          0.01494,
          0.01731,
          0.02032,
          0.06146,
          0.01393,
          0.01977,
          0.01275,
          0.03491,
          0.03433,
          0.02719,
          0.02193,
          0.01202,
          0.02768,
          0.01333,
          0.02057,
          0.01416,
          0.01466,
          0.01536,
          0.04022,
          0.01467,
          0.02751,
          0.04243,
          0.017,
          0.01939,
          0.01829,
          0.01639,
          0.02168,
          0.021,
          0.01479,
          0.01873,
          0.0175,
          0.02348,
          0.03756,
          0.01953,
          0.03675,
          0.01982,
          0.02163,
          0.01755,
          0.02734,
          0.02216,
          0.05543,
          0.02335,
          0.0212,
          0.03102,
          0.02639,
          0.0286,
          0.01544,
          0.02837,
          0.01942,
          0.02043,
          0.01829,
          0.01909,
          0.01694,
          0.01291,
          0.01445,
          0.0371,
          0.01938,
          0.01263,
          0.01518,
          0.03197,
          0.01647,
          0.01675,
          0.01276,
          0.01943,
          0.01934,
          0.01617,
          0.01442,
          0.01818,
          0.01738,
          0.02108,
          0.0188,
          0.0247,
          0.01838,
          0.01461,
          0.0174,
          0.01921,
          0.01647,
          0.01219,
          0.02768,
          0.01938,
          0.01865,
          0.01852,
          0.02045,
          0.02015,
          0.01719,
          0.01315,
          0.01869,
          0.01191,
          0.01477,
          0.01591,
          0.01096,
          0.02632,
          0.0187,
          0.0297,
          0.02079,
          0.015,
          0.02669,
          0.01414,
          0.02578,
          0.01341,
          0.01718,
          0.01951,
          0.01906,
          0.03151,
          0.02258,
          0.03044,
          0.02018,
          0.01713,
          0.02694,
          0.01868,
          0.02653,
          0.01848,
          0.01581,
          0.031,
          0.01445,
          0.02161,
          0.01844,
          0.02009,
          0.0194,
          0.01499,
          0.02187,
          0.02451,
          0.02383,
          0.01551,
          0.01223,
          0.02223,
          0.02005,
          0.02014,
          0.01171,
          0.01516,
          0.01594,
          0.01227,
          0.01717,
          0.01295,
          0.02094,
          0.01237,
          0.02254,
          0.01394,
          0.01029,
          0.02354,
          0.01641,
          0.01745,
          0.02207,
          0.01608,
          0.01564,
          0.02475,
          0.01347,
          0.01215,
          0.01574,
          0.02045,
          0.01697,
          0.01414,
          0.02124,
          0.01093,
          0.01526,
          0.01561,
          0.02693,
          0.01673,
          0.01807,
          0.0196,
          0.02047,
          0.01148,
          0.03141,
          0.01212,
          0.01601,
          0.0161,
          0.01316,
          0.01843,
          0.02773,
          0.01454,
          0.01062,
          0.01698,
          0.01285,
          0.01175,
          0.03232,
          0.01254,
          0.01717,
          0.02152,
          0.01961,
          0.01608,
          0.01302,
          0.02897,
          0.02869,
          0.02086,
          0.01959,
          0.01759,
          0.01536,
          0.01617,
          0.01117,
          0.01055,
          0.02434,
          0.02801,
          0.02201,
          0.02542,
          0.02632,
          0.0132,
          0.0222,
          0.01344,
          0.02105,
          0.0226,
          0.0158,
          0.01705,
          0.01539,
          0.01152,
          0.02434,
          0.01559,
          0.01057,
          0.01816,
          0.01805,
          0.03997,
          0.01879,
          0.01487,
          0.0187,
          0.01824,
          0.01592,
          0.01354,
          0.01129,
          0.01715,
          0.01962,
          0.01835,
          0.01449,
          0.01054,
          0.02816,
          0.01322,
          0.01948,
          0.01451,
          0.0156,
          0.02882,
          0.02105,
          0.0184,
          0.02068,
          0.0187,
          0.01724,
          0.0149,
          0.02087,
          0.0156,
          0.02277,
          0.02203,
          0.02466,
          0.03004,
          0.02912,
          0.01897,
          0.03759,
          0.01695,
          0.01843,
          0.02572,
          0.03004,
          0.01638,
          0.01488,
          0.0208,
          0.01989,
          0.02137,
          0.02057,
          0.01114,
          0.01898,
          0.01318,
          0.02324,
          0.02676
         ],
         "xaxis": "x",
         "y": [
          0,
          1,
          2,
          3,
          4,
          5,
          6,
          7,
          8,
          9,
          10,
          11,
          12,
          13,
          14,
          15,
          16,
          17,
          18,
          19,
          20,
          21,
          22,
          23,
          24,
          25,
          26,
          27,
          28,
          29,
          30,
          31,
          32,
          33,
          34,
          35,
          36,
          37,
          38,
          39,
          40,
          41,
          42,
          43,
          44,
          45,
          46,
          47,
          48,
          49,
          50,
          51,
          52,
          53,
          54,
          55,
          56,
          57,
          58,
          59,
          60,
          61,
          62,
          63,
          64,
          65,
          66,
          67,
          68,
          69,
          70,
          71,
          72,
          73,
          74,
          75,
          76,
          77,
          78,
          79,
          80,
          81,
          82,
          83,
          84,
          85,
          86,
          87,
          88,
          89,
          90,
          91,
          92,
          93,
          94,
          95,
          96,
          97,
          98,
          99,
          100,
          101,
          102,
          103,
          104,
          105,
          106,
          107,
          108,
          109,
          110,
          111,
          112,
          113,
          114,
          115,
          116,
          117,
          118,
          119,
          120,
          121,
          122,
          123,
          124,
          125,
          126,
          127,
          128,
          129,
          130,
          131,
          132,
          133,
          134,
          135,
          136,
          137,
          138,
          139,
          140,
          141,
          142,
          143,
          144,
          145,
          146,
          147,
          148,
          149,
          150,
          151,
          152,
          153,
          154,
          155,
          156,
          157,
          158,
          159,
          160,
          161,
          162,
          163,
          164,
          165,
          166,
          167,
          168,
          169,
          170,
          171,
          172,
          173,
          174,
          175,
          176,
          177,
          178,
          179,
          180,
          181,
          182,
          183,
          184,
          185,
          186,
          187,
          188,
          189,
          190,
          191,
          192,
          193,
          194,
          195,
          196,
          197,
          198,
          199,
          200,
          201,
          202,
          203,
          204,
          205,
          206,
          207,
          208,
          209,
          210,
          211,
          212,
          213,
          214,
          215,
          216,
          217,
          218,
          219,
          220,
          221,
          222,
          223,
          224,
          225,
          226,
          227,
          228,
          229,
          230,
          231,
          232,
          233,
          234,
          235,
          236,
          237,
          238,
          239,
          240,
          241,
          242,
          243,
          244,
          245,
          246,
          247,
          248,
          249,
          250,
          251,
          252,
          253,
          254,
          255,
          256,
          257,
          258,
          259,
          260,
          261,
          262,
          263,
          264,
          265,
          266,
          267,
          268,
          269,
          270,
          271,
          272,
          273,
          274,
          275,
          276,
          277,
          278,
          279,
          280,
          281,
          282,
          283,
          284,
          285,
          286,
          287,
          288,
          289,
          290,
          291,
          292,
          293,
          294,
          295,
          296,
          297,
          298,
          299,
          300,
          301,
          302,
          303,
          304,
          305,
          306,
          307,
          308,
          309,
          310,
          311,
          312,
          313,
          314,
          315,
          316,
          317,
          318,
          319,
          320,
          321,
          322,
          323,
          324,
          325,
          326,
          327,
          328,
          329,
          330,
          331,
          332,
          333,
          334,
          335,
          336,
          337,
          338,
          339,
          340,
          341,
          342,
          343,
          344,
          345,
          346,
          347,
          348,
          349,
          350,
          351,
          352,
          353,
          354,
          355,
          356,
          357,
          358,
          359,
          360,
          361,
          362,
          363,
          364,
          365,
          366,
          367,
          368,
          369,
          370,
          371,
          372,
          373,
          374,
          375,
          376,
          377,
          378,
          379,
          380,
          381,
          382,
          383,
          384,
          385,
          386,
          387,
          388,
          389,
          390,
          391,
          392,
          393,
          394,
          395,
          396,
          397,
          398,
          399,
          400,
          401,
          402,
          403,
          404,
          405,
          406,
          407,
          408,
          409,
          410,
          411,
          412,
          413,
          414,
          415,
          416,
          417,
          418,
          419,
          420,
          421,
          422,
          423,
          424,
          425,
          426,
          427,
          428,
          429,
          430,
          431,
          432,
          433,
          434,
          435,
          436,
          437,
          438,
          439,
          440,
          441,
          442,
          443,
          444,
          445,
          446,
          447,
          448,
          449,
          450,
          451,
          452,
          453,
          454,
          455,
          456,
          457,
          458,
          459,
          460,
          461,
          462,
          463,
          464,
          465,
          466,
          467,
          468,
          469,
          470,
          471,
          472,
          473,
          474,
          475,
          476,
          477,
          478,
          479,
          480,
          481,
          482,
          483,
          484,
          485,
          486,
          487,
          488,
          489,
          490,
          491,
          492,
          493,
          494,
          495,
          496,
          497,
          498,
          499,
          500,
          501,
          502,
          503,
          504,
          505,
          506,
          507,
          508,
          509,
          510,
          511,
          512,
          513,
          514,
          515,
          516,
          517,
          518,
          519,
          520,
          521,
          522,
          523,
          524,
          525,
          526,
          527,
          528,
          529,
          530,
          531,
          532,
          533,
          534,
          535,
          536,
          537,
          538,
          539,
          540,
          541,
          542,
          543,
          544,
          545,
          546,
          547,
          548,
          549,
          550,
          551,
          552,
          553,
          554,
          555,
          556,
          557,
          558,
          559,
          560,
          561,
          562,
          563,
          564,
          565,
          566,
          567,
          568
         ],
         "yaxis": "y"
        }
       ],
       "layout": {
        "coloraxis": {
         "colorbar": {
          "title": {
           "text": "Symmetry Error"
          }
         },
         "colorscale": [
          [
           0,
           "rgb(2,4,25)"
          ],
          [
           0.0625,
           "rgb(24,15,41)"
          ],
          [
           0.125,
           "rgb(47,23,57)"
          ],
          [
           0.1875,
           "rgb(71,28,72)"
          ],
          [
           0.25,
           "rgb(97,30,82)"
          ],
          [
           0.3125,
           "rgb(123,30,89)"
          ],
          [
           0.375,
           "rgb(150,27,91)"
          ],
          [
           0.4375,
           "rgb(177,22,88)"
          ],
          [
           0.5,
           "rgb(203,26,79)"
          ],
          [
           0.5625,
           "rgb(223,47,67)"
          ],
          [
           0.625,
           "rgb(236,76,61)"
          ],
          [
           0.6875,
           "rgb(242,107,73)"
          ],
          [
           0.75,
           "rgb(244,135,95)"
          ],
          [
           0.8125,
           "rgb(245,162,122)"
          ],
          [
           0.875,
           "rgb(246,188,153)"
          ],
          [
           0.9375,
           "rgb(247,212,187)"
          ],
          [
           1,
           "rgb(250,234,220)"
          ]
         ]
        },
        "legend": {
         "itemsizing": "constant",
         "tracegroupgap": 0
        },
        "paper_bgcolor": "rgba(0, 0, 0, 0)",
        "plot_bgcolor": "rgba(0, 0, 0, 0)",
        "template": {
         "data": {
          "bar": [
           {
            "error_x": {
             "color": "rgb(36,36,36)"
            },
            "error_y": {
             "color": "rgb(36,36,36)"
            },
            "marker": {
             "line": {
              "color": "rgb(234,234,242)",
              "width": 0.5
             },
             "pattern": {
              "fillmode": "overlay",
              "size": 10,
              "solidity": 0.2
             }
            },
            "type": "bar"
           }
          ],
          "barpolar": [
           {
            "marker": {
             "line": {
              "color": "rgb(234,234,242)",
              "width": 0.5
             },
             "pattern": {
              "fillmode": "overlay",
              "size": 10,
              "solidity": 0.2
             }
            },
            "type": "barpolar"
           }
          ],
          "carpet": [
           {
            "aaxis": {
             "endlinecolor": "rgb(36,36,36)",
             "gridcolor": "white",
             "linecolor": "white",
             "minorgridcolor": "white",
             "startlinecolor": "rgb(36,36,36)"
            },
            "baxis": {
             "endlinecolor": "rgb(36,36,36)",
             "gridcolor": "white",
             "linecolor": "white",
             "minorgridcolor": "white",
             "startlinecolor": "rgb(36,36,36)"
            },
            "type": "carpet"
           }
          ],
          "choropleth": [
           {
            "colorbar": {
             "outlinewidth": 0,
             "tickcolor": "rgb(36,36,36)",
             "ticklen": 8,
             "ticks": "outside",
             "tickwidth": 2
            },
            "type": "choropleth"
           }
          ],
          "contour": [
           {
            "colorbar": {
             "outlinewidth": 0,
             "tickcolor": "rgb(36,36,36)",
             "ticklen": 8,
             "ticks": "outside",
             "tickwidth": 2
            },
            "colorscale": [
             [
              0,
              "rgb(2,4,25)"
             ],
             [
              0.06274509803921569,
              "rgb(24,15,41)"
             ],
             [
              0.12549019607843137,
              "rgb(47,23,57)"
             ],
             [
              0.18823529411764706,
              "rgb(71,28,72)"
             ],
             [
              0.25098039215686274,
              "rgb(97,30,82)"
             ],
             [
              0.3137254901960784,
              "rgb(123,30,89)"
             ],
             [
              0.3764705882352941,
              "rgb(150,27,91)"
             ],
             [
              0.4392156862745098,
              "rgb(177,22,88)"
             ],
             [
              0.5019607843137255,
              "rgb(203,26,79)"
             ],
             [
              0.5647058823529412,
              "rgb(223,47,67)"
             ],
             [
              0.6274509803921569,
              "rgb(236,76,61)"
             ],
             [
              0.6901960784313725,
              "rgb(242,107,73)"
             ],
             [
              0.7529411764705882,
              "rgb(244,135,95)"
             ],
             [
              0.8156862745098039,
              "rgb(245,162,122)"
             ],
             [
              0.8784313725490196,
              "rgb(246,188,153)"
             ],
             [
              0.9411764705882353,
              "rgb(247,212,187)"
             ],
             [
              1,
              "rgb(250,234,220)"
             ]
            ],
            "type": "contour"
           }
          ],
          "contourcarpet": [
           {
            "colorbar": {
             "outlinewidth": 0,
             "tickcolor": "rgb(36,36,36)",
             "ticklen": 8,
             "ticks": "outside",
             "tickwidth": 2
            },
            "type": "contourcarpet"
           }
          ],
          "heatmap": [
           {
            "colorbar": {
             "outlinewidth": 0,
             "tickcolor": "rgb(36,36,36)",
             "ticklen": 8,
             "ticks": "outside",
             "tickwidth": 2
            },
            "colorscale": [
             [
              0,
              "rgb(2,4,25)"
             ],
             [
              0.06274509803921569,
              "rgb(24,15,41)"
             ],
             [
              0.12549019607843137,
              "rgb(47,23,57)"
             ],
             [
              0.18823529411764706,
              "rgb(71,28,72)"
             ],
             [
              0.25098039215686274,
              "rgb(97,30,82)"
             ],
             [
              0.3137254901960784,
              "rgb(123,30,89)"
             ],
             [
              0.3764705882352941,
              "rgb(150,27,91)"
             ],
             [
              0.4392156862745098,
              "rgb(177,22,88)"
             ],
             [
              0.5019607843137255,
              "rgb(203,26,79)"
             ],
             [
              0.5647058823529412,
              "rgb(223,47,67)"
             ],
             [
              0.6274509803921569,
              "rgb(236,76,61)"
             ],
             [
              0.6901960784313725,
              "rgb(242,107,73)"
             ],
             [
              0.7529411764705882,
              "rgb(244,135,95)"
             ],
             [
              0.8156862745098039,
              "rgb(245,162,122)"
             ],
             [
              0.8784313725490196,
              "rgb(246,188,153)"
             ],
             [
              0.9411764705882353,
              "rgb(247,212,187)"
             ],
             [
              1,
              "rgb(250,234,220)"
             ]
            ],
            "type": "heatmap"
           }
          ],
          "heatmapgl": [
           {
            "colorbar": {
             "outlinewidth": 0,
             "tickcolor": "rgb(36,36,36)",
             "ticklen": 8,
             "ticks": "outside",
             "tickwidth": 2
            },
            "colorscale": [
             [
              0,
              "rgb(2,4,25)"
             ],
             [
              0.06274509803921569,
              "rgb(24,15,41)"
             ],
             [
              0.12549019607843137,
              "rgb(47,23,57)"
             ],
             [
              0.18823529411764706,
              "rgb(71,28,72)"
             ],
             [
              0.25098039215686274,
              "rgb(97,30,82)"
             ],
             [
              0.3137254901960784,
              "rgb(123,30,89)"
             ],
             [
              0.3764705882352941,
              "rgb(150,27,91)"
             ],
             [
              0.4392156862745098,
              "rgb(177,22,88)"
             ],
             [
              0.5019607843137255,
              "rgb(203,26,79)"
             ],
             [
              0.5647058823529412,
              "rgb(223,47,67)"
             ],
             [
              0.6274509803921569,
              "rgb(236,76,61)"
             ],
             [
              0.6901960784313725,
              "rgb(242,107,73)"
             ],
             [
              0.7529411764705882,
              "rgb(244,135,95)"
             ],
             [
              0.8156862745098039,
              "rgb(245,162,122)"
             ],
             [
              0.8784313725490196,
              "rgb(246,188,153)"
             ],
             [
              0.9411764705882353,
              "rgb(247,212,187)"
             ],
             [
              1,
              "rgb(250,234,220)"
             ]
            ],
            "type": "heatmapgl"
           }
          ],
          "histogram": [
           {
            "marker": {
             "pattern": {
              "fillmode": "overlay",
              "size": 10,
              "solidity": 0.2
             }
            },
            "type": "histogram"
           }
          ],
          "histogram2d": [
           {
            "colorbar": {
             "outlinewidth": 0,
             "tickcolor": "rgb(36,36,36)",
             "ticklen": 8,
             "ticks": "outside",
             "tickwidth": 2
            },
            "colorscale": [
             [
              0,
              "rgb(2,4,25)"
             ],
             [
              0.06274509803921569,
              "rgb(24,15,41)"
             ],
             [
              0.12549019607843137,
              "rgb(47,23,57)"
             ],
             [
              0.18823529411764706,
              "rgb(71,28,72)"
             ],
             [
              0.25098039215686274,
              "rgb(97,30,82)"
             ],
             [
              0.3137254901960784,
              "rgb(123,30,89)"
             ],
             [
              0.3764705882352941,
              "rgb(150,27,91)"
             ],
             [
              0.4392156862745098,
              "rgb(177,22,88)"
             ],
             [
              0.5019607843137255,
              "rgb(203,26,79)"
             ],
             [
              0.5647058823529412,
              "rgb(223,47,67)"
             ],
             [
              0.6274509803921569,
              "rgb(236,76,61)"
             ],
             [
              0.6901960784313725,
              "rgb(242,107,73)"
             ],
             [
              0.7529411764705882,
              "rgb(244,135,95)"
             ],
             [
              0.8156862745098039,
              "rgb(245,162,122)"
             ],
             [
              0.8784313725490196,
              "rgb(246,188,153)"
             ],
             [
              0.9411764705882353,
              "rgb(247,212,187)"
             ],
             [
              1,
              "rgb(250,234,220)"
             ]
            ],
            "type": "histogram2d"
           }
          ],
          "histogram2dcontour": [
           {
            "colorbar": {
             "outlinewidth": 0,
             "tickcolor": "rgb(36,36,36)",
             "ticklen": 8,
             "ticks": "outside",
             "tickwidth": 2
            },
            "colorscale": [
             [
              0,
              "rgb(2,4,25)"
             ],
             [
              0.06274509803921569,
              "rgb(24,15,41)"
             ],
             [
              0.12549019607843137,
              "rgb(47,23,57)"
             ],
             [
              0.18823529411764706,
              "rgb(71,28,72)"
             ],
             [
              0.25098039215686274,
              "rgb(97,30,82)"
             ],
             [
              0.3137254901960784,
              "rgb(123,30,89)"
             ],
             [
              0.3764705882352941,
              "rgb(150,27,91)"
             ],
             [
              0.4392156862745098,
              "rgb(177,22,88)"
             ],
             [
              0.5019607843137255,
              "rgb(203,26,79)"
             ],
             [
              0.5647058823529412,
              "rgb(223,47,67)"
             ],
             [
              0.6274509803921569,
              "rgb(236,76,61)"
             ],
             [
              0.6901960784313725,
              "rgb(242,107,73)"
             ],
             [
              0.7529411764705882,
              "rgb(244,135,95)"
             ],
             [
              0.8156862745098039,
              "rgb(245,162,122)"
             ],
             [
              0.8784313725490196,
              "rgb(246,188,153)"
             ],
             [
              0.9411764705882353,
              "rgb(247,212,187)"
             ],
             [
              1,
              "rgb(250,234,220)"
             ]
            ],
            "type": "histogram2dcontour"
           }
          ],
          "mesh3d": [
           {
            "colorbar": {
             "outlinewidth": 0,
             "tickcolor": "rgb(36,36,36)",
             "ticklen": 8,
             "ticks": "outside",
             "tickwidth": 2
            },
            "type": "mesh3d"
           }
          ],
          "parcoords": [
           {
            "line": {
             "colorbar": {
              "outlinewidth": 0,
              "tickcolor": "rgb(36,36,36)",
              "ticklen": 8,
              "ticks": "outside",
              "tickwidth": 2
             }
            },
            "type": "parcoords"
           }
          ],
          "pie": [
           {
            "automargin": true,
            "type": "pie"
           }
          ],
          "scatter": [
           {
            "fillpattern": {
             "fillmode": "overlay",
             "size": 10,
             "solidity": 0.2
            },
            "type": "scatter"
           }
          ],
          "scatter3d": [
           {
            "line": {
             "colorbar": {
              "outlinewidth": 0,
              "tickcolor": "rgb(36,36,36)",
              "ticklen": 8,
              "ticks": "outside",
              "tickwidth": 2
             }
            },
            "marker": {
             "colorbar": {
              "outlinewidth": 0,
              "tickcolor": "rgb(36,36,36)",
              "ticklen": 8,
              "ticks": "outside",
              "tickwidth": 2
             }
            },
            "type": "scatter3d"
           }
          ],
          "scattercarpet": [
           {
            "marker": {
             "colorbar": {
              "outlinewidth": 0,
              "tickcolor": "rgb(36,36,36)",
              "ticklen": 8,
              "ticks": "outside",
              "tickwidth": 2
             }
            },
            "type": "scattercarpet"
           }
          ],
          "scattergeo": [
           {
            "marker": {
             "colorbar": {
              "outlinewidth": 0,
              "tickcolor": "rgb(36,36,36)",
              "ticklen": 8,
              "ticks": "outside",
              "tickwidth": 2
             }
            },
            "type": "scattergeo"
           }
          ],
          "scattergl": [
           {
            "marker": {
             "colorbar": {
              "outlinewidth": 0,
              "tickcolor": "rgb(36,36,36)",
              "ticklen": 8,
              "ticks": "outside",
              "tickwidth": 2
             }
            },
            "type": "scattergl"
           }
          ],
          "scattermapbox": [
           {
            "marker": {
             "colorbar": {
              "outlinewidth": 0,
              "tickcolor": "rgb(36,36,36)",
              "ticklen": 8,
              "ticks": "outside",
              "tickwidth": 2
             }
            },
            "type": "scattermapbox"
           }
          ],
          "scatterpolar": [
           {
            "marker": {
             "colorbar": {
              "outlinewidth": 0,
              "tickcolor": "rgb(36,36,36)",
              "ticklen": 8,
              "ticks": "outside",
              "tickwidth": 2
             }
            },
            "type": "scatterpolar"
           }
          ],
          "scatterpolargl": [
           {
            "marker": {
             "colorbar": {
              "outlinewidth": 0,
              "tickcolor": "rgb(36,36,36)",
              "ticklen": 8,
              "ticks": "outside",
              "tickwidth": 2
             }
            },
            "type": "scatterpolargl"
           }
          ],
          "scatterternary": [
           {
            "marker": {
             "colorbar": {
              "outlinewidth": 0,
              "tickcolor": "rgb(36,36,36)",
              "ticklen": 8,
              "ticks": "outside",
              "tickwidth": 2
             }
            },
            "type": "scatterternary"
           }
          ],
          "surface": [
           {
            "colorbar": {
             "outlinewidth": 0,
             "tickcolor": "rgb(36,36,36)",
             "ticklen": 8,
             "ticks": "outside",
             "tickwidth": 2
            },
            "colorscale": [
             [
              0,
              "rgb(2,4,25)"
             ],
             [
              0.06274509803921569,
              "rgb(24,15,41)"
             ],
             [
              0.12549019607843137,
              "rgb(47,23,57)"
             ],
             [
              0.18823529411764706,
              "rgb(71,28,72)"
             ],
             [
              0.25098039215686274,
              "rgb(97,30,82)"
             ],
             [
              0.3137254901960784,
              "rgb(123,30,89)"
             ],
             [
              0.3764705882352941,
              "rgb(150,27,91)"
             ],
             [
              0.4392156862745098,
              "rgb(177,22,88)"
             ],
             [
              0.5019607843137255,
              "rgb(203,26,79)"
             ],
             [
              0.5647058823529412,
              "rgb(223,47,67)"
             ],
             [
              0.6274509803921569,
              "rgb(236,76,61)"
             ],
             [
              0.6901960784313725,
              "rgb(242,107,73)"
             ],
             [
              0.7529411764705882,
              "rgb(244,135,95)"
             ],
             [
              0.8156862745098039,
              "rgb(245,162,122)"
             ],
             [
              0.8784313725490196,
              "rgb(246,188,153)"
             ],
             [
              0.9411764705882353,
              "rgb(247,212,187)"
             ],
             [
              1,
              "rgb(250,234,220)"
             ]
            ],
            "type": "surface"
           }
          ],
          "table": [
           {
            "cells": {
             "fill": {
              "color": "rgb(231,231,240)"
             },
             "line": {
              "color": "white"
             }
            },
            "header": {
             "fill": {
              "color": "rgb(183,183,191)"
             },
             "line": {
              "color": "white"
             }
            },
            "type": "table"
           }
          ]
         },
         "layout": {
          "annotationdefaults": {
           "arrowcolor": "rgb(67,103,167)"
          },
          "autotypenumbers": "strict",
          "coloraxis": {
           "colorbar": {
            "outlinewidth": 0,
            "tickcolor": "rgb(36,36,36)",
            "ticklen": 8,
            "ticks": "outside",
            "tickwidth": 2
           }
          },
          "colorscale": {
           "sequential": [
            [
             0,
             "rgb(2,4,25)"
            ],
            [
             0.06274509803921569,
             "rgb(24,15,41)"
            ],
            [
             0.12549019607843137,
             "rgb(47,23,57)"
            ],
            [
             0.18823529411764706,
             "rgb(71,28,72)"
            ],
            [
             0.25098039215686274,
             "rgb(97,30,82)"
            ],
            [
             0.3137254901960784,
             "rgb(123,30,89)"
            ],
            [
             0.3764705882352941,
             "rgb(150,27,91)"
            ],
            [
             0.4392156862745098,
             "rgb(177,22,88)"
            ],
            [
             0.5019607843137255,
             "rgb(203,26,79)"
            ],
            [
             0.5647058823529412,
             "rgb(223,47,67)"
            ],
            [
             0.6274509803921569,
             "rgb(236,76,61)"
            ],
            [
             0.6901960784313725,
             "rgb(242,107,73)"
            ],
            [
             0.7529411764705882,
             "rgb(244,135,95)"
            ],
            [
             0.8156862745098039,
             "rgb(245,162,122)"
            ],
            [
             0.8784313725490196,
             "rgb(246,188,153)"
            ],
            [
             0.9411764705882353,
             "rgb(247,212,187)"
            ],
            [
             1,
             "rgb(250,234,220)"
            ]
           ],
           "sequentialminus": [
            [
             0,
             "rgb(2,4,25)"
            ],
            [
             0.06274509803921569,
             "rgb(24,15,41)"
            ],
            [
             0.12549019607843137,
             "rgb(47,23,57)"
            ],
            [
             0.18823529411764706,
             "rgb(71,28,72)"
            ],
            [
             0.25098039215686274,
             "rgb(97,30,82)"
            ],
            [
             0.3137254901960784,
             "rgb(123,30,89)"
            ],
            [
             0.3764705882352941,
             "rgb(150,27,91)"
            ],
            [
             0.4392156862745098,
             "rgb(177,22,88)"
            ],
            [
             0.5019607843137255,
             "rgb(203,26,79)"
            ],
            [
             0.5647058823529412,
             "rgb(223,47,67)"
            ],
            [
             0.6274509803921569,
             "rgb(236,76,61)"
            ],
            [
             0.6901960784313725,
             "rgb(242,107,73)"
            ],
            [
             0.7529411764705882,
             "rgb(244,135,95)"
            ],
            [
             0.8156862745098039,
             "rgb(245,162,122)"
            ],
            [
             0.8784313725490196,
             "rgb(246,188,153)"
            ],
            [
             0.9411764705882353,
             "rgb(247,212,187)"
            ],
            [
             1,
             "rgb(250,234,220)"
            ]
           ]
          },
          "colorway": [
           "rgb(76,114,176)",
           "rgb(221,132,82)",
           "rgb(85,168,104)",
           "rgb(196,78,82)",
           "rgb(129,114,179)",
           "rgb(147,120,96)",
           "rgb(218,139,195)",
           "rgb(140,140,140)",
           "rgb(204,185,116)",
           "rgb(100,181,205)"
          ],
          "font": {
           "color": "rgb(36,36,36)"
          },
          "geo": {
           "bgcolor": "white",
           "lakecolor": "white",
           "landcolor": "rgb(234,234,242)",
           "showlakes": true,
           "showland": true,
           "subunitcolor": "white"
          },
          "hoverlabel": {
           "align": "left"
          },
          "hovermode": "closest",
          "paper_bgcolor": "white",
          "plot_bgcolor": "rgb(234,234,242)",
          "polar": {
           "angularaxis": {
            "gridcolor": "white",
            "linecolor": "white",
            "showgrid": true,
            "ticks": ""
           },
           "bgcolor": "rgb(234,234,242)",
           "radialaxis": {
            "gridcolor": "white",
            "linecolor": "white",
            "showgrid": true,
            "ticks": ""
           }
          },
          "scene": {
           "xaxis": {
            "backgroundcolor": "rgb(234,234,242)",
            "gridcolor": "white",
            "gridwidth": 2,
            "linecolor": "white",
            "showbackground": true,
            "showgrid": true,
            "ticks": "",
            "zerolinecolor": "white"
           },
           "yaxis": {
            "backgroundcolor": "rgb(234,234,242)",
            "gridcolor": "white",
            "gridwidth": 2,
            "linecolor": "white",
            "showbackground": true,
            "showgrid": true,
            "ticks": "",
            "zerolinecolor": "white"
           },
           "zaxis": {
            "backgroundcolor": "rgb(234,234,242)",
            "gridcolor": "white",
            "gridwidth": 2,
            "linecolor": "white",
            "showbackground": true,
            "showgrid": true,
            "ticks": "",
            "zerolinecolor": "white"
           }
          },
          "shapedefaults": {
           "fillcolor": "rgb(67,103,167)",
           "line": {
            "width": 0
           },
           "opacity": 0.5
          },
          "ternary": {
           "aaxis": {
            "gridcolor": "white",
            "linecolor": "white",
            "showgrid": true,
            "ticks": ""
           },
           "baxis": {
            "gridcolor": "white",
            "linecolor": "white",
            "showgrid": true,
            "ticks": ""
           },
           "bgcolor": "rgb(234,234,242)",
           "caxis": {
            "gridcolor": "white",
            "linecolor": "white",
            "showgrid": true,
            "ticks": ""
           }
          },
          "xaxis": {
           "automargin": true,
           "gridcolor": "white",
           "linecolor": "white",
           "showgrid": true,
           "ticks": "",
           "title": {
            "standoff": 15
           },
           "zerolinecolor": "white"
          },
          "yaxis": {
           "automargin": true,
           "gridcolor": "white",
           "linecolor": "white",
           "showgrid": true,
           "ticks": "",
           "title": {
            "standoff": 15
           },
           "zerolinecolor": "white"
          }
         }
        },
        "title": {
         "text": "Symmetry Error Spread"
        },
        "xaxis": {
         "anchor": "y",
         "domain": [
          0,
          1
         ],
         "title": {
          "text": "Symmetry Error"
         }
        },
        "yaxis": {
         "anchor": "x",
         "domain": [
          0,
          1
         ],
         "title": {
          "text": " "
         }
        }
       }
      },
      "text/html": [
       "<div>                            <div id=\"5a1e8238-fac1-42f5-a802-65058931b56f\" class=\"plotly-graph-div\" style=\"height:525px; width:100%;\"></div>            <script type=\"text/javascript\">                require([\"plotly\"], function(Plotly) {                    window.PLOTLYENV=window.PLOTLYENV || {};                                    if (document.getElementById(\"5a1e8238-fac1-42f5-a802-65058931b56f\")) {                    Plotly.newPlot(                        \"5a1e8238-fac1-42f5-a802-65058931b56f\",                        [{\"customdata\":[[0],[0],[0],[0],[0],[0],[0],[0],[0],[0],[0],[0],[0],[0],[0],[0],[0],[0],[0],[1],[1],[1],[0],[0],[0],[0],[0],[0],[0],[0],[0],[0],[0],[0],[0],[0],[0],[1],[0],[0],[0],[0],[0],[0],[0],[0],[1],[0],[1],[1],[1],[1],[1],[0],[0],[1],[0],[0],[1],[1],[1],[1],[0],[1],[0],[0],[1],[1],[1],[1],[0],[1],[0],[0],[1],[0],[1],[0],[0],[1],[1],[1],[0],[0],[1],[0],[0],[0],[1],[1],[1],[0],[1],[1],[0],[0],[1],[1],[1],[0],[0],[1],[1],[1],[1],[0],[1],[1],[0],[1],[1],[1],[1],[1],[1],[1],[1],[0],[0],[0],[1],[0],[0],[1],[1],[1],[0],[0],[1],[0],[1],[0],[0],[1],[0],[0],[1],[1],[0],[1],[1],[0],[1],[1],[1],[1],[0],[1],[1],[1],[1],[1],[1],[1],[1],[1],[0],[1],[1],[1],[1],[0],[0],[1],[0],[1],[1],[0],[0],[1],[1],[0],[0],[1],[1],[1],[1],[0],[1],[1],[0],[0],[0],[1],[0],[1],[0],[1],[1],[1],[0],[1],[1],[0],[0],[1],[0],[0],[0],[0],[1],[0],[0],[0],[1],[0],[1],[0],[1],[1],[0],[1],[0],[0],[0],[0],[1],[1],[0],[0],[1],[1],[1],[0],[1],[1],[1],[1],[1],[0],[0],[1],[1],[0],[1],[1],[0],[0],[1],[0],[1],[1],[1],[1],[0],[1],[1],[1],[1],[1],[0],[1],[0],[0],[0],[0],[0],[0],[0],[0],[0],[0],[0],[0],[0],[0],[1],[1],[1],[1],[1],[1],[0],[1],[0],[1],[1],[0],[1],[1],[0],[1],[0],[0],[1],[1],[1],[1],[1],[1],[1],[1],[1],[1],[1],[1],[1],[0],[1],[1],[0],[1],[0],[1],[1],[1],[1],[1],[1],[1],[1],[1],[1],[1],[1],[1],[1],[0],[1],[1],[1],[0],[1],[0],[1],[1],[1],[1],[0],[0],[0],[1],[1],[1],[1],[0],[1],[0],[1],[0],[1],[1],[1],[0],[1],[1],[1],[1],[1],[1],[1],[0],[0],[0],[1],[1],[1],[1],[1],[1],[1],[1],[1],[1],[1],[0],[0],[1],[0],[0],[0],[1],[0],[0],[1],[1],[1],[1],[1],[0],[1],[1],[1],[1],[1],[0],[1],[1],[1],[0],[1],[1],[0],[0],[1],[1],[1],[1],[1],[1],[0],[1],[1],[1],[1],[1],[1],[1],[0],[1],[1],[1],[1],[1],[0],[1],[1],[0],[1],[1],[1],[1],[1],[1],[1],[1],[1],[1],[1],[1],[0],[1],[0],[0],[1],[0],[1],[1],[1],[1],[1],[0],[1],[1],[0],[1],[0],[1],[1],[0],[1],[0],[1],[1],[1],[1],[1],[1],[1],[1],[0],[0],[1],[1],[1],[1],[1],[1],[0],[1],[1],[1],[1],[1],[1],[1],[1],[1],[1],[0],[1],[1],[1],[1],[1],[1],[1],[0],[1],[0],[1],[1],[0],[1],[1],[1],[1],[1],[0],[0],[1],[0],[1],[0],[1],[1],[1],[1],[1],[0],[1],[1],[0],[1],[0],[1],[0],[0],[1],[1],[1],[0],[1],[1],[1],[1],[1],[1],[1],[1],[1],[1],[1],[0],[1],[0],[0],[1],[1],[1],[1],[1],[1],[1],[1],[1],[1],[1],[1],[1],[1],[1],[1],[1],[1],[1],[1],[1],[1],[1],[1],[1],[0],[0],[0],[0],[0],[0],[1]],\"hovertemplate\":\"Symmetry Error=%{marker.color}<br>index=%{y}<br>target=%{customdata[0]}<extra></extra>\",\"legendgroup\":\"\",\"marker\":{\"color\":[0.03003,0.01389,0.0225,0.05963,0.01756,0.02165,0.01369,0.01486,0.02143,0.01789,0.0146,0.02008,0.04484,0.02981,0.01961,0.01857,0.0141,0.01689,0.01356,0.0198,0.01678,0.02027,0.03672,0.01083,0.01468,0.02308,0.01454,0.02293,0.01768,0.01925,0.02007,0.02273,0.02102,0.01543,0.01703,0.02789,0.02028,0.02671,0.007882,0.01377,0.0138,0.01357,0.05333,0.01719,0.01113,0.02428,0.02574,0.01743,0.01428,0.01641,0.02406,0.01325,0.01996,0.02674,0.01095,0.03218,0.01852,0.01817,0.0219,0.0209,0.04183,0.03357,0.017,0.04192,0.01635,0.019,0.02279,0.02183,0.04197,0.02254,0.01386,0.02541,0.01527,0.0122,0.01386,0.0155,0.02572,0.02591,0.07895,0.01748,0.01816,0.02134,0.01065,0.03056,0.01972,0.0237,0.02418,0.01964,0.01958,0.02427,0.02085,0.02471,0.01069,0.01884,0.01498,0.02657,0.0222,0.01801,0.01651,0.01462,0.01465,0.02659,0.01447,0.01609,0.0271,0.01547,0.01565,0.01251,0.03112,0.01568,0.03281,0.02144,0.02566,0.02287,0.01708,0.01278,0.02384,0.01602,0.01495,0.05014,0.01344,0.02045,0.04547,0.0191,0.01208,0.01247,0.01323,0.0203,0.02353,0.01578,0.02662,0.01397,0.01535,0.01669,0.01492,0.01647,0.01359,0.01501,0.05168,0.0158,0.02277,0.01875,0.02282,0.02104,0.01671,0.03127,0.05628,0.03356,0.01454,0.01329,0.02951,0.02309,0.03546,0.02388,0.02769,0.01799,0.01778,0.0152,0.01465,0.01637,0.03397,0.03156,0.01686,0.01879,0.01956,0.01924,0.01254,0.02091,0.01145,0.0135,0.01924,0.0152,0.01792,0.03082,0.03265,0.02711,0.0388,0.01682,0.01613,0.01065,0.01575,0.01798,0.01547,0.02165,0.01172,0.02538,0.01069,0.01897,0.03139,0.02025,0.05113,0.03373,0.03799,0.01878,0.02545,0.01853,0.02689,0.0214,0.01415,0.01522,0.01503,0.01594,0.02175,0.01998,0.01782,0.01523,0.0221,0.02294,0.02514,0.009539,0.03176,0.01616,0.04783,0.02175,0.04499,0.01939,0.02793,0.0256,0.01897,0.01332,0.01371,0.01842,0.02637,0.01772,0.01482,0.02266,0.01502,0.01391,0.01365,0.0168,0.01177,0.01537,0.01916,0.01298,0.02383,0.01263,0.0159,0.01341,0.01185,0.01226,0.01898,0.0172,0.01995,0.02598,0.02186,0.03476,0.01962,0.01266,0.02158,0.01677,0.02401,0.02292,0.01467,0.01394,0.01365,0.02062,0.01936,0.01884,0.02337,0.009947,0.01282,0.01411,0.02747,0.01013,0.01144,0.01367,0.03504,0.0203,0.02593,0.02728,0.01536,0.01692,0.01924,0.01798,0.01419,0.02678,0.02358,0.0193,0.01344,0.01528,0.01435,0.02921,0.01623,0.01388,0.01878,0.02571,0.01872,0.01619,0.03418,0.03416,0.04077,0.01522,0.02625,0.01792,0.01374,0.02154,0.02941,0.01575,0.01103,0.03464,0.01884,0.0274,0.02736,0.01791,0.01894,0.03194,0.01344,0.02701,0.0148,0.01422,0.02349,0.01494,0.01731,0.02032,0.06146,0.01393,0.01977,0.01275,0.03491,0.03433,0.02719,0.02193,0.01202,0.02768,0.01333,0.02057,0.01416,0.01466,0.01536,0.04022,0.01467,0.02751,0.04243,0.017,0.01939,0.01829,0.01639,0.02168,0.021,0.01479,0.01873,0.0175,0.02348,0.03756,0.01953,0.03675,0.01982,0.02163,0.01755,0.02734,0.02216,0.05543,0.02335,0.0212,0.03102,0.02639,0.0286,0.01544,0.02837,0.01942,0.02043,0.01829,0.01909,0.01694,0.01291,0.01445,0.0371,0.01938,0.01263,0.01518,0.03197,0.01647,0.01675,0.01276,0.01943,0.01934,0.01617,0.01442,0.01818,0.01738,0.02108,0.0188,0.0247,0.01838,0.01461,0.0174,0.01921,0.01647,0.01219,0.02768,0.01938,0.01865,0.01852,0.02045,0.02015,0.01719,0.01315,0.01869,0.01191,0.01477,0.01591,0.01096,0.02632,0.0187,0.0297,0.02079,0.015,0.02669,0.01414,0.02578,0.01341,0.01718,0.01951,0.01906,0.03151,0.02258,0.03044,0.02018,0.01713,0.02694,0.01868,0.02653,0.01848,0.01581,0.031,0.01445,0.02161,0.01844,0.02009,0.0194,0.01499,0.02187,0.02451,0.02383,0.01551,0.01223,0.02223,0.02005,0.02014,0.01171,0.01516,0.01594,0.01227,0.01717,0.01295,0.02094,0.01237,0.02254,0.01394,0.01029,0.02354,0.01641,0.01745,0.02207,0.01608,0.01564,0.02475,0.01347,0.01215,0.01574,0.02045,0.01697,0.01414,0.02124,0.01093,0.01526,0.01561,0.02693,0.01673,0.01807,0.0196,0.02047,0.01148,0.03141,0.01212,0.01601,0.0161,0.01316,0.01843,0.02773,0.01454,0.01062,0.01698,0.01285,0.01175,0.03232,0.01254,0.01717,0.02152,0.01961,0.01608,0.01302,0.02897,0.02869,0.02086,0.01959,0.01759,0.01536,0.01617,0.01117,0.01055,0.02434,0.02801,0.02201,0.02542,0.02632,0.0132,0.0222,0.01344,0.02105,0.0226,0.0158,0.01705,0.01539,0.01152,0.02434,0.01559,0.01057,0.01816,0.01805,0.03997,0.01879,0.01487,0.0187,0.01824,0.01592,0.01354,0.01129,0.01715,0.01962,0.01835,0.01449,0.01054,0.02816,0.01322,0.01948,0.01451,0.0156,0.02882,0.02105,0.0184,0.02068,0.0187,0.01724,0.0149,0.02087,0.0156,0.02277,0.02203,0.02466,0.03004,0.02912,0.01897,0.03759,0.01695,0.01843,0.02572,0.03004,0.01638,0.01488,0.0208,0.01989,0.02137,0.02057,0.01114,0.01898,0.01318,0.02324,0.02676],\"coloraxis\":\"coloraxis\",\"size\":[0.03003,0.01389,0.0225,0.05963,0.01756,0.02165,0.01369,0.01486,0.02143,0.01789,0.0146,0.02008,0.04484,0.02981,0.01961,0.01857,0.0141,0.01689,0.01356,0.0198,0.01678,0.02027,0.03672,0.01083,0.01468,0.02308,0.01454,0.02293,0.01768,0.01925,0.02007,0.02273,0.02102,0.01543,0.01703,0.02789,0.02028,0.02671,0.007882,0.01377,0.0138,0.01357,0.05333,0.01719,0.01113,0.02428,0.02574,0.01743,0.01428,0.01641,0.02406,0.01325,0.01996,0.02674,0.01095,0.03218,0.01852,0.01817,0.0219,0.0209,0.04183,0.03357,0.017,0.04192,0.01635,0.019,0.02279,0.02183,0.04197,0.02254,0.01386,0.02541,0.01527,0.0122,0.01386,0.0155,0.02572,0.02591,0.07895,0.01748,0.01816,0.02134,0.01065,0.03056,0.01972,0.0237,0.02418,0.01964,0.01958,0.02427,0.02085,0.02471,0.01069,0.01884,0.01498,0.02657,0.0222,0.01801,0.01651,0.01462,0.01465,0.02659,0.01447,0.01609,0.0271,0.01547,0.01565,0.01251,0.03112,0.01568,0.03281,0.02144,0.02566,0.02287,0.01708,0.01278,0.02384,0.01602,0.01495,0.05014,0.01344,0.02045,0.04547,0.0191,0.01208,0.01247,0.01323,0.0203,0.02353,0.01578,0.02662,0.01397,0.01535,0.01669,0.01492,0.01647,0.01359,0.01501,0.05168,0.0158,0.02277,0.01875,0.02282,0.02104,0.01671,0.03127,0.05628,0.03356,0.01454,0.01329,0.02951,0.02309,0.03546,0.02388,0.02769,0.01799,0.01778,0.0152,0.01465,0.01637,0.03397,0.03156,0.01686,0.01879,0.01956,0.01924,0.01254,0.02091,0.01145,0.0135,0.01924,0.0152,0.01792,0.03082,0.03265,0.02711,0.0388,0.01682,0.01613,0.01065,0.01575,0.01798,0.01547,0.02165,0.01172,0.02538,0.01069,0.01897,0.03139,0.02025,0.05113,0.03373,0.03799,0.01878,0.02545,0.01853,0.02689,0.0214,0.01415,0.01522,0.01503,0.01594,0.02175,0.01998,0.01782,0.01523,0.0221,0.02294,0.02514,0.009539,0.03176,0.01616,0.04783,0.02175,0.04499,0.01939,0.02793,0.0256,0.01897,0.01332,0.01371,0.01842,0.02637,0.01772,0.01482,0.02266,0.01502,0.01391,0.01365,0.0168,0.01177,0.01537,0.01916,0.01298,0.02383,0.01263,0.0159,0.01341,0.01185,0.01226,0.01898,0.0172,0.01995,0.02598,0.02186,0.03476,0.01962,0.01266,0.02158,0.01677,0.02401,0.02292,0.01467,0.01394,0.01365,0.02062,0.01936,0.01884,0.02337,0.009947,0.01282,0.01411,0.02747,0.01013,0.01144,0.01367,0.03504,0.0203,0.02593,0.02728,0.01536,0.01692,0.01924,0.01798,0.01419,0.02678,0.02358,0.0193,0.01344,0.01528,0.01435,0.02921,0.01623,0.01388,0.01878,0.02571,0.01872,0.01619,0.03418,0.03416,0.04077,0.01522,0.02625,0.01792,0.01374,0.02154,0.02941,0.01575,0.01103,0.03464,0.01884,0.0274,0.02736,0.01791,0.01894,0.03194,0.01344,0.02701,0.0148,0.01422,0.02349,0.01494,0.01731,0.02032,0.06146,0.01393,0.01977,0.01275,0.03491,0.03433,0.02719,0.02193,0.01202,0.02768,0.01333,0.02057,0.01416,0.01466,0.01536,0.04022,0.01467,0.02751,0.04243,0.017,0.01939,0.01829,0.01639,0.02168,0.021,0.01479,0.01873,0.0175,0.02348,0.03756,0.01953,0.03675,0.01982,0.02163,0.01755,0.02734,0.02216,0.05543,0.02335,0.0212,0.03102,0.02639,0.0286,0.01544,0.02837,0.01942,0.02043,0.01829,0.01909,0.01694,0.01291,0.01445,0.0371,0.01938,0.01263,0.01518,0.03197,0.01647,0.01675,0.01276,0.01943,0.01934,0.01617,0.01442,0.01818,0.01738,0.02108,0.0188,0.0247,0.01838,0.01461,0.0174,0.01921,0.01647,0.01219,0.02768,0.01938,0.01865,0.01852,0.02045,0.02015,0.01719,0.01315,0.01869,0.01191,0.01477,0.01591,0.01096,0.02632,0.0187,0.0297,0.02079,0.015,0.02669,0.01414,0.02578,0.01341,0.01718,0.01951,0.01906,0.03151,0.02258,0.03044,0.02018,0.01713,0.02694,0.01868,0.02653,0.01848,0.01581,0.031,0.01445,0.02161,0.01844,0.02009,0.0194,0.01499,0.02187,0.02451,0.02383,0.01551,0.01223,0.02223,0.02005,0.02014,0.01171,0.01516,0.01594,0.01227,0.01717,0.01295,0.02094,0.01237,0.02254,0.01394,0.01029,0.02354,0.01641,0.01745,0.02207,0.01608,0.01564,0.02475,0.01347,0.01215,0.01574,0.02045,0.01697,0.01414,0.02124,0.01093,0.01526,0.01561,0.02693,0.01673,0.01807,0.0196,0.02047,0.01148,0.03141,0.01212,0.01601,0.0161,0.01316,0.01843,0.02773,0.01454,0.01062,0.01698,0.01285,0.01175,0.03232,0.01254,0.01717,0.02152,0.01961,0.01608,0.01302,0.02897,0.02869,0.02086,0.01959,0.01759,0.01536,0.01617,0.01117,0.01055,0.02434,0.02801,0.02201,0.02542,0.02632,0.0132,0.0222,0.01344,0.02105,0.0226,0.0158,0.01705,0.01539,0.01152,0.02434,0.01559,0.01057,0.01816,0.01805,0.03997,0.01879,0.01487,0.0187,0.01824,0.01592,0.01354,0.01129,0.01715,0.01962,0.01835,0.01449,0.01054,0.02816,0.01322,0.01948,0.01451,0.0156,0.02882,0.02105,0.0184,0.02068,0.0187,0.01724,0.0149,0.02087,0.0156,0.02277,0.02203,0.02466,0.03004,0.02912,0.01897,0.03759,0.01695,0.01843,0.02572,0.03004,0.01638,0.01488,0.0208,0.01989,0.02137,0.02057,0.01114,0.01898,0.01318,0.02324,0.02676],\"sizemode\":\"area\",\"sizeref\":0.000197375,\"symbol\":\"circle\"},\"mode\":\"markers\",\"name\":\"\",\"orientation\":\"h\",\"showlegend\":false,\"x\":[0.03003,0.01389,0.0225,0.05963,0.01756,0.02165,0.01369,0.01486,0.02143,0.01789,0.0146,0.02008,0.04484,0.02981,0.01961,0.01857,0.0141,0.01689,0.01356,0.0198,0.01678,0.02027,0.03672,0.01083,0.01468,0.02308,0.01454,0.02293,0.01768,0.01925,0.02007,0.02273,0.02102,0.01543,0.01703,0.02789,0.02028,0.02671,0.007882,0.01377,0.0138,0.01357,0.05333,0.01719,0.01113,0.02428,0.02574,0.01743,0.01428,0.01641,0.02406,0.01325,0.01996,0.02674,0.01095,0.03218,0.01852,0.01817,0.0219,0.0209,0.04183,0.03357,0.017,0.04192,0.01635,0.019,0.02279,0.02183,0.04197,0.02254,0.01386,0.02541,0.01527,0.0122,0.01386,0.0155,0.02572,0.02591,0.07895,0.01748,0.01816,0.02134,0.01065,0.03056,0.01972,0.0237,0.02418,0.01964,0.01958,0.02427,0.02085,0.02471,0.01069,0.01884,0.01498,0.02657,0.0222,0.01801,0.01651,0.01462,0.01465,0.02659,0.01447,0.01609,0.0271,0.01547,0.01565,0.01251,0.03112,0.01568,0.03281,0.02144,0.02566,0.02287,0.01708,0.01278,0.02384,0.01602,0.01495,0.05014,0.01344,0.02045,0.04547,0.0191,0.01208,0.01247,0.01323,0.0203,0.02353,0.01578,0.02662,0.01397,0.01535,0.01669,0.01492,0.01647,0.01359,0.01501,0.05168,0.0158,0.02277,0.01875,0.02282,0.02104,0.01671,0.03127,0.05628,0.03356,0.01454,0.01329,0.02951,0.02309,0.03546,0.02388,0.02769,0.01799,0.01778,0.0152,0.01465,0.01637,0.03397,0.03156,0.01686,0.01879,0.01956,0.01924,0.01254,0.02091,0.01145,0.0135,0.01924,0.0152,0.01792,0.03082,0.03265,0.02711,0.0388,0.01682,0.01613,0.01065,0.01575,0.01798,0.01547,0.02165,0.01172,0.02538,0.01069,0.01897,0.03139,0.02025,0.05113,0.03373,0.03799,0.01878,0.02545,0.01853,0.02689,0.0214,0.01415,0.01522,0.01503,0.01594,0.02175,0.01998,0.01782,0.01523,0.0221,0.02294,0.02514,0.009539,0.03176,0.01616,0.04783,0.02175,0.04499,0.01939,0.02793,0.0256,0.01897,0.01332,0.01371,0.01842,0.02637,0.01772,0.01482,0.02266,0.01502,0.01391,0.01365,0.0168,0.01177,0.01537,0.01916,0.01298,0.02383,0.01263,0.0159,0.01341,0.01185,0.01226,0.01898,0.0172,0.01995,0.02598,0.02186,0.03476,0.01962,0.01266,0.02158,0.01677,0.02401,0.02292,0.01467,0.01394,0.01365,0.02062,0.01936,0.01884,0.02337,0.009947,0.01282,0.01411,0.02747,0.01013,0.01144,0.01367,0.03504,0.0203,0.02593,0.02728,0.01536,0.01692,0.01924,0.01798,0.01419,0.02678,0.02358,0.0193,0.01344,0.01528,0.01435,0.02921,0.01623,0.01388,0.01878,0.02571,0.01872,0.01619,0.03418,0.03416,0.04077,0.01522,0.02625,0.01792,0.01374,0.02154,0.02941,0.01575,0.01103,0.03464,0.01884,0.0274,0.02736,0.01791,0.01894,0.03194,0.01344,0.02701,0.0148,0.01422,0.02349,0.01494,0.01731,0.02032,0.06146,0.01393,0.01977,0.01275,0.03491,0.03433,0.02719,0.02193,0.01202,0.02768,0.01333,0.02057,0.01416,0.01466,0.01536,0.04022,0.01467,0.02751,0.04243,0.017,0.01939,0.01829,0.01639,0.02168,0.021,0.01479,0.01873,0.0175,0.02348,0.03756,0.01953,0.03675,0.01982,0.02163,0.01755,0.02734,0.02216,0.05543,0.02335,0.0212,0.03102,0.02639,0.0286,0.01544,0.02837,0.01942,0.02043,0.01829,0.01909,0.01694,0.01291,0.01445,0.0371,0.01938,0.01263,0.01518,0.03197,0.01647,0.01675,0.01276,0.01943,0.01934,0.01617,0.01442,0.01818,0.01738,0.02108,0.0188,0.0247,0.01838,0.01461,0.0174,0.01921,0.01647,0.01219,0.02768,0.01938,0.01865,0.01852,0.02045,0.02015,0.01719,0.01315,0.01869,0.01191,0.01477,0.01591,0.01096,0.02632,0.0187,0.0297,0.02079,0.015,0.02669,0.01414,0.02578,0.01341,0.01718,0.01951,0.01906,0.03151,0.02258,0.03044,0.02018,0.01713,0.02694,0.01868,0.02653,0.01848,0.01581,0.031,0.01445,0.02161,0.01844,0.02009,0.0194,0.01499,0.02187,0.02451,0.02383,0.01551,0.01223,0.02223,0.02005,0.02014,0.01171,0.01516,0.01594,0.01227,0.01717,0.01295,0.02094,0.01237,0.02254,0.01394,0.01029,0.02354,0.01641,0.01745,0.02207,0.01608,0.01564,0.02475,0.01347,0.01215,0.01574,0.02045,0.01697,0.01414,0.02124,0.01093,0.01526,0.01561,0.02693,0.01673,0.01807,0.0196,0.02047,0.01148,0.03141,0.01212,0.01601,0.0161,0.01316,0.01843,0.02773,0.01454,0.01062,0.01698,0.01285,0.01175,0.03232,0.01254,0.01717,0.02152,0.01961,0.01608,0.01302,0.02897,0.02869,0.02086,0.01959,0.01759,0.01536,0.01617,0.01117,0.01055,0.02434,0.02801,0.02201,0.02542,0.02632,0.0132,0.0222,0.01344,0.02105,0.0226,0.0158,0.01705,0.01539,0.01152,0.02434,0.01559,0.01057,0.01816,0.01805,0.03997,0.01879,0.01487,0.0187,0.01824,0.01592,0.01354,0.01129,0.01715,0.01962,0.01835,0.01449,0.01054,0.02816,0.01322,0.01948,0.01451,0.0156,0.02882,0.02105,0.0184,0.02068,0.0187,0.01724,0.0149,0.02087,0.0156,0.02277,0.02203,0.02466,0.03004,0.02912,0.01897,0.03759,0.01695,0.01843,0.02572,0.03004,0.01638,0.01488,0.0208,0.01989,0.02137,0.02057,0.01114,0.01898,0.01318,0.02324,0.02676],\"xaxis\":\"x\",\"y\":[0,1,2,3,4,5,6,7,8,9,10,11,12,13,14,15,16,17,18,19,20,21,22,23,24,25,26,27,28,29,30,31,32,33,34,35,36,37,38,39,40,41,42,43,44,45,46,47,48,49,50,51,52,53,54,55,56,57,58,59,60,61,62,63,64,65,66,67,68,69,70,71,72,73,74,75,76,77,78,79,80,81,82,83,84,85,86,87,88,89,90,91,92,93,94,95,96,97,98,99,100,101,102,103,104,105,106,107,108,109,110,111,112,113,114,115,116,117,118,119,120,121,122,123,124,125,126,127,128,129,130,131,132,133,134,135,136,137,138,139,140,141,142,143,144,145,146,147,148,149,150,151,152,153,154,155,156,157,158,159,160,161,162,163,164,165,166,167,168,169,170,171,172,173,174,175,176,177,178,179,180,181,182,183,184,185,186,187,188,189,190,191,192,193,194,195,196,197,198,199,200,201,202,203,204,205,206,207,208,209,210,211,212,213,214,215,216,217,218,219,220,221,222,223,224,225,226,227,228,229,230,231,232,233,234,235,236,237,238,239,240,241,242,243,244,245,246,247,248,249,250,251,252,253,254,255,256,257,258,259,260,261,262,263,264,265,266,267,268,269,270,271,272,273,274,275,276,277,278,279,280,281,282,283,284,285,286,287,288,289,290,291,292,293,294,295,296,297,298,299,300,301,302,303,304,305,306,307,308,309,310,311,312,313,314,315,316,317,318,319,320,321,322,323,324,325,326,327,328,329,330,331,332,333,334,335,336,337,338,339,340,341,342,343,344,345,346,347,348,349,350,351,352,353,354,355,356,357,358,359,360,361,362,363,364,365,366,367,368,369,370,371,372,373,374,375,376,377,378,379,380,381,382,383,384,385,386,387,388,389,390,391,392,393,394,395,396,397,398,399,400,401,402,403,404,405,406,407,408,409,410,411,412,413,414,415,416,417,418,419,420,421,422,423,424,425,426,427,428,429,430,431,432,433,434,435,436,437,438,439,440,441,442,443,444,445,446,447,448,449,450,451,452,453,454,455,456,457,458,459,460,461,462,463,464,465,466,467,468,469,470,471,472,473,474,475,476,477,478,479,480,481,482,483,484,485,486,487,488,489,490,491,492,493,494,495,496,497,498,499,500,501,502,503,504,505,506,507,508,509,510,511,512,513,514,515,516,517,518,519,520,521,522,523,524,525,526,527,528,529,530,531,532,533,534,535,536,537,538,539,540,541,542,543,544,545,546,547,548,549,550,551,552,553,554,555,556,557,558,559,560,561,562,563,564,565,566,567,568],\"yaxis\":\"y\",\"type\":\"scatter\"}],                        {\"template\":{\"data\":{\"barpolar\":[{\"marker\":{\"line\":{\"color\":\"rgb(234,234,242)\",\"width\":0.5},\"pattern\":{\"fillmode\":\"overlay\",\"size\":10,\"solidity\":0.2}},\"type\":\"barpolar\"}],\"bar\":[{\"error_x\":{\"color\":\"rgb(36,36,36)\"},\"error_y\":{\"color\":\"rgb(36,36,36)\"},\"marker\":{\"line\":{\"color\":\"rgb(234,234,242)\",\"width\":0.5},\"pattern\":{\"fillmode\":\"overlay\",\"size\":10,\"solidity\":0.2}},\"type\":\"bar\"}],\"carpet\":[{\"aaxis\":{\"endlinecolor\":\"rgb(36,36,36)\",\"gridcolor\":\"white\",\"linecolor\":\"white\",\"minorgridcolor\":\"white\",\"startlinecolor\":\"rgb(36,36,36)\"},\"baxis\":{\"endlinecolor\":\"rgb(36,36,36)\",\"gridcolor\":\"white\",\"linecolor\":\"white\",\"minorgridcolor\":\"white\",\"startlinecolor\":\"rgb(36,36,36)\"},\"type\":\"carpet\"}],\"choropleth\":[{\"colorbar\":{\"outlinewidth\":0,\"tickcolor\":\"rgb(36,36,36)\",\"ticklen\":8,\"ticks\":\"outside\",\"tickwidth\":2},\"type\":\"choropleth\"}],\"contourcarpet\":[{\"colorbar\":{\"outlinewidth\":0,\"tickcolor\":\"rgb(36,36,36)\",\"ticklen\":8,\"ticks\":\"outside\",\"tickwidth\":2},\"type\":\"contourcarpet\"}],\"contour\":[{\"colorbar\":{\"outlinewidth\":0,\"tickcolor\":\"rgb(36,36,36)\",\"ticklen\":8,\"ticks\":\"outside\",\"tickwidth\":2},\"colorscale\":[[0.0,\"rgb(2,4,25)\"],[0.06274509803921569,\"rgb(24,15,41)\"],[0.12549019607843137,\"rgb(47,23,57)\"],[0.18823529411764706,\"rgb(71,28,72)\"],[0.25098039215686274,\"rgb(97,30,82)\"],[0.3137254901960784,\"rgb(123,30,89)\"],[0.3764705882352941,\"rgb(150,27,91)\"],[0.4392156862745098,\"rgb(177,22,88)\"],[0.5019607843137255,\"rgb(203,26,79)\"],[0.5647058823529412,\"rgb(223,47,67)\"],[0.6274509803921569,\"rgb(236,76,61)\"],[0.6901960784313725,\"rgb(242,107,73)\"],[0.7529411764705882,\"rgb(244,135,95)\"],[0.8156862745098039,\"rgb(245,162,122)\"],[0.8784313725490196,\"rgb(246,188,153)\"],[0.9411764705882353,\"rgb(247,212,187)\"],[1.0,\"rgb(250,234,220)\"]],\"type\":\"contour\"}],\"heatmapgl\":[{\"colorbar\":{\"outlinewidth\":0,\"tickcolor\":\"rgb(36,36,36)\",\"ticklen\":8,\"ticks\":\"outside\",\"tickwidth\":2},\"colorscale\":[[0.0,\"rgb(2,4,25)\"],[0.06274509803921569,\"rgb(24,15,41)\"],[0.12549019607843137,\"rgb(47,23,57)\"],[0.18823529411764706,\"rgb(71,28,72)\"],[0.25098039215686274,\"rgb(97,30,82)\"],[0.3137254901960784,\"rgb(123,30,89)\"],[0.3764705882352941,\"rgb(150,27,91)\"],[0.4392156862745098,\"rgb(177,22,88)\"],[0.5019607843137255,\"rgb(203,26,79)\"],[0.5647058823529412,\"rgb(223,47,67)\"],[0.6274509803921569,\"rgb(236,76,61)\"],[0.6901960784313725,\"rgb(242,107,73)\"],[0.7529411764705882,\"rgb(244,135,95)\"],[0.8156862745098039,\"rgb(245,162,122)\"],[0.8784313725490196,\"rgb(246,188,153)\"],[0.9411764705882353,\"rgb(247,212,187)\"],[1.0,\"rgb(250,234,220)\"]],\"type\":\"heatmapgl\"}],\"heatmap\":[{\"colorbar\":{\"outlinewidth\":0,\"tickcolor\":\"rgb(36,36,36)\",\"ticklen\":8,\"ticks\":\"outside\",\"tickwidth\":2},\"colorscale\":[[0.0,\"rgb(2,4,25)\"],[0.06274509803921569,\"rgb(24,15,41)\"],[0.12549019607843137,\"rgb(47,23,57)\"],[0.18823529411764706,\"rgb(71,28,72)\"],[0.25098039215686274,\"rgb(97,30,82)\"],[0.3137254901960784,\"rgb(123,30,89)\"],[0.3764705882352941,\"rgb(150,27,91)\"],[0.4392156862745098,\"rgb(177,22,88)\"],[0.5019607843137255,\"rgb(203,26,79)\"],[0.5647058823529412,\"rgb(223,47,67)\"],[0.6274509803921569,\"rgb(236,76,61)\"],[0.6901960784313725,\"rgb(242,107,73)\"],[0.7529411764705882,\"rgb(244,135,95)\"],[0.8156862745098039,\"rgb(245,162,122)\"],[0.8784313725490196,\"rgb(246,188,153)\"],[0.9411764705882353,\"rgb(247,212,187)\"],[1.0,\"rgb(250,234,220)\"]],\"type\":\"heatmap\"}],\"histogram2dcontour\":[{\"colorbar\":{\"outlinewidth\":0,\"tickcolor\":\"rgb(36,36,36)\",\"ticklen\":8,\"ticks\":\"outside\",\"tickwidth\":2},\"colorscale\":[[0.0,\"rgb(2,4,25)\"],[0.06274509803921569,\"rgb(24,15,41)\"],[0.12549019607843137,\"rgb(47,23,57)\"],[0.18823529411764706,\"rgb(71,28,72)\"],[0.25098039215686274,\"rgb(97,30,82)\"],[0.3137254901960784,\"rgb(123,30,89)\"],[0.3764705882352941,\"rgb(150,27,91)\"],[0.4392156862745098,\"rgb(177,22,88)\"],[0.5019607843137255,\"rgb(203,26,79)\"],[0.5647058823529412,\"rgb(223,47,67)\"],[0.6274509803921569,\"rgb(236,76,61)\"],[0.6901960784313725,\"rgb(242,107,73)\"],[0.7529411764705882,\"rgb(244,135,95)\"],[0.8156862745098039,\"rgb(245,162,122)\"],[0.8784313725490196,\"rgb(246,188,153)\"],[0.9411764705882353,\"rgb(247,212,187)\"],[1.0,\"rgb(250,234,220)\"]],\"type\":\"histogram2dcontour\"}],\"histogram2d\":[{\"colorbar\":{\"outlinewidth\":0,\"tickcolor\":\"rgb(36,36,36)\",\"ticklen\":8,\"ticks\":\"outside\",\"tickwidth\":2},\"colorscale\":[[0.0,\"rgb(2,4,25)\"],[0.06274509803921569,\"rgb(24,15,41)\"],[0.12549019607843137,\"rgb(47,23,57)\"],[0.18823529411764706,\"rgb(71,28,72)\"],[0.25098039215686274,\"rgb(97,30,82)\"],[0.3137254901960784,\"rgb(123,30,89)\"],[0.3764705882352941,\"rgb(150,27,91)\"],[0.4392156862745098,\"rgb(177,22,88)\"],[0.5019607843137255,\"rgb(203,26,79)\"],[0.5647058823529412,\"rgb(223,47,67)\"],[0.6274509803921569,\"rgb(236,76,61)\"],[0.6901960784313725,\"rgb(242,107,73)\"],[0.7529411764705882,\"rgb(244,135,95)\"],[0.8156862745098039,\"rgb(245,162,122)\"],[0.8784313725490196,\"rgb(246,188,153)\"],[0.9411764705882353,\"rgb(247,212,187)\"],[1.0,\"rgb(250,234,220)\"]],\"type\":\"histogram2d\"}],\"histogram\":[{\"marker\":{\"pattern\":{\"fillmode\":\"overlay\",\"size\":10,\"solidity\":0.2}},\"type\":\"histogram\"}],\"mesh3d\":[{\"colorbar\":{\"outlinewidth\":0,\"tickcolor\":\"rgb(36,36,36)\",\"ticklen\":8,\"ticks\":\"outside\",\"tickwidth\":2},\"type\":\"mesh3d\"}],\"parcoords\":[{\"line\":{\"colorbar\":{\"outlinewidth\":0,\"tickcolor\":\"rgb(36,36,36)\",\"ticklen\":8,\"ticks\":\"outside\",\"tickwidth\":2}},\"type\":\"parcoords\"}],\"pie\":[{\"automargin\":true,\"type\":\"pie\"}],\"scatter3d\":[{\"line\":{\"colorbar\":{\"outlinewidth\":0,\"tickcolor\":\"rgb(36,36,36)\",\"ticklen\":8,\"ticks\":\"outside\",\"tickwidth\":2}},\"marker\":{\"colorbar\":{\"outlinewidth\":0,\"tickcolor\":\"rgb(36,36,36)\",\"ticklen\":8,\"ticks\":\"outside\",\"tickwidth\":2}},\"type\":\"scatter3d\"}],\"scattercarpet\":[{\"marker\":{\"colorbar\":{\"outlinewidth\":0,\"tickcolor\":\"rgb(36,36,36)\",\"ticklen\":8,\"ticks\":\"outside\",\"tickwidth\":2}},\"type\":\"scattercarpet\"}],\"scattergeo\":[{\"marker\":{\"colorbar\":{\"outlinewidth\":0,\"tickcolor\":\"rgb(36,36,36)\",\"ticklen\":8,\"ticks\":\"outside\",\"tickwidth\":2}},\"type\":\"scattergeo\"}],\"scattergl\":[{\"marker\":{\"colorbar\":{\"outlinewidth\":0,\"tickcolor\":\"rgb(36,36,36)\",\"ticklen\":8,\"ticks\":\"outside\",\"tickwidth\":2}},\"type\":\"scattergl\"}],\"scattermapbox\":[{\"marker\":{\"colorbar\":{\"outlinewidth\":0,\"tickcolor\":\"rgb(36,36,36)\",\"ticklen\":8,\"ticks\":\"outside\",\"tickwidth\":2}},\"type\":\"scattermapbox\"}],\"scatterpolargl\":[{\"marker\":{\"colorbar\":{\"outlinewidth\":0,\"tickcolor\":\"rgb(36,36,36)\",\"ticklen\":8,\"ticks\":\"outside\",\"tickwidth\":2}},\"type\":\"scatterpolargl\"}],\"scatterpolar\":[{\"marker\":{\"colorbar\":{\"outlinewidth\":0,\"tickcolor\":\"rgb(36,36,36)\",\"ticklen\":8,\"ticks\":\"outside\",\"tickwidth\":2}},\"type\":\"scatterpolar\"}],\"scatter\":[{\"fillpattern\":{\"fillmode\":\"overlay\",\"size\":10,\"solidity\":0.2},\"type\":\"scatter\"}],\"scatterternary\":[{\"marker\":{\"colorbar\":{\"outlinewidth\":0,\"tickcolor\":\"rgb(36,36,36)\",\"ticklen\":8,\"ticks\":\"outside\",\"tickwidth\":2}},\"type\":\"scatterternary\"}],\"surface\":[{\"colorbar\":{\"outlinewidth\":0,\"tickcolor\":\"rgb(36,36,36)\",\"ticklen\":8,\"ticks\":\"outside\",\"tickwidth\":2},\"colorscale\":[[0.0,\"rgb(2,4,25)\"],[0.06274509803921569,\"rgb(24,15,41)\"],[0.12549019607843137,\"rgb(47,23,57)\"],[0.18823529411764706,\"rgb(71,28,72)\"],[0.25098039215686274,\"rgb(97,30,82)\"],[0.3137254901960784,\"rgb(123,30,89)\"],[0.3764705882352941,\"rgb(150,27,91)\"],[0.4392156862745098,\"rgb(177,22,88)\"],[0.5019607843137255,\"rgb(203,26,79)\"],[0.5647058823529412,\"rgb(223,47,67)\"],[0.6274509803921569,\"rgb(236,76,61)\"],[0.6901960784313725,\"rgb(242,107,73)\"],[0.7529411764705882,\"rgb(244,135,95)\"],[0.8156862745098039,\"rgb(245,162,122)\"],[0.8784313725490196,\"rgb(246,188,153)\"],[0.9411764705882353,\"rgb(247,212,187)\"],[1.0,\"rgb(250,234,220)\"]],\"type\":\"surface\"}],\"table\":[{\"cells\":{\"fill\":{\"color\":\"rgb(231,231,240)\"},\"line\":{\"color\":\"white\"}},\"header\":{\"fill\":{\"color\":\"rgb(183,183,191)\"},\"line\":{\"color\":\"white\"}},\"type\":\"table\"}]},\"layout\":{\"annotationdefaults\":{\"arrowcolor\":\"rgb(67,103,167)\"},\"autotypenumbers\":\"strict\",\"coloraxis\":{\"colorbar\":{\"outlinewidth\":0,\"tickcolor\":\"rgb(36,36,36)\",\"ticklen\":8,\"ticks\":\"outside\",\"tickwidth\":2}},\"colorscale\":{\"sequential\":[[0.0,\"rgb(2,4,25)\"],[0.06274509803921569,\"rgb(24,15,41)\"],[0.12549019607843137,\"rgb(47,23,57)\"],[0.18823529411764706,\"rgb(71,28,72)\"],[0.25098039215686274,\"rgb(97,30,82)\"],[0.3137254901960784,\"rgb(123,30,89)\"],[0.3764705882352941,\"rgb(150,27,91)\"],[0.4392156862745098,\"rgb(177,22,88)\"],[0.5019607843137255,\"rgb(203,26,79)\"],[0.5647058823529412,\"rgb(223,47,67)\"],[0.6274509803921569,\"rgb(236,76,61)\"],[0.6901960784313725,\"rgb(242,107,73)\"],[0.7529411764705882,\"rgb(244,135,95)\"],[0.8156862745098039,\"rgb(245,162,122)\"],[0.8784313725490196,\"rgb(246,188,153)\"],[0.9411764705882353,\"rgb(247,212,187)\"],[1.0,\"rgb(250,234,220)\"]],\"sequentialminus\":[[0.0,\"rgb(2,4,25)\"],[0.06274509803921569,\"rgb(24,15,41)\"],[0.12549019607843137,\"rgb(47,23,57)\"],[0.18823529411764706,\"rgb(71,28,72)\"],[0.25098039215686274,\"rgb(97,30,82)\"],[0.3137254901960784,\"rgb(123,30,89)\"],[0.3764705882352941,\"rgb(150,27,91)\"],[0.4392156862745098,\"rgb(177,22,88)\"],[0.5019607843137255,\"rgb(203,26,79)\"],[0.5647058823529412,\"rgb(223,47,67)\"],[0.6274509803921569,\"rgb(236,76,61)\"],[0.6901960784313725,\"rgb(242,107,73)\"],[0.7529411764705882,\"rgb(244,135,95)\"],[0.8156862745098039,\"rgb(245,162,122)\"],[0.8784313725490196,\"rgb(246,188,153)\"],[0.9411764705882353,\"rgb(247,212,187)\"],[1.0,\"rgb(250,234,220)\"]]},\"colorway\":[\"rgb(76,114,176)\",\"rgb(221,132,82)\",\"rgb(85,168,104)\",\"rgb(196,78,82)\",\"rgb(129,114,179)\",\"rgb(147,120,96)\",\"rgb(218,139,195)\",\"rgb(140,140,140)\",\"rgb(204,185,116)\",\"rgb(100,181,205)\"],\"font\":{\"color\":\"rgb(36,36,36)\"},\"geo\":{\"bgcolor\":\"white\",\"lakecolor\":\"white\",\"landcolor\":\"rgb(234,234,242)\",\"showlakes\":true,\"showland\":true,\"subunitcolor\":\"white\"},\"hoverlabel\":{\"align\":\"left\"},\"hovermode\":\"closest\",\"paper_bgcolor\":\"white\",\"plot_bgcolor\":\"rgb(234,234,242)\",\"polar\":{\"angularaxis\":{\"gridcolor\":\"white\",\"linecolor\":\"white\",\"showgrid\":true,\"ticks\":\"\"},\"bgcolor\":\"rgb(234,234,242)\",\"radialaxis\":{\"gridcolor\":\"white\",\"linecolor\":\"white\",\"showgrid\":true,\"ticks\":\"\"}},\"scene\":{\"xaxis\":{\"backgroundcolor\":\"rgb(234,234,242)\",\"gridcolor\":\"white\",\"gridwidth\":2,\"linecolor\":\"white\",\"showbackground\":true,\"showgrid\":true,\"ticks\":\"\",\"zerolinecolor\":\"white\"},\"yaxis\":{\"backgroundcolor\":\"rgb(234,234,242)\",\"gridcolor\":\"white\",\"gridwidth\":2,\"linecolor\":\"white\",\"showbackground\":true,\"showgrid\":true,\"ticks\":\"\",\"zerolinecolor\":\"white\"},\"zaxis\":{\"backgroundcolor\":\"rgb(234,234,242)\",\"gridcolor\":\"white\",\"gridwidth\":2,\"linecolor\":\"white\",\"showbackground\":true,\"showgrid\":true,\"ticks\":\"\",\"zerolinecolor\":\"white\"}},\"shapedefaults\":{\"fillcolor\":\"rgb(67,103,167)\",\"line\":{\"width\":0},\"opacity\":0.5},\"ternary\":{\"aaxis\":{\"gridcolor\":\"white\",\"linecolor\":\"white\",\"showgrid\":true,\"ticks\":\"\"},\"baxis\":{\"gridcolor\":\"white\",\"linecolor\":\"white\",\"showgrid\":true,\"ticks\":\"\"},\"bgcolor\":\"rgb(234,234,242)\",\"caxis\":{\"gridcolor\":\"white\",\"linecolor\":\"white\",\"showgrid\":true,\"ticks\":\"\"}},\"xaxis\":{\"automargin\":true,\"gridcolor\":\"white\",\"linecolor\":\"white\",\"showgrid\":true,\"ticks\":\"\",\"title\":{\"standoff\":15},\"zerolinecolor\":\"white\"},\"yaxis\":{\"automargin\":true,\"gridcolor\":\"white\",\"linecolor\":\"white\",\"showgrid\":true,\"ticks\":\"\",\"title\":{\"standoff\":15},\"zerolinecolor\":\"white\"}}},\"xaxis\":{\"anchor\":\"y\",\"domain\":[0.0,1.0],\"title\":{\"text\":\"Symmetry Error\"}},\"yaxis\":{\"anchor\":\"x\",\"domain\":[0.0,1.0],\"title\":{\"text\":\" \"}},\"coloraxis\":{\"colorbar\":{\"title\":{\"text\":\"Symmetry Error\"}},\"colorscale\":[[0.0,\"rgb(2,4,25)\"],[0.0625,\"rgb(24,15,41)\"],[0.125,\"rgb(47,23,57)\"],[0.1875,\"rgb(71,28,72)\"],[0.25,\"rgb(97,30,82)\"],[0.3125,\"rgb(123,30,89)\"],[0.375,\"rgb(150,27,91)\"],[0.4375,\"rgb(177,22,88)\"],[0.5,\"rgb(203,26,79)\"],[0.5625,\"rgb(223,47,67)\"],[0.625,\"rgb(236,76,61)\"],[0.6875,\"rgb(242,107,73)\"],[0.75,\"rgb(244,135,95)\"],[0.8125,\"rgb(245,162,122)\"],[0.875,\"rgb(246,188,153)\"],[0.9375,\"rgb(247,212,187)\"],[1.0,\"rgb(250,234,220)\"]]},\"legend\":{\"tracegroupgap\":0,\"itemsizing\":\"constant\"},\"title\":{\"text\":\"Symmetry Error Spread\"},\"plot_bgcolor\":\"rgba(0, 0, 0, 0)\",\"paper_bgcolor\":\"rgba(0, 0, 0, 0)\"},                        {\"responsive\": true}                    ).then(function(){\n",
       "                            \n",
       "var gd = document.getElementById('5a1e8238-fac1-42f5-a802-65058931b56f');\n",
       "var x = new MutationObserver(function (mutations, observer) {{\n",
       "        var display = window.getComputedStyle(gd).display;\n",
       "        if (!display || display === 'none') {{\n",
       "            console.log([gd, 'removed!']);\n",
       "            Plotly.purge(gd);\n",
       "            observer.disconnect();\n",
       "        }}\n",
       "}});\n",
       "\n",
       "// Listen for the removal of the full notebook cells\n",
       "var notebookContainer = gd.closest('#notebook-container');\n",
       "if (notebookContainer) {{\n",
       "    x.observe(notebookContainer, {childList: true});\n",
       "}}\n",
       "\n",
       "// Listen for the clearing of the current output cell\n",
       "var outputEl = gd.closest('.output');\n",
       "if (outputEl) {{\n",
       "    x.observe(outputEl, {childList: true});\n",
       "}}\n",
       "\n",
       "                        })                };                });            </script>        </div>"
      ]
     },
     "metadata": {},
     "output_type": "display_data"
    }
   ],
   "source": [
    "fig = px.scatter(df,\n",
    "                 x=\"symmetry error\",\n",
    "                 size='symmetry error',\n",
    "                 color = 'symmetry error',\n",
    "                 hover_data=[\"target\"],\n",
    "                 template='seaborn',\n",
    "                 labels={\"symmetry error\": \"Symmetry Error\"},\n",
    "                 title=\"Symmetry Error Spread\")\n",
    "fig.update_layout(xaxis_title=\"Symmetry Error\",yaxis_title=\" \")\n",
    "fig.update_layout({'plot_bgcolor': 'rgba(0, 0, 0, 0)','paper_bgcolor': 'rgba(0, 0, 0, 0)'})\n",
    "fig.show()"
   ]
  },
  {
   "cell_type": "code",
   "execution_count": 28,
   "metadata": {
    "colab": {
     "background_save": true
    },
    "id": "l6fRanEvaUaR",
    "outputId": "d3f1cf6a-574b-4621-daed-98914cd12760"
   },
   "outputs": [
    {
     "data": {
      "application/vnd.plotly.v1+json": {
       "config": {
        "plotlyServerURL": "https://plot.ly"
       },
       "data": [
        {
         "customdata": [
          [
           0
          ],
          [
           0
          ],
          [
           0
          ],
          [
           0
          ],
          [
           0
          ],
          [
           0
          ],
          [
           0
          ],
          [
           0
          ],
          [
           0
          ],
          [
           0
          ],
          [
           0
          ],
          [
           0
          ],
          [
           0
          ],
          [
           0
          ],
          [
           0
          ],
          [
           0
          ],
          [
           0
          ],
          [
           0
          ],
          [
           0
          ],
          [
           1
          ],
          [
           1
          ],
          [
           1
          ],
          [
           0
          ],
          [
           0
          ],
          [
           0
          ],
          [
           0
          ],
          [
           0
          ],
          [
           0
          ],
          [
           0
          ],
          [
           0
          ],
          [
           0
          ],
          [
           0
          ],
          [
           0
          ],
          [
           0
          ],
          [
           0
          ],
          [
           0
          ],
          [
           0
          ],
          [
           1
          ],
          [
           0
          ],
          [
           0
          ],
          [
           0
          ],
          [
           0
          ],
          [
           0
          ],
          [
           0
          ],
          [
           0
          ],
          [
           0
          ],
          [
           1
          ],
          [
           0
          ],
          [
           1
          ],
          [
           1
          ],
          [
           1
          ],
          [
           1
          ],
          [
           1
          ],
          [
           0
          ],
          [
           0
          ],
          [
           1
          ],
          [
           0
          ],
          [
           0
          ],
          [
           1
          ],
          [
           1
          ],
          [
           1
          ],
          [
           1
          ],
          [
           0
          ],
          [
           1
          ],
          [
           0
          ],
          [
           0
          ],
          [
           1
          ],
          [
           1
          ],
          [
           1
          ],
          [
           1
          ],
          [
           0
          ],
          [
           1
          ],
          [
           0
          ],
          [
           0
          ],
          [
           1
          ],
          [
           0
          ],
          [
           1
          ],
          [
           0
          ],
          [
           0
          ],
          [
           1
          ],
          [
           1
          ],
          [
           1
          ],
          [
           0
          ],
          [
           0
          ],
          [
           1
          ],
          [
           0
          ],
          [
           0
          ],
          [
           0
          ],
          [
           1
          ],
          [
           1
          ],
          [
           1
          ],
          [
           0
          ],
          [
           1
          ],
          [
           1
          ],
          [
           0
          ],
          [
           0
          ],
          [
           1
          ],
          [
           1
          ],
          [
           1
          ],
          [
           0
          ],
          [
           0
          ],
          [
           1
          ],
          [
           1
          ],
          [
           1
          ],
          [
           1
          ],
          [
           0
          ],
          [
           1
          ],
          [
           1
          ],
          [
           0
          ],
          [
           1
          ],
          [
           1
          ],
          [
           1
          ],
          [
           1
          ],
          [
           1
          ],
          [
           1
          ],
          [
           1
          ],
          [
           1
          ],
          [
           0
          ],
          [
           0
          ],
          [
           0
          ],
          [
           1
          ],
          [
           0
          ],
          [
           0
          ],
          [
           1
          ],
          [
           1
          ],
          [
           1
          ],
          [
           0
          ],
          [
           0
          ],
          [
           1
          ],
          [
           0
          ],
          [
           1
          ],
          [
           0
          ],
          [
           0
          ],
          [
           1
          ],
          [
           0
          ],
          [
           0
          ],
          [
           1
          ],
          [
           1
          ],
          [
           0
          ],
          [
           1
          ],
          [
           1
          ],
          [
           0
          ],
          [
           1
          ],
          [
           1
          ],
          [
           1
          ],
          [
           1
          ],
          [
           0
          ],
          [
           1
          ],
          [
           1
          ],
          [
           1
          ],
          [
           1
          ],
          [
           1
          ],
          [
           1
          ],
          [
           1
          ],
          [
           1
          ],
          [
           1
          ],
          [
           0
          ],
          [
           1
          ],
          [
           1
          ],
          [
           1
          ],
          [
           1
          ],
          [
           0
          ],
          [
           0
          ],
          [
           1
          ],
          [
           0
          ],
          [
           1
          ],
          [
           1
          ],
          [
           0
          ],
          [
           0
          ],
          [
           1
          ],
          [
           1
          ],
          [
           0
          ],
          [
           0
          ],
          [
           1
          ],
          [
           1
          ],
          [
           1
          ],
          [
           1
          ],
          [
           0
          ],
          [
           1
          ],
          [
           1
          ],
          [
           0
          ],
          [
           0
          ],
          [
           0
          ],
          [
           1
          ],
          [
           0
          ],
          [
           1
          ],
          [
           0
          ],
          [
           1
          ],
          [
           1
          ],
          [
           1
          ],
          [
           0
          ],
          [
           1
          ],
          [
           1
          ],
          [
           0
          ],
          [
           0
          ],
          [
           1
          ],
          [
           0
          ],
          [
           0
          ],
          [
           0
          ],
          [
           0
          ],
          [
           1
          ],
          [
           0
          ],
          [
           0
          ],
          [
           0
          ],
          [
           1
          ],
          [
           0
          ],
          [
           1
          ],
          [
           0
          ],
          [
           1
          ],
          [
           1
          ],
          [
           0
          ],
          [
           1
          ],
          [
           0
          ],
          [
           0
          ],
          [
           0
          ],
          [
           0
          ],
          [
           1
          ],
          [
           1
          ],
          [
           0
          ],
          [
           0
          ],
          [
           1
          ],
          [
           1
          ],
          [
           1
          ],
          [
           0
          ],
          [
           1
          ],
          [
           1
          ],
          [
           1
          ],
          [
           1
          ],
          [
           1
          ],
          [
           0
          ],
          [
           0
          ],
          [
           1
          ],
          [
           1
          ],
          [
           0
          ],
          [
           1
          ],
          [
           1
          ],
          [
           0
          ],
          [
           0
          ],
          [
           1
          ],
          [
           0
          ],
          [
           1
          ],
          [
           1
          ],
          [
           1
          ],
          [
           1
          ],
          [
           0
          ],
          [
           1
          ],
          [
           1
          ],
          [
           1
          ],
          [
           1
          ],
          [
           1
          ],
          [
           0
          ],
          [
           1
          ],
          [
           0
          ],
          [
           0
          ],
          [
           0
          ],
          [
           0
          ],
          [
           0
          ],
          [
           0
          ],
          [
           0
          ],
          [
           0
          ],
          [
           0
          ],
          [
           0
          ],
          [
           0
          ],
          [
           0
          ],
          [
           0
          ],
          [
           0
          ],
          [
           1
          ],
          [
           1
          ],
          [
           1
          ],
          [
           1
          ],
          [
           1
          ],
          [
           1
          ],
          [
           0
          ],
          [
           1
          ],
          [
           0
          ],
          [
           1
          ],
          [
           1
          ],
          [
           0
          ],
          [
           1
          ],
          [
           1
          ],
          [
           0
          ],
          [
           1
          ],
          [
           0
          ],
          [
           0
          ],
          [
           1
          ],
          [
           1
          ],
          [
           1
          ],
          [
           1
          ],
          [
           1
          ],
          [
           1
          ],
          [
           1
          ],
          [
           1
          ],
          [
           1
          ],
          [
           1
          ],
          [
           1
          ],
          [
           1
          ],
          [
           1
          ],
          [
           0
          ],
          [
           1
          ],
          [
           1
          ],
          [
           0
          ],
          [
           1
          ],
          [
           0
          ],
          [
           1
          ],
          [
           1
          ],
          [
           1
          ],
          [
           1
          ],
          [
           1
          ],
          [
           1
          ],
          [
           1
          ],
          [
           1
          ],
          [
           1
          ],
          [
           1
          ],
          [
           1
          ],
          [
           1
          ],
          [
           1
          ],
          [
           1
          ],
          [
           0
          ],
          [
           1
          ],
          [
           1
          ],
          [
           1
          ],
          [
           0
          ],
          [
           1
          ],
          [
           0
          ],
          [
           1
          ],
          [
           1
          ],
          [
           1
          ],
          [
           1
          ],
          [
           0
          ],
          [
           0
          ],
          [
           0
          ],
          [
           1
          ],
          [
           1
          ],
          [
           1
          ],
          [
           1
          ],
          [
           0
          ],
          [
           1
          ],
          [
           0
          ],
          [
           1
          ],
          [
           0
          ],
          [
           1
          ],
          [
           1
          ],
          [
           1
          ],
          [
           0
          ],
          [
           1
          ],
          [
           1
          ],
          [
           1
          ],
          [
           1
          ],
          [
           1
          ],
          [
           1
          ],
          [
           1
          ],
          [
           0
          ],
          [
           0
          ],
          [
           0
          ],
          [
           1
          ],
          [
           1
          ],
          [
           1
          ],
          [
           1
          ],
          [
           1
          ],
          [
           1
          ],
          [
           1
          ],
          [
           1
          ],
          [
           1
          ],
          [
           1
          ],
          [
           1
          ],
          [
           0
          ],
          [
           0
          ],
          [
           1
          ],
          [
           0
          ],
          [
           0
          ],
          [
           0
          ],
          [
           1
          ],
          [
           0
          ],
          [
           0
          ],
          [
           1
          ],
          [
           1
          ],
          [
           1
          ],
          [
           1
          ],
          [
           1
          ],
          [
           0
          ],
          [
           1
          ],
          [
           1
          ],
          [
           1
          ],
          [
           1
          ],
          [
           1
          ],
          [
           0
          ],
          [
           1
          ],
          [
           1
          ],
          [
           1
          ],
          [
           0
          ],
          [
           1
          ],
          [
           1
          ],
          [
           0
          ],
          [
           0
          ],
          [
           1
          ],
          [
           1
          ],
          [
           1
          ],
          [
           1
          ],
          [
           1
          ],
          [
           1
          ],
          [
           0
          ],
          [
           1
          ],
          [
           1
          ],
          [
           1
          ],
          [
           1
          ],
          [
           1
          ],
          [
           1
          ],
          [
           1
          ],
          [
           0
          ],
          [
           1
          ],
          [
           1
          ],
          [
           1
          ],
          [
           1
          ],
          [
           1
          ],
          [
           0
          ],
          [
           1
          ],
          [
           1
          ],
          [
           0
          ],
          [
           1
          ],
          [
           1
          ],
          [
           1
          ],
          [
           1
          ],
          [
           1
          ],
          [
           1
          ],
          [
           1
          ],
          [
           1
          ],
          [
           1
          ],
          [
           1
          ],
          [
           1
          ],
          [
           1
          ],
          [
           0
          ],
          [
           1
          ],
          [
           0
          ],
          [
           0
          ],
          [
           1
          ],
          [
           0
          ],
          [
           1
          ],
          [
           1
          ],
          [
           1
          ],
          [
           1
          ],
          [
           1
          ],
          [
           0
          ],
          [
           1
          ],
          [
           1
          ],
          [
           0
          ],
          [
           1
          ],
          [
           0
          ],
          [
           1
          ],
          [
           1
          ],
          [
           0
          ],
          [
           1
          ],
          [
           0
          ],
          [
           1
          ],
          [
           1
          ],
          [
           1
          ],
          [
           1
          ],
          [
           1
          ],
          [
           1
          ],
          [
           1
          ],
          [
           1
          ],
          [
           0
          ],
          [
           0
          ],
          [
           1
          ],
          [
           1
          ],
          [
           1
          ],
          [
           1
          ],
          [
           1
          ],
          [
           1
          ],
          [
           0
          ],
          [
           1
          ],
          [
           1
          ],
          [
           1
          ],
          [
           1
          ],
          [
           1
          ],
          [
           1
          ],
          [
           1
          ],
          [
           1
          ],
          [
           1
          ],
          [
           1
          ],
          [
           0
          ],
          [
           1
          ],
          [
           1
          ],
          [
           1
          ],
          [
           1
          ],
          [
           1
          ],
          [
           1
          ],
          [
           1
          ],
          [
           0
          ],
          [
           1
          ],
          [
           0
          ],
          [
           1
          ],
          [
           1
          ],
          [
           0
          ],
          [
           1
          ],
          [
           1
          ],
          [
           1
          ],
          [
           1
          ],
          [
           1
          ],
          [
           0
          ],
          [
           0
          ],
          [
           1
          ],
          [
           0
          ],
          [
           1
          ],
          [
           0
          ],
          [
           1
          ],
          [
           1
          ],
          [
           1
          ],
          [
           1
          ],
          [
           1
          ],
          [
           0
          ],
          [
           1
          ],
          [
           1
          ],
          [
           0
          ],
          [
           1
          ],
          [
           0
          ],
          [
           1
          ],
          [
           0
          ],
          [
           0
          ],
          [
           1
          ],
          [
           1
          ],
          [
           1
          ],
          [
           0
          ],
          [
           1
          ],
          [
           1
          ],
          [
           1
          ],
          [
           1
          ],
          [
           1
          ],
          [
           1
          ],
          [
           1
          ],
          [
           1
          ],
          [
           1
          ],
          [
           1
          ],
          [
           1
          ],
          [
           0
          ],
          [
           1
          ],
          [
           0
          ],
          [
           0
          ],
          [
           1
          ],
          [
           1
          ],
          [
           1
          ],
          [
           1
          ],
          [
           1
          ],
          [
           1
          ],
          [
           1
          ],
          [
           1
          ],
          [
           1
          ],
          [
           1
          ],
          [
           1
          ],
          [
           1
          ],
          [
           1
          ],
          [
           1
          ],
          [
           1
          ],
          [
           1
          ],
          [
           1
          ],
          [
           1
          ],
          [
           1
          ],
          [
           1
          ],
          [
           1
          ],
          [
           1
          ],
          [
           1
          ],
          [
           1
          ],
          [
           1
          ],
          [
           0
          ],
          [
           0
          ],
          [
           0
          ],
          [
           0
          ],
          [
           0
          ],
          [
           0
          ],
          [
           1
          ]
         ],
         "hovertemplate": "Mean Concave Points=%{marker.color}<br>index=%{y}<br>target=%{customdata[0]}<extra></extra>",
         "legendgroup": "",
         "marker": {
          "color": [
           0.1471,
           0.07017,
           0.1279,
           0.1052,
           0.1043,
           0.08089,
           0.074,
           0.05985,
           0.09353,
           0.08543,
           0.03323,
           0.06606,
           0.1118,
           0.05364,
           0.08025,
           0.07364,
           0.05259,
           0.1028,
           0.09498,
           0.04781,
           0.0311,
           0.02076,
           0.09756,
           0.08632,
           0.0917,
           0.1401,
           0.08783,
           0.07731,
           0.08751,
           0.07953,
           0.1244,
           0.05182,
           0.1203,
           0.07593,
           0.07752,
           0.06018,
           0.05598,
           0.02923,
           0.02899,
           0.05439,
           0.02031,
           0.05669,
           0.09961,
           0.06158,
           0.05252,
           0.1009,
           0.005917,
           0.0734,
           0.02749,
           0.03384,
           0.01115,
           0.01723,
           0.01349,
           0.106,
           0.03334,
           0.02278,
           0.08994,
           0.08123,
           0.004167,
           0.007799,
           0.0129,
           0.009259,
           0.08653,
           0.0218,
           0.06873,
           0.09029,
           0.01504,
           0.0223,
           0.04375,
           0.02864,
           0.07951,
           0.02872,
           0.07944,
           0.05069,
           0.02272,
           0.06638,
           0.06556,
           0.108,
           0.1604,
           0.02315,
           0.02233,
           0.06987,
           0.1845,
           0.1469,
           0.01863,
           0.08795,
           0.04938,
           0.08271,
           0.03745,
           0.07064,
           0.02957,
           0.07483,
           0.02648,
           0.0278,
           0.08815,
           0.08683,
           0.02941,
           0.007937,
           0.0335,
           0.05839,
           0.04489,
           0,
           0.0177,
           0.03029,
           0.01201,
           0.09601,
           0.03485,
           0.01921,
           0.1823,
           0.01899,
           0.01778,
           0.06021,
           0.07798,
           0.03068,
           0.01924,
           0.02008,
           0.02308,
           0.08923,
           0.09479,
           0.05596,
           0.02623,
           0.08665,
           0.2012,
           0.05778,
           0.028,
           0.01141,
           0.03085,
           0.05627,
           0.08534,
           0.1149,
           0.02882,
           0.08087,
           0.05613,
           0.05933,
           0.06847,
           0.02704,
           0.026,
           0.02875,
           0.08624,
           0.04796,
           0,
           0.05943,
           0.01861,
           0.03088,
           0.007875,
           0.03003,
           0.07415,
           0.03562,
           0.05532,
           0.01329,
           0.02645,
           0.02168,
           0.07857,
           0.01786,
           0.03483,
           0.02331,
           0.1054,
           0.02771,
           0.01963,
           0.006588,
           0.03738,
           0.09667,
           0.1286,
           0.02822,
           0.09702,
           0.01939,
           0.01698,
           0.06576,
           0.1043,
           0.03781,
           0.037,
           0.03438,
           0.1097,
           0.02583,
           0,
           0,
           0.03716,
           0.08866,
           0.001852,
           0.0133,
           0.1878,
           0.1496,
           0.05189,
           0.02361,
           0.03263,
           0.002404,
           0.05814,
           0.03239,
           0.01553,
           0.01654,
           0.06618,
           0.02864,
           0,
           0.04562,
           0.08878,
           0.02377,
           0.06526,
           0.05778,
           0.06772,
           0.0598,
           0.04107,
           0.07488,
           0.162,
           0.09176,
           0.03821,
           0.04079,
           0.01952,
           0.0539,
           0.05102,
           0.03157,
           0.09561,
           0.01393,
           0.1595,
           0.06597,
           0.06462,
           0.05602,
           0.03142,
           0.01071,
           0.08691,
           0.06637,
           0.02563,
           0.04451,
           0.01915,
           0.06462,
           0.02456,
           0.04603,
           0.01216,
           0.0378,
           0.02036,
           0.06861,
           0.109,
           0.003125,
           0.006434,
           0.0834,
           0.01667,
           0.01896,
           0.1237,
           0.06022,
           0.04408,
           0.08811,
           0.03731,
           0.01108,
           0.02854,
           0.02344,
           0.08886,
           0.0307,
           0.01105,
           0.0398,
           0.01615,
           0.02929,
           0.131,
           0.02069,
           0.0974,
           0.08353,
           0.08591,
           0.05246,
           0.1144,
           0.1242,
           0.1377,
           0.08399,
           0.09333,
           0.02837,
           0.07507,
           0.02847,
           0.06527,
           0.08646,
           0.02642,
           0.02142,
           0.01615,
           0.02867,
           0.00625,
           0.02755,
           0.1088,
           0.01407,
           0.04744,
           0.07404,
           0.003333,
           0.05843,
           0.01238,
           0.03711,
           0.09664,
           0.02763,
           0.09464,
           0.09052,
           0.0339,
           0.002924,
           0.03791,
           0.01171,
           0.05588,
           0.02173,
           0.06602,
           0.04819,
           0.0337,
           0.0228,
           0.01924,
           0.01917,
           0.01369,
           0.03515,
           0.01374,
           0.01875,
           0.1062,
           0.03099,
           0.128,
           0.0178,
           0.01502,
           0.01313,
           0.003261,
           0.003472,
           0.004419,
           0.008829,
           0.01148,
           0.01877,
           0.02548,
           0.008907,
           0,
           0.006423,
           0.005051,
           0.0795,
           0.04908,
           0.01699,
           0.03965,
           0.07726,
           0.034,
           0.1504,
           0.01692,
           0.02107,
           0.02733,
           0.005592,
           0.08488,
           0.07981,
           0.07041,
           0.0295,
           0.007583,
           0.002941,
           0.008535,
           0.09934,
           0.02098,
           0.0609,
           0.01775,
           0.141,
           0.04223,
           0.02292,
           0.03341,
           0.1103,
           0.0325,
           0.02037,
           0.008488,
           0.03528,
           0.02322,
           0.01787,
           0.01162,
           0.1242,
           0.1913,
           0.06553,
           0.01471,
           0.04391,
           0.05603,
           0.02088,
           0.02381,
           0.01406,
           0.005449,
           0.02424,
           0.01781,
           0.04835,
           0.01473,
           0.07785,
           0.1265,
           0.02027,
           0.08465,
           0.1501,
           0.08773,
           0.02657,
           0.1255,
           0.08941,
           0.02031,
           0.05397,
           0.05941,
           0.01117,
           0.02471,
           0.06367,
           0.0555,
           0.02074,
           0.02978,
           0.0288,
           0.02864,
           0.05271,
           0.02534,
           0.008507,
           0.02757,
           0.1021,
           0.01968,
           0,
           0.09113,
           0.1562,
           0.03326,
           0.03251,
           0.05381,
           0.04083,
           0.007246,
           0.01638,
           0.1198,
           0.01796,
           0.01883,
           0.0239,
           0.02054,
           0.02932,
           0.04528,
           0.01867,
           0.08824,
           0.02653,
           0.021,
           0.0248,
           0.005128,
           0.03876,
           0.02739,
           0.02179,
           0.01257,
           0.08481,
           0.02402,
           0.01076,
           0.01428,
           0.063,
           0.04497,
           0.04812,
           0.01967,
           0.005159,
           0.02218,
           0.01404,
           0.0137,
           0.01835,
           0.09711,
           0.02799,
           0.1259,
           0.08744,
           0.02877,
           0.06463,
           0.0209,
           0.02944,
           0.02293,
           0.02652,
           0.03613,
           0.05736,
           0.009937,
           0.01111,
           0.06254,
           0.04274,
           0.08293,
           0.0226,
           0.02925,
           0.1155,
           0.02386,
           0.09063,
           0.01945,
           0.06495,
           0.02272,
           0.03264,
           0.02017,
           0.02068,
           0.01762,
           0.01043,
           0.06431,
           0.1689,
           0.01737,
           0.01777,
           0.0287,
           0.02833,
           0.0351,
           0.005769,
           0.1002,
           0.05564,
           0.01514,
           0.02377,
           0.03221,
           0,
           0.01571,
           0.03078,
           0.03058,
           0.01339,
           0.01969,
           0.09194,
           0.01527,
           0.0207,
           0.05266,
           0.0316,
           0.06211,
           0.04846,
           0.02791,
           0.1194,
           0.03132,
           0.02307,
           0.01261,
           0.04178,
           0.07762,
           0.01149,
           0.01256,
           0.04951,
           0.05074,
           0.02369,
           0.09183,
           0.1121,
           0.06142,
           0.06759,
           0.03279,
           0.1003,
           0.05252,
           0.07038,
           0.02166,
           0.04268,
           0.04563,
           0.0852,
           0.02639,
           0.02541,
           0.08172,
           0.04349,
           0.04335,
           0.02594,
           0.09451,
           0.09431,
           0.05303,
           0.02995,
           0.02421,
           0.1471,
           0.005664,
           0.03783,
           0.02416,
           0.0151,
           0.03152,
           0.02647,
           0.06615,
           0.02798,
           0.0444,
           0.02157,
           0.0188,
           0.1015,
           0.02788,
           0.1322,
           0.06139,
           0.04531,
           0,
           0.01364,
           0.02594,
           0.0389,
           0.03027,
           0.03275,
           0.02369,
           0.02443,
           0.005495,
           0.02438,
           0.009615,
           0.00816,
           0,
           0.02257,
           0.01499,
           0.01282,
           0.02343,
           0.02738,
           0.01116,
           0,
           0.03736,
           0.04105,
           0.04304,
           0,
           0.09429,
           0.1474,
           0.1389,
           0.09791,
           0.05302,
           0.152,
           0
          ],
          "coloraxis": "coloraxis",
          "size": [
           0.1471,
           0.07017,
           0.1279,
           0.1052,
           0.1043,
           0.08089,
           0.074,
           0.05985,
           0.09353,
           0.08543,
           0.03323,
           0.06606,
           0.1118,
           0.05364,
           0.08025,
           0.07364,
           0.05259,
           0.1028,
           0.09498,
           0.04781,
           0.0311,
           0.02076,
           0.09756,
           0.08632,
           0.0917,
           0.1401,
           0.08783,
           0.07731,
           0.08751,
           0.07953,
           0.1244,
           0.05182,
           0.1203,
           0.07593,
           0.07752,
           0.06018,
           0.05598,
           0.02923,
           0.02899,
           0.05439,
           0.02031,
           0.05669,
           0.09961,
           0.06158,
           0.05252,
           0.1009,
           0.005917,
           0.0734,
           0.02749,
           0.03384,
           0.01115,
           0.01723,
           0.01349,
           0.106,
           0.03334,
           0.02278,
           0.08994,
           0.08123,
           0.004167,
           0.007799,
           0.0129,
           0.009259,
           0.08653,
           0.0218,
           0.06873,
           0.09029,
           0.01504,
           0.0223,
           0.04375,
           0.02864,
           0.07951,
           0.02872,
           0.07944,
           0.05069,
           0.02272,
           0.06638,
           0.06556,
           0.108,
           0.1604,
           0.02315,
           0.02233,
           0.06987,
           0.1845,
           0.1469,
           0.01863,
           0.08795,
           0.04938,
           0.08271,
           0.03745,
           0.07064,
           0.02957,
           0.07483,
           0.02648,
           0.0278,
           0.08815,
           0.08683,
           0.02941,
           0.007937,
           0.0335,
           0.05839,
           0.04489,
           0,
           0.0177,
           0.03029,
           0.01201,
           0.09601,
           0.03485,
           0.01921,
           0.1823,
           0.01899,
           0.01778,
           0.06021,
           0.07798,
           0.03068,
           0.01924,
           0.02008,
           0.02308,
           0.08923,
           0.09479,
           0.05596,
           0.02623,
           0.08665,
           0.2012,
           0.05778,
           0.028,
           0.01141,
           0.03085,
           0.05627,
           0.08534,
           0.1149,
           0.02882,
           0.08087,
           0.05613,
           0.05933,
           0.06847,
           0.02704,
           0.026,
           0.02875,
           0.08624,
           0.04796,
           0,
           0.05943,
           0.01861,
           0.03088,
           0.007875,
           0.03003,
           0.07415,
           0.03562,
           0.05532,
           0.01329,
           0.02645,
           0.02168,
           0.07857,
           0.01786,
           0.03483,
           0.02331,
           0.1054,
           0.02771,
           0.01963,
           0.006588,
           0.03738,
           0.09667,
           0.1286,
           0.02822,
           0.09702,
           0.01939,
           0.01698,
           0.06576,
           0.1043,
           0.03781,
           0.037,
           0.03438,
           0.1097,
           0.02583,
           0,
           0,
           0.03716,
           0.08866,
           0.001852,
           0.0133,
           0.1878,
           0.1496,
           0.05189,
           0.02361,
           0.03263,
           0.002404,
           0.05814,
           0.03239,
           0.01553,
           0.01654,
           0.06618,
           0.02864,
           0,
           0.04562,
           0.08878,
           0.02377,
           0.06526,
           0.05778,
           0.06772,
           0.0598,
           0.04107,
           0.07488,
           0.162,
           0.09176,
           0.03821,
           0.04079,
           0.01952,
           0.0539,
           0.05102,
           0.03157,
           0.09561,
           0.01393,
           0.1595,
           0.06597,
           0.06462,
           0.05602,
           0.03142,
           0.01071,
           0.08691,
           0.06637,
           0.02563,
           0.04451,
           0.01915,
           0.06462,
           0.02456,
           0.04603,
           0.01216,
           0.0378,
           0.02036,
           0.06861,
           0.109,
           0.003125,
           0.006434,
           0.0834,
           0.01667,
           0.01896,
           0.1237,
           0.06022,
           0.04408,
           0.08811,
           0.03731,
           0.01108,
           0.02854,
           0.02344,
           0.08886,
           0.0307,
           0.01105,
           0.0398,
           0.01615,
           0.02929,
           0.131,
           0.02069,
           0.0974,
           0.08353,
           0.08591,
           0.05246,
           0.1144,
           0.1242,
           0.1377,
           0.08399,
           0.09333,
           0.02837,
           0.07507,
           0.02847,
           0.06527,
           0.08646,
           0.02642,
           0.02142,
           0.01615,
           0.02867,
           0.00625,
           0.02755,
           0.1088,
           0.01407,
           0.04744,
           0.07404,
           0.003333,
           0.05843,
           0.01238,
           0.03711,
           0.09664,
           0.02763,
           0.09464,
           0.09052,
           0.0339,
           0.002924,
           0.03791,
           0.01171,
           0.05588,
           0.02173,
           0.06602,
           0.04819,
           0.0337,
           0.0228,
           0.01924,
           0.01917,
           0.01369,
           0.03515,
           0.01374,
           0.01875,
           0.1062,
           0.03099,
           0.128,
           0.0178,
           0.01502,
           0.01313,
           0.003261,
           0.003472,
           0.004419,
           0.008829,
           0.01148,
           0.01877,
           0.02548,
           0.008907,
           0,
           0.006423,
           0.005051,
           0.0795,
           0.04908,
           0.01699,
           0.03965,
           0.07726,
           0.034,
           0.1504,
           0.01692,
           0.02107,
           0.02733,
           0.005592,
           0.08488,
           0.07981,
           0.07041,
           0.0295,
           0.007583,
           0.002941,
           0.008535,
           0.09934,
           0.02098,
           0.0609,
           0.01775,
           0.141,
           0.04223,
           0.02292,
           0.03341,
           0.1103,
           0.0325,
           0.02037,
           0.008488,
           0.03528,
           0.02322,
           0.01787,
           0.01162,
           0.1242,
           0.1913,
           0.06553,
           0.01471,
           0.04391,
           0.05603,
           0.02088,
           0.02381,
           0.01406,
           0.005449,
           0.02424,
           0.01781,
           0.04835,
           0.01473,
           0.07785,
           0.1265,
           0.02027,
           0.08465,
           0.1501,
           0.08773,
           0.02657,
           0.1255,
           0.08941,
           0.02031,
           0.05397,
           0.05941,
           0.01117,
           0.02471,
           0.06367,
           0.0555,
           0.02074,
           0.02978,
           0.0288,
           0.02864,
           0.05271,
           0.02534,
           0.008507,
           0.02757,
           0.1021,
           0.01968,
           0,
           0.09113,
           0.1562,
           0.03326,
           0.03251,
           0.05381,
           0.04083,
           0.007246,
           0.01638,
           0.1198,
           0.01796,
           0.01883,
           0.0239,
           0.02054,
           0.02932,
           0.04528,
           0.01867,
           0.08824,
           0.02653,
           0.021,
           0.0248,
           0.005128,
           0.03876,
           0.02739,
           0.02179,
           0.01257,
           0.08481,
           0.02402,
           0.01076,
           0.01428,
           0.063,
           0.04497,
           0.04812,
           0.01967,
           0.005159,
           0.02218,
           0.01404,
           0.0137,
           0.01835,
           0.09711,
           0.02799,
           0.1259,
           0.08744,
           0.02877,
           0.06463,
           0.0209,
           0.02944,
           0.02293,
           0.02652,
           0.03613,
           0.05736,
           0.009937,
           0.01111,
           0.06254,
           0.04274,
           0.08293,
           0.0226,
           0.02925,
           0.1155,
           0.02386,
           0.09063,
           0.01945,
           0.06495,
           0.02272,
           0.03264,
           0.02017,
           0.02068,
           0.01762,
           0.01043,
           0.06431,
           0.1689,
           0.01737,
           0.01777,
           0.0287,
           0.02833,
           0.0351,
           0.005769,
           0.1002,
           0.05564,
           0.01514,
           0.02377,
           0.03221,
           0,
           0.01571,
           0.03078,
           0.03058,
           0.01339,
           0.01969,
           0.09194,
           0.01527,
           0.0207,
           0.05266,
           0.0316,
           0.06211,
           0.04846,
           0.02791,
           0.1194,
           0.03132,
           0.02307,
           0.01261,
           0.04178,
           0.07762,
           0.01149,
           0.01256,
           0.04951,
           0.05074,
           0.02369,
           0.09183,
           0.1121,
           0.06142,
           0.06759,
           0.03279,
           0.1003,
           0.05252,
           0.07038,
           0.02166,
           0.04268,
           0.04563,
           0.0852,
           0.02639,
           0.02541,
           0.08172,
           0.04349,
           0.04335,
           0.02594,
           0.09451,
           0.09431,
           0.05303,
           0.02995,
           0.02421,
           0.1471,
           0.005664,
           0.03783,
           0.02416,
           0.0151,
           0.03152,
           0.02647,
           0.06615,
           0.02798,
           0.0444,
           0.02157,
           0.0188,
           0.1015,
           0.02788,
           0.1322,
           0.06139,
           0.04531,
           0,
           0.01364,
           0.02594,
           0.0389,
           0.03027,
           0.03275,
           0.02369,
           0.02443,
           0.005495,
           0.02438,
           0.009615,
           0.00816,
           0,
           0.02257,
           0.01499,
           0.01282,
           0.02343,
           0.02738,
           0.01116,
           0,
           0.03736,
           0.04105,
           0.04304,
           0,
           0.09429,
           0.1474,
           0.1389,
           0.09791,
           0.05302,
           0.152,
           0
          ],
          "sizemode": "area",
          "sizeref": 0.000503,
          "symbol": "circle"
         },
         "mode": "markers",
         "name": "",
         "orientation": "h",
         "showlegend": false,
         "type": "scatter",
         "x": [
          0.1471,
          0.07017,
          0.1279,
          0.1052,
          0.1043,
          0.08089,
          0.074,
          0.05985,
          0.09353,
          0.08543,
          0.03323,
          0.06606,
          0.1118,
          0.05364,
          0.08025,
          0.07364,
          0.05259,
          0.1028,
          0.09498,
          0.04781,
          0.0311,
          0.02076,
          0.09756,
          0.08632,
          0.0917,
          0.1401,
          0.08783,
          0.07731,
          0.08751,
          0.07953,
          0.1244,
          0.05182,
          0.1203,
          0.07593,
          0.07752,
          0.06018,
          0.05598,
          0.02923,
          0.02899,
          0.05439,
          0.02031,
          0.05669,
          0.09961,
          0.06158,
          0.05252,
          0.1009,
          0.005917,
          0.0734,
          0.02749,
          0.03384,
          0.01115,
          0.01723,
          0.01349,
          0.106,
          0.03334,
          0.02278,
          0.08994,
          0.08123,
          0.004167,
          0.007799,
          0.0129,
          0.009259,
          0.08653,
          0.0218,
          0.06873,
          0.09029,
          0.01504,
          0.0223,
          0.04375,
          0.02864,
          0.07951,
          0.02872,
          0.07944,
          0.05069,
          0.02272,
          0.06638,
          0.06556,
          0.108,
          0.1604,
          0.02315,
          0.02233,
          0.06987,
          0.1845,
          0.1469,
          0.01863,
          0.08795,
          0.04938,
          0.08271,
          0.03745,
          0.07064,
          0.02957,
          0.07483,
          0.02648,
          0.0278,
          0.08815,
          0.08683,
          0.02941,
          0.007937,
          0.0335,
          0.05839,
          0.04489,
          0,
          0.0177,
          0.03029,
          0.01201,
          0.09601,
          0.03485,
          0.01921,
          0.1823,
          0.01899,
          0.01778,
          0.06021,
          0.07798,
          0.03068,
          0.01924,
          0.02008,
          0.02308,
          0.08923,
          0.09479,
          0.05596,
          0.02623,
          0.08665,
          0.2012,
          0.05778,
          0.028,
          0.01141,
          0.03085,
          0.05627,
          0.08534,
          0.1149,
          0.02882,
          0.08087,
          0.05613,
          0.05933,
          0.06847,
          0.02704,
          0.026,
          0.02875,
          0.08624,
          0.04796,
          0,
          0.05943,
          0.01861,
          0.03088,
          0.007875,
          0.03003,
          0.07415,
          0.03562,
          0.05532,
          0.01329,
          0.02645,
          0.02168,
          0.07857,
          0.01786,
          0.03483,
          0.02331,
          0.1054,
          0.02771,
          0.01963,
          0.006588,
          0.03738,
          0.09667,
          0.1286,
          0.02822,
          0.09702,
          0.01939,
          0.01698,
          0.06576,
          0.1043,
          0.03781,
          0.037,
          0.03438,
          0.1097,
          0.02583,
          0,
          0,
          0.03716,
          0.08866,
          0.001852,
          0.0133,
          0.1878,
          0.1496,
          0.05189,
          0.02361,
          0.03263,
          0.002404,
          0.05814,
          0.03239,
          0.01553,
          0.01654,
          0.06618,
          0.02864,
          0,
          0.04562,
          0.08878,
          0.02377,
          0.06526,
          0.05778,
          0.06772,
          0.0598,
          0.04107,
          0.07488,
          0.162,
          0.09176,
          0.03821,
          0.04079,
          0.01952,
          0.0539,
          0.05102,
          0.03157,
          0.09561,
          0.01393,
          0.1595,
          0.06597,
          0.06462,
          0.05602,
          0.03142,
          0.01071,
          0.08691,
          0.06637,
          0.02563,
          0.04451,
          0.01915,
          0.06462,
          0.02456,
          0.04603,
          0.01216,
          0.0378,
          0.02036,
          0.06861,
          0.109,
          0.003125,
          0.006434,
          0.0834,
          0.01667,
          0.01896,
          0.1237,
          0.06022,
          0.04408,
          0.08811,
          0.03731,
          0.01108,
          0.02854,
          0.02344,
          0.08886,
          0.0307,
          0.01105,
          0.0398,
          0.01615,
          0.02929,
          0.131,
          0.02069,
          0.0974,
          0.08353,
          0.08591,
          0.05246,
          0.1144,
          0.1242,
          0.1377,
          0.08399,
          0.09333,
          0.02837,
          0.07507,
          0.02847,
          0.06527,
          0.08646,
          0.02642,
          0.02142,
          0.01615,
          0.02867,
          0.00625,
          0.02755,
          0.1088,
          0.01407,
          0.04744,
          0.07404,
          0.003333,
          0.05843,
          0.01238,
          0.03711,
          0.09664,
          0.02763,
          0.09464,
          0.09052,
          0.0339,
          0.002924,
          0.03791,
          0.01171,
          0.05588,
          0.02173,
          0.06602,
          0.04819,
          0.0337,
          0.0228,
          0.01924,
          0.01917,
          0.01369,
          0.03515,
          0.01374,
          0.01875,
          0.1062,
          0.03099,
          0.128,
          0.0178,
          0.01502,
          0.01313,
          0.003261,
          0.003472,
          0.004419,
          0.008829,
          0.01148,
          0.01877,
          0.02548,
          0.008907,
          0,
          0.006423,
          0.005051,
          0.0795,
          0.04908,
          0.01699,
          0.03965,
          0.07726,
          0.034,
          0.1504,
          0.01692,
          0.02107,
          0.02733,
          0.005592,
          0.08488,
          0.07981,
          0.07041,
          0.0295,
          0.007583,
          0.002941,
          0.008535,
          0.09934,
          0.02098,
          0.0609,
          0.01775,
          0.141,
          0.04223,
          0.02292,
          0.03341,
          0.1103,
          0.0325,
          0.02037,
          0.008488,
          0.03528,
          0.02322,
          0.01787,
          0.01162,
          0.1242,
          0.1913,
          0.06553,
          0.01471,
          0.04391,
          0.05603,
          0.02088,
          0.02381,
          0.01406,
          0.005449,
          0.02424,
          0.01781,
          0.04835,
          0.01473,
          0.07785,
          0.1265,
          0.02027,
          0.08465,
          0.1501,
          0.08773,
          0.02657,
          0.1255,
          0.08941,
          0.02031,
          0.05397,
          0.05941,
          0.01117,
          0.02471,
          0.06367,
          0.0555,
          0.02074,
          0.02978,
          0.0288,
          0.02864,
          0.05271,
          0.02534,
          0.008507,
          0.02757,
          0.1021,
          0.01968,
          0,
          0.09113,
          0.1562,
          0.03326,
          0.03251,
          0.05381,
          0.04083,
          0.007246,
          0.01638,
          0.1198,
          0.01796,
          0.01883,
          0.0239,
          0.02054,
          0.02932,
          0.04528,
          0.01867,
          0.08824,
          0.02653,
          0.021,
          0.0248,
          0.005128,
          0.03876,
          0.02739,
          0.02179,
          0.01257,
          0.08481,
          0.02402,
          0.01076,
          0.01428,
          0.063,
          0.04497,
          0.04812,
          0.01967,
          0.005159,
          0.02218,
          0.01404,
          0.0137,
          0.01835,
          0.09711,
          0.02799,
          0.1259,
          0.08744,
          0.02877,
          0.06463,
          0.0209,
          0.02944,
          0.02293,
          0.02652,
          0.03613,
          0.05736,
          0.009937,
          0.01111,
          0.06254,
          0.04274,
          0.08293,
          0.0226,
          0.02925,
          0.1155,
          0.02386,
          0.09063,
          0.01945,
          0.06495,
          0.02272,
          0.03264,
          0.02017,
          0.02068,
          0.01762,
          0.01043,
          0.06431,
          0.1689,
          0.01737,
          0.01777,
          0.0287,
          0.02833,
          0.0351,
          0.005769,
          0.1002,
          0.05564,
          0.01514,
          0.02377,
          0.03221,
          0,
          0.01571,
          0.03078,
          0.03058,
          0.01339,
          0.01969,
          0.09194,
          0.01527,
          0.0207,
          0.05266,
          0.0316,
          0.06211,
          0.04846,
          0.02791,
          0.1194,
          0.03132,
          0.02307,
          0.01261,
          0.04178,
          0.07762,
          0.01149,
          0.01256,
          0.04951,
          0.05074,
          0.02369,
          0.09183,
          0.1121,
          0.06142,
          0.06759,
          0.03279,
          0.1003,
          0.05252,
          0.07038,
          0.02166,
          0.04268,
          0.04563,
          0.0852,
          0.02639,
          0.02541,
          0.08172,
          0.04349,
          0.04335,
          0.02594,
          0.09451,
          0.09431,
          0.05303,
          0.02995,
          0.02421,
          0.1471,
          0.005664,
          0.03783,
          0.02416,
          0.0151,
          0.03152,
          0.02647,
          0.06615,
          0.02798,
          0.0444,
          0.02157,
          0.0188,
          0.1015,
          0.02788,
          0.1322,
          0.06139,
          0.04531,
          0,
          0.01364,
          0.02594,
          0.0389,
          0.03027,
          0.03275,
          0.02369,
          0.02443,
          0.005495,
          0.02438,
          0.009615,
          0.00816,
          0,
          0.02257,
          0.01499,
          0.01282,
          0.02343,
          0.02738,
          0.01116,
          0,
          0.03736,
          0.04105,
          0.04304,
          0,
          0.09429,
          0.1474,
          0.1389,
          0.09791,
          0.05302,
          0.152,
          0
         ],
         "xaxis": "x",
         "y": [
          0,
          1,
          2,
          3,
          4,
          5,
          6,
          7,
          8,
          9,
          10,
          11,
          12,
          13,
          14,
          15,
          16,
          17,
          18,
          19,
          20,
          21,
          22,
          23,
          24,
          25,
          26,
          27,
          28,
          29,
          30,
          31,
          32,
          33,
          34,
          35,
          36,
          37,
          38,
          39,
          40,
          41,
          42,
          43,
          44,
          45,
          46,
          47,
          48,
          49,
          50,
          51,
          52,
          53,
          54,
          55,
          56,
          57,
          58,
          59,
          60,
          61,
          62,
          63,
          64,
          65,
          66,
          67,
          68,
          69,
          70,
          71,
          72,
          73,
          74,
          75,
          76,
          77,
          78,
          79,
          80,
          81,
          82,
          83,
          84,
          85,
          86,
          87,
          88,
          89,
          90,
          91,
          92,
          93,
          94,
          95,
          96,
          97,
          98,
          99,
          100,
          101,
          102,
          103,
          104,
          105,
          106,
          107,
          108,
          109,
          110,
          111,
          112,
          113,
          114,
          115,
          116,
          117,
          118,
          119,
          120,
          121,
          122,
          123,
          124,
          125,
          126,
          127,
          128,
          129,
          130,
          131,
          132,
          133,
          134,
          135,
          136,
          137,
          138,
          139,
          140,
          141,
          142,
          143,
          144,
          145,
          146,
          147,
          148,
          149,
          150,
          151,
          152,
          153,
          154,
          155,
          156,
          157,
          158,
          159,
          160,
          161,
          162,
          163,
          164,
          165,
          166,
          167,
          168,
          169,
          170,
          171,
          172,
          173,
          174,
          175,
          176,
          177,
          178,
          179,
          180,
          181,
          182,
          183,
          184,
          185,
          186,
          187,
          188,
          189,
          190,
          191,
          192,
          193,
          194,
          195,
          196,
          197,
          198,
          199,
          200,
          201,
          202,
          203,
          204,
          205,
          206,
          207,
          208,
          209,
          210,
          211,
          212,
          213,
          214,
          215,
          216,
          217,
          218,
          219,
          220,
          221,
          222,
          223,
          224,
          225,
          226,
          227,
          228,
          229,
          230,
          231,
          232,
          233,
          234,
          235,
          236,
          237,
          238,
          239,
          240,
          241,
          242,
          243,
          244,
          245,
          246,
          247,
          248,
          249,
          250,
          251,
          252,
          253,
          254,
          255,
          256,
          257,
          258,
          259,
          260,
          261,
          262,
          263,
          264,
          265,
          266,
          267,
          268,
          269,
          270,
          271,
          272,
          273,
          274,
          275,
          276,
          277,
          278,
          279,
          280,
          281,
          282,
          283,
          284,
          285,
          286,
          287,
          288,
          289,
          290,
          291,
          292,
          293,
          294,
          295,
          296,
          297,
          298,
          299,
          300,
          301,
          302,
          303,
          304,
          305,
          306,
          307,
          308,
          309,
          310,
          311,
          312,
          313,
          314,
          315,
          316,
          317,
          318,
          319,
          320,
          321,
          322,
          323,
          324,
          325,
          326,
          327,
          328,
          329,
          330,
          331,
          332,
          333,
          334,
          335,
          336,
          337,
          338,
          339,
          340,
          341,
          342,
          343,
          344,
          345,
          346,
          347,
          348,
          349,
          350,
          351,
          352,
          353,
          354,
          355,
          356,
          357,
          358,
          359,
          360,
          361,
          362,
          363,
          364,
          365,
          366,
          367,
          368,
          369,
          370,
          371,
          372,
          373,
          374,
          375,
          376,
          377,
          378,
          379,
          380,
          381,
          382,
          383,
          384,
          385,
          386,
          387,
          388,
          389,
          390,
          391,
          392,
          393,
          394,
          395,
          396,
          397,
          398,
          399,
          400,
          401,
          402,
          403,
          404,
          405,
          406,
          407,
          408,
          409,
          410,
          411,
          412,
          413,
          414,
          415,
          416,
          417,
          418,
          419,
          420,
          421,
          422,
          423,
          424,
          425,
          426,
          427,
          428,
          429,
          430,
          431,
          432,
          433,
          434,
          435,
          436,
          437,
          438,
          439,
          440,
          441,
          442,
          443,
          444,
          445,
          446,
          447,
          448,
          449,
          450,
          451,
          452,
          453,
          454,
          455,
          456,
          457,
          458,
          459,
          460,
          461,
          462,
          463,
          464,
          465,
          466,
          467,
          468,
          469,
          470,
          471,
          472,
          473,
          474,
          475,
          476,
          477,
          478,
          479,
          480,
          481,
          482,
          483,
          484,
          485,
          486,
          487,
          488,
          489,
          490,
          491,
          492,
          493,
          494,
          495,
          496,
          497,
          498,
          499,
          500,
          501,
          502,
          503,
          504,
          505,
          506,
          507,
          508,
          509,
          510,
          511,
          512,
          513,
          514,
          515,
          516,
          517,
          518,
          519,
          520,
          521,
          522,
          523,
          524,
          525,
          526,
          527,
          528,
          529,
          530,
          531,
          532,
          533,
          534,
          535,
          536,
          537,
          538,
          539,
          540,
          541,
          542,
          543,
          544,
          545,
          546,
          547,
          548,
          549,
          550,
          551,
          552,
          553,
          554,
          555,
          556,
          557,
          558,
          559,
          560,
          561,
          562,
          563,
          564,
          565,
          566,
          567,
          568
         ],
         "yaxis": "y"
        }
       ],
       "layout": {
        "coloraxis": {
         "colorbar": {
          "title": {
           "text": "Mean Concave Points"
          }
         },
         "colorscale": [
          [
           0,
           "#440154"
          ],
          [
           0.1111111111111111,
           "#482878"
          ],
          [
           0.2222222222222222,
           "#3e4989"
          ],
          [
           0.3333333333333333,
           "#31688e"
          ],
          [
           0.4444444444444444,
           "#26828e"
          ],
          [
           0.5555555555555556,
           "#1f9e89"
          ],
          [
           0.6666666666666666,
           "#35b779"
          ],
          [
           0.7777777777777778,
           "#6ece58"
          ],
          [
           0.8888888888888888,
           "#b5de2b"
          ],
          [
           1,
           "#fde725"
          ]
         ]
        },
        "legend": {
         "itemsizing": "constant",
         "tracegroupgap": 0
        },
        "template": {
         "data": {
          "bar": [
           {
            "error_x": {
             "color": "rgb(36,36,36)"
            },
            "error_y": {
             "color": "rgb(36,36,36)"
            },
            "marker": {
             "line": {
              "color": "white",
              "width": 0.5
             },
             "pattern": {
              "fillmode": "overlay",
              "size": 10,
              "solidity": 0.2
             }
            },
            "type": "bar"
           }
          ],
          "barpolar": [
           {
            "marker": {
             "line": {
              "color": "white",
              "width": 0.5
             },
             "pattern": {
              "fillmode": "overlay",
              "size": 10,
              "solidity": 0.2
             }
            },
            "type": "barpolar"
           }
          ],
          "carpet": [
           {
            "aaxis": {
             "endlinecolor": "rgb(36,36,36)",
             "gridcolor": "white",
             "linecolor": "white",
             "minorgridcolor": "white",
             "startlinecolor": "rgb(36,36,36)"
            },
            "baxis": {
             "endlinecolor": "rgb(36,36,36)",
             "gridcolor": "white",
             "linecolor": "white",
             "minorgridcolor": "white",
             "startlinecolor": "rgb(36,36,36)"
            },
            "type": "carpet"
           }
          ],
          "choropleth": [
           {
            "colorbar": {
             "outlinewidth": 1,
             "tickcolor": "rgb(36,36,36)",
             "ticks": "outside"
            },
            "type": "choropleth"
           }
          ],
          "contour": [
           {
            "colorbar": {
             "outlinewidth": 1,
             "tickcolor": "rgb(36,36,36)",
             "ticks": "outside"
            },
            "colorscale": [
             [
              0,
              "#440154"
             ],
             [
              0.1111111111111111,
              "#482878"
             ],
             [
              0.2222222222222222,
              "#3e4989"
             ],
             [
              0.3333333333333333,
              "#31688e"
             ],
             [
              0.4444444444444444,
              "#26828e"
             ],
             [
              0.5555555555555556,
              "#1f9e89"
             ],
             [
              0.6666666666666666,
              "#35b779"
             ],
             [
              0.7777777777777778,
              "#6ece58"
             ],
             [
              0.8888888888888888,
              "#b5de2b"
             ],
             [
              1,
              "#fde725"
             ]
            ],
            "type": "contour"
           }
          ],
          "contourcarpet": [
           {
            "colorbar": {
             "outlinewidth": 1,
             "tickcolor": "rgb(36,36,36)",
             "ticks": "outside"
            },
            "type": "contourcarpet"
           }
          ],
          "heatmap": [
           {
            "colorbar": {
             "outlinewidth": 1,
             "tickcolor": "rgb(36,36,36)",
             "ticks": "outside"
            },
            "colorscale": [
             [
              0,
              "#440154"
             ],
             [
              0.1111111111111111,
              "#482878"
             ],
             [
              0.2222222222222222,
              "#3e4989"
             ],
             [
              0.3333333333333333,
              "#31688e"
             ],
             [
              0.4444444444444444,
              "#26828e"
             ],
             [
              0.5555555555555556,
              "#1f9e89"
             ],
             [
              0.6666666666666666,
              "#35b779"
             ],
             [
              0.7777777777777778,
              "#6ece58"
             ],
             [
              0.8888888888888888,
              "#b5de2b"
             ],
             [
              1,
              "#fde725"
             ]
            ],
            "type": "heatmap"
           }
          ],
          "heatmapgl": [
           {
            "colorbar": {
             "outlinewidth": 1,
             "tickcolor": "rgb(36,36,36)",
             "ticks": "outside"
            },
            "colorscale": [
             [
              0,
              "#440154"
             ],
             [
              0.1111111111111111,
              "#482878"
             ],
             [
              0.2222222222222222,
              "#3e4989"
             ],
             [
              0.3333333333333333,
              "#31688e"
             ],
             [
              0.4444444444444444,
              "#26828e"
             ],
             [
              0.5555555555555556,
              "#1f9e89"
             ],
             [
              0.6666666666666666,
              "#35b779"
             ],
             [
              0.7777777777777778,
              "#6ece58"
             ],
             [
              0.8888888888888888,
              "#b5de2b"
             ],
             [
              1,
              "#fde725"
             ]
            ],
            "type": "heatmapgl"
           }
          ],
          "histogram": [
           {
            "marker": {
             "line": {
              "color": "white",
              "width": 0.6
             }
            },
            "type": "histogram"
           }
          ],
          "histogram2d": [
           {
            "colorbar": {
             "outlinewidth": 1,
             "tickcolor": "rgb(36,36,36)",
             "ticks": "outside"
            },
            "colorscale": [
             [
              0,
              "#440154"
             ],
             [
              0.1111111111111111,
              "#482878"
             ],
             [
              0.2222222222222222,
              "#3e4989"
             ],
             [
              0.3333333333333333,
              "#31688e"
             ],
             [
              0.4444444444444444,
              "#26828e"
             ],
             [
              0.5555555555555556,
              "#1f9e89"
             ],
             [
              0.6666666666666666,
              "#35b779"
             ],
             [
              0.7777777777777778,
              "#6ece58"
             ],
             [
              0.8888888888888888,
              "#b5de2b"
             ],
             [
              1,
              "#fde725"
             ]
            ],
            "type": "histogram2d"
           }
          ],
          "histogram2dcontour": [
           {
            "colorbar": {
             "outlinewidth": 1,
             "tickcolor": "rgb(36,36,36)",
             "ticks": "outside"
            },
            "colorscale": [
             [
              0,
              "#440154"
             ],
             [
              0.1111111111111111,
              "#482878"
             ],
             [
              0.2222222222222222,
              "#3e4989"
             ],
             [
              0.3333333333333333,
              "#31688e"
             ],
             [
              0.4444444444444444,
              "#26828e"
             ],
             [
              0.5555555555555556,
              "#1f9e89"
             ],
             [
              0.6666666666666666,
              "#35b779"
             ],
             [
              0.7777777777777778,
              "#6ece58"
             ],
             [
              0.8888888888888888,
              "#b5de2b"
             ],
             [
              1,
              "#fde725"
             ]
            ],
            "type": "histogram2dcontour"
           }
          ],
          "mesh3d": [
           {
            "colorbar": {
             "outlinewidth": 1,
             "tickcolor": "rgb(36,36,36)",
             "ticks": "outside"
            },
            "type": "mesh3d"
           }
          ],
          "parcoords": [
           {
            "line": {
             "colorbar": {
              "outlinewidth": 1,
              "tickcolor": "rgb(36,36,36)",
              "ticks": "outside"
             }
            },
            "type": "parcoords"
           }
          ],
          "pie": [
           {
            "automargin": true,
            "type": "pie"
           }
          ],
          "scatter": [
           {
            "fillpattern": {
             "fillmode": "overlay",
             "size": 10,
             "solidity": 0.2
            },
            "type": "scatter"
           }
          ],
          "scatter3d": [
           {
            "line": {
             "colorbar": {
              "outlinewidth": 1,
              "tickcolor": "rgb(36,36,36)",
              "ticks": "outside"
             }
            },
            "marker": {
             "colorbar": {
              "outlinewidth": 1,
              "tickcolor": "rgb(36,36,36)",
              "ticks": "outside"
             }
            },
            "type": "scatter3d"
           }
          ],
          "scattercarpet": [
           {
            "marker": {
             "colorbar": {
              "outlinewidth": 1,
              "tickcolor": "rgb(36,36,36)",
              "ticks": "outside"
             }
            },
            "type": "scattercarpet"
           }
          ],
          "scattergeo": [
           {
            "marker": {
             "colorbar": {
              "outlinewidth": 1,
              "tickcolor": "rgb(36,36,36)",
              "ticks": "outside"
             }
            },
            "type": "scattergeo"
           }
          ],
          "scattergl": [
           {
            "marker": {
             "colorbar": {
              "outlinewidth": 1,
              "tickcolor": "rgb(36,36,36)",
              "ticks": "outside"
             }
            },
            "type": "scattergl"
           }
          ],
          "scattermapbox": [
           {
            "marker": {
             "colorbar": {
              "outlinewidth": 1,
              "tickcolor": "rgb(36,36,36)",
              "ticks": "outside"
             }
            },
            "type": "scattermapbox"
           }
          ],
          "scatterpolar": [
           {
            "marker": {
             "colorbar": {
              "outlinewidth": 1,
              "tickcolor": "rgb(36,36,36)",
              "ticks": "outside"
             }
            },
            "type": "scatterpolar"
           }
          ],
          "scatterpolargl": [
           {
            "marker": {
             "colorbar": {
              "outlinewidth": 1,
              "tickcolor": "rgb(36,36,36)",
              "ticks": "outside"
             }
            },
            "type": "scatterpolargl"
           }
          ],
          "scatterternary": [
           {
            "marker": {
             "colorbar": {
              "outlinewidth": 1,
              "tickcolor": "rgb(36,36,36)",
              "ticks": "outside"
             }
            },
            "type": "scatterternary"
           }
          ],
          "surface": [
           {
            "colorbar": {
             "outlinewidth": 1,
             "tickcolor": "rgb(36,36,36)",
             "ticks": "outside"
            },
            "colorscale": [
             [
              0,
              "#440154"
             ],
             [
              0.1111111111111111,
              "#482878"
             ],
             [
              0.2222222222222222,
              "#3e4989"
             ],
             [
              0.3333333333333333,
              "#31688e"
             ],
             [
              0.4444444444444444,
              "#26828e"
             ],
             [
              0.5555555555555556,
              "#1f9e89"
             ],
             [
              0.6666666666666666,
              "#35b779"
             ],
             [
              0.7777777777777778,
              "#6ece58"
             ],
             [
              0.8888888888888888,
              "#b5de2b"
             ],
             [
              1,
              "#fde725"
             ]
            ],
            "type": "surface"
           }
          ],
          "table": [
           {
            "cells": {
             "fill": {
              "color": "rgb(237,237,237)"
             },
             "line": {
              "color": "white"
             }
            },
            "header": {
             "fill": {
              "color": "rgb(217,217,217)"
             },
             "line": {
              "color": "white"
             }
            },
            "type": "table"
           }
          ]
         },
         "layout": {
          "annotationdefaults": {
           "arrowhead": 0,
           "arrowwidth": 1
          },
          "autotypenumbers": "strict",
          "coloraxis": {
           "colorbar": {
            "outlinewidth": 1,
            "tickcolor": "rgb(36,36,36)",
            "ticks": "outside"
           }
          },
          "colorscale": {
           "diverging": [
            [
             0,
             "rgb(103,0,31)"
            ],
            [
             0.1,
             "rgb(178,24,43)"
            ],
            [
             0.2,
             "rgb(214,96,77)"
            ],
            [
             0.3,
             "rgb(244,165,130)"
            ],
            [
             0.4,
             "rgb(253,219,199)"
            ],
            [
             0.5,
             "rgb(247,247,247)"
            ],
            [
             0.6,
             "rgb(209,229,240)"
            ],
            [
             0.7,
             "rgb(146,197,222)"
            ],
            [
             0.8,
             "rgb(67,147,195)"
            ],
            [
             0.9,
             "rgb(33,102,172)"
            ],
            [
             1,
             "rgb(5,48,97)"
            ]
           ],
           "sequential": [
            [
             0,
             "#440154"
            ],
            [
             0.1111111111111111,
             "#482878"
            ],
            [
             0.2222222222222222,
             "#3e4989"
            ],
            [
             0.3333333333333333,
             "#31688e"
            ],
            [
             0.4444444444444444,
             "#26828e"
            ],
            [
             0.5555555555555556,
             "#1f9e89"
            ],
            [
             0.6666666666666666,
             "#35b779"
            ],
            [
             0.7777777777777778,
             "#6ece58"
            ],
            [
             0.8888888888888888,
             "#b5de2b"
            ],
            [
             1,
             "#fde725"
            ]
           ],
           "sequentialminus": [
            [
             0,
             "#440154"
            ],
            [
             0.1111111111111111,
             "#482878"
            ],
            [
             0.2222222222222222,
             "#3e4989"
            ],
            [
             0.3333333333333333,
             "#31688e"
            ],
            [
             0.4444444444444444,
             "#26828e"
            ],
            [
             0.5555555555555556,
             "#1f9e89"
            ],
            [
             0.6666666666666666,
             "#35b779"
            ],
            [
             0.7777777777777778,
             "#6ece58"
            ],
            [
             0.8888888888888888,
             "#b5de2b"
            ],
            [
             1,
             "#fde725"
            ]
           ]
          },
          "colorway": [
           "#1F77B4",
           "#FF7F0E",
           "#2CA02C",
           "#D62728",
           "#9467BD",
           "#8C564B",
           "#E377C2",
           "#7F7F7F",
           "#BCBD22",
           "#17BECF"
          ],
          "font": {
           "color": "rgb(36,36,36)"
          },
          "geo": {
           "bgcolor": "white",
           "lakecolor": "white",
           "landcolor": "white",
           "showlakes": true,
           "showland": true,
           "subunitcolor": "white"
          },
          "hoverlabel": {
           "align": "left"
          },
          "hovermode": "closest",
          "mapbox": {
           "style": "light"
          },
          "paper_bgcolor": "white",
          "plot_bgcolor": "white",
          "polar": {
           "angularaxis": {
            "gridcolor": "rgb(232,232,232)",
            "linecolor": "rgb(36,36,36)",
            "showgrid": false,
            "showline": true,
            "ticks": "outside"
           },
           "bgcolor": "white",
           "radialaxis": {
            "gridcolor": "rgb(232,232,232)",
            "linecolor": "rgb(36,36,36)",
            "showgrid": false,
            "showline": true,
            "ticks": "outside"
           }
          },
          "scene": {
           "xaxis": {
            "backgroundcolor": "white",
            "gridcolor": "rgb(232,232,232)",
            "gridwidth": 2,
            "linecolor": "rgb(36,36,36)",
            "showbackground": true,
            "showgrid": false,
            "showline": true,
            "ticks": "outside",
            "zeroline": false,
            "zerolinecolor": "rgb(36,36,36)"
           },
           "yaxis": {
            "backgroundcolor": "white",
            "gridcolor": "rgb(232,232,232)",
            "gridwidth": 2,
            "linecolor": "rgb(36,36,36)",
            "showbackground": true,
            "showgrid": false,
            "showline": true,
            "ticks": "outside",
            "zeroline": false,
            "zerolinecolor": "rgb(36,36,36)"
           },
           "zaxis": {
            "backgroundcolor": "white",
            "gridcolor": "rgb(232,232,232)",
            "gridwidth": 2,
            "linecolor": "rgb(36,36,36)",
            "showbackground": true,
            "showgrid": false,
            "showline": true,
            "ticks": "outside",
            "zeroline": false,
            "zerolinecolor": "rgb(36,36,36)"
           }
          },
          "shapedefaults": {
           "fillcolor": "black",
           "line": {
            "width": 0
           },
           "opacity": 0.3
          },
          "ternary": {
           "aaxis": {
            "gridcolor": "rgb(232,232,232)",
            "linecolor": "rgb(36,36,36)",
            "showgrid": false,
            "showline": true,
            "ticks": "outside"
           },
           "baxis": {
            "gridcolor": "rgb(232,232,232)",
            "linecolor": "rgb(36,36,36)",
            "showgrid": false,
            "showline": true,
            "ticks": "outside"
           },
           "bgcolor": "white",
           "caxis": {
            "gridcolor": "rgb(232,232,232)",
            "linecolor": "rgb(36,36,36)",
            "showgrid": false,
            "showline": true,
            "ticks": "outside"
           }
          },
          "title": {
           "x": 0.05
          },
          "xaxis": {
           "automargin": true,
           "gridcolor": "rgb(232,232,232)",
           "linecolor": "rgb(36,36,36)",
           "showgrid": false,
           "showline": true,
           "ticks": "outside",
           "title": {
            "standoff": 15
           },
           "zeroline": false,
           "zerolinecolor": "rgb(36,36,36)"
          },
          "yaxis": {
           "automargin": true,
           "gridcolor": "rgb(232,232,232)",
           "linecolor": "rgb(36,36,36)",
           "showgrid": false,
           "showline": true,
           "ticks": "outside",
           "title": {
            "standoff": 15
           },
           "zeroline": false,
           "zerolinecolor": "rgb(36,36,36)"
          }
         }
        },
        "title": {
         "text": "Mean Concave Points Spread"
        },
        "xaxis": {
         "anchor": "y",
         "domain": [
          0,
          1
         ],
         "title": {
          "text": "Mean concave points"
         }
        },
        "yaxis": {
         "anchor": "x",
         "domain": [
          0,
          1
         ],
         "title": {
          "text": " "
         }
        }
       }
      },
      "text/html": [
       "<div>                            <div id=\"5f01012e-9350-4c56-90fc-5bcc94c6d577\" class=\"plotly-graph-div\" style=\"height:525px; width:100%;\"></div>            <script type=\"text/javascript\">                require([\"plotly\"], function(Plotly) {                    window.PLOTLYENV=window.PLOTLYENV || {};                                    if (document.getElementById(\"5f01012e-9350-4c56-90fc-5bcc94c6d577\")) {                    Plotly.newPlot(                        \"5f01012e-9350-4c56-90fc-5bcc94c6d577\",                        [{\"customdata\":[[0],[0],[0],[0],[0],[0],[0],[0],[0],[0],[0],[0],[0],[0],[0],[0],[0],[0],[0],[1],[1],[1],[0],[0],[0],[0],[0],[0],[0],[0],[0],[0],[0],[0],[0],[0],[0],[1],[0],[0],[0],[0],[0],[0],[0],[0],[1],[0],[1],[1],[1],[1],[1],[0],[0],[1],[0],[0],[1],[1],[1],[1],[0],[1],[0],[0],[1],[1],[1],[1],[0],[1],[0],[0],[1],[0],[1],[0],[0],[1],[1],[1],[0],[0],[1],[0],[0],[0],[1],[1],[1],[0],[1],[1],[0],[0],[1],[1],[1],[0],[0],[1],[1],[1],[1],[0],[1],[1],[0],[1],[1],[1],[1],[1],[1],[1],[1],[0],[0],[0],[1],[0],[0],[1],[1],[1],[0],[0],[1],[0],[1],[0],[0],[1],[0],[0],[1],[1],[0],[1],[1],[0],[1],[1],[1],[1],[0],[1],[1],[1],[1],[1],[1],[1],[1],[1],[0],[1],[1],[1],[1],[0],[0],[1],[0],[1],[1],[0],[0],[1],[1],[0],[0],[1],[1],[1],[1],[0],[1],[1],[0],[0],[0],[1],[0],[1],[0],[1],[1],[1],[0],[1],[1],[0],[0],[1],[0],[0],[0],[0],[1],[0],[0],[0],[1],[0],[1],[0],[1],[1],[0],[1],[0],[0],[0],[0],[1],[1],[0],[0],[1],[1],[1],[0],[1],[1],[1],[1],[1],[0],[0],[1],[1],[0],[1],[1],[0],[0],[1],[0],[1],[1],[1],[1],[0],[1],[1],[1],[1],[1],[0],[1],[0],[0],[0],[0],[0],[0],[0],[0],[0],[0],[0],[0],[0],[0],[1],[1],[1],[1],[1],[1],[0],[1],[0],[1],[1],[0],[1],[1],[0],[1],[0],[0],[1],[1],[1],[1],[1],[1],[1],[1],[1],[1],[1],[1],[1],[0],[1],[1],[0],[1],[0],[1],[1],[1],[1],[1],[1],[1],[1],[1],[1],[1],[1],[1],[1],[0],[1],[1],[1],[0],[1],[0],[1],[1],[1],[1],[0],[0],[0],[1],[1],[1],[1],[0],[1],[0],[1],[0],[1],[1],[1],[0],[1],[1],[1],[1],[1],[1],[1],[0],[0],[0],[1],[1],[1],[1],[1],[1],[1],[1],[1],[1],[1],[0],[0],[1],[0],[0],[0],[1],[0],[0],[1],[1],[1],[1],[1],[0],[1],[1],[1],[1],[1],[0],[1],[1],[1],[0],[1],[1],[0],[0],[1],[1],[1],[1],[1],[1],[0],[1],[1],[1],[1],[1],[1],[1],[0],[1],[1],[1],[1],[1],[0],[1],[1],[0],[1],[1],[1],[1],[1],[1],[1],[1],[1],[1],[1],[1],[0],[1],[0],[0],[1],[0],[1],[1],[1],[1],[1],[0],[1],[1],[0],[1],[0],[1],[1],[0],[1],[0],[1],[1],[1],[1],[1],[1],[1],[1],[0],[0],[1],[1],[1],[1],[1],[1],[0],[1],[1],[1],[1],[1],[1],[1],[1],[1],[1],[0],[1],[1],[1],[1],[1],[1],[1],[0],[1],[0],[1],[1],[0],[1],[1],[1],[1],[1],[0],[0],[1],[0],[1],[0],[1],[1],[1],[1],[1],[0],[1],[1],[0],[1],[0],[1],[0],[0],[1],[1],[1],[0],[1],[1],[1],[1],[1],[1],[1],[1],[1],[1],[1],[0],[1],[0],[0],[1],[1],[1],[1],[1],[1],[1],[1],[1],[1],[1],[1],[1],[1],[1],[1],[1],[1],[1],[1],[1],[1],[1],[1],[1],[0],[0],[0],[0],[0],[0],[1]],\"hovertemplate\":\"Mean Concave Points=%{marker.color}<br>index=%{y}<br>target=%{customdata[0]}<extra></extra>\",\"legendgroup\":\"\",\"marker\":{\"color\":[0.1471,0.07017,0.1279,0.1052,0.1043,0.08089,0.074,0.05985,0.09353,0.08543,0.03323,0.06606,0.1118,0.05364,0.08025,0.07364,0.05259,0.1028,0.09498,0.04781,0.0311,0.02076,0.09756,0.08632,0.0917,0.1401,0.08783,0.07731,0.08751,0.07953,0.1244,0.05182,0.1203,0.07593,0.07752,0.06018,0.05598,0.02923,0.02899,0.05439,0.02031,0.05669,0.09961,0.06158,0.05252,0.1009,0.005917,0.0734,0.02749,0.03384,0.01115,0.01723,0.01349,0.106,0.03334,0.02278,0.08994,0.08123,0.004167,0.007799,0.0129,0.009259,0.08653,0.0218,0.06873,0.09029,0.01504,0.0223,0.04375,0.02864,0.07951,0.02872,0.07944,0.05069,0.02272,0.06638,0.06556,0.108,0.1604,0.02315,0.02233,0.06987,0.1845,0.1469,0.01863,0.08795,0.04938,0.08271,0.03745,0.07064,0.02957,0.07483,0.02648,0.0278,0.08815,0.08683,0.02941,0.007937,0.0335,0.05839,0.04489,0.0,0.0177,0.03029,0.01201,0.09601,0.03485,0.01921,0.1823,0.01899,0.01778,0.06021,0.07798,0.03068,0.01924,0.02008,0.02308,0.08923,0.09479,0.05596,0.02623,0.08665,0.2012,0.05778,0.028,0.01141,0.03085,0.05627,0.08534,0.1149,0.02882,0.08087,0.05613,0.05933,0.06847,0.02704,0.026,0.02875,0.08624,0.04796,0.0,0.05943,0.01861,0.03088,0.007875,0.03003,0.07415,0.03562,0.05532,0.01329,0.02645,0.02168,0.07857,0.01786,0.03483,0.02331,0.1054,0.02771,0.01963,0.006588,0.03738,0.09667,0.1286,0.02822,0.09702,0.01939,0.01698,0.06576,0.1043,0.03781,0.037,0.03438,0.1097,0.02583,0.0,0.0,0.03716,0.08866,0.001852,0.0133,0.1878,0.1496,0.05189,0.02361,0.03263,0.002404,0.05814,0.03239,0.01553,0.01654,0.06618,0.02864,0.0,0.04562,0.08878,0.02377,0.06526,0.05778,0.06772,0.0598,0.04107,0.07488,0.162,0.09176,0.03821,0.04079,0.01952,0.0539,0.05102,0.03157,0.09561,0.01393,0.1595,0.06597,0.06462,0.05602,0.03142,0.01071,0.08691,0.06637,0.02563,0.04451,0.01915,0.06462,0.02456,0.04603,0.01216,0.0378,0.02036,0.06861,0.109,0.003125,0.006434,0.0834,0.01667,0.01896,0.1237,0.06022,0.04408,0.08811,0.03731,0.01108,0.02854,0.02344,0.08886,0.0307,0.01105,0.0398,0.01615,0.02929,0.131,0.02069,0.0974,0.08353,0.08591,0.05246,0.1144,0.1242,0.1377,0.08399,0.09333,0.02837,0.07507,0.02847,0.06527,0.08646,0.02642,0.02142,0.01615,0.02867,0.00625,0.02755,0.1088,0.01407,0.04744,0.07404,0.003333,0.05843,0.01238,0.03711,0.09664,0.02763,0.09464,0.09052,0.0339,0.002924,0.03791,0.01171,0.05588,0.02173,0.06602,0.04819,0.0337,0.0228,0.01924,0.01917,0.01369,0.03515,0.01374,0.01875,0.1062,0.03099,0.128,0.0178,0.01502,0.01313,0.003261,0.003472,0.004419,0.008829,0.01148,0.01877,0.02548,0.008907,0.0,0.006423,0.005051,0.0795,0.04908,0.01699,0.03965,0.07726,0.034,0.1504,0.01692,0.02107,0.02733,0.005592,0.08488,0.07981,0.07041,0.0295,0.007583,0.002941,0.008535,0.09934,0.02098,0.0609,0.01775,0.141,0.04223,0.02292,0.03341,0.1103,0.0325,0.02037,0.008488,0.03528,0.02322,0.01787,0.01162,0.1242,0.1913,0.06553,0.01471,0.04391,0.05603,0.02088,0.02381,0.01406,0.005449,0.02424,0.01781,0.04835,0.01473,0.07785,0.1265,0.02027,0.08465,0.1501,0.08773,0.02657,0.1255,0.08941,0.02031,0.05397,0.05941,0.01117,0.02471,0.06367,0.0555,0.02074,0.02978,0.0288,0.02864,0.05271,0.02534,0.008507,0.02757,0.1021,0.01968,0.0,0.09113,0.1562,0.03326,0.03251,0.05381,0.04083,0.007246,0.01638,0.1198,0.01796,0.01883,0.0239,0.02054,0.02932,0.04528,0.01867,0.08824,0.02653,0.021,0.0248,0.005128,0.03876,0.02739,0.02179,0.01257,0.08481,0.02402,0.01076,0.01428,0.063,0.04497,0.04812,0.01967,0.005159,0.02218,0.01404,0.0137,0.01835,0.09711,0.02799,0.1259,0.08744,0.02877,0.06463,0.0209,0.02944,0.02293,0.02652,0.03613,0.05736,0.009937,0.01111,0.06254,0.04274,0.08293,0.0226,0.02925,0.1155,0.02386,0.09063,0.01945,0.06495,0.02272,0.03264,0.02017,0.02068,0.01762,0.01043,0.06431,0.1689,0.01737,0.01777,0.0287,0.02833,0.0351,0.005769,0.1002,0.05564,0.01514,0.02377,0.03221,0.0,0.01571,0.03078,0.03058,0.01339,0.01969,0.09194,0.01527,0.0207,0.05266,0.0316,0.06211,0.04846,0.02791,0.1194,0.03132,0.02307,0.01261,0.04178,0.07762,0.01149,0.01256,0.04951,0.05074,0.02369,0.09183,0.1121,0.06142,0.06759,0.03279,0.1003,0.05252,0.07038,0.02166,0.04268,0.04563,0.0852,0.02639,0.02541,0.08172,0.04349,0.04335,0.02594,0.09451,0.09431,0.05303,0.02995,0.02421,0.1471,0.005664,0.03783,0.02416,0.0151,0.03152,0.02647,0.06615,0.02798,0.0444,0.02157,0.0188,0.1015,0.02788,0.1322,0.06139,0.04531,0.0,0.01364,0.02594,0.0389,0.03027,0.03275,0.02369,0.02443,0.005495,0.02438,0.009615,0.00816,0.0,0.02257,0.01499,0.01282,0.02343,0.02738,0.01116,0.0,0.03736,0.04105,0.04304,0.0,0.09429,0.1474,0.1389,0.09791,0.05302,0.152,0.0],\"coloraxis\":\"coloraxis\",\"size\":[0.1471,0.07017,0.1279,0.1052,0.1043,0.08089,0.074,0.05985,0.09353,0.08543,0.03323,0.06606,0.1118,0.05364,0.08025,0.07364,0.05259,0.1028,0.09498,0.04781,0.0311,0.02076,0.09756,0.08632,0.0917,0.1401,0.08783,0.07731,0.08751,0.07953,0.1244,0.05182,0.1203,0.07593,0.07752,0.06018,0.05598,0.02923,0.02899,0.05439,0.02031,0.05669,0.09961,0.06158,0.05252,0.1009,0.005917,0.0734,0.02749,0.03384,0.01115,0.01723,0.01349,0.106,0.03334,0.02278,0.08994,0.08123,0.004167,0.007799,0.0129,0.009259,0.08653,0.0218,0.06873,0.09029,0.01504,0.0223,0.04375,0.02864,0.07951,0.02872,0.07944,0.05069,0.02272,0.06638,0.06556,0.108,0.1604,0.02315,0.02233,0.06987,0.1845,0.1469,0.01863,0.08795,0.04938,0.08271,0.03745,0.07064,0.02957,0.07483,0.02648,0.0278,0.08815,0.08683,0.02941,0.007937,0.0335,0.05839,0.04489,0.0,0.0177,0.03029,0.01201,0.09601,0.03485,0.01921,0.1823,0.01899,0.01778,0.06021,0.07798,0.03068,0.01924,0.02008,0.02308,0.08923,0.09479,0.05596,0.02623,0.08665,0.2012,0.05778,0.028,0.01141,0.03085,0.05627,0.08534,0.1149,0.02882,0.08087,0.05613,0.05933,0.06847,0.02704,0.026,0.02875,0.08624,0.04796,0.0,0.05943,0.01861,0.03088,0.007875,0.03003,0.07415,0.03562,0.05532,0.01329,0.02645,0.02168,0.07857,0.01786,0.03483,0.02331,0.1054,0.02771,0.01963,0.006588,0.03738,0.09667,0.1286,0.02822,0.09702,0.01939,0.01698,0.06576,0.1043,0.03781,0.037,0.03438,0.1097,0.02583,0.0,0.0,0.03716,0.08866,0.001852,0.0133,0.1878,0.1496,0.05189,0.02361,0.03263,0.002404,0.05814,0.03239,0.01553,0.01654,0.06618,0.02864,0.0,0.04562,0.08878,0.02377,0.06526,0.05778,0.06772,0.0598,0.04107,0.07488,0.162,0.09176,0.03821,0.04079,0.01952,0.0539,0.05102,0.03157,0.09561,0.01393,0.1595,0.06597,0.06462,0.05602,0.03142,0.01071,0.08691,0.06637,0.02563,0.04451,0.01915,0.06462,0.02456,0.04603,0.01216,0.0378,0.02036,0.06861,0.109,0.003125,0.006434,0.0834,0.01667,0.01896,0.1237,0.06022,0.04408,0.08811,0.03731,0.01108,0.02854,0.02344,0.08886,0.0307,0.01105,0.0398,0.01615,0.02929,0.131,0.02069,0.0974,0.08353,0.08591,0.05246,0.1144,0.1242,0.1377,0.08399,0.09333,0.02837,0.07507,0.02847,0.06527,0.08646,0.02642,0.02142,0.01615,0.02867,0.00625,0.02755,0.1088,0.01407,0.04744,0.07404,0.003333,0.05843,0.01238,0.03711,0.09664,0.02763,0.09464,0.09052,0.0339,0.002924,0.03791,0.01171,0.05588,0.02173,0.06602,0.04819,0.0337,0.0228,0.01924,0.01917,0.01369,0.03515,0.01374,0.01875,0.1062,0.03099,0.128,0.0178,0.01502,0.01313,0.003261,0.003472,0.004419,0.008829,0.01148,0.01877,0.02548,0.008907,0.0,0.006423,0.005051,0.0795,0.04908,0.01699,0.03965,0.07726,0.034,0.1504,0.01692,0.02107,0.02733,0.005592,0.08488,0.07981,0.07041,0.0295,0.007583,0.002941,0.008535,0.09934,0.02098,0.0609,0.01775,0.141,0.04223,0.02292,0.03341,0.1103,0.0325,0.02037,0.008488,0.03528,0.02322,0.01787,0.01162,0.1242,0.1913,0.06553,0.01471,0.04391,0.05603,0.02088,0.02381,0.01406,0.005449,0.02424,0.01781,0.04835,0.01473,0.07785,0.1265,0.02027,0.08465,0.1501,0.08773,0.02657,0.1255,0.08941,0.02031,0.05397,0.05941,0.01117,0.02471,0.06367,0.0555,0.02074,0.02978,0.0288,0.02864,0.05271,0.02534,0.008507,0.02757,0.1021,0.01968,0.0,0.09113,0.1562,0.03326,0.03251,0.05381,0.04083,0.007246,0.01638,0.1198,0.01796,0.01883,0.0239,0.02054,0.02932,0.04528,0.01867,0.08824,0.02653,0.021,0.0248,0.005128,0.03876,0.02739,0.02179,0.01257,0.08481,0.02402,0.01076,0.01428,0.063,0.04497,0.04812,0.01967,0.005159,0.02218,0.01404,0.0137,0.01835,0.09711,0.02799,0.1259,0.08744,0.02877,0.06463,0.0209,0.02944,0.02293,0.02652,0.03613,0.05736,0.009937,0.01111,0.06254,0.04274,0.08293,0.0226,0.02925,0.1155,0.02386,0.09063,0.01945,0.06495,0.02272,0.03264,0.02017,0.02068,0.01762,0.01043,0.06431,0.1689,0.01737,0.01777,0.0287,0.02833,0.0351,0.005769,0.1002,0.05564,0.01514,0.02377,0.03221,0.0,0.01571,0.03078,0.03058,0.01339,0.01969,0.09194,0.01527,0.0207,0.05266,0.0316,0.06211,0.04846,0.02791,0.1194,0.03132,0.02307,0.01261,0.04178,0.07762,0.01149,0.01256,0.04951,0.05074,0.02369,0.09183,0.1121,0.06142,0.06759,0.03279,0.1003,0.05252,0.07038,0.02166,0.04268,0.04563,0.0852,0.02639,0.02541,0.08172,0.04349,0.04335,0.02594,0.09451,0.09431,0.05303,0.02995,0.02421,0.1471,0.005664,0.03783,0.02416,0.0151,0.03152,0.02647,0.06615,0.02798,0.0444,0.02157,0.0188,0.1015,0.02788,0.1322,0.06139,0.04531,0.0,0.01364,0.02594,0.0389,0.03027,0.03275,0.02369,0.02443,0.005495,0.02438,0.009615,0.00816,0.0,0.02257,0.01499,0.01282,0.02343,0.02738,0.01116,0.0,0.03736,0.04105,0.04304,0.0,0.09429,0.1474,0.1389,0.09791,0.05302,0.152,0.0],\"sizemode\":\"area\",\"sizeref\":0.000503,\"symbol\":\"circle\"},\"mode\":\"markers\",\"name\":\"\",\"orientation\":\"h\",\"showlegend\":false,\"x\":[0.1471,0.07017,0.1279,0.1052,0.1043,0.08089,0.074,0.05985,0.09353,0.08543,0.03323,0.06606,0.1118,0.05364,0.08025,0.07364,0.05259,0.1028,0.09498,0.04781,0.0311,0.02076,0.09756,0.08632,0.0917,0.1401,0.08783,0.07731,0.08751,0.07953,0.1244,0.05182,0.1203,0.07593,0.07752,0.06018,0.05598,0.02923,0.02899,0.05439,0.02031,0.05669,0.09961,0.06158,0.05252,0.1009,0.005917,0.0734,0.02749,0.03384,0.01115,0.01723,0.01349,0.106,0.03334,0.02278,0.08994,0.08123,0.004167,0.007799,0.0129,0.009259,0.08653,0.0218,0.06873,0.09029,0.01504,0.0223,0.04375,0.02864,0.07951,0.02872,0.07944,0.05069,0.02272,0.06638,0.06556,0.108,0.1604,0.02315,0.02233,0.06987,0.1845,0.1469,0.01863,0.08795,0.04938,0.08271,0.03745,0.07064,0.02957,0.07483,0.02648,0.0278,0.08815,0.08683,0.02941,0.007937,0.0335,0.05839,0.04489,0.0,0.0177,0.03029,0.01201,0.09601,0.03485,0.01921,0.1823,0.01899,0.01778,0.06021,0.07798,0.03068,0.01924,0.02008,0.02308,0.08923,0.09479,0.05596,0.02623,0.08665,0.2012,0.05778,0.028,0.01141,0.03085,0.05627,0.08534,0.1149,0.02882,0.08087,0.05613,0.05933,0.06847,0.02704,0.026,0.02875,0.08624,0.04796,0.0,0.05943,0.01861,0.03088,0.007875,0.03003,0.07415,0.03562,0.05532,0.01329,0.02645,0.02168,0.07857,0.01786,0.03483,0.02331,0.1054,0.02771,0.01963,0.006588,0.03738,0.09667,0.1286,0.02822,0.09702,0.01939,0.01698,0.06576,0.1043,0.03781,0.037,0.03438,0.1097,0.02583,0.0,0.0,0.03716,0.08866,0.001852,0.0133,0.1878,0.1496,0.05189,0.02361,0.03263,0.002404,0.05814,0.03239,0.01553,0.01654,0.06618,0.02864,0.0,0.04562,0.08878,0.02377,0.06526,0.05778,0.06772,0.0598,0.04107,0.07488,0.162,0.09176,0.03821,0.04079,0.01952,0.0539,0.05102,0.03157,0.09561,0.01393,0.1595,0.06597,0.06462,0.05602,0.03142,0.01071,0.08691,0.06637,0.02563,0.04451,0.01915,0.06462,0.02456,0.04603,0.01216,0.0378,0.02036,0.06861,0.109,0.003125,0.006434,0.0834,0.01667,0.01896,0.1237,0.06022,0.04408,0.08811,0.03731,0.01108,0.02854,0.02344,0.08886,0.0307,0.01105,0.0398,0.01615,0.02929,0.131,0.02069,0.0974,0.08353,0.08591,0.05246,0.1144,0.1242,0.1377,0.08399,0.09333,0.02837,0.07507,0.02847,0.06527,0.08646,0.02642,0.02142,0.01615,0.02867,0.00625,0.02755,0.1088,0.01407,0.04744,0.07404,0.003333,0.05843,0.01238,0.03711,0.09664,0.02763,0.09464,0.09052,0.0339,0.002924,0.03791,0.01171,0.05588,0.02173,0.06602,0.04819,0.0337,0.0228,0.01924,0.01917,0.01369,0.03515,0.01374,0.01875,0.1062,0.03099,0.128,0.0178,0.01502,0.01313,0.003261,0.003472,0.004419,0.008829,0.01148,0.01877,0.02548,0.008907,0.0,0.006423,0.005051,0.0795,0.04908,0.01699,0.03965,0.07726,0.034,0.1504,0.01692,0.02107,0.02733,0.005592,0.08488,0.07981,0.07041,0.0295,0.007583,0.002941,0.008535,0.09934,0.02098,0.0609,0.01775,0.141,0.04223,0.02292,0.03341,0.1103,0.0325,0.02037,0.008488,0.03528,0.02322,0.01787,0.01162,0.1242,0.1913,0.06553,0.01471,0.04391,0.05603,0.02088,0.02381,0.01406,0.005449,0.02424,0.01781,0.04835,0.01473,0.07785,0.1265,0.02027,0.08465,0.1501,0.08773,0.02657,0.1255,0.08941,0.02031,0.05397,0.05941,0.01117,0.02471,0.06367,0.0555,0.02074,0.02978,0.0288,0.02864,0.05271,0.02534,0.008507,0.02757,0.1021,0.01968,0.0,0.09113,0.1562,0.03326,0.03251,0.05381,0.04083,0.007246,0.01638,0.1198,0.01796,0.01883,0.0239,0.02054,0.02932,0.04528,0.01867,0.08824,0.02653,0.021,0.0248,0.005128,0.03876,0.02739,0.02179,0.01257,0.08481,0.02402,0.01076,0.01428,0.063,0.04497,0.04812,0.01967,0.005159,0.02218,0.01404,0.0137,0.01835,0.09711,0.02799,0.1259,0.08744,0.02877,0.06463,0.0209,0.02944,0.02293,0.02652,0.03613,0.05736,0.009937,0.01111,0.06254,0.04274,0.08293,0.0226,0.02925,0.1155,0.02386,0.09063,0.01945,0.06495,0.02272,0.03264,0.02017,0.02068,0.01762,0.01043,0.06431,0.1689,0.01737,0.01777,0.0287,0.02833,0.0351,0.005769,0.1002,0.05564,0.01514,0.02377,0.03221,0.0,0.01571,0.03078,0.03058,0.01339,0.01969,0.09194,0.01527,0.0207,0.05266,0.0316,0.06211,0.04846,0.02791,0.1194,0.03132,0.02307,0.01261,0.04178,0.07762,0.01149,0.01256,0.04951,0.05074,0.02369,0.09183,0.1121,0.06142,0.06759,0.03279,0.1003,0.05252,0.07038,0.02166,0.04268,0.04563,0.0852,0.02639,0.02541,0.08172,0.04349,0.04335,0.02594,0.09451,0.09431,0.05303,0.02995,0.02421,0.1471,0.005664,0.03783,0.02416,0.0151,0.03152,0.02647,0.06615,0.02798,0.0444,0.02157,0.0188,0.1015,0.02788,0.1322,0.06139,0.04531,0.0,0.01364,0.02594,0.0389,0.03027,0.03275,0.02369,0.02443,0.005495,0.02438,0.009615,0.00816,0.0,0.02257,0.01499,0.01282,0.02343,0.02738,0.01116,0.0,0.03736,0.04105,0.04304,0.0,0.09429,0.1474,0.1389,0.09791,0.05302,0.152,0.0],\"xaxis\":\"x\",\"y\":[0,1,2,3,4,5,6,7,8,9,10,11,12,13,14,15,16,17,18,19,20,21,22,23,24,25,26,27,28,29,30,31,32,33,34,35,36,37,38,39,40,41,42,43,44,45,46,47,48,49,50,51,52,53,54,55,56,57,58,59,60,61,62,63,64,65,66,67,68,69,70,71,72,73,74,75,76,77,78,79,80,81,82,83,84,85,86,87,88,89,90,91,92,93,94,95,96,97,98,99,100,101,102,103,104,105,106,107,108,109,110,111,112,113,114,115,116,117,118,119,120,121,122,123,124,125,126,127,128,129,130,131,132,133,134,135,136,137,138,139,140,141,142,143,144,145,146,147,148,149,150,151,152,153,154,155,156,157,158,159,160,161,162,163,164,165,166,167,168,169,170,171,172,173,174,175,176,177,178,179,180,181,182,183,184,185,186,187,188,189,190,191,192,193,194,195,196,197,198,199,200,201,202,203,204,205,206,207,208,209,210,211,212,213,214,215,216,217,218,219,220,221,222,223,224,225,226,227,228,229,230,231,232,233,234,235,236,237,238,239,240,241,242,243,244,245,246,247,248,249,250,251,252,253,254,255,256,257,258,259,260,261,262,263,264,265,266,267,268,269,270,271,272,273,274,275,276,277,278,279,280,281,282,283,284,285,286,287,288,289,290,291,292,293,294,295,296,297,298,299,300,301,302,303,304,305,306,307,308,309,310,311,312,313,314,315,316,317,318,319,320,321,322,323,324,325,326,327,328,329,330,331,332,333,334,335,336,337,338,339,340,341,342,343,344,345,346,347,348,349,350,351,352,353,354,355,356,357,358,359,360,361,362,363,364,365,366,367,368,369,370,371,372,373,374,375,376,377,378,379,380,381,382,383,384,385,386,387,388,389,390,391,392,393,394,395,396,397,398,399,400,401,402,403,404,405,406,407,408,409,410,411,412,413,414,415,416,417,418,419,420,421,422,423,424,425,426,427,428,429,430,431,432,433,434,435,436,437,438,439,440,441,442,443,444,445,446,447,448,449,450,451,452,453,454,455,456,457,458,459,460,461,462,463,464,465,466,467,468,469,470,471,472,473,474,475,476,477,478,479,480,481,482,483,484,485,486,487,488,489,490,491,492,493,494,495,496,497,498,499,500,501,502,503,504,505,506,507,508,509,510,511,512,513,514,515,516,517,518,519,520,521,522,523,524,525,526,527,528,529,530,531,532,533,534,535,536,537,538,539,540,541,542,543,544,545,546,547,548,549,550,551,552,553,554,555,556,557,558,559,560,561,562,563,564,565,566,567,568],\"yaxis\":\"y\",\"type\":\"scatter\"}],                        {\"template\":{\"data\":{\"barpolar\":[{\"marker\":{\"line\":{\"color\":\"white\",\"width\":0.5},\"pattern\":{\"fillmode\":\"overlay\",\"size\":10,\"solidity\":0.2}},\"type\":\"barpolar\"}],\"bar\":[{\"error_x\":{\"color\":\"rgb(36,36,36)\"},\"error_y\":{\"color\":\"rgb(36,36,36)\"},\"marker\":{\"line\":{\"color\":\"white\",\"width\":0.5},\"pattern\":{\"fillmode\":\"overlay\",\"size\":10,\"solidity\":0.2}},\"type\":\"bar\"}],\"carpet\":[{\"aaxis\":{\"endlinecolor\":\"rgb(36,36,36)\",\"gridcolor\":\"white\",\"linecolor\":\"white\",\"minorgridcolor\":\"white\",\"startlinecolor\":\"rgb(36,36,36)\"},\"baxis\":{\"endlinecolor\":\"rgb(36,36,36)\",\"gridcolor\":\"white\",\"linecolor\":\"white\",\"minorgridcolor\":\"white\",\"startlinecolor\":\"rgb(36,36,36)\"},\"type\":\"carpet\"}],\"choropleth\":[{\"colorbar\":{\"outlinewidth\":1,\"tickcolor\":\"rgb(36,36,36)\",\"ticks\":\"outside\"},\"type\":\"choropleth\"}],\"contourcarpet\":[{\"colorbar\":{\"outlinewidth\":1,\"tickcolor\":\"rgb(36,36,36)\",\"ticks\":\"outside\"},\"type\":\"contourcarpet\"}],\"contour\":[{\"colorbar\":{\"outlinewidth\":1,\"tickcolor\":\"rgb(36,36,36)\",\"ticks\":\"outside\"},\"colorscale\":[[0.0,\"#440154\"],[0.1111111111111111,\"#482878\"],[0.2222222222222222,\"#3e4989\"],[0.3333333333333333,\"#31688e\"],[0.4444444444444444,\"#26828e\"],[0.5555555555555556,\"#1f9e89\"],[0.6666666666666666,\"#35b779\"],[0.7777777777777778,\"#6ece58\"],[0.8888888888888888,\"#b5de2b\"],[1.0,\"#fde725\"]],\"type\":\"contour\"}],\"heatmapgl\":[{\"colorbar\":{\"outlinewidth\":1,\"tickcolor\":\"rgb(36,36,36)\",\"ticks\":\"outside\"},\"colorscale\":[[0.0,\"#440154\"],[0.1111111111111111,\"#482878\"],[0.2222222222222222,\"#3e4989\"],[0.3333333333333333,\"#31688e\"],[0.4444444444444444,\"#26828e\"],[0.5555555555555556,\"#1f9e89\"],[0.6666666666666666,\"#35b779\"],[0.7777777777777778,\"#6ece58\"],[0.8888888888888888,\"#b5de2b\"],[1.0,\"#fde725\"]],\"type\":\"heatmapgl\"}],\"heatmap\":[{\"colorbar\":{\"outlinewidth\":1,\"tickcolor\":\"rgb(36,36,36)\",\"ticks\":\"outside\"},\"colorscale\":[[0.0,\"#440154\"],[0.1111111111111111,\"#482878\"],[0.2222222222222222,\"#3e4989\"],[0.3333333333333333,\"#31688e\"],[0.4444444444444444,\"#26828e\"],[0.5555555555555556,\"#1f9e89\"],[0.6666666666666666,\"#35b779\"],[0.7777777777777778,\"#6ece58\"],[0.8888888888888888,\"#b5de2b\"],[1.0,\"#fde725\"]],\"type\":\"heatmap\"}],\"histogram2dcontour\":[{\"colorbar\":{\"outlinewidth\":1,\"tickcolor\":\"rgb(36,36,36)\",\"ticks\":\"outside\"},\"colorscale\":[[0.0,\"#440154\"],[0.1111111111111111,\"#482878\"],[0.2222222222222222,\"#3e4989\"],[0.3333333333333333,\"#31688e\"],[0.4444444444444444,\"#26828e\"],[0.5555555555555556,\"#1f9e89\"],[0.6666666666666666,\"#35b779\"],[0.7777777777777778,\"#6ece58\"],[0.8888888888888888,\"#b5de2b\"],[1.0,\"#fde725\"]],\"type\":\"histogram2dcontour\"}],\"histogram2d\":[{\"colorbar\":{\"outlinewidth\":1,\"tickcolor\":\"rgb(36,36,36)\",\"ticks\":\"outside\"},\"colorscale\":[[0.0,\"#440154\"],[0.1111111111111111,\"#482878\"],[0.2222222222222222,\"#3e4989\"],[0.3333333333333333,\"#31688e\"],[0.4444444444444444,\"#26828e\"],[0.5555555555555556,\"#1f9e89\"],[0.6666666666666666,\"#35b779\"],[0.7777777777777778,\"#6ece58\"],[0.8888888888888888,\"#b5de2b\"],[1.0,\"#fde725\"]],\"type\":\"histogram2d\"}],\"histogram\":[{\"marker\":{\"line\":{\"color\":\"white\",\"width\":0.6}},\"type\":\"histogram\"}],\"mesh3d\":[{\"colorbar\":{\"outlinewidth\":1,\"tickcolor\":\"rgb(36,36,36)\",\"ticks\":\"outside\"},\"type\":\"mesh3d\"}],\"parcoords\":[{\"line\":{\"colorbar\":{\"outlinewidth\":1,\"tickcolor\":\"rgb(36,36,36)\",\"ticks\":\"outside\"}},\"type\":\"parcoords\"}],\"pie\":[{\"automargin\":true,\"type\":\"pie\"}],\"scatter3d\":[{\"line\":{\"colorbar\":{\"outlinewidth\":1,\"tickcolor\":\"rgb(36,36,36)\",\"ticks\":\"outside\"}},\"marker\":{\"colorbar\":{\"outlinewidth\":1,\"tickcolor\":\"rgb(36,36,36)\",\"ticks\":\"outside\"}},\"type\":\"scatter3d\"}],\"scattercarpet\":[{\"marker\":{\"colorbar\":{\"outlinewidth\":1,\"tickcolor\":\"rgb(36,36,36)\",\"ticks\":\"outside\"}},\"type\":\"scattercarpet\"}],\"scattergeo\":[{\"marker\":{\"colorbar\":{\"outlinewidth\":1,\"tickcolor\":\"rgb(36,36,36)\",\"ticks\":\"outside\"}},\"type\":\"scattergeo\"}],\"scattergl\":[{\"marker\":{\"colorbar\":{\"outlinewidth\":1,\"tickcolor\":\"rgb(36,36,36)\",\"ticks\":\"outside\"}},\"type\":\"scattergl\"}],\"scattermapbox\":[{\"marker\":{\"colorbar\":{\"outlinewidth\":1,\"tickcolor\":\"rgb(36,36,36)\",\"ticks\":\"outside\"}},\"type\":\"scattermapbox\"}],\"scatterpolargl\":[{\"marker\":{\"colorbar\":{\"outlinewidth\":1,\"tickcolor\":\"rgb(36,36,36)\",\"ticks\":\"outside\"}},\"type\":\"scatterpolargl\"}],\"scatterpolar\":[{\"marker\":{\"colorbar\":{\"outlinewidth\":1,\"tickcolor\":\"rgb(36,36,36)\",\"ticks\":\"outside\"}},\"type\":\"scatterpolar\"}],\"scatter\":[{\"fillpattern\":{\"fillmode\":\"overlay\",\"size\":10,\"solidity\":0.2},\"type\":\"scatter\"}],\"scatterternary\":[{\"marker\":{\"colorbar\":{\"outlinewidth\":1,\"tickcolor\":\"rgb(36,36,36)\",\"ticks\":\"outside\"}},\"type\":\"scatterternary\"}],\"surface\":[{\"colorbar\":{\"outlinewidth\":1,\"tickcolor\":\"rgb(36,36,36)\",\"ticks\":\"outside\"},\"colorscale\":[[0.0,\"#440154\"],[0.1111111111111111,\"#482878\"],[0.2222222222222222,\"#3e4989\"],[0.3333333333333333,\"#31688e\"],[0.4444444444444444,\"#26828e\"],[0.5555555555555556,\"#1f9e89\"],[0.6666666666666666,\"#35b779\"],[0.7777777777777778,\"#6ece58\"],[0.8888888888888888,\"#b5de2b\"],[1.0,\"#fde725\"]],\"type\":\"surface\"}],\"table\":[{\"cells\":{\"fill\":{\"color\":\"rgb(237,237,237)\"},\"line\":{\"color\":\"white\"}},\"header\":{\"fill\":{\"color\":\"rgb(217,217,217)\"},\"line\":{\"color\":\"white\"}},\"type\":\"table\"}]},\"layout\":{\"annotationdefaults\":{\"arrowhead\":0,\"arrowwidth\":1},\"autotypenumbers\":\"strict\",\"coloraxis\":{\"colorbar\":{\"outlinewidth\":1,\"tickcolor\":\"rgb(36,36,36)\",\"ticks\":\"outside\"}},\"colorscale\":{\"diverging\":[[0.0,\"rgb(103,0,31)\"],[0.1,\"rgb(178,24,43)\"],[0.2,\"rgb(214,96,77)\"],[0.3,\"rgb(244,165,130)\"],[0.4,\"rgb(253,219,199)\"],[0.5,\"rgb(247,247,247)\"],[0.6,\"rgb(209,229,240)\"],[0.7,\"rgb(146,197,222)\"],[0.8,\"rgb(67,147,195)\"],[0.9,\"rgb(33,102,172)\"],[1.0,\"rgb(5,48,97)\"]],\"sequential\":[[0.0,\"#440154\"],[0.1111111111111111,\"#482878\"],[0.2222222222222222,\"#3e4989\"],[0.3333333333333333,\"#31688e\"],[0.4444444444444444,\"#26828e\"],[0.5555555555555556,\"#1f9e89\"],[0.6666666666666666,\"#35b779\"],[0.7777777777777778,\"#6ece58\"],[0.8888888888888888,\"#b5de2b\"],[1.0,\"#fde725\"]],\"sequentialminus\":[[0.0,\"#440154\"],[0.1111111111111111,\"#482878\"],[0.2222222222222222,\"#3e4989\"],[0.3333333333333333,\"#31688e\"],[0.4444444444444444,\"#26828e\"],[0.5555555555555556,\"#1f9e89\"],[0.6666666666666666,\"#35b779\"],[0.7777777777777778,\"#6ece58\"],[0.8888888888888888,\"#b5de2b\"],[1.0,\"#fde725\"]]},\"colorway\":[\"#1F77B4\",\"#FF7F0E\",\"#2CA02C\",\"#D62728\",\"#9467BD\",\"#8C564B\",\"#E377C2\",\"#7F7F7F\",\"#BCBD22\",\"#17BECF\"],\"font\":{\"color\":\"rgb(36,36,36)\"},\"geo\":{\"bgcolor\":\"white\",\"lakecolor\":\"white\",\"landcolor\":\"white\",\"showlakes\":true,\"showland\":true,\"subunitcolor\":\"white\"},\"hoverlabel\":{\"align\":\"left\"},\"hovermode\":\"closest\",\"mapbox\":{\"style\":\"light\"},\"paper_bgcolor\":\"white\",\"plot_bgcolor\":\"white\",\"polar\":{\"angularaxis\":{\"gridcolor\":\"rgb(232,232,232)\",\"linecolor\":\"rgb(36,36,36)\",\"showgrid\":false,\"showline\":true,\"ticks\":\"outside\"},\"bgcolor\":\"white\",\"radialaxis\":{\"gridcolor\":\"rgb(232,232,232)\",\"linecolor\":\"rgb(36,36,36)\",\"showgrid\":false,\"showline\":true,\"ticks\":\"outside\"}},\"scene\":{\"xaxis\":{\"backgroundcolor\":\"white\",\"gridcolor\":\"rgb(232,232,232)\",\"gridwidth\":2,\"linecolor\":\"rgb(36,36,36)\",\"showbackground\":true,\"showgrid\":false,\"showline\":true,\"ticks\":\"outside\",\"zeroline\":false,\"zerolinecolor\":\"rgb(36,36,36)\"},\"yaxis\":{\"backgroundcolor\":\"white\",\"gridcolor\":\"rgb(232,232,232)\",\"gridwidth\":2,\"linecolor\":\"rgb(36,36,36)\",\"showbackground\":true,\"showgrid\":false,\"showline\":true,\"ticks\":\"outside\",\"zeroline\":false,\"zerolinecolor\":\"rgb(36,36,36)\"},\"zaxis\":{\"backgroundcolor\":\"white\",\"gridcolor\":\"rgb(232,232,232)\",\"gridwidth\":2,\"linecolor\":\"rgb(36,36,36)\",\"showbackground\":true,\"showgrid\":false,\"showline\":true,\"ticks\":\"outside\",\"zeroline\":false,\"zerolinecolor\":\"rgb(36,36,36)\"}},\"shapedefaults\":{\"fillcolor\":\"black\",\"line\":{\"width\":0},\"opacity\":0.3},\"ternary\":{\"aaxis\":{\"gridcolor\":\"rgb(232,232,232)\",\"linecolor\":\"rgb(36,36,36)\",\"showgrid\":false,\"showline\":true,\"ticks\":\"outside\"},\"baxis\":{\"gridcolor\":\"rgb(232,232,232)\",\"linecolor\":\"rgb(36,36,36)\",\"showgrid\":false,\"showline\":true,\"ticks\":\"outside\"},\"bgcolor\":\"white\",\"caxis\":{\"gridcolor\":\"rgb(232,232,232)\",\"linecolor\":\"rgb(36,36,36)\",\"showgrid\":false,\"showline\":true,\"ticks\":\"outside\"}},\"title\":{\"x\":0.05},\"xaxis\":{\"automargin\":true,\"gridcolor\":\"rgb(232,232,232)\",\"linecolor\":\"rgb(36,36,36)\",\"showgrid\":false,\"showline\":true,\"ticks\":\"outside\",\"title\":{\"standoff\":15},\"zeroline\":false,\"zerolinecolor\":\"rgb(36,36,36)\"},\"yaxis\":{\"automargin\":true,\"gridcolor\":\"rgb(232,232,232)\",\"linecolor\":\"rgb(36,36,36)\",\"showgrid\":false,\"showline\":true,\"ticks\":\"outside\",\"title\":{\"standoff\":15},\"zeroline\":false,\"zerolinecolor\":\"rgb(36,36,36)\"}}},\"xaxis\":{\"anchor\":\"y\",\"domain\":[0.0,1.0],\"title\":{\"text\":\"Mean concave points\"}},\"yaxis\":{\"anchor\":\"x\",\"domain\":[0.0,1.0],\"title\":{\"text\":\" \"}},\"coloraxis\":{\"colorbar\":{\"title\":{\"text\":\"Mean Concave Points\"}},\"colorscale\":[[0.0,\"#440154\"],[0.1111111111111111,\"#482878\"],[0.2222222222222222,\"#3e4989\"],[0.3333333333333333,\"#31688e\"],[0.4444444444444444,\"#26828e\"],[0.5555555555555556,\"#1f9e89\"],[0.6666666666666666,\"#35b779\"],[0.7777777777777778,\"#6ece58\"],[0.8888888888888888,\"#b5de2b\"],[1.0,\"#fde725\"]]},\"legend\":{\"tracegroupgap\":0,\"itemsizing\":\"constant\"},\"title\":{\"text\":\"Mean Concave Points Spread\"}},                        {\"responsive\": true}                    ).then(function(){\n",
       "                            \n",
       "var gd = document.getElementById('5f01012e-9350-4c56-90fc-5bcc94c6d577');\n",
       "var x = new MutationObserver(function (mutations, observer) {{\n",
       "        var display = window.getComputedStyle(gd).display;\n",
       "        if (!display || display === 'none') {{\n",
       "            console.log([gd, 'removed!']);\n",
       "            Plotly.purge(gd);\n",
       "            observer.disconnect();\n",
       "        }}\n",
       "}});\n",
       "\n",
       "// Listen for the removal of the full notebook cells\n",
       "var notebookContainer = gd.closest('#notebook-container');\n",
       "if (notebookContainer) {{\n",
       "    x.observe(notebookContainer, {childList: true});\n",
       "}}\n",
       "\n",
       "// Listen for the clearing of the current output cell\n",
       "var outputEl = gd.closest('.output');\n",
       "if (outputEl) {{\n",
       "    x.observe(outputEl, {childList: true});\n",
       "}}\n",
       "\n",
       "                        })                };                });            </script>        </div>"
      ]
     },
     "metadata": {},
     "output_type": "display_data"
    }
   ],
   "source": [
    "fig = px.scatter(df,\n",
    "                 x=\"mean concave points\",\n",
    "                 size='mean concave points',\n",
    "                 color=\"mean concave points\",\n",
    "                 hover_data=[\"target\"],\n",
    "                 template=\"simple_white\",\n",
    "                 labels={\"mean concave points\": \"Mean Concave Points\"},\n",
    "                 title=\"Mean Concave Points Spread\")\n",
    "fig.update_layout(xaxis_title=\"Mean concave points\",yaxis_title=\" \")\n",
    "fig.show()"
   ]
  },
  {
   "cell_type": "code",
   "execution_count": 29,
   "metadata": {
    "colab": {
     "background_save": true
    },
    "id": "Y7rgLodMaUNs"
   },
   "outputs": [],
   "source": [
    "df.drop(labels=unrelated_num_cols, axis=1, inplace=True)"
   ]
  },
  {
   "cell_type": "code",
   "execution_count": 30,
   "metadata": {
    "colab": {
     "background_save": true
    },
    "id": "Jc7cEioKaUGk",
    "outputId": "ce227134-b753-4591-c687-4a8b4534fec9"
   },
   "outputs": [
    {
     "data": {
      "text/plain": [
       "Index(['mean radius', 'mean texture', 'mean perimeter', 'mean area',\n",
       "       'mean smoothness', 'mean compactness', 'mean concavity',\n",
       "       'mean concave points', 'mean symmetry', 'radius error',\n",
       "       'perimeter error', 'area error', 'compactness error', 'concavity error',\n",
       "       'concave points error', 'worst radius', 'worst texture',\n",
       "       'worst perimeter', 'worst area', 'worst smoothness',\n",
       "       'worst compactness', 'worst concavity', 'worst concave points',\n",
       "       'worst symmetry', 'worst fractal dimension', 'target'],\n",
       "      dtype='object')"
      ]
     },
     "execution_count": 30,
     "metadata": {},
     "output_type": "execute_result"
    }
   ],
   "source": [
    "df.columns"
   ]
  },
  {
   "cell_type": "code",
   "execution_count": 31,
   "metadata": {
    "colab": {
     "background_save": true
    },
    "id": "oUzTloLNaT-p"
   },
   "outputs": [],
   "source": [
    "input_cols = df.columns[:-1]\n",
    "target_col =  df.columns[-1]"
   ]
  },
  {
   "cell_type": "code",
   "execution_count": 32,
   "metadata": {
    "colab": {
     "background_save": true
    },
    "id": "yJ8kAIutaT3d",
    "outputId": "f9e9a6eb-5873-4c1c-b870-b913a573eca7"
   },
   "outputs": [
    {
     "data": {
      "text/html": [
       "<div>\n",
       "<style scoped>\n",
       "    .dataframe tbody tr th:only-of-type {\n",
       "        vertical-align: middle;\n",
       "    }\n",
       "\n",
       "    .dataframe tbody tr th {\n",
       "        vertical-align: top;\n",
       "    }\n",
       "\n",
       "    .dataframe thead th {\n",
       "        text-align: right;\n",
       "    }\n",
       "</style>\n",
       "<table border=\"1\" class=\"dataframe\">\n",
       "  <thead>\n",
       "    <tr style=\"text-align: right;\">\n",
       "      <th></th>\n",
       "      <th>mean radius</th>\n",
       "      <th>mean texture</th>\n",
       "      <th>mean perimeter</th>\n",
       "      <th>mean area</th>\n",
       "      <th>mean smoothness</th>\n",
       "      <th>mean compactness</th>\n",
       "      <th>mean concavity</th>\n",
       "      <th>mean concave points</th>\n",
       "      <th>mean symmetry</th>\n",
       "      <th>radius error</th>\n",
       "      <th>...</th>\n",
       "      <th>worst radius</th>\n",
       "      <th>worst texture</th>\n",
       "      <th>worst perimeter</th>\n",
       "      <th>worst area</th>\n",
       "      <th>worst smoothness</th>\n",
       "      <th>worst compactness</th>\n",
       "      <th>worst concavity</th>\n",
       "      <th>worst concave points</th>\n",
       "      <th>worst symmetry</th>\n",
       "      <th>worst fractal dimension</th>\n",
       "    </tr>\n",
       "  </thead>\n",
       "  <tbody>\n",
       "    <tr>\n",
       "      <th>100</th>\n",
       "      <td>13.61</td>\n",
       "      <td>24.98</td>\n",
       "      <td>88.05</td>\n",
       "      <td>582.7</td>\n",
       "      <td>0.09488</td>\n",
       "      <td>0.08511</td>\n",
       "      <td>0.086250</td>\n",
       "      <td>0.044890</td>\n",
       "      <td>0.1609</td>\n",
       "      <td>0.4565</td>\n",
       "      <td>...</td>\n",
       "      <td>16.99</td>\n",
       "      <td>35.27</td>\n",
       "      <td>108.60</td>\n",
       "      <td>906.5</td>\n",
       "      <td>0.12650</td>\n",
       "      <td>0.19430</td>\n",
       "      <td>0.31690</td>\n",
       "      <td>0.11840</td>\n",
       "      <td>0.2651</td>\n",
       "      <td>0.07397</td>\n",
       "    </tr>\n",
       "    <tr>\n",
       "      <th>185</th>\n",
       "      <td>10.08</td>\n",
       "      <td>15.11</td>\n",
       "      <td>63.76</td>\n",
       "      <td>317.5</td>\n",
       "      <td>0.09267</td>\n",
       "      <td>0.04695</td>\n",
       "      <td>0.001597</td>\n",
       "      <td>0.002404</td>\n",
       "      <td>0.1703</td>\n",
       "      <td>0.4245</td>\n",
       "      <td>...</td>\n",
       "      <td>11.87</td>\n",
       "      <td>21.18</td>\n",
       "      <td>75.39</td>\n",
       "      <td>437.0</td>\n",
       "      <td>0.15210</td>\n",
       "      <td>0.10190</td>\n",
       "      <td>0.00692</td>\n",
       "      <td>0.01042</td>\n",
       "      <td>0.2933</td>\n",
       "      <td>0.07697</td>\n",
       "    </tr>\n",
       "    <tr>\n",
       "      <th>77</th>\n",
       "      <td>18.05</td>\n",
       "      <td>16.15</td>\n",
       "      <td>120.20</td>\n",
       "      <td>1006.0</td>\n",
       "      <td>0.10650</td>\n",
       "      <td>0.21460</td>\n",
       "      <td>0.168400</td>\n",
       "      <td>0.108000</td>\n",
       "      <td>0.2152</td>\n",
       "      <td>0.9806</td>\n",
       "      <td>...</td>\n",
       "      <td>22.39</td>\n",
       "      <td>18.91</td>\n",
       "      <td>150.10</td>\n",
       "      <td>1610.0</td>\n",
       "      <td>0.14780</td>\n",
       "      <td>0.56340</td>\n",
       "      <td>0.37860</td>\n",
       "      <td>0.21020</td>\n",
       "      <td>0.3751</td>\n",
       "      <td>0.11080</td>\n",
       "    </tr>\n",
       "    <tr>\n",
       "      <th>142</th>\n",
       "      <td>11.43</td>\n",
       "      <td>17.31</td>\n",
       "      <td>73.66</td>\n",
       "      <td>398.0</td>\n",
       "      <td>0.10920</td>\n",
       "      <td>0.09486</td>\n",
       "      <td>0.020310</td>\n",
       "      <td>0.018610</td>\n",
       "      <td>0.1645</td>\n",
       "      <td>0.2843</td>\n",
       "      <td>...</td>\n",
       "      <td>12.78</td>\n",
       "      <td>26.76</td>\n",
       "      <td>82.66</td>\n",
       "      <td>503.0</td>\n",
       "      <td>0.14130</td>\n",
       "      <td>0.17920</td>\n",
       "      <td>0.07708</td>\n",
       "      <td>0.06402</td>\n",
       "      <td>0.2584</td>\n",
       "      <td>0.08096</td>\n",
       "    </tr>\n",
       "    <tr>\n",
       "      <th>296</th>\n",
       "      <td>10.91</td>\n",
       "      <td>12.35</td>\n",
       "      <td>69.14</td>\n",
       "      <td>363.7</td>\n",
       "      <td>0.08518</td>\n",
       "      <td>0.04721</td>\n",
       "      <td>0.012360</td>\n",
       "      <td>0.013690</td>\n",
       "      <td>0.1449</td>\n",
       "      <td>0.1753</td>\n",
       "      <td>...</td>\n",
       "      <td>11.37</td>\n",
       "      <td>14.82</td>\n",
       "      <td>72.42</td>\n",
       "      <td>392.2</td>\n",
       "      <td>0.09312</td>\n",
       "      <td>0.07506</td>\n",
       "      <td>0.02884</td>\n",
       "      <td>0.03194</td>\n",
       "      <td>0.2143</td>\n",
       "      <td>0.06643</td>\n",
       "    </tr>\n",
       "  </tbody>\n",
       "</table>\n",
       "<p>5 rows × 25 columns</p>\n",
       "</div>"
      ],
      "text/plain": [
       "     mean radius  mean texture  mean perimeter  mean area  mean smoothness  \\\n",
       "100        13.61         24.98           88.05      582.7          0.09488   \n",
       "185        10.08         15.11           63.76      317.5          0.09267   \n",
       "77         18.05         16.15          120.20     1006.0          0.10650   \n",
       "142        11.43         17.31           73.66      398.0          0.10920   \n",
       "296        10.91         12.35           69.14      363.7          0.08518   \n",
       "\n",
       "     mean compactness  mean concavity  mean concave points  mean symmetry  \\\n",
       "100           0.08511        0.086250             0.044890         0.1609   \n",
       "185           0.04695        0.001597             0.002404         0.1703   \n",
       "77            0.21460        0.168400             0.108000         0.2152   \n",
       "142           0.09486        0.020310             0.018610         0.1645   \n",
       "296           0.04721        0.012360             0.013690         0.1449   \n",
       "\n",
       "     radius error  ...  worst radius  worst texture  worst perimeter  \\\n",
       "100        0.4565  ...         16.99          35.27           108.60   \n",
       "185        0.4245  ...         11.87          21.18            75.39   \n",
       "77         0.9806  ...         22.39          18.91           150.10   \n",
       "142        0.2843  ...         12.78          26.76            82.66   \n",
       "296        0.1753  ...         11.37          14.82            72.42   \n",
       "\n",
       "     worst area  worst smoothness  worst compactness  worst concavity  \\\n",
       "100       906.5           0.12650            0.19430          0.31690   \n",
       "185       437.0           0.15210            0.10190          0.00692   \n",
       "77       1610.0           0.14780            0.56340          0.37860   \n",
       "142       503.0           0.14130            0.17920          0.07708   \n",
       "296       392.2           0.09312            0.07506          0.02884   \n",
       "\n",
       "     worst concave points  worst symmetry  worst fractal dimension  \n",
       "100               0.11840          0.2651                  0.07397  \n",
       "185               0.01042          0.2933                  0.07697  \n",
       "77                0.21020          0.3751                  0.11080  \n",
       "142               0.06402          0.2584                  0.08096  \n",
       "296               0.03194          0.2143                  0.06643  \n",
       "\n",
       "[5 rows x 25 columns]"
      ]
     },
     "execution_count": 32,
     "metadata": {},
     "output_type": "execute_result"
    }
   ],
   "source": [
    "inputs_df = df[list(input_cols)].copy()\n",
    "inputs_df.sample(5)"
   ]
  },
  {
   "cell_type": "code",
   "execution_count": 33,
   "metadata": {
    "colab": {
     "background_save": true
    },
    "id": "EiBvaJxeajQB",
    "outputId": "8f9d8e32-d3ae-4759-e3c5-03401228c431"
   },
   "outputs": [
    {
     "data": {
      "text/plain": [
       "96     1\n",
       "379    0\n",
       "143    1\n",
       "470    1\n",
       "282    0\n",
       "Name: target, dtype: int64"
      ]
     },
     "execution_count": 33,
     "metadata": {},
     "output_type": "execute_result"
    }
   ],
   "source": [
    "targets = df[(target_col)]\n",
    "targets.sample(5)"
   ]
  },
  {
   "cell_type": "code",
   "execution_count": 34,
   "metadata": {
    "colab": {
     "background_save": true
    },
    "id": "CvmNyNlSajIk",
    "outputId": "951a56e6-1abd-4053-c317-ba719f3aa926"
   },
   "outputs": [
    {
     "data": {
      "text/html": [
       "<div>\n",
       "<style scoped>\n",
       "    .dataframe tbody tr th:only-of-type {\n",
       "        vertical-align: middle;\n",
       "    }\n",
       "\n",
       "    .dataframe tbody tr th {\n",
       "        vertical-align: top;\n",
       "    }\n",
       "\n",
       "    .dataframe thead th {\n",
       "        text-align: right;\n",
       "    }\n",
       "</style>\n",
       "<table border=\"1\" class=\"dataframe\">\n",
       "  <thead>\n",
       "    <tr style=\"text-align: right;\">\n",
       "      <th></th>\n",
       "      <th>mean radius</th>\n",
       "      <th>mean texture</th>\n",
       "      <th>mean perimeter</th>\n",
       "      <th>mean area</th>\n",
       "      <th>mean smoothness</th>\n",
       "      <th>mean compactness</th>\n",
       "      <th>mean concavity</th>\n",
       "      <th>mean concave points</th>\n",
       "      <th>mean symmetry</th>\n",
       "      <th>radius error</th>\n",
       "      <th>...</th>\n",
       "      <th>worst radius</th>\n",
       "      <th>worst texture</th>\n",
       "      <th>worst perimeter</th>\n",
       "      <th>worst area</th>\n",
       "      <th>worst smoothness</th>\n",
       "      <th>worst compactness</th>\n",
       "      <th>worst concavity</th>\n",
       "      <th>worst concave points</th>\n",
       "      <th>worst symmetry</th>\n",
       "      <th>worst fractal dimension</th>\n",
       "    </tr>\n",
       "  </thead>\n",
       "  <tbody>\n",
       "    <tr>\n",
       "      <th>0</th>\n",
       "      <td>0.521037</td>\n",
       "      <td>0.022658</td>\n",
       "      <td>0.545989</td>\n",
       "      <td>0.363733</td>\n",
       "      <td>0.593753</td>\n",
       "      <td>0.792037</td>\n",
       "      <td>0.703140</td>\n",
       "      <td>0.731113</td>\n",
       "      <td>0.686364</td>\n",
       "      <td>0.356147</td>\n",
       "      <td>...</td>\n",
       "      <td>0.620776</td>\n",
       "      <td>0.141525</td>\n",
       "      <td>0.668310</td>\n",
       "      <td>0.450698</td>\n",
       "      <td>0.601136</td>\n",
       "      <td>0.619292</td>\n",
       "      <td>0.568610</td>\n",
       "      <td>0.912027</td>\n",
       "      <td>0.598462</td>\n",
       "      <td>0.418864</td>\n",
       "    </tr>\n",
       "    <tr>\n",
       "      <th>1</th>\n",
       "      <td>0.643144</td>\n",
       "      <td>0.272574</td>\n",
       "      <td>0.615783</td>\n",
       "      <td>0.501591</td>\n",
       "      <td>0.289880</td>\n",
       "      <td>0.181768</td>\n",
       "      <td>0.203608</td>\n",
       "      <td>0.348757</td>\n",
       "      <td>0.379798</td>\n",
       "      <td>0.156437</td>\n",
       "      <td>...</td>\n",
       "      <td>0.606901</td>\n",
       "      <td>0.303571</td>\n",
       "      <td>0.539818</td>\n",
       "      <td>0.435214</td>\n",
       "      <td>0.347553</td>\n",
       "      <td>0.154563</td>\n",
       "      <td>0.192971</td>\n",
       "      <td>0.639175</td>\n",
       "      <td>0.233590</td>\n",
       "      <td>0.222878</td>\n",
       "    </tr>\n",
       "    <tr>\n",
       "      <th>2</th>\n",
       "      <td>0.601496</td>\n",
       "      <td>0.390260</td>\n",
       "      <td>0.595743</td>\n",
       "      <td>0.449417</td>\n",
       "      <td>0.514309</td>\n",
       "      <td>0.431017</td>\n",
       "      <td>0.462512</td>\n",
       "      <td>0.635686</td>\n",
       "      <td>0.509596</td>\n",
       "      <td>0.229622</td>\n",
       "      <td>...</td>\n",
       "      <td>0.556386</td>\n",
       "      <td>0.360075</td>\n",
       "      <td>0.508442</td>\n",
       "      <td>0.374508</td>\n",
       "      <td>0.483590</td>\n",
       "      <td>0.385375</td>\n",
       "      <td>0.359744</td>\n",
       "      <td>0.835052</td>\n",
       "      <td>0.403706</td>\n",
       "      <td>0.213433</td>\n",
       "    </tr>\n",
       "    <tr>\n",
       "      <th>3</th>\n",
       "      <td>0.210090</td>\n",
       "      <td>0.360839</td>\n",
       "      <td>0.233501</td>\n",
       "      <td>0.102906</td>\n",
       "      <td>0.811321</td>\n",
       "      <td>0.811361</td>\n",
       "      <td>0.565604</td>\n",
       "      <td>0.522863</td>\n",
       "      <td>0.776263</td>\n",
       "      <td>0.139091</td>\n",
       "      <td>...</td>\n",
       "      <td>0.248310</td>\n",
       "      <td>0.385928</td>\n",
       "      <td>0.241347</td>\n",
       "      <td>0.094008</td>\n",
       "      <td>0.915472</td>\n",
       "      <td>0.814012</td>\n",
       "      <td>0.548642</td>\n",
       "      <td>0.884880</td>\n",
       "      <td>1.000000</td>\n",
       "      <td>0.773711</td>\n",
       "    </tr>\n",
       "    <tr>\n",
       "      <th>4</th>\n",
       "      <td>0.629893</td>\n",
       "      <td>0.156578</td>\n",
       "      <td>0.630986</td>\n",
       "      <td>0.489290</td>\n",
       "      <td>0.430351</td>\n",
       "      <td>0.347893</td>\n",
       "      <td>0.463918</td>\n",
       "      <td>0.518390</td>\n",
       "      <td>0.378283</td>\n",
       "      <td>0.233822</td>\n",
       "      <td>...</td>\n",
       "      <td>0.519744</td>\n",
       "      <td>0.123934</td>\n",
       "      <td>0.506948</td>\n",
       "      <td>0.341575</td>\n",
       "      <td>0.437364</td>\n",
       "      <td>0.172415</td>\n",
       "      <td>0.319489</td>\n",
       "      <td>0.558419</td>\n",
       "      <td>0.157500</td>\n",
       "      <td>0.142595</td>\n",
       "    </tr>\n",
       "  </tbody>\n",
       "</table>\n",
       "<p>5 rows × 25 columns</p>\n",
       "</div>"
      ],
      "text/plain": [
       "   mean radius  mean texture  mean perimeter  mean area  mean smoothness  \\\n",
       "0     0.521037      0.022658        0.545989   0.363733         0.593753   \n",
       "1     0.643144      0.272574        0.615783   0.501591         0.289880   \n",
       "2     0.601496      0.390260        0.595743   0.449417         0.514309   \n",
       "3     0.210090      0.360839        0.233501   0.102906         0.811321   \n",
       "4     0.629893      0.156578        0.630986   0.489290         0.430351   \n",
       "\n",
       "   mean compactness  mean concavity  mean concave points  mean symmetry  \\\n",
       "0          0.792037        0.703140             0.731113       0.686364   \n",
       "1          0.181768        0.203608             0.348757       0.379798   \n",
       "2          0.431017        0.462512             0.635686       0.509596   \n",
       "3          0.811361        0.565604             0.522863       0.776263   \n",
       "4          0.347893        0.463918             0.518390       0.378283   \n",
       "\n",
       "   radius error  ...  worst radius  worst texture  worst perimeter  \\\n",
       "0      0.356147  ...      0.620776       0.141525         0.668310   \n",
       "1      0.156437  ...      0.606901       0.303571         0.539818   \n",
       "2      0.229622  ...      0.556386       0.360075         0.508442   \n",
       "3      0.139091  ...      0.248310       0.385928         0.241347   \n",
       "4      0.233822  ...      0.519744       0.123934         0.506948   \n",
       "\n",
       "   worst area  worst smoothness  worst compactness  worst concavity  \\\n",
       "0    0.450698          0.601136           0.619292         0.568610   \n",
       "1    0.435214          0.347553           0.154563         0.192971   \n",
       "2    0.374508          0.483590           0.385375         0.359744   \n",
       "3    0.094008          0.915472           0.814012         0.548642   \n",
       "4    0.341575          0.437364           0.172415         0.319489   \n",
       "\n",
       "   worst concave points  worst symmetry  worst fractal dimension  \n",
       "0              0.912027        0.598462                 0.418864  \n",
       "1              0.639175        0.233590                 0.222878  \n",
       "2              0.835052        0.403706                 0.213433  \n",
       "3              0.884880        1.000000                 0.773711  \n",
       "4              0.558419        0.157500                 0.142595  \n",
       "\n",
       "[5 rows x 25 columns]"
      ]
     },
     "execution_count": 34,
     "metadata": {},
     "output_type": "execute_result"
    }
   ],
   "source": [
    "scaler = MinMaxScaler()\n",
    "scaler.fit(inputs_df[input_cols])\n",
    "inputs_df[input_cols] = scaler.transform(inputs_df[input_cols])\n",
    "inputs_df[input_cols].head()"
   ]
  },
  {
   "cell_type": "code",
   "execution_count": 35,
   "metadata": {
    "colab": {
     "background_save": true
    },
    "id": "e9pvXMgOajAw"
   },
   "outputs": [],
   "source": [
    "column_values = []\n",
    "for i in range(len(inputs_df.columns)):\n",
    "    column_values.append(inputs_df.iloc[:,i].values)\n",
    "\n",
    "covariance_matrix = np.cov(column_values)\n",
    "\n",
    "eigen_values, eigen_vectors = np.linalg.eig(covariance_matrix)"
   ]
  },
  {
   "cell_type": "code",
   "execution_count": 36,
   "metadata": {
    "colab": {
     "background_save": true
    },
    "id": "8O2K8uhCai5I",
    "outputId": "e37aa567-1ec5-4f64-e998-2a12062bafcb"
   },
   "outputs": [
    {
     "name": "stdout",
     "output_type": "stream",
     "text": [
      "Shape of eigenvalues: (25,)\n",
      "Shape of eigenvectors: (25, 25)\n",
      "Shape of covariance matrix: (25, 25)\n"
     ]
    }
   ],
   "source": [
    "print(\"Shape of eigenvalues:\", eigen_values.shape)\n",
    "print(\"Shape of eigenvectors:\", eigen_vectors.shape)\n",
    "print(\"Shape of covariance matrix:\", covariance_matrix.shape)"
   ]
  },
  {
   "cell_type": "code",
   "execution_count": 37,
   "metadata": {
    "colab": {
     "background_save": true
    },
    "id": "u-7EgEkraixT",
    "outputId": "4c823554-d10c-4723-f430-5d79728423fe"
   },
   "outputs": [
    {
     "data": {
      "text/plain": [
       "array([0.027818  , 0.00785484, 0.02794603, 0.02458229, 0.00361231,\n",
       "       0.01367458, 0.02108345, 0.02645754, 0.00341174, 0.01137405,\n",
       "       0.01071215, 0.01042819, 0.00462112, 0.00246906, 0.0073333 ,\n",
       "       0.02780391, 0.00811481, 0.02693902, 0.02196388, 0.0030081 ,\n",
       "       0.0105267 , 0.01464405, 0.028038  , 0.00333488, 0.00013961])"
      ]
     },
     "execution_count": 37,
     "metadata": {},
     "output_type": "execute_result"
    }
   ],
   "source": [
    "covariance_matrix[0]"
   ]
  },
  {
   "cell_type": "code",
   "execution_count": 38,
   "metadata": {
    "colab": {
     "background_save": true
    },
    "id": "_sbcw7CPawaF",
    "outputId": "0f0f8ea9-e326-4b94-aa32-05eba7766923"
   },
   "outputs": [
    {
     "data": {
      "text/plain": [
       "array([ 0.24595212, -0.28506715, -0.05288632,  0.04299417,  0.07429854,\n",
       "        0.04581977,  0.07854236, -0.17635877, -0.03245573,  0.21481119,\n",
       "        0.00737844,  0.01610437,  0.12459388, -0.18581714, -0.24581679,\n",
       "       -0.17792538,  0.03830878,  0.13958935, -0.70693551,  0.1966754 ,\n",
       "       -0.15904637,  0.07589162,  0.07905804,  0.11604536,  0.09432928])"
      ]
     },
     "execution_count": 38,
     "metadata": {},
     "output_type": "execute_result"
    }
   ],
   "source": [
    "eigen_vectors[0]"
   ]
  },
  {
   "cell_type": "code",
   "execution_count": 39,
   "metadata": {
    "colab": {
     "background_save": true
    },
    "id": "ZuLE0I62awT9",
    "outputId": "bf04c3e2-193d-468e-d1a2-ae7e2432137b"
   },
   "outputs": [
    {
     "name": "stdout",
     "output_type": "stream",
     "text": [
      "The first eigen value is 0.3301\n"
     ]
    }
   ],
   "source": [
    "print('The first eigen value is',round(eigen_values[0],4))"
   ]
  },
  {
   "cell_type": "code",
   "execution_count": 40,
   "metadata": {
    "colab": {
     "background_save": true
    },
    "id": "0zh_mvKYawM7",
    "outputId": "5d285374-2fdf-4c70-8c2f-5e470da74bd2"
   },
   "outputs": [
    {
     "name": "stdout",
     "output_type": "stream",
     "text": [
      "At 1 PC, Explained Variance is 59.5%\n",
      "At 2 PC, Explained Variance is 74.84%\n",
      "At 3 PC, Explained Variance is 82.28%\n",
      "At 4 PC, Explained Variance is 87.3%\n",
      "At 5 PC, Explained Variance is 90.78%\n"
     ]
    }
   ],
   "source": [
    "explained_variance = []\n",
    "c= 0\n",
    "for i in range(len((eigen_values/(np.sum(eigen_values))*100))):\n",
    "    c = c + np.around((eigen_values[i]/(np.sum(eigen_values))*100),3)\n",
    "    while c < 92:\n",
    "        explained_variance.append(c)\n",
    "        print(f'At {i+1} PC, Explained Variance is {round(c,2)}%')\n",
    "        break"
   ]
  },
  {
   "cell_type": "code",
   "execution_count": 41,
   "metadata": {
    "colab": {
     "background_save": true
    },
    "id": "3ATWl2kWawFG",
    "outputId": "616b2787-69fc-4997-f46e-7763fa340b59"
   },
   "outputs": [
    {
     "name": "stdout",
     "output_type": "stream",
     "text": [
      "Explained Variance Achieved : 90.78% , PCs needed : 5\n"
     ]
    }
   ],
   "source": [
    "variance_percentage = np.around(explained_variance[-1], 2)\n",
    "num_principal_components = len(explained_variance)\n",
    "\n",
    "print(f\"Explained Variance Achieved : {variance_percentage}% , PCs needed : {num_principal_components}\")"
   ]
  },
  {
   "cell_type": "code",
   "execution_count": 42,
   "metadata": {
    "colab": {
     "background_save": true
    },
    "id": "gIIWdN_1a8af"
   },
   "outputs": [],
   "source": [
    "def vectorfy(mtrx, clmn):\n",
    "    return np.array(mtrx[:,clmn]).reshape(-1)\n",
    "\n",
    "def plot_vectors(vectors, colors, labels):\n",
    "    \"\"\"\n",
    "    Plot one or more vectors in a 2D plane, specifying a color for each.\n",
    "\n",
    "    Arguments\n",
    "    ---------\n",
    "    vectors: list of lists or of arrays\n",
    "        Coordinates of the vectors to plot. For example, [[1, 3], [2, 2]]\n",
    "        contains two vectors to plot, [1, 3] and [2, 2].\n",
    "    colors: list\n",
    "        Colors of the vectors. For instance: ['red', 'blue'] will display the\n",
    "        first vector in red and the second in blue.\n",
    "\n",
    "    Example\n",
    "    -------\n",
    "    plot_vectors([[1, 3], [2, 2]], ['red', 'blue'], ['Vector 1', 'Vector 2'])\n",
    "    plt.xlim(-1, 4)\n",
    "    plt.ylim(-1, 4)\n",
    "    \"\"\"\n",
    "    plt.figure()\n",
    "    plt.axvline(x=0, color='lightgray')\n",
    "    plt.axhline(y=0, color='lightgray')\n",
    "\n",
    "    for i in range(len(vectors)):\n",
    "        x = np.concatenate([[0,0],vectors[i]])\n",
    "        plt.quiver([x[0]], [x[1]], [x[2]], [x[3]],angles='xy', scale_units='xy', scale=1, color=colors[i],label=labels[i])"
   ]
  },
  {
   "cell_type": "code",
   "execution_count": 44,
   "metadata": {
    "colab": {
     "background_save": true
    },
    "id": "eQBbL2R4a8Wv",
    "outputId": "b860b06b-c0a9-49c7-ae52-a95f37e6ffa1"
   },
   "outputs": [
    {
     "data": {
      "image/png": "[encoded data removed]",
      "text/plain": [
       "<Figure size 640x480 with 1 Axes>"
      ]
     },
     "metadata": {},
     "output_type": "display_data"
    }
   ],
   "source": [
    "sns.lineplot(x=explained_variance,  y=range(1,len(explained_variance)+1), marker='o')\n",
    "\n",
    "plt.gca().spines['top'].set_visible(False)\n",
    "plt.gca().spines['right'].set_visible(False)\n",
    "\n",
    "plt.annotate(f'{round(explained_variance[0],2)}', (round(explained_variance[0],2)-1, 1.12),\n",
    "             fontsize=15, fontweight='bold', color='green')\n",
    "plt.annotate(f'{round(explained_variance[1],2)}', (round(explained_variance[1],2)-1, 2.12),\n",
    "             fontsize=15, fontweight='bold', color='yellow')\n",
    "plt.annotate(f'{round(explained_variance[4],2)}', (round(explained_variance[4],2)-1, 5.1),\n",
    "             fontsize=15, fontweight='bold', color='red')\n",
    "plt.yticks(range(1,len(explained_variance)+1,1))\n",
    "plt.title('Explained Variance Plot', fontsize=22)\n",
    "plt.xlabel('Explained Variance', fontsize=12)\n",
    "plt.ylabel('Principal Components',fontsize=12)\n",
    "plt.show()"
   ]
  },
  {
   "cell_type": "code",
   "execution_count": 45,
   "metadata": {
    "colab": {
     "background_save": true
    },
    "id": "8Y4EaOXpa8RP",
    "outputId": "bc76a68d-5ced-474e-ae23-914f6e6b86b6"
   },
   "outputs": [
    {
     "data": {
      "image/png": "[encoded data removed]",
      "text/plain": [
       "<Figure size 640x480 with 1 Axes>"
      ]
     },
     "metadata": {},
     "output_type": "display_data"
    }
   ],
   "source": [
    "plot_vectors([eigen_vectors[0], eigen_vectors[1]] , ['green', 'yellow'], ['1st', '2nd'])\n",
    "plt.gca().spines['top'].set_visible(False)\n",
    "plt.gca().spines['right'].set_visible(False)\n",
    "plt.title('1st and 2nd Eigen Vector', fontsize=18)\n",
    "plt.xlabel('X -axis')\n",
    "plt.ylabel('Y-axis')\n",
    "plt.xlim(-0.3, 0.3)\n",
    "_ = plt.ylim(-0.3, 0.1)\n",
    "plt.legend()\n",
    "plt.show()"
   ]
  },
  {
   "cell_type": "code",
   "execution_count": 46,
   "metadata": {
    "colab": {
     "background_save": true
    },
    "id": "2hB0bIbAa8OZ",
    "outputId": "55bdb3ec-fa4c-40f6-868a-efd587b67e26"
   },
   "outputs": [
    {
     "data": {
      "image/png": "[encoded data removed]",
      "text/plain": [
       "<Figure size 640x480 with 1 Axes>"
      ]
     },
     "metadata": {},
     "output_type": "display_data"
    }
   ],
   "source": [
    "plot_vectors([eigen_vectors[2], eigen_vectors[3]] , ['mediumslateblue', 'green'], ['3rd', '4th'])\n",
    "plt.gca().spines['top'].set_visible(False)\n",
    "plt.gca().spines['right'].set_visible(False)\n",
    "plt.title('3rd and 4th Eigen Vector', fontsize=18)\n",
    "plt.xlabel('X -axis')\n",
    "plt.legend(['3rd Vector', '4th Vector'])\n",
    "plt.ylabel('Y-axis')\n",
    "plt.xlim(-0.1, 0.4)\n",
    "_ = plt.ylim(-0.3, 0.1)\n",
    "plt.legend()\n",
    "plt.show()"
   ]
  },
  {
   "cell_type": "code",
   "execution_count": 47,
   "metadata": {
    "colab": {
     "background_save": true
    },
    "id": "IYG9Cnwla8Lp",
    "outputId": "29fffee5-9f05-4d6d-ff1b-cd0ad45d42a4"
   },
   "outputs": [
    {
     "name": "stdout",
     "output_type": "stream",
     "text": [
      "The shape of the Principal Component Matrix is (5, 25)\n"
     ]
    }
   ],
   "source": [
    "pc = eigen_vectors[0:len(explained_variance)]\n",
    "print(f'The shape of the Principal Component Matrix is {pc.shape}')"
   ]
  },
  {
   "cell_type": "code",
   "execution_count": 48,
   "metadata": {
    "colab": {
     "background_save": true
    },
    "id": "x5pYcuw8a8I5",
    "outputId": "7843f1c7-459e-43ff-aac3-33a35696e648"
   },
   "outputs": [
    {
     "name": "stdout",
     "output_type": "stream",
     "text": [
      "The Original PC array\n"
     ]
    },
    {
     "data": {
      "text/plain": [
       "array([ 0.24595212, -0.28506715, -0.05288632,  0.04299417,  0.07429854,\n",
       "        0.04581977,  0.07854236, -0.17635877, -0.03245573,  0.21481119,\n",
       "        0.00737844,  0.01610437,  0.12459388, -0.18581714, -0.24581679,\n",
       "       -0.17792538,  0.03830878,  0.13958935, -0.70693551,  0.1966754 ,\n",
       "       -0.15904637,  0.07589162,  0.07905804,  0.11604536,  0.09432928])"
      ]
     },
     "execution_count": 48,
     "metadata": {},
     "output_type": "execute_result"
    }
   ],
   "source": [
    "print('The Original PC array')\n",
    "pc[0]"
   ]
  },
  {
   "cell_type": "code",
   "execution_count": 49,
   "metadata": {
    "colab": {
     "background_save": true
    },
    "id": "vA2pKQhaa8F3",
    "outputId": "9c756cde-cb93-40c8-e268-06f0ac889531"
   },
   "outputs": [
    {
     "name": "stdout",
     "output_type": "stream",
     "text": [
      "The Transpose of PC array\n"
     ]
    },
    {
     "data": {
      "text/plain": [
       "array([0.24595212, 0.09735703, 0.25557267, 0.21928724, 0.10784383])"
      ]
     },
     "execution_count": 49,
     "metadata": {},
     "output_type": "execute_result"
    }
   ],
   "source": [
    "print('The Transpose of PC array')\n",
    "pc.T[0]"
   ]
  },
  {
   "cell_type": "code",
   "execution_count": 50,
   "metadata": {
    "colab": {
     "background_save": true
    },
    "id": "jxSeQmzYa7-3",
    "outputId": "26ad55cd-8bb7-404c-9994-ce081711bcf0"
   },
   "outputs": [
    {
     "data": {
      "text/html": [
       "<div>\n",
       "<style scoped>\n",
       "    .dataframe tbody tr th:only-of-type {\n",
       "        vertical-align: middle;\n",
       "    }\n",
       "\n",
       "    .dataframe tbody tr th {\n",
       "        vertical-align: top;\n",
       "    }\n",
       "\n",
       "    .dataframe thead th {\n",
       "        text-align: right;\n",
       "    }\n",
       "</style>\n",
       "<table border=\"1\" class=\"dataframe\">\n",
       "  <thead>\n",
       "    <tr style=\"text-align: right;\">\n",
       "      <th></th>\n",
       "      <th>PC1</th>\n",
       "      <th>PC2</th>\n",
       "      <th>PC3</th>\n",
       "      <th>PC4</th>\n",
       "      <th>PC5</th>\n",
       "      <th>Target</th>\n",
       "    </tr>\n",
       "  </thead>\n",
       "  <tbody>\n",
       "    <tr>\n",
       "      <th>0</th>\n",
       "      <td>0.034773</td>\n",
       "      <td>0.398491</td>\n",
       "      <td>0.686401</td>\n",
       "      <td>-1.055867</td>\n",
       "      <td>-0.138927</td>\n",
       "      <td>0</td>\n",
       "    </tr>\n",
       "    <tr>\n",
       "      <th>1</th>\n",
       "      <td>-0.154531</td>\n",
       "      <td>0.489669</td>\n",
       "      <td>0.468577</td>\n",
       "      <td>-0.786602</td>\n",
       "      <td>0.111376</td>\n",
       "      <td>0</td>\n",
       "    </tr>\n",
       "    <tr>\n",
       "      <th>2</th>\n",
       "      <td>-0.119872</td>\n",
       "      <td>0.437182</td>\n",
       "      <td>0.444838</td>\n",
       "      <td>-1.045942</td>\n",
       "      <td>0.024061</td>\n",
       "      <td>0</td>\n",
       "    </tr>\n",
       "    <tr>\n",
       "      <th>3</th>\n",
       "      <td>0.240011</td>\n",
       "      <td>0.060654</td>\n",
       "      <td>0.452463</td>\n",
       "      <td>-1.322787</td>\n",
       "      <td>-0.231652</td>\n",
       "      <td>0</td>\n",
       "    </tr>\n",
       "    <tr>\n",
       "      <th>4</th>\n",
       "      <td>-0.060162</td>\n",
       "      <td>0.451352</td>\n",
       "      <td>0.439179</td>\n",
       "      <td>-0.755014</td>\n",
       "      <td>0.015844</td>\n",
       "      <td>0</td>\n",
       "    </tr>\n",
       "  </tbody>\n",
       "</table>\n",
       "</div>"
      ],
      "text/plain": [
       "        PC1       PC2       PC3       PC4       PC5  Target\n",
       "0  0.034773  0.398491  0.686401 -1.055867 -0.138927       0\n",
       "1 -0.154531  0.489669  0.468577 -0.786602  0.111376       0\n",
       "2 -0.119872  0.437182  0.444838 -1.045942  0.024061       0\n",
       "3  0.240011  0.060654  0.452463 -1.322787 -0.231652       0\n",
       "4 -0.060162  0.451352  0.439179 -0.755014  0.015844       0"
      ]
     },
     "execution_count": 50,
     "metadata": {},
     "output_type": "execute_result"
    }
   ],
   "source": [
    "transformed_df = np.dot(inputs_df.iloc[:,0:len(inputs_df.columns)],pc.T)\n",
    "new_df = pd.DataFrame(transformed_df,columns=['PC1','PC2','PC3', 'PC4', 'PC5'])\n",
    "new_df['Target'] = df['target'].values\n",
    "new_df.head()"
   ]
  },
  {
   "cell_type": "code",
   "execution_count": 51,
   "metadata": {
    "colab": {
     "background_save": true
    },
    "id": "r1drXvm8bpA-"
   },
   "outputs": [],
   "source": [
    "new_df['Target'] = new_df['Target'].astype('int')"
   ]
  },
  {
   "cell_type": "code",
   "execution_count": 55,
   "metadata": {
    "colab": {
     "background_save": true
    },
    "id": "GHLTdTIhbo-K",
    "outputId": "25dcb92b-68b9-4179-abfd-2b08be516ba5"
   },
   "outputs": [
    {
     "data": {
      "application/vnd.plotly.v1+json": {
       "config": {
        "plotlyServerURL": "https://plot.ly"
       },
       "data": [
        {
         "hovertemplate": "PC1=%{x}<br>PC2=%{y}<br>Target=%{marker.color}<extra></extra>",
         "legendgroup": "",
         "marker": {
          "color": [
           0,
           0,
           0,
           0,
           0,
           0,
           0,
           0,
           0,
           0,
           0,
           0,
           0,
           0,
           0,
           0,
           0,
           0,
           0,
           1,
           1,
           1,
           0,
           0,
           0,
           0,
           0,
           0,
           0,
           0,
           0,
           0,
           0,
           0,
           0,
           0,
           0,
           1,
           0,
           0,
           0,
           0,
           0,
           0,
           0,
           0,
           1,
           0,
           1,
           1,
           1,
           1,
           1,
           0,
           0,
           1,
           0,
           0,
           1,
           1,
           1,
           1,
           0,
           1,
           0,
           0,
           1,
           1,
           1,
           1,
           0,
           1,
           0,
           0,
           1,
           0,
           1,
           0,
           0,
           1,
           1,
           1,
           0,
           0,
           1,
           0,
           0,
           0,
           1,
           1,
           1,
           0,
           1,
           1,
           0,
           0,
           1,
           1,
           1,
           0,
           0,
           1,
           1,
           1,
           1,
           0,
           1,
           1,
           0,
           1,
           1,
           1,
           1,
           1,
           1,
           1,
           1,
           0,
           0,
           0,
           1,
           0,
           0,
           1,
           1,
           1,
           0,
           0,
           1,
           0,
           1,
           0,
           0,
           1,
           0,
           0,
           1,
           1,
           0,
           1,
           1,
           0,
           1,
           1,
           1,
           1,
           0,
           1,
           1,
           1,
           1,
           1,
           1,
           1,
           1,
           1,
           0,
           1,
           1,
           1,
           1,
           0,
           0,
           1,
           0,
           1,
           1,
           0,
           0,
           1,
           1,
           0,
           0,
           1,
           1,
           1,
           1,
           0,
           1,
           1,
           0,
           0,
           0,
           1,
           0,
           1,
           0,
           1,
           1,
           1,
           0,
           1,
           1,
           0,
           0,
           1,
           0,
           0,
           0,
           0,
           1,
           0,
           0,
           0,
           1,
           0,
           1,
           0,
           1,
           1,
           0,
           1,
           0,
           0,
           0,
           0,
           1,
           1,
           0,
           0,
           1,
           1,
           1,
           0,
           1,
           1,
           1,
           1,
           1,
           0,
           0,
           1,
           1,
           0,
           1,
           1,
           0,
           0,
           1,
           0,
           1,
           1,
           1,
           1,
           0,
           1,
           1,
           1,
           1,
           1,
           0,
           1,
           0,
           0,
           0,
           0,
           0,
           0,
           0,
           0,
           0,
           0,
           0,
           0,
           0,
           0,
           1,
           1,
           1,
           1,
           1,
           1,
           0,
           1,
           0,
           1,
           1,
           0,
           1,
           1,
           0,
           1,
           0,
           0,
           1,
           1,
           1,
           1,
           1,
           1,
           1,
           1,
           1,
           1,
           1,
           1,
           1,
           0,
           1,
           1,
           0,
           1,
           0,
           1,
           1,
           1,
           1,
           1,
           1,
           1,
           1,
           1,
           1,
           1,
           1,
           1,
           1,
           0,
           1,
           1,
           1,
           0,
           1,
           0,
           1,
           1,
           1,
           1,
           0,
           0,
           0,
           1,
           1,
           1,
           1,
           0,
           1,
           0,
           1,
           0,
           1,
           1,
           1,
           0,
           1,
           1,
           1,
           1,
           1,
           1,
           1,
           0,
           0,
           0,
           1,
           1,
           1,
           1,
           1,
           1,
           1,
           1,
           1,
           1,
           1,
           0,
           0,
           1,
           0,
           0,
           0,
           1,
           0,
           0,
           1,
           1,
           1,
           1,
           1,
           0,
           1,
           1,
           1,
           1,
           1,
           0,
           1,
           1,
           1,
           0,
           1,
           1,
           0,
           0,
           1,
           1,
           1,
           1,
           1,
           1,
           0,
           1,
           1,
           1,
           1,
           1,
           1,
           1,
           0,
           1,
           1,
           1,
           1,
           1,
           0,
           1,
           1,
           0,
           1,
           1,
           1,
           1,
           1,
           1,
           1,
           1,
           1,
           1,
           1,
           1,
           0,
           1,
           0,
           0,
           1,
           0,
           1,
           1,
           1,
           1,
           1,
           0,
           1,
           1,
           0,
           1,
           0,
           1,
           1,
           0,
           1,
           0,
           1,
           1,
           1,
           1,
           1,
           1,
           1,
           1,
           0,
           0,
           1,
           1,
           1,
           1,
           1,
           1,
           0,
           1,
           1,
           1,
           1,
           1,
           1,
           1,
           1,
           1,
           1,
           0,
           1,
           1,
           1,
           1,
           1,
           1,
           1,
           0,
           1,
           0,
           1,
           1,
           0,
           1,
           1,
           1,
           1,
           1,
           0,
           0,
           1,
           0,
           1,
           0,
           1,
           1,
           1,
           1,
           1,
           0,
           1,
           1,
           0,
           1,
           0,
           1,
           0,
           0,
           1,
           1,
           1,
           0,
           1,
           1,
           1,
           1,
           1,
           1,
           1,
           1,
           1,
           1,
           1,
           0,
           1,
           0,
           0,
           1,
           1,
           1,
           1,
           1,
           1,
           1,
           1,
           1,
           1,
           1,
           1,
           1,
           1,
           1,
           1,
           1,
           1,
           1,
           1,
           1,
           1,
           1,
           1,
           1,
           0,
           0,
           0,
           0,
           0,
           0,
           1
          ],
          "coloraxis": "coloraxis",
          "symbol": "circle"
         },
         "mode": "markers",
         "name": "",
         "orientation": "v",
         "showlegend": false,
         "type": "scatter",
         "x": [
          0.034772775259527135,
          -0.15453051985192634,
          -0.1198719207953302,
          0.24001111995723676,
          -0.06016211311780767,
          0.13404610560507965,
          -0.08170682186858436,
          0.03894285338859101,
          0.0715991223625985,
          0.12107190746346239,
          -0.0891550696956208,
          -0.033304680854302944,
          -0.19289528193051575,
          -0.12943759488872614,
          0.06377639988819853,
          0.010142088759032634,
          -0.025929348194687812,
          0.016455858773763293,
          -0.2154060110824818,
          0.04039937677631604,
          0.052233033401298756,
          0.06285926972706388,
          0.033888043096943196,
          -0.26815075152477036,
          -0.1253025401052243,
          -0.015916595889412882,
          0.02319931097818992,
          -0.09016313325728857,
          -0.043629031978042875,
          -0.03243862249369595,
          -0.09717656883724789,
          0.10061925794730663,
          -0.04371045262185684,
          -0.13949406148433524,
          0.005504040972731318,
          0.018846345557170477,
          0.015854381687840906,
          -0.07390395333669542,
          -0.11437544231483403,
          0.04036582777204275,
          -0.05811209697074451,
          0.10916656410330586,
          -0.11200331142564585,
          0.018285226622293926,
          0.020596895149419262,
          -0.006215775788484204,
          0.05554143274558633,
          0.10202780912451366,
          0.09661576823305035,
          -0.05669753092171488,
          -0.034621530954643216,
          -0.005222628582902313,
          -0.006793239954941367,
          -0.018286520766668098,
          -0.041414192307983974,
          0.019902723599067744,
          -0.1312946366019141,
          -0.02100410231136681,
          -0.028501055929052152,
          0.1744508564080952,
          0.0940803560538036,
          0.09579478176057192,
          0.012327447889824487,
          0.02193138679722854,
          0.015034403756561258,
          -0.016353200085880305,
          0.06630478874370314,
          -0.0004036612883586355,
          0.04284278885465773,
          0.017849088009911668,
          -0.18858571938382554,
          0.09230864334996379,
          -0.09118208231836565,
          0.03420712087865361,
          0.01144607991485518,
          -0.06997958070250293,
          0.11547297798279726,
          -0.03714427211595789,
          -0.029107994028571203,
          0.02414342193812113,
          0.06264062252343669,
          0.07763515318861253,
          -0.22479133626411732,
          -0.10556377384568291,
          0.07555902392587281,
          -0.06818030951166718,
          -0.0459969462770034,
          -0.1316688370119999,
          -0.010948118365605556,
          0.023037074946803963,
          -0.08197937099335353,
          -0.10112277780231967,
          -0.05556133586061124,
          0.007643080539847586,
          -0.029706495086603005,
          -0.1409623417387505,
          -0.026465434990914433,
          0.04345578330342359,
          0.08945484570914385,
          -0.006870108909083702,
          -0.07570219594701967,
          0.18002700237091337,
          -0.024233967945292315,
          0.052931946566658096,
          0.015075379452984093,
          0.1413905474642069,
          0.08602877348596244,
          0.011880234309724926,
          -0.07719003572680018,
          0.07076787664764107,
          0.08514364515100108,
          -0.05516969908328777,
          -0.07415264353413971,
          0.005621351367780025,
          0.14183934671495488,
          0.019146573048851097,
          -0.01477032092420051,
          0.07763588667535806,
          0.013756223723185938,
          -0.05999916432420572,
          0.12471141206246698,
          -0.04743066826377431,
          0.00017311146749291077,
          0.06919164934408917,
          -0.03560391074605581,
          -0.0054515428040387845,
          -0.019110893266002734,
          -0.13484211511729458,
          -0.013662149421564159,
          -0.13242936147408446,
          0.10807571106732224,
          -0.023349499001739923,
          -0.04197186986861435,
          -0.012331992934502828,
          -0.08323049874744187,
          -0.004936363766355761,
          0.010046052783630742,
          0.028656666626522206,
          0.005666859194829375,
          0.030186439716403606,
          0.11427840434899077,
          -0.039555929328875944,
          0.05789973388332098,
          0.04955551122070859,
          0.022327623915742573,
          0.10271009484852556,
          0.090404383740477,
          -0.03889373213080116,
          0.00968904743045621,
          -0.043399374040400715,
          -0.011582221911434813,
          0.12091146520027471,
          -0.09724712568335617,
          0.07318058508399,
          0.0897384427776486,
          0.016583647685438307,
          -0.07743127427273833,
          -0.0962287016393543,
          0.06845403711803867,
          0.06675720507986738,
          0.032157495475635664,
          -0.14663660835855963,
          -0.13772438840648923,
          0.00891452379284342,
          -0.22905509265834478,
          -0.053825687344467,
          0.11671336459941893,
          -0.09954774218975866,
          -0.13317370260612216,
          -0.020842884537856265,
          0.056328904735105156,
          -0.022022661878183854,
          0.06091197751999572,
          0.0017584962518447653,
          0.056546663401657926,
          0.08343910670943823,
          0.02824627310608719,
          -0.02524238904815661,
          -0.09643632063117896,
          0.028255998369236406,
          -0.29909109799829203,
          -0.17516258186882383,
          -0.054976007061971206,
          -0.01237489392896675,
          -0.03579820146078055,
          0.12079430344927036,
          -0.07354468575230028,
          0.01880085600955683,
          0.055319758946937164,
          0.005610399026724536,
          0.09607192568840002,
          -0.0871374864810562,
          -0.02941619483093462,
          0.013347828277861138,
          -0.05457597450288989,
          -0.0012547677412214154,
          0.03776340685182244,
          -0.14844830739236384,
          -0.14460871798398192,
          0.036421629883022826,
          -0.0005776428413621593,
          -0.05334993736073263,
          -0.17462028826212472,
          0.07658462039367225,
          0.031471950896639844,
          0.033404253435767264,
          0.07401261360862327,
          -0.0887780645571647,
          0.020729420137848873,
          0.0059184370345784915,
          -0.18942921433570173,
          0.014509546401483112,
          -0.038643711512468266,
          -0.20805792913996504,
          0.01933295056712627,
          0.05312872524739786,
          0.020316302949365043,
          -0.011831813248559017,
          -0.1690572702966447,
          -0.3414378133562979,
          0.05413632406879269,
          0.06692028421510639,
          0.07551200871412675,
          0.012818720236831452,
          0.00713013394955665,
          0.012968847042427737,
          0.07718454803638322,
          -0.005341631232703692,
          -0.03367441038994206,
          0.06719114611010046,
          0.0030652017665045365,
          -0.09948333449230859,
          -0.13608615166247104,
          -0.21662777400200436,
          0.07297309731196291,
          -0.03144197940316272,
          -0.3160483595252853,
          -0.16609951266598122,
          -0.1204170025703764,
          -0.2617821475054926,
          0.007347828515891972,
          0.015655515955671547,
          0.09409568257035647,
          -0.09746387146992211,
          -0.08414038530323263,
          0.057685786691332834,
          0.004731552830363333,
          0.05642361725573141,
          0.02159038870611701,
          0.06220962615561348,
          -0.20051017602810473,
          0.0020781595351260433,
          -0.06674222230270774,
          -0.02567980140894694,
          -0.12023074911346197,
          0.034391803419878075,
          -0.2289003249816311,
          0.07964569019858359,
          -0.04543520786069531,
          -0.05030710627270136,
          -0.15851863227374027,
          -0.10091998362458766,
          -0.12153765980650305,
          -0.06047087698111285,
          -0.06608932681596921,
          -0.4326951582370105,
          0.016882435407041572,
          -0.06767215401262627,
          0.057247984459815764,
          0.008746382430447933,
          -0.05088685960055742,
          0.07584270043235454,
          -0.18551948089750936,
          0.06969603403409091,
          -0.10821364464301436,
          -0.006561408597476066,
          0.06707264081479436,
          -0.10351183732366863,
          -0.03406869845814195,
          0.012157114849476073,
          -0.09193442696853817,
          -0.015569065967460447,
          -0.06409772769123462,
          -0.012825622498431591,
          -0.05356260055557819,
          -0.008786690872274768,
          -0.0325977113549381,
          0.0024784343391187446,
          -0.12069597944645825,
          -0.0045714982440493825,
          -0.05802941943713201,
          -0.014533591026520857,
          0.08342437042295141,
          0.03351601803235616,
          0.047189251337483605,
          0.03811617773064779,
          0.002749975424595561,
          -0.025259105403233915,
          -0.05927819636157975,
          -0.059181799018690924,
          -0.09945625860320348,
          -0.04675779965022104,
          -0.11775346850549347,
          0.03859354233250007,
          0.010072287588205846,
          -0.06496490872417833,
          0.02625433478007603,
          0.034491245657264386,
          -0.007983454759983303,
          0.008305228342661133,
          0.017003186500689937,
          -0.040631111046185935,
          0.03467273535245687,
          0.07836328713562415,
          0.11024073274275822,
          -0.002349697869707681,
          -0.0001652730973864018,
          -0.07882121270940008,
          0.013193320454358476,
          -0.06758443582456913,
          0.06552327115711154,
          -0.16052743033540504,
          0.10168954129473973,
          -0.06854448819687314,
          0.04357136435080223,
          0.04302504611902899,
          0.03276317377802396,
          -0.017271633271068336,
          -0.017915704822377487,
          -0.010508083663925812,
          0.001829082350126152,
          0.03236938928700474,
          0.06368263609896757,
          0.045694741405840775,
          -9.267186142423726e-05,
          -0.07136417105803848,
          0.04181568535590464,
          -0.12429903492018282,
          0.06474100517228328,
          -0.2867819766673669,
          0.011404055392313702,
          0.04764079745225998,
          0.08924382011920677,
          -0.09780773928910444,
          0.06700537560383472,
          0.08329707262207725,
          0.026575633133944437,
          0.016861931042121765,
          0.08493302825759222,
          0.06642786549974557,
          -0.016599139139732197,
          0.041526968934016355,
          -0.24660528867962728,
          -0.048444194406194394,
          -0.020221730723944772,
          -0.06145850847968741,
          0.003202207217086752,
          0.007406675485780585,
          -0.002033858869026868,
          0.04951167678457993,
          -0.040235568390306564,
          -0.03612278103066586,
          0.011161196401589652,
          -0.033046908883869686,
          0.007318349997231668,
          -0.16151076912702259,
          -0.20257661341388983,
          0.03841409090412116,
          -0.2825341759024446,
          -0.1837910546317091,
          -0.03159848467585136,
          -0.013148401638079033,
          -0.07320430236213836,
          -0.09497213506908353,
          0.009694377838470433,
          0.0015307720096736752,
          -0.05977553834153142,
          -0.10168580283295411,
          0.055114731115459475,
          0.19080581387771345,
          0.13292294317761025,
          0.026495746417397444,
          -0.09754135664987254,
          0.06041247235624561,
          0.02606828864290798,
          -0.06465480732662057,
          0.025404902669190228,
          -0.05740749850472195,
          -0.005898748193075397,
          -0.18432836648093176,
          0.09457245751337792,
          0.13089195600392653,
          -0.01677663152233141,
          -0.14077352624185438,
          0.04975194163285921,
          -0.0411046545300954,
          0.006104130878418955,
          -0.06025060100235899,
          0.04084352848405369,
          0.03833087393279772,
          0.06024270332933501,
          0.0877834151033917,
          -0.040594874301450985,
          0.03907823665530785,
          -0.008594990790372648,
          0.029096170372691466,
          -0.0028632545364833373,
          -0.06506360328814219,
          -0.0756563303705035,
          0.01336226770564446,
          0.07138133636060857,
          0.06311074459903256,
          -0.007788307002279728,
          -0.06669972059530904,
          -0.13157222802635635,
          0.025217576329764325,
          0.055918464692548894,
          -0.08799249801977824,
          0.0825801312375828,
          0.020421471238441163,
          0.016826324684821495,
          0.0505382804055255,
          0.04771921054747939,
          -0.030704813510301385,
          0.06560417735716254,
          -0.013707778172293754,
          0.07349445548717436,
          -0.007427705171378005,
          -0.007000087310222577,
          -0.026975145977332537,
          -0.028537539317415976,
          0.05460807705714004,
          -0.052377401878505356,
          -0.11386140143988757,
          -0.004866965592470061,
          0.04449460560302074,
          0.015664548555018552,
          0.0037278599766784183,
          -0.03507195802262653,
          -0.04294848796918742,
          0.037524179108706215,
          -0.11603153232001169,
          -0.008616130588741902,
          -0.05058260416931007,
          -0.043889427984769525,
          -0.05967434477948901,
          -0.12446845564755055,
          0.011073637469685893,
          -0.043129912955365494,
          -0.17894643679135988,
          -0.06637304536180201,
          -0.12571562007254133,
          -0.07927094283325514,
          0.030687569179681382,
          0.01665880572468974,
          -0.12569818369479346,
          -0.046769957498109624,
          -0.054135901571922614,
          -0.07260616780449561,
          -0.08727398627269173,
          -0.12052127353896189,
          -0.41870585953409944,
          -0.125644827098177,
          0.04407103885906768,
          -0.023538526444261913,
          0.0042123789142799566,
          -0.012844263271613433,
          0.07004333091002773,
          -0.11612507718187738,
          0.07636425902187154,
          0.028343964083193528,
          -0.11275648662264358,
          -0.02615562540276004,
          -0.09521707242909334,
          0.07835430241976564,
          0.03701982445272073,
          -0.054670792645766686,
          -0.038117597125180196,
          0.09321426069904706,
          -0.03450062323078717,
          0.021854071589272522,
          -0.049677259844496606,
          0.07050957713709977,
          -0.006972422349305683,
          0.07647683050165427,
          -0.007764204521769044,
          -0.0194082034966432,
          -0.06479396391147196,
          0.07663514644000648,
          -0.04913058284218442,
          -0.008922110889701122,
          -0.06163102968084059,
          -0.09054064444977193,
          0.0034034235289542416,
          -0.0261169313757184,
          -0.05260224520559964,
          0.06333760722324988,
          0.02575069068486552,
          -0.08086814273102641,
          -0.10124122143141721,
          -0.031234102326222507,
          0.04581045325971878,
          0.08295084985909086,
          -0.267110901902503,
          0.1972365539554402,
          0.19931597836890344,
          0.03818297066933283,
          0.09917264542851782,
          -0.02475819740797231,
          0.015282505548158026,
          0.016056250554286753,
          -0.016965360171712192,
          0.03788067000686897,
          0.020241936457490867,
          -0.0460403669313868,
          0.04356740519966277,
          -0.0687106004718585,
          -0.10369245298916213,
          0.03275003064004786,
          0.0705257156604973,
          0.169908382051226,
          -0.21600128420772938,
          -0.004328994083197443,
          0.02408277686279285,
          0.08082955360131024,
          0.15753069588820867,
          0.07939050331953308,
          0.07688615128967136,
          -0.003307038698480143,
          0.10056861785514025,
          0.027875178544233915,
          0.06622189542256521,
          0.02008389896600868,
          -0.15239429967338217,
          0.03324956746733329,
          -0.14919203929076424,
          -0.01863354004890126,
          0.03035788007439583,
          0.02365426043453509,
          0.019227348551496413,
          0.04728624611651099,
          -0.030805620384227947,
          -0.1198762340028218,
          -0.12217530010411973,
          -0.020002712091901464,
          -0.05378804472557756,
          0.04856529339098059,
          0.06735707426880261,
          -0.0007941504360498686,
          -0.020005373365287422,
          -0.016428116937775968,
          -0.02220452053614487,
          -0.10734583881778187,
          -0.04787446093553452,
          -0.09441697202764367,
          -0.0747800834815189,
          0.01648967184486328,
          -0.032204702391422466,
          -0.09295118068054387,
          -0.031770309406700815,
          -0.10262361850094016,
          -0.1052283502867768,
          -0.04443541075643505,
          -0.15327833531516902,
          -0.19017403214551828,
          -0.2282263292109434,
          -0.1706891418173295,
          -0.11365498856959214,
          -0.05666655989282507
         ],
         "xaxis": "x",
         "y": [
          0.3984913373476043,
          0.48966920466143365,
          0.43718162584700876,
          0.06065436122393976,
          0.4513515622720188,
          0.08206006833067768,
          0.36741371893447994,
          0.16726180321544262,
          0.09191012207838281,
          0.07511970227693408,
          0.27278642333834924,
          0.31531165062205363,
          0.5574609948553676,
          0.3102647433216927,
          0.17881199089871985,
          0.15085185457469827,
          0.2297161138021339,
          0.24230962971263398,
          0.4643820102156184,
          0.19671934515011497,
          0.1248398095302303,
          0.04677773144307789,
          0.3088750619458469,
          0.48392474445189804,
          0.3182739795890203,
          0.36919296453697376,
          0.21123239526088783,
          0.40092724618338504,
          0.22327815520367636,
          0.34825464634157366,
          0.31977060751093017,
          0.09976093938828262,
          0.23000951261866745,
          0.3931175643442341,
          0.2649554619613332,
          0.3034858808638002,
          0.17982826484165124,
          0.1595987382440896,
          0.2550774235231356,
          0.1765376195196924,
          0.18726223558706975,
          0.0006076549384776486,
          0.5197379100450797,
          0.1561695761505994,
          0.1382541091198471,
          0.3916378317177763,
          -0.028150620373193047,
          0.12236903556777637,
          0.08885936839578096,
          0.18817235355420905,
          0.10831400972728478,
          0.2166748198989945,
          0.13120689671762117,
          0.29586388335522207,
          0.24313142386992143,
          0.08824851332503462,
          0.4310565617477782,
          0.18879556110978443,
          0.16699213421671782,
          -0.0333528203282977,
          0.0064761793065239,
          -0.0827661064930716,
          0.2541134405665564,
          0.09231053073335091,
          0.12371464197894465,
          0.1607156035345405,
          -0.018755659890109543,
          0.10391517454079156,
          -0.11149236961478293,
          0.12442731799891019,
          0.4363476259670519,
          0.1058900058073578,
          0.33167154910170604,
          0.1949312035936614,
          0.1430148268867551,
          0.33331726582803767,
          0.11925955113834956,
          0.4215184368665337,
          0.4058603617296581,
          0.13206570491653905,
          0.030884384699702623,
          0.1643519084848785,
          0.6313090632247795,
          0.37817595943994725,
          0.10853452504878042,
          0.37653721003206814,
          0.23433180645600288,
          0.3847684435951692,
          0.15119715023089683,
          0.22630093386759118,
          0.21341074485016462,
          0.2541468414409243,
          0.2525613432520752,
          0.15735337051113674,
          0.27621778824339416,
          0.4330698001692395,
          0.13483393832101895,
          -0.0024319070802373147,
          0.10804530957329093,
          0.22198185344634527,
          0.16718199149969767,
          -0.16161851660238338,
          0.12212347210123713,
          0.019724028498307594,
          0.03473825248494347,
          0.07373881945993149,
          0.0838413630303494,
          0.12385775246856838,
          0.5355589605573084,
          0.07700671580623662,
          0.03144777767826591,
          0.18595200581682175,
          0.256215954298668,
          0.04086957023892804,
          -0.047553940941218495,
          0.10463446949656703,
          0.0767084259276082,
          0.21190370755496918,
          0.2295505200995383,
          0.3329186644968053,
          0.10626191369994792,
          0.38019413066700514,
          0.4591147139552525,
          0.19245909111010054,
          0.21896931334201894,
          0.18438730451528834,
          0.1606241506076643,
          0.43111204312790774,
          0.2773678025898544,
          0.3554319143979074,
          0.12101407199888983,
          0.22515406055401102,
          0.2602382119742943,
          0.28774231507246417,
          0.344146556006706,
          0.12688285580983052,
          0.10292012748443115,
          0.09539848441826627,
          0.27838574623185547,
          0.1327357818851501,
          0.003033242225381672,
          0.28520603002214706,
          0.07527617545842236,
          0.16929607931255167,
          0.09913143228212114,
          0.11565942815822954,
          0.12408334886847758,
          0.2914614690953206,
          0.23865761826927856,
          0.20625398577382373,
          0.11005188751845035,
          -0.06576527806416829,
          -0.08232788208804198,
          0.08531507857986892,
          0.1689166192638496,
          0.13029242149794726,
          0.34496334384213934,
          0.34832968088035865,
          0.12287169453262019,
          0.10770987197257377,
          0.06327627131536698,
          0.5167642346707014,
          0.4090095286509497,
          0.11790657105587139,
          0.591130103584423,
          0.22684339752253066,
          0.07289549200679395,
          0.3595045898709193,
          0.3452350937582353,
          0.22400154524338678,
          0.14307875161657008,
          0.19644359015908192,
          0.20919784504694486,
          0.12338973951338071,
          0.049014903641815835,
          -0.04118948531704923,
          0.09548286691881314,
          0.3080587610191856,
          0.16750638564433845,
          0.1699570502341646,
          0.6359582661668305,
          0.44700811148035485,
          0.27099144231172134,
          0.1470474793715909,
          0.22141097866344706,
          0.034333557259047576,
          0.35811313881121487,
          0.10982570939299702,
          0.06590717801480724,
          0.157676488380599,
          0.21677889340707943,
          0.20003633713662755,
          0.03338438263341553,
          0.12267460792558989,
          0.2458831809233986,
          0.17672791414022815,
          0.1835573112501364,
          0.4048248452941634,
          0.4457322892161,
          0.19471600064105576,
          0.136209612244569,
          0.3664079838949443,
          0.5140836211185841,
          0.12058562450848692,
          0.1333129259944249,
          0.2607848633344295,
          -0.005505949388697271,
          0.3278604431505447,
          0.12542683825517692,
          0.28382234706705123,
          0.5318267106116074,
          0.10852505564177178,
          0.6295003365018101,
          0.4067575379490407,
          0.22421524646744923,
          0.19721765304059274,
          0.14800752268417425,
          0.06552740149029271,
          0.4753236109160182,
          0.44665333094157744,
          0.1843502182711014,
          0.16157903289164074,
          0.014654890454768164,
          0.23783032649867836,
          0.18434486023685695,
          0.2345271227281838,
          0.021801730300623243,
          0.2790101834401916,
          0.154190169971202,
          0.13991808077235457,
          0.28172103361352296,
          0.07986106862524812,
          0.03784787163790464,
          0.4163081415628427,
          0.05209970888681568,
          0.20422940736406445,
          0.5739057284081184,
          0.499014952532685,
          0.19153310936762113,
          0.2995770713870445,
          0.19354146161704863,
          0.1375279482708901,
          0.08873977685020852,
          0.2020172571280623,
          0.39901100427837466,
          0.026156711974849485,
          0.16891542724026523,
          0.19936382633771838,
          0.0168450204608855,
          0.0886797600540042,
          0.43066392798717545,
          0.1046036496207095,
          0.46104404488465794,
          0.3159785991591552,
          0.4169455741527086,
          0.19780840657607077,
          0.44896709300516946,
          0.22419074716494197,
          0.3403075325750689,
          0.17637115051958707,
          0.3747261045151764,
          0.31361271556076725,
          0.4196598676367884,
          0.2587129995404191,
          0.312595165332572,
          0.4733711142809783,
          0.09795640203596416,
          0.19448917711575842,
          0.1346589902376508,
          0.056207733587288415,
          0.23531837603213038,
          0.09313186808945129,
          0.5458157294642388,
          0.04748085652922487,
          0.32338681825025395,
          0.098258155991045,
          0.08050615732702351,
          0.3841820495599199,
          0.188509366824164,
          0.19922289052378242,
          0.3623832706628312,
          0.21475878516074204,
          0.4135132121399359,
          0.2690311115876416,
          0.21575564943815706,
          0.1318643691613446,
          0.18374930472487028,
          0.20231756514335655,
          0.2697904749513833,
          0.10576820298249333,
          0.34726080934365183,
          0.252517715145898,
          0.15020535827014797,
          0.1322012574918731,
          0.15241077965902675,
          0.19315644084601888,
          0.11757024329419483,
          0.12726047983173405,
          0.2542497065242276,
          0.04364111572422262,
          0.4141996885862599,
          0.16645407913409044,
          0.4021348174494339,
          0.017371236903528393,
          0.11746632518004908,
          0.11794132530617829,
          0.1568275733017342,
          0.026036563931249524,
          0.21133675509510855,
          0.18137773734226267,
          0.10188127922564473,
          0.2525139596015104,
          0.18850520028263967,
          0.12078306300768886,
          -0.09100074251453716,
          0.13115536165929545,
          0.14653427588000872,
          0.35572288254700196,
          0.0522106434434538,
          0.18957254906373167,
          0.06931648437110716,
          0.45571650277451187,
          0.12990531632669025,
          0.38439101494657646,
          0.1339528988158012,
          0.1082456498503468,
          0.2070598029632728,
          0.13481899662375446,
          0.24102334749623447,
          0.20955258275258604,
          0.3191675457434255,
          0.14754078798169387,
          0.03948243418062193,
          0.0960274096363004,
          0.1319383987775523,
          0.28815692350755373,
          0.1400030703852789,
          0.4575856733798825,
          0.018588581301149303,
          0.529286027770195,
          0.23394379097550974,
          0.03193316969029846,
          0.06364041542220616,
          0.4253461308603739,
          0.07797532245224695,
          0.09992762893868018,
          0.12471133450533872,
          0.26467730884570506,
          0.08626081687247061,
          0.10453751388560349,
          0.14007412372477274,
          0.2312042000260062,
          0.6444235536749642,
          0.22895576891228728,
          0.17585118554905907,
          0.19819421408758314,
          0.1651998142302078,
          0.1881844984736829,
          0.06888671789970165,
          -0.013896105895989023,
          0.16069935903684354,
          0.15547007715323022,
          0.14696232730237813,
          0.28431894413155123,
          0.18517812393184319,
          0.4704455980535204,
          0.46951024723907997,
          0.12515254199741083,
          0.5488390204448771,
          0.49817736759070697,
          0.29216427141955986,
          0.28624710963838923,
          0.4496559205414444,
          0.477713084763028,
          0.2000702230235451,
          0.2737622269153542,
          0.09815363939842696,
          0.16505720049978564,
          0.21516016362023055,
          0.047568620658873025,
          0.046770998058773515,
          0.11057419905645566,
          0.2146210460427307,
          0.11263196231114461,
          0.19490088691156407,
          0.23239408523500885,
          0.16741787287845114,
          0.23898515879582707,
          0.16338071576577892,
          0.47459871123757574,
          0.052175058255515064,
          -0.05690801562918606,
          0.2555902525812324,
          0.4253314752520034,
          0.08753367082728017,
          0.21928111164856615,
          0.15766747840849493,
          0.19936187854589718,
          0.10242546290837783,
          0.09874496675721603,
          0.2704078489258535,
          0.1354919131227968,
          0.21815838912528993,
          0.12979052772497304,
          0.16106020812440372,
          0.08641015391499429,
          0.27261886646129385,
          0.20769500702524596,
          0.3550257927167643,
          0.15810592596873724,
          0.0790094051644799,
          0.04151003192689148,
          -0.0001634032202162181,
          0.2494490041590469,
          0.21532835140725914,
          0.11571493779262185,
          -0.017182657865798662,
          0.33425836613224136,
          0.1679611103308627,
          0.0434441364432145,
          0.09240199104408138,
          0.26451329451127614,
          0.09426733664246977,
          0.2032662554559822,
          0.019493858888448158,
          0.02672191315644046,
          0.07439954107168276,
          0.08089620500840645,
          0.09173256225122436,
          0.16875958137086597,
          0.287848627148524,
          0.10595510474059569,
          0.3907446674523087,
          0.39743208418441817,
          0.2388158435473935,
          0.16735011878205439,
          0.14481684834324296,
          0.2189278240219041,
          0.1929339722513233,
          0.2421871022875954,
          0.13741535142198055,
          0.3803284023278731,
          0.20165033367695281,
          0.08644539025292644,
          0.3497105802260337,
          0.11540101326074258,
          0.30278381208392957,
          0.21594284395508592,
          0.23038235236501292,
          0.46836380135233313,
          0.20070173292000082,
          0.3537496600702939,
          0.10132146816917734,
          0.18909832481273126,
          0.15161213092648243,
          0.13514430130596658,
          0.05573055598846739,
          0.1254016704204025,
          0.14307066825702025,
          0.007171178073984245,
          0.33306127288872334,
          0.7770457993281114,
          0.2148094210910095,
          0.10994332710042877,
          0.20934144627197415,
          0.22529382329789818,
          0.19392880983239846,
          0.02489382759362226,
          0.43246632467530344,
          0.0904512217657886,
          0.03371821589353927,
          0.12343446207363996,
          0.2718589517165793,
          0.0799312644419601,
          0.06475480196367692,
          0.14851251233273838,
          0.25632084427967006,
          0.23130313735092137,
          0.05501364055691377,
          0.31142377956183115,
          0.11207870884720467,
          0.207715824750336,
          0.14716569692257284,
          0.16253305408814545,
          0.25076678912750733,
          0.22314839683237528,
          0.2241466368238235,
          0.369638782631601,
          0.08617445116212642,
          0.31110276497432476,
          0.11935942653673669,
          0.3742978811620646,
          0.36703168750687376,
          0.19023114114910278,
          0.18576991231533205,
          0.21619749962660784,
          0.12000513416880115,
          0.1449546290424588,
          0.3865212722550877,
          0.4261304509010407,
          0.2252377983744738,
          0.16459564747379868,
          0.099154483191285,
          0.6544481507523736,
          -0.041470762219156625,
          -0.025124974470980235,
          0.07872289156710938,
          0.039054938388039834,
          0.3004663656348052,
          0.2397850518079861,
          0.1902192961752378,
          0.263027555034811,
          0.14508910873865383,
          0.2150336252611423,
          0.2322223804029334,
          0.07801479014559422,
          0.32261865964371733,
          0.3985487710967252,
          0.11980084123769227,
          0.10640005460045278,
          -0.021585803574221032,
          0.6013101167092546,
          0.06990639066899387,
          0.19766297175636552,
          0.03489427105280736,
          -0.03357063971427016,
          0.13768583915073812,
          0.1376384390459953,
          0.23607408210337083,
          0.0906695529327693,
          0.10489059398552002,
          0.06011390085463793,
          0.1777844002418545,
          0.4604093122281915,
          0.08426466997774729,
          0.4243682239723411,
          0.16310674908955095,
          0.08361570688791309,
          -0.09477572945192231,
          -0.0660645247967129,
          0.11816649506013015,
          0.24121492795883762,
          0.24068404496038312,
          0.13977560679375758,
          0.1726051448044303,
          0.17231059540839194,
          0.03233592774363382,
          0.07900083908330942,
          0.03555859088335496,
          0.07582212918393455,
          0.06475801783246102,
          0.06759638446986335,
          0.13886009967851776,
          0.0027499076270573516,
          0.11634157204012532,
          0.04988562011195474,
          0.036944159794105876,
          -0.027726506398528306,
          0.25374167492941246,
          0.06797340493396942,
          0.2031792581702437,
          0.04866979384475808,
          0.2015730935132321,
          0.4787985227739693,
          0.49982636228227983,
          0.40955901870412703,
          0.32139066608505285,
          0.40926310701993707,
          -0.026934412049333237
         ],
         "yaxis": "y"
        }
       ],
       "layout": {
        "annotations": [
         {
          "font": {
           "color": "red",
           "size": 14
          },
          "text": "Kuadran 2",
          "x": -0.45,
          "y": 0.1
         },
         {
          "font": {
           "color": "black",
           "size": 14
          },
          "text": "Kuadran 1",
          "x": 0.23,
          "y": 0.1
         }
        ],
        "coloraxis": {
         "colorbar": {
          "title": {
           "text": "Target"
          }
         },
         "colorscale": [
          [
           0,
           "#440154"
          ],
          [
           0.1111111111111111,
           "#482878"
          ],
          [
           0.2222222222222222,
           "#3e4989"
          ],
          [
           0.3333333333333333,
           "#31688e"
          ],
          [
           0.4444444444444444,
           "#26828e"
          ],
          [
           0.5555555555555556,
           "#1f9e89"
          ],
          [
           0.6666666666666666,
           "#35b779"
          ],
          [
           0.7777777777777778,
           "#6ece58"
          ],
          [
           0.8888888888888888,
           "#b5de2b"
          ],
          [
           1,
           "#fde725"
          ]
         ]
        },
        "legend": {
         "tracegroupgap": 0
        },
        "margin": {
         "t": 60
        },
        "template": {
         "data": {
          "bar": [
           {
            "error_x": {
             "color": "rgb(36,36,36)"
            },
            "error_y": {
             "color": "rgb(36,36,36)"
            },
            "marker": {
             "line": {
              "color": "white",
              "width": 0.5
             },
             "pattern": {
              "fillmode": "overlay",
              "size": 10,
              "solidity": 0.2
             }
            },
            "type": "bar"
           }
          ],
          "barpolar": [
           {
            "marker": {
             "line": {
              "color": "white",
              "width": 0.5
             },
             "pattern": {
              "fillmode": "overlay",
              "size": 10,
              "solidity": 0.2
             }
            },
            "type": "barpolar"
           }
          ],
          "carpet": [
           {
            "aaxis": {
             "endlinecolor": "rgb(36,36,36)",
             "gridcolor": "white",
             "linecolor": "white",
             "minorgridcolor": "white",
             "startlinecolor": "rgb(36,36,36)"
            },
            "baxis": {
             "endlinecolor": "rgb(36,36,36)",
             "gridcolor": "white",
             "linecolor": "white",
             "minorgridcolor": "white",
             "startlinecolor": "rgb(36,36,36)"
            },
            "type": "carpet"
           }
          ],
          "choropleth": [
           {
            "colorbar": {
             "outlinewidth": 1,
             "tickcolor": "rgb(36,36,36)",
             "ticks": "outside"
            },
            "type": "choropleth"
           }
          ],
          "contour": [
           {
            "colorbar": {
             "outlinewidth": 1,
             "tickcolor": "rgb(36,36,36)",
             "ticks": "outside"
            },
            "colorscale": [
             [
              0,
              "#440154"
             ],
             [
              0.1111111111111111,
              "#482878"
             ],
             [
              0.2222222222222222,
              "#3e4989"
             ],
             [
              0.3333333333333333,
              "#31688e"
             ],
             [
              0.4444444444444444,
              "#26828e"
             ],
             [
              0.5555555555555556,
              "#1f9e89"
             ],
             [
              0.6666666666666666,
              "#35b779"
             ],
             [
              0.7777777777777778,
              "#6ece58"
             ],
             [
              0.8888888888888888,
              "#b5de2b"
             ],
             [
              1,
              "#fde725"
             ]
            ],
            "type": "contour"
           }
          ],
          "contourcarpet": [
           {
            "colorbar": {
             "outlinewidth": 1,
             "tickcolor": "rgb(36,36,36)",
             "ticks": "outside"
            },
            "type": "contourcarpet"
           }
          ],
          "heatmap": [
           {
            "colorbar": {
             "outlinewidth": 1,
             "tickcolor": "rgb(36,36,36)",
             "ticks": "outside"
            },
            "colorscale": [
             [
              0,
              "#440154"
             ],
             [
              0.1111111111111111,
              "#482878"
             ],
             [
              0.2222222222222222,
              "#3e4989"
             ],
             [
              0.3333333333333333,
              "#31688e"
             ],
             [
              0.4444444444444444,
              "#26828e"
             ],
             [
              0.5555555555555556,
              "#1f9e89"
             ],
             [
              0.6666666666666666,
              "#35b779"
             ],
             [
              0.7777777777777778,
              "#6ece58"
             ],
             [
              0.8888888888888888,
              "#b5de2b"
             ],
             [
              1,
              "#fde725"
             ]
            ],
            "type": "heatmap"
           }
          ],
          "heatmapgl": [
           {
            "colorbar": {
             "outlinewidth": 1,
             "tickcolor": "rgb(36,36,36)",
             "ticks": "outside"
            },
            "colorscale": [
             [
              0,
              "#440154"
             ],
             [
              0.1111111111111111,
              "#482878"
             ],
             [
              0.2222222222222222,
              "#3e4989"
             ],
             [
              0.3333333333333333,
              "#31688e"
             ],
             [
              0.4444444444444444,
              "#26828e"
             ],
             [
              0.5555555555555556,
              "#1f9e89"
             ],
             [
              0.6666666666666666,
              "#35b779"
             ],
             [
              0.7777777777777778,
              "#6ece58"
             ],
             [
              0.8888888888888888,
              "#b5de2b"
             ],
             [
              1,
              "#fde725"
             ]
            ],
            "type": "heatmapgl"
           }
          ],
          "histogram": [
           {
            "marker": {
             "line": {
              "color": "white",
              "width": 0.6
             }
            },
            "type": "histogram"
           }
          ],
          "histogram2d": [
           {
            "colorbar": {
             "outlinewidth": 1,
             "tickcolor": "rgb(36,36,36)",
             "ticks": "outside"
            },
            "colorscale": [
             [
              0,
              "#440154"
             ],
             [
              0.1111111111111111,
              "#482878"
             ],
             [
              0.2222222222222222,
              "#3e4989"
             ],
             [
              0.3333333333333333,
              "#31688e"
             ],
             [
              0.4444444444444444,
              "#26828e"
             ],
             [
              0.5555555555555556,
              "#1f9e89"
             ],
             [
              0.6666666666666666,
              "#35b779"
             ],
             [
              0.7777777777777778,
              "#6ece58"
             ],
             [
              0.8888888888888888,
              "#b5de2b"
             ],
             [
              1,
              "#fde725"
             ]
            ],
            "type": "histogram2d"
           }
          ],
          "histogram2dcontour": [
           {
            "colorbar": {
             "outlinewidth": 1,
             "tickcolor": "rgb(36,36,36)",
             "ticks": "outside"
            },
            "colorscale": [
             [
              0,
              "#440154"
             ],
             [
              0.1111111111111111,
              "#482878"
             ],
             [
              0.2222222222222222,
              "#3e4989"
             ],
             [
              0.3333333333333333,
              "#31688e"
             ],
             [
              0.4444444444444444,
              "#26828e"
             ],
             [
              0.5555555555555556,
              "#1f9e89"
             ],
             [
              0.6666666666666666,
              "#35b779"
             ],
             [
              0.7777777777777778,
              "#6ece58"
             ],
             [
              0.8888888888888888,
              "#b5de2b"
             ],
             [
              1,
              "#fde725"
             ]
            ],
            "type": "histogram2dcontour"
           }
          ],
          "mesh3d": [
           {
            "colorbar": {
             "outlinewidth": 1,
             "tickcolor": "rgb(36,36,36)",
             "ticks": "outside"
            },
            "type": "mesh3d"
           }
          ],
          "parcoords": [
           {
            "line": {
             "colorbar": {
              "outlinewidth": 1,
              "tickcolor": "rgb(36,36,36)",
              "ticks": "outside"
             }
            },
            "type": "parcoords"
           }
          ],
          "pie": [
           {
            "automargin": true,
            "type": "pie"
           }
          ],
          "scatter": [
           {
            "fillpattern": {
             "fillmode": "overlay",
             "size": 10,
             "solidity": 0.2
            },
            "type": "scatter"
           }
          ],
          "scatter3d": [
           {
            "line": {
             "colorbar": {
              "outlinewidth": 1,
              "tickcolor": "rgb(36,36,36)",
              "ticks": "outside"
             }
            },
            "marker": {
             "colorbar": {
              "outlinewidth": 1,
              "tickcolor": "rgb(36,36,36)",
              "ticks": "outside"
             }
            },
            "type": "scatter3d"
           }
          ],
          "scattercarpet": [
           {
            "marker": {
             "colorbar": {
              "outlinewidth": 1,
              "tickcolor": "rgb(36,36,36)",
              "ticks": "outside"
             }
            },
            "type": "scattercarpet"
           }
          ],
          "scattergeo": [
           {
            "marker": {
             "colorbar": {
              "outlinewidth": 1,
              "tickcolor": "rgb(36,36,36)",
              "ticks": "outside"
             }
            },
            "type": "scattergeo"
           }
          ],
          "scattergl": [
           {
            "marker": {
             "colorbar": {
              "outlinewidth": 1,
              "tickcolor": "rgb(36,36,36)",
              "ticks": "outside"
             }
            },
            "type": "scattergl"
           }
          ],
          "scattermapbox": [
           {
            "marker": {
             "colorbar": {
              "outlinewidth": 1,
              "tickcolor": "rgb(36,36,36)",
              "ticks": "outside"
             }
            },
            "type": "scattermapbox"
           }
          ],
          "scatterpolar": [
           {
            "marker": {
             "colorbar": {
              "outlinewidth": 1,
              "tickcolor": "rgb(36,36,36)",
              "ticks": "outside"
             }
            },
            "type": "scatterpolar"
           }
          ],
          "scatterpolargl": [
           {
            "marker": {
             "colorbar": {
              "outlinewidth": 1,
              "tickcolor": "rgb(36,36,36)",
              "ticks": "outside"
             }
            },
            "type": "scatterpolargl"
           }
          ],
          "scatterternary": [
           {
            "marker": {
             "colorbar": {
              "outlinewidth": 1,
              "tickcolor": "rgb(36,36,36)",
              "ticks": "outside"
             }
            },
            "type": "scatterternary"
           }
          ],
          "surface": [
           {
            "colorbar": {
             "outlinewidth": 1,
             "tickcolor": "rgb(36,36,36)",
             "ticks": "outside"
            },
            "colorscale": [
             [
              0,
              "#440154"
             ],
             [
              0.1111111111111111,
              "#482878"
             ],
             [
              0.2222222222222222,
              "#3e4989"
             ],
             [
              0.3333333333333333,
              "#31688e"
             ],
             [
              0.4444444444444444,
              "#26828e"
             ],
             [
              0.5555555555555556,
              "#1f9e89"
             ],
             [
              0.6666666666666666,
              "#35b779"
             ],
             [
              0.7777777777777778,
              "#6ece58"
             ],
             [
              0.8888888888888888,
              "#b5de2b"
             ],
             [
              1,
              "#fde725"
             ]
            ],
            "type": "surface"
           }
          ],
          "table": [
           {
            "cells": {
             "fill": {
              "color": "rgb(237,237,237)"
             },
             "line": {
              "color": "white"
             }
            },
            "header": {
             "fill": {
              "color": "rgb(217,217,217)"
             },
             "line": {
              "color": "white"
             }
            },
            "type": "table"
           }
          ]
         },
         "layout": {
          "annotationdefaults": {
           "arrowhead": 0,
           "arrowwidth": 1
          },
          "autotypenumbers": "strict",
          "coloraxis": {
           "colorbar": {
            "outlinewidth": 1,
            "tickcolor": "rgb(36,36,36)",
            "ticks": "outside"
           }
          },
          "colorscale": {
           "diverging": [
            [
             0,
             "rgb(103,0,31)"
            ],
            [
             0.1,
             "rgb(178,24,43)"
            ],
            [
             0.2,
             "rgb(214,96,77)"
            ],
            [
             0.3,
             "rgb(244,165,130)"
            ],
            [
             0.4,
             "rgb(253,219,199)"
            ],
            [
             0.5,
             "rgb(247,247,247)"
            ],
            [
             0.6,
             "rgb(209,229,240)"
            ],
            [
             0.7,
             "rgb(146,197,222)"
            ],
            [
             0.8,
             "rgb(67,147,195)"
            ],
            [
             0.9,
             "rgb(33,102,172)"
            ],
            [
             1,
             "rgb(5,48,97)"
            ]
           ],
           "sequential": [
            [
             0,
             "#440154"
            ],
            [
             0.1111111111111111,
             "#482878"
            ],
            [
             0.2222222222222222,
             "#3e4989"
            ],
            [
             0.3333333333333333,
             "#31688e"
            ],
            [
             0.4444444444444444,
             "#26828e"
            ],
            [
             0.5555555555555556,
             "#1f9e89"
            ],
            [
             0.6666666666666666,
             "#35b779"
            ],
            [
             0.7777777777777778,
             "#6ece58"
            ],
            [
             0.8888888888888888,
             "#b5de2b"
            ],
            [
             1,
             "#fde725"
            ]
           ],
           "sequentialminus": [
            [
             0,
             "#440154"
            ],
            [
             0.1111111111111111,
             "#482878"
            ],
            [
             0.2222222222222222,
             "#3e4989"
            ],
            [
             0.3333333333333333,
             "#31688e"
            ],
            [
             0.4444444444444444,
             "#26828e"
            ],
            [
             0.5555555555555556,
             "#1f9e89"
            ],
            [
             0.6666666666666666,
             "#35b779"
            ],
            [
             0.7777777777777778,
             "#6ece58"
            ],
            [
             0.8888888888888888,
             "#b5de2b"
            ],
            [
             1,
             "#fde725"
            ]
           ]
          },
          "colorway": [
           "#1F77B4",
           "#FF7F0E",
           "#2CA02C",
           "#D62728",
           "#9467BD",
           "#8C564B",
           "#E377C2",
           "#7F7F7F",
           "#BCBD22",
           "#17BECF"
          ],
          "font": {
           "color": "rgb(36,36,36)"
          },
          "geo": {
           "bgcolor": "white",
           "lakecolor": "white",
           "landcolor": "white",
           "showlakes": true,
           "showland": true,
           "subunitcolor": "white"
          },
          "hoverlabel": {
           "align": "left"
          },
          "hovermode": "closest",
          "mapbox": {
           "style": "light"
          },
          "paper_bgcolor": "white",
          "plot_bgcolor": "white",
          "polar": {
           "angularaxis": {
            "gridcolor": "rgb(232,232,232)",
            "linecolor": "rgb(36,36,36)",
            "showgrid": false,
            "showline": true,
            "ticks": "outside"
           },
           "bgcolor": "white",
           "radialaxis": {
            "gridcolor": "rgb(232,232,232)",
            "linecolor": "rgb(36,36,36)",
            "showgrid": false,
            "showline": true,
            "ticks": "outside"
           }
          },
          "scene": {
           "xaxis": {
            "backgroundcolor": "white",
            "gridcolor": "rgb(232,232,232)",
            "gridwidth": 2,
            "linecolor": "rgb(36,36,36)",
            "showbackground": true,
            "showgrid": false,
            "showline": true,
            "ticks": "outside",
            "zeroline": false,
            "zerolinecolor": "rgb(36,36,36)"
           },
           "yaxis": {
            "backgroundcolor": "white",
            "gridcolor": "rgb(232,232,232)",
            "gridwidth": 2,
            "linecolor": "rgb(36,36,36)",
            "showbackground": true,
            "showgrid": false,
            "showline": true,
            "ticks": "outside",
            "zeroline": false,
            "zerolinecolor": "rgb(36,36,36)"
           },
           "zaxis": {
            "backgroundcolor": "white",
            "gridcolor": "rgb(232,232,232)",
            "gridwidth": 2,
            "linecolor": "rgb(36,36,36)",
            "showbackground": true,
            "showgrid": false,
            "showline": true,
            "ticks": "outside",
            "zeroline": false,
            "zerolinecolor": "rgb(36,36,36)"
           }
          },
          "shapedefaults": {
           "fillcolor": "black",
           "line": {
            "width": 0
           },
           "opacity": 0.3
          },
          "ternary": {
           "aaxis": {
            "gridcolor": "rgb(232,232,232)",
            "linecolor": "rgb(36,36,36)",
            "showgrid": false,
            "showline": true,
            "ticks": "outside"
           },
           "baxis": {
            "gridcolor": "rgb(232,232,232)",
            "linecolor": "rgb(36,36,36)",
            "showgrid": false,
            "showline": true,
            "ticks": "outside"
           },
           "bgcolor": "white",
           "caxis": {
            "gridcolor": "rgb(232,232,232)",
            "linecolor": "rgb(36,36,36)",
            "showgrid": false,
            "showline": true,
            "ticks": "outside"
           }
          },
          "title": {
           "x": 0.05
          },
          "xaxis": {
           "automargin": true,
           "gridcolor": "rgb(232,232,232)",
           "linecolor": "rgb(36,36,36)",
           "showgrid": false,
           "showline": true,
           "ticks": "outside",
           "title": {
            "standoff": 15
           },
           "zeroline": false,
           "zerolinecolor": "rgb(36,36,36)"
          },
          "yaxis": {
           "automargin": true,
           "gridcolor": "rgb(232,232,232)",
           "linecolor": "rgb(36,36,36)",
           "showgrid": false,
           "showline": true,
           "ticks": "outside",
           "title": {
            "standoff": 15
           },
           "zeroline": false,
           "zerolinecolor": "rgb(36,36,36)"
          }
         }
        },
        "title": {
         "font": {
          "size": 18
         },
         "text": "Top 2 PCs Scatterplot"
        },
        "xaxis": {
         "anchor": "y",
         "domain": [
          0,
          1
         ],
         "showgrid": false,
         "title": {
          "text": "PC1"
         },
         "zeroline": true,
         "zerolinecolor": "lightgray",
         "zerolinewidth": 3
        },
        "yaxis": {
         "anchor": "x",
         "domain": [
          0,
          1
         ],
         "showgrid": false,
         "title": {
          "text": "PC2"
         },
         "zeroline": true,
         "zerolinecolor": "lightgray",
         "zerolinewidth": 3
        }
       }
      },
      "text/html": [
       "<div>                            <div id=\"35b0343c-b5f4-426f-b3f0-4c2f95cb3664\" class=\"plotly-graph-div\" style=\"height:525px; width:100%;\"></div>            <script type=\"text/javascript\">                require([\"plotly\"], function(Plotly) {                    window.PLOTLYENV=window.PLOTLYENV || {};                                    if (document.getElementById(\"35b0343c-b5f4-426f-b3f0-4c2f95cb3664\")) {                    Plotly.newPlot(                        \"35b0343c-b5f4-426f-b3f0-4c2f95cb3664\",                        [{\"hovertemplate\":\"PC1=%{x}<br>PC2=%{y}<br>Target=%{marker.color}<extra></extra>\",\"legendgroup\":\"\",\"marker\":{\"color\":[0,0,0,0,0,0,0,0,0,0,0,0,0,0,0,0,0,0,0,1,1,1,0,0,0,0,0,0,0,0,0,0,0,0,0,0,0,1,0,0,0,0,0,0,0,0,1,0,1,1,1,1,1,0,0,1,0,0,1,1,1,1,0,1,0,0,1,1,1,1,0,1,0,0,1,0,1,0,0,1,1,1,0,0,1,0,0,0,1,1,1,0,1,1,0,0,1,1,1,0,0,1,1,1,1,0,1,1,0,1,1,1,1,1,1,1,1,0,0,0,1,0,0,1,1,1,0,0,1,0,1,0,0,1,0,0,1,1,0,1,1,0,1,1,1,1,0,1,1,1,1,1,1,1,1,1,0,1,1,1,1,0,0,1,0,1,1,0,0,1,1,0,0,1,1,1,1,0,1,1,0,0,0,1,0,1,0,1,1,1,0,1,1,0,0,1,0,0,0,0,1,0,0,0,1,0,1,0,1,1,0,1,0,0,0,0,1,1,0,0,1,1,1,0,1,1,1,1,1,0,0,1,1,0,1,1,0,0,1,0,1,1,1,1,0,1,1,1,1,1,0,1,0,0,0,0,0,0,0,0,0,0,0,0,0,0,1,1,1,1,1,1,0,1,0,1,1,0,1,1,0,1,0,0,1,1,1,1,1,1,1,1,1,1,1,1,1,0,1,1,0,1,0,1,1,1,1,1,1,1,1,1,1,1,1,1,1,0,1,1,1,0,1,0,1,1,1,1,0,0,0,1,1,1,1,0,1,0,1,0,1,1,1,0,1,1,1,1,1,1,1,0,0,0,1,1,1,1,1,1,1,1,1,1,1,0,0,1,0,0,0,1,0,0,1,1,1,1,1,0,1,1,1,1,1,0,1,1,1,0,1,1,0,0,1,1,1,1,1,1,0,1,1,1,1,1,1,1,0,1,1,1,1,1,0,1,1,0,1,1,1,1,1,1,1,1,1,1,1,1,0,1,0,0,1,0,1,1,1,1,1,0,1,1,0,1,0,1,1,0,1,0,1,1,1,1,1,1,1,1,0,0,1,1,1,1,1,1,0,1,1,1,1,1,1,1,1,1,1,0,1,1,1,1,1,1,1,0,1,0,1,1,0,1,1,1,1,1,0,0,1,0,1,0,1,1,1,1,1,0,1,1,0,1,0,1,0,0,1,1,1,0,1,1,1,1,1,1,1,1,1,1,1,0,1,0,0,1,1,1,1,1,1,1,1,1,1,1,1,1,1,1,1,1,1,1,1,1,1,1,1,1,0,0,0,0,0,0,1],\"coloraxis\":\"coloraxis\",\"symbol\":\"circle\"},\"mode\":\"markers\",\"name\":\"\",\"orientation\":\"v\",\"showlegend\":false,\"x\":[0.034772775259527135,-0.15453051985192634,-0.1198719207953302,0.24001111995723676,-0.06016211311780767,0.13404610560507965,-0.08170682186858436,0.03894285338859101,0.0715991223625985,0.12107190746346239,-0.0891550696956208,-0.033304680854302944,-0.19289528193051575,-0.12943759488872614,0.06377639988819853,0.010142088759032634,-0.025929348194687812,0.016455858773763293,-0.2154060110824818,0.04039937677631604,0.052233033401298756,0.06285926972706388,0.033888043096943196,-0.26815075152477036,-0.1253025401052243,-0.015916595889412882,0.02319931097818992,-0.09016313325728857,-0.043629031978042875,-0.03243862249369595,-0.09717656883724789,0.10061925794730663,-0.04371045262185684,-0.13949406148433524,0.005504040972731318,0.018846345557170477,0.015854381687840906,-0.07390395333669542,-0.11437544231483403,0.04036582777204275,-0.05811209697074451,0.10916656410330586,-0.11200331142564585,0.018285226622293926,0.020596895149419262,-0.006215775788484204,0.05554143274558633,0.10202780912451366,0.09661576823305035,-0.05669753092171488,-0.034621530954643216,-0.005222628582902313,-0.006793239954941367,-0.018286520766668098,-0.041414192307983974,0.019902723599067744,-0.1312946366019141,-0.02100410231136681,-0.028501055929052152,0.1744508564080952,0.0940803560538036,0.09579478176057192,0.012327447889824487,0.02193138679722854,0.015034403756561258,-0.016353200085880305,0.06630478874370314,-0.0004036612883586355,0.04284278885465773,0.017849088009911668,-0.18858571938382554,0.09230864334996379,-0.09118208231836565,0.03420712087865361,0.01144607991485518,-0.06997958070250293,0.11547297798279726,-0.03714427211595789,-0.029107994028571203,0.02414342193812113,0.06264062252343669,0.07763515318861253,-0.22479133626411732,-0.10556377384568291,0.07555902392587281,-0.06818030951166718,-0.0459969462770034,-0.1316688370119999,-0.010948118365605556,0.023037074946803963,-0.08197937099335353,-0.10112277780231967,-0.05556133586061124,0.007643080539847586,-0.029706495086603005,-0.1409623417387505,-0.026465434990914433,0.04345578330342359,0.08945484570914385,-0.006870108909083702,-0.07570219594701967,0.18002700237091337,-0.024233967945292315,0.052931946566658096,0.015075379452984093,0.1413905474642069,0.08602877348596244,0.011880234309724926,-0.07719003572680018,0.07076787664764107,0.08514364515100108,-0.05516969908328777,-0.07415264353413971,0.005621351367780025,0.14183934671495488,0.019146573048851097,-0.01477032092420051,0.07763588667535806,0.013756223723185938,-0.05999916432420572,0.12471141206246698,-0.04743066826377431,0.00017311146749291077,0.06919164934408917,-0.03560391074605581,-0.0054515428040387845,-0.019110893266002734,-0.13484211511729458,-0.013662149421564159,-0.13242936147408446,0.10807571106732224,-0.023349499001739923,-0.04197186986861435,-0.012331992934502828,-0.08323049874744187,-0.004936363766355761,0.010046052783630742,0.028656666626522206,0.005666859194829375,0.030186439716403606,0.11427840434899077,-0.039555929328875944,0.05789973388332098,0.04955551122070859,0.022327623915742573,0.10271009484852556,0.090404383740477,-0.03889373213080116,0.00968904743045621,-0.043399374040400715,-0.011582221911434813,0.12091146520027471,-0.09724712568335617,0.07318058508399,0.0897384427776486,0.016583647685438307,-0.07743127427273833,-0.0962287016393543,0.06845403711803867,0.06675720507986738,0.032157495475635664,-0.14663660835855963,-0.13772438840648923,0.00891452379284342,-0.22905509265834478,-0.053825687344467,0.11671336459941893,-0.09954774218975866,-0.13317370260612216,-0.020842884537856265,0.056328904735105156,-0.022022661878183854,0.06091197751999572,0.0017584962518447653,0.056546663401657926,0.08343910670943823,0.02824627310608719,-0.02524238904815661,-0.09643632063117896,0.028255998369236406,-0.29909109799829203,-0.17516258186882383,-0.054976007061971206,-0.01237489392896675,-0.03579820146078055,0.12079430344927036,-0.07354468575230028,0.01880085600955683,0.055319758946937164,0.005610399026724536,0.09607192568840002,-0.0871374864810562,-0.02941619483093462,0.013347828277861138,-0.05457597450288989,-0.0012547677412214154,0.03776340685182244,-0.14844830739236384,-0.14460871798398192,0.036421629883022826,-0.0005776428413621593,-0.05334993736073263,-0.17462028826212472,0.07658462039367225,0.031471950896639844,0.033404253435767264,0.07401261360862327,-0.0887780645571647,0.020729420137848873,0.0059184370345784915,-0.18942921433570173,0.014509546401483112,-0.038643711512468266,-0.20805792913996504,0.01933295056712627,0.05312872524739786,0.020316302949365043,-0.011831813248559017,-0.1690572702966447,-0.3414378133562979,0.05413632406879269,0.06692028421510639,0.07551200871412675,0.012818720236831452,0.00713013394955665,0.012968847042427737,0.07718454803638322,-0.005341631232703692,-0.03367441038994206,0.06719114611010046,0.0030652017665045365,-0.09948333449230859,-0.13608615166247104,-0.21662777400200436,0.07297309731196291,-0.03144197940316272,-0.3160483595252853,-0.16609951266598122,-0.1204170025703764,-0.2617821475054926,0.007347828515891972,0.015655515955671547,0.09409568257035647,-0.09746387146992211,-0.08414038530323263,0.057685786691332834,0.004731552830363333,0.05642361725573141,0.02159038870611701,0.06220962615561348,-0.20051017602810473,0.0020781595351260433,-0.06674222230270774,-0.02567980140894694,-0.12023074911346197,0.034391803419878075,-0.2289003249816311,0.07964569019858359,-0.04543520786069531,-0.05030710627270136,-0.15851863227374027,-0.10091998362458766,-0.12153765980650305,-0.06047087698111285,-0.06608932681596921,-0.4326951582370105,0.016882435407041572,-0.06767215401262627,0.057247984459815764,0.008746382430447933,-0.05088685960055742,0.07584270043235454,-0.18551948089750936,0.06969603403409091,-0.10821364464301436,-0.006561408597476066,0.06707264081479436,-0.10351183732366863,-0.03406869845814195,0.012157114849476073,-0.09193442696853817,-0.015569065967460447,-0.06409772769123462,-0.012825622498431591,-0.05356260055557819,-0.008786690872274768,-0.0325977113549381,0.0024784343391187446,-0.12069597944645825,-0.0045714982440493825,-0.05802941943713201,-0.014533591026520857,0.08342437042295141,0.03351601803235616,0.047189251337483605,0.03811617773064779,0.002749975424595561,-0.025259105403233915,-0.05927819636157975,-0.059181799018690924,-0.09945625860320348,-0.04675779965022104,-0.11775346850549347,0.03859354233250007,0.010072287588205846,-0.06496490872417833,0.02625433478007603,0.034491245657264386,-0.007983454759983303,0.008305228342661133,0.017003186500689937,-0.040631111046185935,0.03467273535245687,0.07836328713562415,0.11024073274275822,-0.002349697869707681,-0.0001652730973864018,-0.07882121270940008,0.013193320454358476,-0.06758443582456913,0.06552327115711154,-0.16052743033540504,0.10168954129473973,-0.06854448819687314,0.04357136435080223,0.04302504611902899,0.03276317377802396,-0.017271633271068336,-0.017915704822377487,-0.010508083663925812,0.001829082350126152,0.03236938928700474,0.06368263609896757,0.045694741405840775,-9.267186142423726e-05,-0.07136417105803848,0.04181568535590464,-0.12429903492018282,0.06474100517228328,-0.2867819766673669,0.011404055392313702,0.04764079745225998,0.08924382011920677,-0.09780773928910444,0.06700537560383472,0.08329707262207725,0.026575633133944437,0.016861931042121765,0.08493302825759222,0.06642786549974557,-0.016599139139732197,0.041526968934016355,-0.24660528867962728,-0.048444194406194394,-0.020221730723944772,-0.06145850847968741,0.003202207217086752,0.007406675485780585,-0.002033858869026868,0.04951167678457993,-0.040235568390306564,-0.03612278103066586,0.011161196401589652,-0.033046908883869686,0.007318349997231668,-0.16151076912702259,-0.20257661341388983,0.03841409090412116,-0.2825341759024446,-0.1837910546317091,-0.03159848467585136,-0.013148401638079033,-0.07320430236213836,-0.09497213506908353,0.009694377838470433,0.0015307720096736752,-0.05977553834153142,-0.10168580283295411,0.055114731115459475,0.19080581387771345,0.13292294317761025,0.026495746417397444,-0.09754135664987254,0.06041247235624561,0.02606828864290798,-0.06465480732662057,0.025404902669190228,-0.05740749850472195,-0.005898748193075397,-0.18432836648093176,0.09457245751337792,0.13089195600392653,-0.01677663152233141,-0.14077352624185438,0.04975194163285921,-0.0411046545300954,0.006104130878418955,-0.06025060100235899,0.04084352848405369,0.03833087393279772,0.06024270332933501,0.0877834151033917,-0.040594874301450985,0.03907823665530785,-0.008594990790372648,0.029096170372691466,-0.0028632545364833373,-0.06506360328814219,-0.0756563303705035,0.01336226770564446,0.07138133636060857,0.06311074459903256,-0.007788307002279728,-0.06669972059530904,-0.13157222802635635,0.025217576329764325,0.055918464692548894,-0.08799249801977824,0.0825801312375828,0.020421471238441163,0.016826324684821495,0.0505382804055255,0.04771921054747939,-0.030704813510301385,0.06560417735716254,-0.013707778172293754,0.07349445548717436,-0.007427705171378005,-0.007000087310222577,-0.026975145977332537,-0.028537539317415976,0.05460807705714004,-0.052377401878505356,-0.11386140143988757,-0.004866965592470061,0.04449460560302074,0.015664548555018552,0.0037278599766784183,-0.03507195802262653,-0.04294848796918742,0.037524179108706215,-0.11603153232001169,-0.008616130588741902,-0.05058260416931007,-0.043889427984769525,-0.05967434477948901,-0.12446845564755055,0.011073637469685893,-0.043129912955365494,-0.17894643679135988,-0.06637304536180201,-0.12571562007254133,-0.07927094283325514,0.030687569179681382,0.01665880572468974,-0.12569818369479346,-0.046769957498109624,-0.054135901571922614,-0.07260616780449561,-0.08727398627269173,-0.12052127353896189,-0.41870585953409944,-0.125644827098177,0.04407103885906768,-0.023538526444261913,0.0042123789142799566,-0.012844263271613433,0.07004333091002773,-0.11612507718187738,0.07636425902187154,0.028343964083193528,-0.11275648662264358,-0.02615562540276004,-0.09521707242909334,0.07835430241976564,0.03701982445272073,-0.054670792645766686,-0.038117597125180196,0.09321426069904706,-0.03450062323078717,0.021854071589272522,-0.049677259844496606,0.07050957713709977,-0.006972422349305683,0.07647683050165427,-0.007764204521769044,-0.0194082034966432,-0.06479396391147196,0.07663514644000648,-0.04913058284218442,-0.008922110889701122,-0.06163102968084059,-0.09054064444977193,0.0034034235289542416,-0.0261169313757184,-0.05260224520559964,0.06333760722324988,0.02575069068486552,-0.08086814273102641,-0.10124122143141721,-0.031234102326222507,0.04581045325971878,0.08295084985909086,-0.267110901902503,0.1972365539554402,0.19931597836890344,0.03818297066933283,0.09917264542851782,-0.02475819740797231,0.015282505548158026,0.016056250554286753,-0.016965360171712192,0.03788067000686897,0.020241936457490867,-0.0460403669313868,0.04356740519966277,-0.0687106004718585,-0.10369245298916213,0.03275003064004786,0.0705257156604973,0.169908382051226,-0.21600128420772938,-0.004328994083197443,0.02408277686279285,0.08082955360131024,0.15753069588820867,0.07939050331953308,0.07688615128967136,-0.003307038698480143,0.10056861785514025,0.027875178544233915,0.06622189542256521,0.02008389896600868,-0.15239429967338217,0.03324956746733329,-0.14919203929076424,-0.01863354004890126,0.03035788007439583,0.02365426043453509,0.019227348551496413,0.04728624611651099,-0.030805620384227947,-0.1198762340028218,-0.12217530010411973,-0.020002712091901464,-0.05378804472557756,0.04856529339098059,0.06735707426880261,-0.0007941504360498686,-0.020005373365287422,-0.016428116937775968,-0.02220452053614487,-0.10734583881778187,-0.04787446093553452,-0.09441697202764367,-0.0747800834815189,0.01648967184486328,-0.032204702391422466,-0.09295118068054387,-0.031770309406700815,-0.10262361850094016,-0.1052283502867768,-0.04443541075643505,-0.15327833531516902,-0.19017403214551828,-0.2282263292109434,-0.1706891418173295,-0.11365498856959214,-0.05666655989282507],\"xaxis\":\"x\",\"y\":[0.3984913373476043,0.48966920466143365,0.43718162584700876,0.06065436122393976,0.4513515622720188,0.08206006833067768,0.36741371893447994,0.16726180321544262,0.09191012207838281,0.07511970227693408,0.27278642333834924,0.31531165062205363,0.5574609948553676,0.3102647433216927,0.17881199089871985,0.15085185457469827,0.2297161138021339,0.24230962971263398,0.4643820102156184,0.19671934515011497,0.1248398095302303,0.04677773144307789,0.3088750619458469,0.48392474445189804,0.3182739795890203,0.36919296453697376,0.21123239526088783,0.40092724618338504,0.22327815520367636,0.34825464634157366,0.31977060751093017,0.09976093938828262,0.23000951261866745,0.3931175643442341,0.2649554619613332,0.3034858808638002,0.17982826484165124,0.1595987382440896,0.2550774235231356,0.1765376195196924,0.18726223558706975,0.0006076549384776486,0.5197379100450797,0.1561695761505994,0.1382541091198471,0.3916378317177763,-0.028150620373193047,0.12236903556777637,0.08885936839578096,0.18817235355420905,0.10831400972728478,0.2166748198989945,0.13120689671762117,0.29586388335522207,0.24313142386992143,0.08824851332503462,0.4310565617477782,0.18879556110978443,0.16699213421671782,-0.0333528203282977,0.0064761793065239,-0.0827661064930716,0.2541134405665564,0.09231053073335091,0.12371464197894465,0.1607156035345405,-0.018755659890109543,0.10391517454079156,-0.11149236961478293,0.12442731799891019,0.4363476259670519,0.1058900058073578,0.33167154910170604,0.1949312035936614,0.1430148268867551,0.33331726582803767,0.11925955113834956,0.4215184368665337,0.4058603617296581,0.13206570491653905,0.030884384699702623,0.1643519084848785,0.6313090632247795,0.37817595943994725,0.10853452504878042,0.37653721003206814,0.23433180645600288,0.3847684435951692,0.15119715023089683,0.22630093386759118,0.21341074485016462,0.2541468414409243,0.2525613432520752,0.15735337051113674,0.27621778824339416,0.4330698001692395,0.13483393832101895,-0.0024319070802373147,0.10804530957329093,0.22198185344634527,0.16718199149969767,-0.16161851660238338,0.12212347210123713,0.019724028498307594,0.03473825248494347,0.07373881945993149,0.0838413630303494,0.12385775246856838,0.5355589605573084,0.07700671580623662,0.03144777767826591,0.18595200581682175,0.256215954298668,0.04086957023892804,-0.047553940941218495,0.10463446949656703,0.0767084259276082,0.21190370755496918,0.2295505200995383,0.3329186644968053,0.10626191369994792,0.38019413066700514,0.4591147139552525,0.19245909111010054,0.21896931334201894,0.18438730451528834,0.1606241506076643,0.43111204312790774,0.2773678025898544,0.3554319143979074,0.12101407199888983,0.22515406055401102,0.2602382119742943,0.28774231507246417,0.344146556006706,0.12688285580983052,0.10292012748443115,0.09539848441826627,0.27838574623185547,0.1327357818851501,0.003033242225381672,0.28520603002214706,0.07527617545842236,0.16929607931255167,0.09913143228212114,0.11565942815822954,0.12408334886847758,0.2914614690953206,0.23865761826927856,0.20625398577382373,0.11005188751845035,-0.06576527806416829,-0.08232788208804198,0.08531507857986892,0.1689166192638496,0.13029242149794726,0.34496334384213934,0.34832968088035865,0.12287169453262019,0.10770987197257377,0.06327627131536698,0.5167642346707014,0.4090095286509497,0.11790657105587139,0.591130103584423,0.22684339752253066,0.07289549200679395,0.3595045898709193,0.3452350937582353,0.22400154524338678,0.14307875161657008,0.19644359015908192,0.20919784504694486,0.12338973951338071,0.049014903641815835,-0.04118948531704923,0.09548286691881314,0.3080587610191856,0.16750638564433845,0.1699570502341646,0.6359582661668305,0.44700811148035485,0.27099144231172134,0.1470474793715909,0.22141097866344706,0.034333557259047576,0.35811313881121487,0.10982570939299702,0.06590717801480724,0.157676488380599,0.21677889340707943,0.20003633713662755,0.03338438263341553,0.12267460792558989,0.2458831809233986,0.17672791414022815,0.1835573112501364,0.4048248452941634,0.4457322892161,0.19471600064105576,0.136209612244569,0.3664079838949443,0.5140836211185841,0.12058562450848692,0.1333129259944249,0.2607848633344295,-0.005505949388697271,0.3278604431505447,0.12542683825517692,0.28382234706705123,0.5318267106116074,0.10852505564177178,0.6295003365018101,0.4067575379490407,0.22421524646744923,0.19721765304059274,0.14800752268417425,0.06552740149029271,0.4753236109160182,0.44665333094157744,0.1843502182711014,0.16157903289164074,0.014654890454768164,0.23783032649867836,0.18434486023685695,0.2345271227281838,0.021801730300623243,0.2790101834401916,0.154190169971202,0.13991808077235457,0.28172103361352296,0.07986106862524812,0.03784787163790464,0.4163081415628427,0.05209970888681568,0.20422940736406445,0.5739057284081184,0.499014952532685,0.19153310936762113,0.2995770713870445,0.19354146161704863,0.1375279482708901,0.08873977685020852,0.2020172571280623,0.39901100427837466,0.026156711974849485,0.16891542724026523,0.19936382633771838,0.0168450204608855,0.0886797600540042,0.43066392798717545,0.1046036496207095,0.46104404488465794,0.3159785991591552,0.4169455741527086,0.19780840657607077,0.44896709300516946,0.22419074716494197,0.3403075325750689,0.17637115051958707,0.3747261045151764,0.31361271556076725,0.4196598676367884,0.2587129995404191,0.312595165332572,0.4733711142809783,0.09795640203596416,0.19448917711575842,0.1346589902376508,0.056207733587288415,0.23531837603213038,0.09313186808945129,0.5458157294642388,0.04748085652922487,0.32338681825025395,0.098258155991045,0.08050615732702351,0.3841820495599199,0.188509366824164,0.19922289052378242,0.3623832706628312,0.21475878516074204,0.4135132121399359,0.2690311115876416,0.21575564943815706,0.1318643691613446,0.18374930472487028,0.20231756514335655,0.2697904749513833,0.10576820298249333,0.34726080934365183,0.252517715145898,0.15020535827014797,0.1322012574918731,0.15241077965902675,0.19315644084601888,0.11757024329419483,0.12726047983173405,0.2542497065242276,0.04364111572422262,0.4141996885862599,0.16645407913409044,0.4021348174494339,0.017371236903528393,0.11746632518004908,0.11794132530617829,0.1568275733017342,0.026036563931249524,0.21133675509510855,0.18137773734226267,0.10188127922564473,0.2525139596015104,0.18850520028263967,0.12078306300768886,-0.09100074251453716,0.13115536165929545,0.14653427588000872,0.35572288254700196,0.0522106434434538,0.18957254906373167,0.06931648437110716,0.45571650277451187,0.12990531632669025,0.38439101494657646,0.1339528988158012,0.1082456498503468,0.2070598029632728,0.13481899662375446,0.24102334749623447,0.20955258275258604,0.3191675457434255,0.14754078798169387,0.03948243418062193,0.0960274096363004,0.1319383987775523,0.28815692350755373,0.1400030703852789,0.4575856733798825,0.018588581301149303,0.529286027770195,0.23394379097550974,0.03193316969029846,0.06364041542220616,0.4253461308603739,0.07797532245224695,0.09992762893868018,0.12471133450533872,0.26467730884570506,0.08626081687247061,0.10453751388560349,0.14007412372477274,0.2312042000260062,0.6444235536749642,0.22895576891228728,0.17585118554905907,0.19819421408758314,0.1651998142302078,0.1881844984736829,0.06888671789970165,-0.013896105895989023,0.16069935903684354,0.15547007715323022,0.14696232730237813,0.28431894413155123,0.18517812393184319,0.4704455980535204,0.46951024723907997,0.12515254199741083,0.5488390204448771,0.49817736759070697,0.29216427141955986,0.28624710963838923,0.4496559205414444,0.477713084763028,0.2000702230235451,0.2737622269153542,0.09815363939842696,0.16505720049978564,0.21516016362023055,0.047568620658873025,0.046770998058773515,0.11057419905645566,0.2146210460427307,0.11263196231114461,0.19490088691156407,0.23239408523500885,0.16741787287845114,0.23898515879582707,0.16338071576577892,0.47459871123757574,0.052175058255515064,-0.05690801562918606,0.2555902525812324,0.4253314752520034,0.08753367082728017,0.21928111164856615,0.15766747840849493,0.19936187854589718,0.10242546290837783,0.09874496675721603,0.2704078489258535,0.1354919131227968,0.21815838912528993,0.12979052772497304,0.16106020812440372,0.08641015391499429,0.27261886646129385,0.20769500702524596,0.3550257927167643,0.15810592596873724,0.0790094051644799,0.04151003192689148,-0.0001634032202162181,0.2494490041590469,0.21532835140725914,0.11571493779262185,-0.017182657865798662,0.33425836613224136,0.1679611103308627,0.0434441364432145,0.09240199104408138,0.26451329451127614,0.09426733664246977,0.2032662554559822,0.019493858888448158,0.02672191315644046,0.07439954107168276,0.08089620500840645,0.09173256225122436,0.16875958137086597,0.287848627148524,0.10595510474059569,0.3907446674523087,0.39743208418441817,0.2388158435473935,0.16735011878205439,0.14481684834324296,0.2189278240219041,0.1929339722513233,0.2421871022875954,0.13741535142198055,0.3803284023278731,0.20165033367695281,0.08644539025292644,0.3497105802260337,0.11540101326074258,0.30278381208392957,0.21594284395508592,0.23038235236501292,0.46836380135233313,0.20070173292000082,0.3537496600702939,0.10132146816917734,0.18909832481273126,0.15161213092648243,0.13514430130596658,0.05573055598846739,0.1254016704204025,0.14307066825702025,0.007171178073984245,0.33306127288872334,0.7770457993281114,0.2148094210910095,0.10994332710042877,0.20934144627197415,0.22529382329789818,0.19392880983239846,0.02489382759362226,0.43246632467530344,0.0904512217657886,0.03371821589353927,0.12343446207363996,0.2718589517165793,0.0799312644419601,0.06475480196367692,0.14851251233273838,0.25632084427967006,0.23130313735092137,0.05501364055691377,0.31142377956183115,0.11207870884720467,0.207715824750336,0.14716569692257284,0.16253305408814545,0.25076678912750733,0.22314839683237528,0.2241466368238235,0.369638782631601,0.08617445116212642,0.31110276497432476,0.11935942653673669,0.3742978811620646,0.36703168750687376,0.19023114114910278,0.18576991231533205,0.21619749962660784,0.12000513416880115,0.1449546290424588,0.3865212722550877,0.4261304509010407,0.2252377983744738,0.16459564747379868,0.099154483191285,0.6544481507523736,-0.041470762219156625,-0.025124974470980235,0.07872289156710938,0.039054938388039834,0.3004663656348052,0.2397850518079861,0.1902192961752378,0.263027555034811,0.14508910873865383,0.2150336252611423,0.2322223804029334,0.07801479014559422,0.32261865964371733,0.3985487710967252,0.11980084123769227,0.10640005460045278,-0.021585803574221032,0.6013101167092546,0.06990639066899387,0.19766297175636552,0.03489427105280736,-0.03357063971427016,0.13768583915073812,0.1376384390459953,0.23607408210337083,0.0906695529327693,0.10489059398552002,0.06011390085463793,0.1777844002418545,0.4604093122281915,0.08426466997774729,0.4243682239723411,0.16310674908955095,0.08361570688791309,-0.09477572945192231,-0.0660645247967129,0.11816649506013015,0.24121492795883762,0.24068404496038312,0.13977560679375758,0.1726051448044303,0.17231059540839194,0.03233592774363382,0.07900083908330942,0.03555859088335496,0.07582212918393455,0.06475801783246102,0.06759638446986335,0.13886009967851776,0.0027499076270573516,0.11634157204012532,0.04988562011195474,0.036944159794105876,-0.027726506398528306,0.25374167492941246,0.06797340493396942,0.2031792581702437,0.04866979384475808,0.2015730935132321,0.4787985227739693,0.49982636228227983,0.40955901870412703,0.32139066608505285,0.40926310701993707,-0.026934412049333237],\"yaxis\":\"y\",\"type\":\"scatter\"}],                        {\"template\":{\"data\":{\"barpolar\":[{\"marker\":{\"line\":{\"color\":\"white\",\"width\":0.5},\"pattern\":{\"fillmode\":\"overlay\",\"size\":10,\"solidity\":0.2}},\"type\":\"barpolar\"}],\"bar\":[{\"error_x\":{\"color\":\"rgb(36,36,36)\"},\"error_y\":{\"color\":\"rgb(36,36,36)\"},\"marker\":{\"line\":{\"color\":\"white\",\"width\":0.5},\"pattern\":{\"fillmode\":\"overlay\",\"size\":10,\"solidity\":0.2}},\"type\":\"bar\"}],\"carpet\":[{\"aaxis\":{\"endlinecolor\":\"rgb(36,36,36)\",\"gridcolor\":\"white\",\"linecolor\":\"white\",\"minorgridcolor\":\"white\",\"startlinecolor\":\"rgb(36,36,36)\"},\"baxis\":{\"endlinecolor\":\"rgb(36,36,36)\",\"gridcolor\":\"white\",\"linecolor\":\"white\",\"minorgridcolor\":\"white\",\"startlinecolor\":\"rgb(36,36,36)\"},\"type\":\"carpet\"}],\"choropleth\":[{\"colorbar\":{\"outlinewidth\":1,\"tickcolor\":\"rgb(36,36,36)\",\"ticks\":\"outside\"},\"type\":\"choropleth\"}],\"contourcarpet\":[{\"colorbar\":{\"outlinewidth\":1,\"tickcolor\":\"rgb(36,36,36)\",\"ticks\":\"outside\"},\"type\":\"contourcarpet\"}],\"contour\":[{\"colorbar\":{\"outlinewidth\":1,\"tickcolor\":\"rgb(36,36,36)\",\"ticks\":\"outside\"},\"colorscale\":[[0.0,\"#440154\"],[0.1111111111111111,\"#482878\"],[0.2222222222222222,\"#3e4989\"],[0.3333333333333333,\"#31688e\"],[0.4444444444444444,\"#26828e\"],[0.5555555555555556,\"#1f9e89\"],[0.6666666666666666,\"#35b779\"],[0.7777777777777778,\"#6ece58\"],[0.8888888888888888,\"#b5de2b\"],[1.0,\"#fde725\"]],\"type\":\"contour\"}],\"heatmapgl\":[{\"colorbar\":{\"outlinewidth\":1,\"tickcolor\":\"rgb(36,36,36)\",\"ticks\":\"outside\"},\"colorscale\":[[0.0,\"#440154\"],[0.1111111111111111,\"#482878\"],[0.2222222222222222,\"#3e4989\"],[0.3333333333333333,\"#31688e\"],[0.4444444444444444,\"#26828e\"],[0.5555555555555556,\"#1f9e89\"],[0.6666666666666666,\"#35b779\"],[0.7777777777777778,\"#6ece58\"],[0.8888888888888888,\"#b5de2b\"],[1.0,\"#fde725\"]],\"type\":\"heatmapgl\"}],\"heatmap\":[{\"colorbar\":{\"outlinewidth\":1,\"tickcolor\":\"rgb(36,36,36)\",\"ticks\":\"outside\"},\"colorscale\":[[0.0,\"#440154\"],[0.1111111111111111,\"#482878\"],[0.2222222222222222,\"#3e4989\"],[0.3333333333333333,\"#31688e\"],[0.4444444444444444,\"#26828e\"],[0.5555555555555556,\"#1f9e89\"],[0.6666666666666666,\"#35b779\"],[0.7777777777777778,\"#6ece58\"],[0.8888888888888888,\"#b5de2b\"],[1.0,\"#fde725\"]],\"type\":\"heatmap\"}],\"histogram2dcontour\":[{\"colorbar\":{\"outlinewidth\":1,\"tickcolor\":\"rgb(36,36,36)\",\"ticks\":\"outside\"},\"colorscale\":[[0.0,\"#440154\"],[0.1111111111111111,\"#482878\"],[0.2222222222222222,\"#3e4989\"],[0.3333333333333333,\"#31688e\"],[0.4444444444444444,\"#26828e\"],[0.5555555555555556,\"#1f9e89\"],[0.6666666666666666,\"#35b779\"],[0.7777777777777778,\"#6ece58\"],[0.8888888888888888,\"#b5de2b\"],[1.0,\"#fde725\"]],\"type\":\"histogram2dcontour\"}],\"histogram2d\":[{\"colorbar\":{\"outlinewidth\":1,\"tickcolor\":\"rgb(36,36,36)\",\"ticks\":\"outside\"},\"colorscale\":[[0.0,\"#440154\"],[0.1111111111111111,\"#482878\"],[0.2222222222222222,\"#3e4989\"],[0.3333333333333333,\"#31688e\"],[0.4444444444444444,\"#26828e\"],[0.5555555555555556,\"#1f9e89\"],[0.6666666666666666,\"#35b779\"],[0.7777777777777778,\"#6ece58\"],[0.8888888888888888,\"#b5de2b\"],[1.0,\"#fde725\"]],\"type\":\"histogram2d\"}],\"histogram\":[{\"marker\":{\"line\":{\"color\":\"white\",\"width\":0.6}},\"type\":\"histogram\"}],\"mesh3d\":[{\"colorbar\":{\"outlinewidth\":1,\"tickcolor\":\"rgb(36,36,36)\",\"ticks\":\"outside\"},\"type\":\"mesh3d\"}],\"parcoords\":[{\"line\":{\"colorbar\":{\"outlinewidth\":1,\"tickcolor\":\"rgb(36,36,36)\",\"ticks\":\"outside\"}},\"type\":\"parcoords\"}],\"pie\":[{\"automargin\":true,\"type\":\"pie\"}],\"scatter3d\":[{\"line\":{\"colorbar\":{\"outlinewidth\":1,\"tickcolor\":\"rgb(36,36,36)\",\"ticks\":\"outside\"}},\"marker\":{\"colorbar\":{\"outlinewidth\":1,\"tickcolor\":\"rgb(36,36,36)\",\"ticks\":\"outside\"}},\"type\":\"scatter3d\"}],\"scattercarpet\":[{\"marker\":{\"colorbar\":{\"outlinewidth\":1,\"tickcolor\":\"rgb(36,36,36)\",\"ticks\":\"outside\"}},\"type\":\"scattercarpet\"}],\"scattergeo\":[{\"marker\":{\"colorbar\":{\"outlinewidth\":1,\"tickcolor\":\"rgb(36,36,36)\",\"ticks\":\"outside\"}},\"type\":\"scattergeo\"}],\"scattergl\":[{\"marker\":{\"colorbar\":{\"outlinewidth\":1,\"tickcolor\":\"rgb(36,36,36)\",\"ticks\":\"outside\"}},\"type\":\"scattergl\"}],\"scattermapbox\":[{\"marker\":{\"colorbar\":{\"outlinewidth\":1,\"tickcolor\":\"rgb(36,36,36)\",\"ticks\":\"outside\"}},\"type\":\"scattermapbox\"}],\"scatterpolargl\":[{\"marker\":{\"colorbar\":{\"outlinewidth\":1,\"tickcolor\":\"rgb(36,36,36)\",\"ticks\":\"outside\"}},\"type\":\"scatterpolargl\"}],\"scatterpolar\":[{\"marker\":{\"colorbar\":{\"outlinewidth\":1,\"tickcolor\":\"rgb(36,36,36)\",\"ticks\":\"outside\"}},\"type\":\"scatterpolar\"}],\"scatter\":[{\"fillpattern\":{\"fillmode\":\"overlay\",\"size\":10,\"solidity\":0.2},\"type\":\"scatter\"}],\"scatterternary\":[{\"marker\":{\"colorbar\":{\"outlinewidth\":1,\"tickcolor\":\"rgb(36,36,36)\",\"ticks\":\"outside\"}},\"type\":\"scatterternary\"}],\"surface\":[{\"colorbar\":{\"outlinewidth\":1,\"tickcolor\":\"rgb(36,36,36)\",\"ticks\":\"outside\"},\"colorscale\":[[0.0,\"#440154\"],[0.1111111111111111,\"#482878\"],[0.2222222222222222,\"#3e4989\"],[0.3333333333333333,\"#31688e\"],[0.4444444444444444,\"#26828e\"],[0.5555555555555556,\"#1f9e89\"],[0.6666666666666666,\"#35b779\"],[0.7777777777777778,\"#6ece58\"],[0.8888888888888888,\"#b5de2b\"],[1.0,\"#fde725\"]],\"type\":\"surface\"}],\"table\":[{\"cells\":{\"fill\":{\"color\":\"rgb(237,237,237)\"},\"line\":{\"color\":\"white\"}},\"header\":{\"fill\":{\"color\":\"rgb(217,217,217)\"},\"line\":{\"color\":\"white\"}},\"type\":\"table\"}]},\"layout\":{\"annotationdefaults\":{\"arrowhead\":0,\"arrowwidth\":1},\"autotypenumbers\":\"strict\",\"coloraxis\":{\"colorbar\":{\"outlinewidth\":1,\"tickcolor\":\"rgb(36,36,36)\",\"ticks\":\"outside\"}},\"colorscale\":{\"diverging\":[[0.0,\"rgb(103,0,31)\"],[0.1,\"rgb(178,24,43)\"],[0.2,\"rgb(214,96,77)\"],[0.3,\"rgb(244,165,130)\"],[0.4,\"rgb(253,219,199)\"],[0.5,\"rgb(247,247,247)\"],[0.6,\"rgb(209,229,240)\"],[0.7,\"rgb(146,197,222)\"],[0.8,\"rgb(67,147,195)\"],[0.9,\"rgb(33,102,172)\"],[1.0,\"rgb(5,48,97)\"]],\"sequential\":[[0.0,\"#440154\"],[0.1111111111111111,\"#482878\"],[0.2222222222222222,\"#3e4989\"],[0.3333333333333333,\"#31688e\"],[0.4444444444444444,\"#26828e\"],[0.5555555555555556,\"#1f9e89\"],[0.6666666666666666,\"#35b779\"],[0.7777777777777778,\"#6ece58\"],[0.8888888888888888,\"#b5de2b\"],[1.0,\"#fde725\"]],\"sequentialminus\":[[0.0,\"#440154\"],[0.1111111111111111,\"#482878\"],[0.2222222222222222,\"#3e4989\"],[0.3333333333333333,\"#31688e\"],[0.4444444444444444,\"#26828e\"],[0.5555555555555556,\"#1f9e89\"],[0.6666666666666666,\"#35b779\"],[0.7777777777777778,\"#6ece58\"],[0.8888888888888888,\"#b5de2b\"],[1.0,\"#fde725\"]]},\"colorway\":[\"#1F77B4\",\"#FF7F0E\",\"#2CA02C\",\"#D62728\",\"#9467BD\",\"#8C564B\",\"#E377C2\",\"#7F7F7F\",\"#BCBD22\",\"#17BECF\"],\"font\":{\"color\":\"rgb(36,36,36)\"},\"geo\":{\"bgcolor\":\"white\",\"lakecolor\":\"white\",\"landcolor\":\"white\",\"showlakes\":true,\"showland\":true,\"subunitcolor\":\"white\"},\"hoverlabel\":{\"align\":\"left\"},\"hovermode\":\"closest\",\"mapbox\":{\"style\":\"light\"},\"paper_bgcolor\":\"white\",\"plot_bgcolor\":\"white\",\"polar\":{\"angularaxis\":{\"gridcolor\":\"rgb(232,232,232)\",\"linecolor\":\"rgb(36,36,36)\",\"showgrid\":false,\"showline\":true,\"ticks\":\"outside\"},\"bgcolor\":\"white\",\"radialaxis\":{\"gridcolor\":\"rgb(232,232,232)\",\"linecolor\":\"rgb(36,36,36)\",\"showgrid\":false,\"showline\":true,\"ticks\":\"outside\"}},\"scene\":{\"xaxis\":{\"backgroundcolor\":\"white\",\"gridcolor\":\"rgb(232,232,232)\",\"gridwidth\":2,\"linecolor\":\"rgb(36,36,36)\",\"showbackground\":true,\"showgrid\":false,\"showline\":true,\"ticks\":\"outside\",\"zeroline\":false,\"zerolinecolor\":\"rgb(36,36,36)\"},\"yaxis\":{\"backgroundcolor\":\"white\",\"gridcolor\":\"rgb(232,232,232)\",\"gridwidth\":2,\"linecolor\":\"rgb(36,36,36)\",\"showbackground\":true,\"showgrid\":false,\"showline\":true,\"ticks\":\"outside\",\"zeroline\":false,\"zerolinecolor\":\"rgb(36,36,36)\"},\"zaxis\":{\"backgroundcolor\":\"white\",\"gridcolor\":\"rgb(232,232,232)\",\"gridwidth\":2,\"linecolor\":\"rgb(36,36,36)\",\"showbackground\":true,\"showgrid\":false,\"showline\":true,\"ticks\":\"outside\",\"zeroline\":false,\"zerolinecolor\":\"rgb(36,36,36)\"}},\"shapedefaults\":{\"fillcolor\":\"black\",\"line\":{\"width\":0},\"opacity\":0.3},\"ternary\":{\"aaxis\":{\"gridcolor\":\"rgb(232,232,232)\",\"linecolor\":\"rgb(36,36,36)\",\"showgrid\":false,\"showline\":true,\"ticks\":\"outside\"},\"baxis\":{\"gridcolor\":\"rgb(232,232,232)\",\"linecolor\":\"rgb(36,36,36)\",\"showgrid\":false,\"showline\":true,\"ticks\":\"outside\"},\"bgcolor\":\"white\",\"caxis\":{\"gridcolor\":\"rgb(232,232,232)\",\"linecolor\":\"rgb(36,36,36)\",\"showgrid\":false,\"showline\":true,\"ticks\":\"outside\"}},\"title\":{\"x\":0.05},\"xaxis\":{\"automargin\":true,\"gridcolor\":\"rgb(232,232,232)\",\"linecolor\":\"rgb(36,36,36)\",\"showgrid\":false,\"showline\":true,\"ticks\":\"outside\",\"title\":{\"standoff\":15},\"zeroline\":false,\"zerolinecolor\":\"rgb(36,36,36)\"},\"yaxis\":{\"automargin\":true,\"gridcolor\":\"rgb(232,232,232)\",\"linecolor\":\"rgb(36,36,36)\",\"showgrid\":false,\"showline\":true,\"ticks\":\"outside\",\"title\":{\"standoff\":15},\"zeroline\":false,\"zerolinecolor\":\"rgb(36,36,36)\"}}},\"xaxis\":{\"anchor\":\"y\",\"domain\":[0.0,1.0],\"title\":{\"text\":\"PC1\"},\"showgrid\":false,\"zeroline\":true,\"zerolinewidth\":3,\"zerolinecolor\":\"lightgray\"},\"yaxis\":{\"anchor\":\"x\",\"domain\":[0.0,1.0],\"title\":{\"text\":\"PC2\"},\"showgrid\":false,\"zeroline\":true,\"zerolinewidth\":3,\"zerolinecolor\":\"lightgray\"},\"coloraxis\":{\"colorbar\":{\"title\":{\"text\":\"Target\"}},\"colorscale\":[[0.0,\"#440154\"],[0.1111111111111111,\"#482878\"],[0.2222222222222222,\"#3e4989\"],[0.3333333333333333,\"#31688e\"],[0.4444444444444444,\"#26828e\"],[0.5555555555555556,\"#1f9e89\"],[0.6666666666666666,\"#35b779\"],[0.7777777777777778,\"#6ece58\"],[0.8888888888888888,\"#b5de2b\"],[1.0,\"#fde725\"]]},\"legend\":{\"tracegroupgap\":0},\"margin\":{\"t\":60},\"title\":{\"text\":\"Top 2 PCs Scatterplot\",\"font\":{\"size\":18}},\"annotations\":[{\"font\":{\"color\":\"red\",\"size\":14},\"text\":\"Kuadran 2\",\"x\":-0.45,\"y\":0.1},{\"font\":{\"color\":\"black\",\"size\":14},\"text\":\"Kuadran 1\",\"x\":0.23,\"y\":0.1}]},                        {\"responsive\": true}                    ).then(function(){\n",
       "                            \n",
       "var gd = document.getElementById('35b0343c-b5f4-426f-b3f0-4c2f95cb3664');\n",
       "var x = new MutationObserver(function (mutations, observer) {{\n",
       "        var display = window.getComputedStyle(gd).display;\n",
       "        if (!display || display === 'none') {{\n",
       "            console.log([gd, 'removed!']);\n",
       "            Plotly.purge(gd);\n",
       "            observer.disconnect();\n",
       "        }}\n",
       "}});\n",
       "\n",
       "// Listen for the removal of the full notebook cells\n",
       "var notebookContainer = gd.closest('#notebook-container');\n",
       "if (notebookContainer) {{\n",
       "    x.observe(notebookContainer, {childList: true});\n",
       "}}\n",
       "\n",
       "// Listen for the clearing of the current output cell\n",
       "var outputEl = gd.closest('.output');\n",
       "if (outputEl) {{\n",
       "    x.observe(outputEl, {childList: true});\n",
       "}}\n",
       "\n",
       "                        })                };                });            </script>        </div>"
      ]
     },
     "metadata": {},
     "output_type": "display_data"
    }
   ],
   "source": [
    "fig = px.scatter(new_df, x='PC1', y='PC2', color='Target', template=\"simple_white\")\n",
    "fig.update_layout(title='Top 2 PCs Scatterplot', title_font_size=18)\n",
    "fig.update_xaxes(showgrid=False, zeroline=True, zerolinewidth=3, zerolinecolor='lightgray')\n",
    "fig.update_yaxes(showgrid=False, zeroline=True, zerolinewidth=3, zerolinecolor='lightgray')\n",
    "\n",
    "fig.add_annotation(x=-0.45, y=0.1, text='Kuadran 2', font_size=14, font_color='red')\n",
    "fig.add_annotation(x=0.23, y=0.1, text='Kuadran 1', font_size=14, font_color='black')\n",
    "\n",
    "fig.update_xaxes(title='PC1')\n",
    "fig.update_yaxes(title='PC2')\n",
    "\n",
    "fig.show()"
   ]
  },
  {
   "cell_type": "code",
   "execution_count": 56,
   "metadata": {
    "colab": {
     "background_save": true
    },
    "id": "s_pN3v2Rbo7F",
    "outputId": "2041b099-ce18-40a1-8b1a-a0aac8f1efb6"
   },
   "outputs": [
    {
     "data": {
      "text/html": [
       "<div>\n",
       "<style scoped>\n",
       "    .dataframe tbody tr th:only-of-type {\n",
       "        vertical-align: middle;\n",
       "    }\n",
       "\n",
       "    .dataframe tbody tr th {\n",
       "        vertical-align: top;\n",
       "    }\n",
       "\n",
       "    .dataframe thead th {\n",
       "        text-align: right;\n",
       "    }\n",
       "</style>\n",
       "<table border=\"1\" class=\"dataframe\">\n",
       "  <thead>\n",
       "    <tr style=\"text-align: right;\">\n",
       "      <th></th>\n",
       "      <th>PC1</th>\n",
       "      <th>PC2</th>\n",
       "      <th>PC3</th>\n",
       "      <th>PC4</th>\n",
       "      <th>PC5</th>\n",
       "      <th>Target</th>\n",
       "    </tr>\n",
       "  </thead>\n",
       "  <tbody>\n",
       "    <tr>\n",
       "      <th>83</th>\n",
       "      <td>-0.105564</td>\n",
       "      <td>0.378176</td>\n",
       "      <td>0.298362</td>\n",
       "      <td>-0.963324</td>\n",
       "      <td>-0.023326</td>\n",
       "      <td>0</td>\n",
       "    </tr>\n",
       "    <tr>\n",
       "      <th>277</th>\n",
       "      <td>-0.103512</td>\n",
       "      <td>0.384182</td>\n",
       "      <td>0.294750</td>\n",
       "      <td>-0.705234</td>\n",
       "      <td>0.075934</td>\n",
       "      <td>0</td>\n",
       "    </tr>\n",
       "    <tr>\n",
       "      <th>282</th>\n",
       "      <td>-0.064098</td>\n",
       "      <td>0.413513</td>\n",
       "      <td>0.485914</td>\n",
       "      <td>-1.011949</td>\n",
       "      <td>-0.019456</td>\n",
       "      <td>0</td>\n",
       "    </tr>\n",
       "    <tr>\n",
       "      <th>31</th>\n",
       "      <td>0.100619</td>\n",
       "      <td>0.099761</td>\n",
       "      <td>0.373219</td>\n",
       "      <td>-0.949803</td>\n",
       "      <td>-0.091750</td>\n",
       "      <td>0</td>\n",
       "    </tr>\n",
       "    <tr>\n",
       "      <th>432</th>\n",
       "      <td>-0.052377</td>\n",
       "      <td>0.390745</td>\n",
       "      <td>0.449872</td>\n",
       "      <td>-1.075797</td>\n",
       "      <td>-0.054841</td>\n",
       "      <td>0</td>\n",
       "    </tr>\n",
       "  </tbody>\n",
       "</table>\n",
       "</div>"
      ],
      "text/plain": [
       "          PC1       PC2       PC3       PC4       PC5  Target\n",
       "83  -0.105564  0.378176  0.298362 -0.963324 -0.023326       0\n",
       "277 -0.103512  0.384182  0.294750 -0.705234  0.075934       0\n",
       "282 -0.064098  0.413513  0.485914 -1.011949 -0.019456       0\n",
       "31   0.100619  0.099761  0.373219 -0.949803 -0.091750       0\n",
       "432 -0.052377  0.390745  0.449872 -1.075797 -0.054841       0"
      ]
     },
     "execution_count": 56,
     "metadata": {},
     "output_type": "execute_result"
    }
   ],
   "source": [
    "new_df[new_df.Target==0].sample(5)"
   ]
  },
  {
   "cell_type": "code",
   "execution_count": 57,
   "metadata": {
    "colab": {
     "background_save": true
    },
    "id": "LKGLG7H7bo4Y",
    "outputId": "5a7df5bd-5aca-4ff2-e04d-c794e02ee43d"
   },
   "outputs": [
    {
     "data": {
      "text/html": [
       "<div>\n",
       "<style scoped>\n",
       "    .dataframe tbody tr th:only-of-type {\n",
       "        vertical-align: middle;\n",
       "    }\n",
       "\n",
       "    .dataframe tbody tr th {\n",
       "        vertical-align: top;\n",
       "    }\n",
       "\n",
       "    .dataframe thead th {\n",
       "        text-align: right;\n",
       "    }\n",
       "</style>\n",
       "<table border=\"1\" class=\"dataframe\">\n",
       "  <thead>\n",
       "    <tr style=\"text-align: right;\">\n",
       "      <th></th>\n",
       "      <th>PC1</th>\n",
       "      <th>PC2</th>\n",
       "      <th>PC3</th>\n",
       "      <th>PC4</th>\n",
       "      <th>PC5</th>\n",
       "      <th>Target</th>\n",
       "    </tr>\n",
       "  </thead>\n",
       "  <tbody>\n",
       "    <tr>\n",
       "      <th>557</th>\n",
       "      <td>-0.032205</td>\n",
       "      <td>-0.027727</td>\n",
       "      <td>0.033919</td>\n",
       "      <td>-0.397758</td>\n",
       "      <td>0.059640</td>\n",
       "      <td>1</td>\n",
       "    </tr>\n",
       "    <tr>\n",
       "      <th>157</th>\n",
       "      <td>-0.096229</td>\n",
       "      <td>0.348330</td>\n",
       "      <td>0.191499</td>\n",
       "      <td>-0.475570</td>\n",
       "      <td>0.184131</td>\n",
       "      <td>1</td>\n",
       "    </tr>\n",
       "    <tr>\n",
       "      <th>497</th>\n",
       "      <td>0.025751</td>\n",
       "      <td>0.144955</td>\n",
       "      <td>0.219617</td>\n",
       "      <td>-0.590393</td>\n",
       "      <td>-0.040664</td>\n",
       "      <td>1</td>\n",
       "    </tr>\n",
       "    <tr>\n",
       "      <th>518</th>\n",
       "      <td>0.032750</td>\n",
       "      <td>0.119801</td>\n",
       "      <td>0.261227</td>\n",
       "      <td>-0.639539</td>\n",
       "      <td>-0.222658</td>\n",
       "      <td>1</td>\n",
       "    </tr>\n",
       "    <tr>\n",
       "      <th>204</th>\n",
       "      <td>0.031472</td>\n",
       "      <td>0.133313</td>\n",
       "      <td>0.247999</td>\n",
       "      <td>-0.665805</td>\n",
       "      <td>-0.066862</td>\n",
       "      <td>1</td>\n",
       "    </tr>\n",
       "  </tbody>\n",
       "</table>\n",
       "</div>"
      ],
      "text/plain": [
       "          PC1       PC2       PC3       PC4       PC5  Target\n",
       "557 -0.032205 -0.027727  0.033919 -0.397758  0.059640       1\n",
       "157 -0.096229  0.348330  0.191499 -0.475570  0.184131       1\n",
       "497  0.025751  0.144955  0.219617 -0.590393 -0.040664       1\n",
       "518  0.032750  0.119801  0.261227 -0.639539 -0.222658       1\n",
       "204  0.031472  0.133313  0.247999 -0.665805 -0.066862       1"
      ]
     },
     "execution_count": 57,
     "metadata": {},
     "output_type": "execute_result"
    }
   ],
   "source": [
    "new_df[new_df.Target==1].sample(5)"
   ]
  },
  {
   "cell_type": "code",
   "execution_count": 58,
   "metadata": {
    "colab": {
     "background_save": true
    },
    "id": "0cuQPIOybo1Y",
    "outputId": "cd335acb-c542-4432-cb72-cc0b15785615"
   },
   "outputs": [
    {
     "name": "stdout",
     "output_type": "stream",
     "text": [
      "=== CLASS WEIGHTS ===\n",
      "{0: 1.6839622641509433, 1: 1.0}\n"
     ]
    }
   ],
   "source": [
    "label, counts = np.unique(targets, return_counts=True)\n",
    "counts = max(counts) / counts\n",
    "class_weights = dict(zip(label, counts))\n",
    "\n",
    "print('=== CLASS WEIGHTS ===')\n",
    "print(class_weights)"
   ]
  },
  {
   "cell_type": "code",
   "execution_count": 59,
   "metadata": {
    "colab": {
     "background_save": true
    },
    "id": "XLnsG9h9boys"
   },
   "outputs": [],
   "source": [
    "train_inputs, val_inputs, train_targets, val_targets = train_test_split(new_df, targets, test_size=0.25, random_state=42)"
   ]
  },
  {
   "cell_type": "code",
   "execution_count": 60,
   "metadata": {
    "colab": {
     "background_save": true
    },
    "id": "aGnXa-6Mbov1",
    "outputId": "e9aafa5f-6f3c-45af-8454-b3596a0c4438"
   },
   "outputs": [
    {
     "name": "stdout",
     "output_type": "stream",
     "text": [
      "X_train Shape - (426, 6) , y_train Shape - (426,)\n",
      "X_test shape - (143, 6) , y_test shape - (143,)\n"
     ]
    }
   ],
   "source": [
    "print('X_train Shape -',train_inputs.shape,',', 'y_train Shape -', train_targets.shape)\n",
    "print('X_test shape -', val_inputs.shape,',','y_test shape -', val_targets.shape)"
   ]
  },
  {
   "cell_type": "code",
   "execution_count": 61,
   "metadata": {
    "colab": {
     "background_save": true
    },
    "id": "gBMWnMfTbotO"
   },
   "outputs": [],
   "source": [
    "names = ['Logistic Regression', \"KNN\", \"Linear SVM\",\"Gradient Boosting\", \"Decision Tree\", \"Random Forest\"]\n",
    "classifiers = [\n",
    "    LogisticRegression(solver='liblinear', class_weight=class_weights, random_state=42),\n",
    "    KNeighborsClassifier(n_neighbors=3, weights= 'distance'),\n",
    "    SVC(kernel=\"linear\", C=0.025, class_weight=class_weights, random_state=42),\n",
    "    GradientBoostingClassifier(n_estimators=100, random_state=42),\n",
    "    DecisionTreeClassifier(max_depth=5, class_weight=class_weights, random_state=42),\n",
    "    RandomForestClassifier(max_depth=5, n_estimators=100, class_weight=class_weights, random_state=42)]"
   ]
  },
  {
   "cell_type": "code",
   "execution_count": 62,
   "metadata": {
    "colab": {
     "background_save": true
    },
    "id": "uzpQ5n82boqW",
    "outputId": "f056d7b2-50c6-42c3-e5be-c3e930c07d07"
   },
   "outputs": [
    {
     "data": {
      "text/html": [
       "<div>\n",
       "<style scoped>\n",
       "    .dataframe tbody tr th:only-of-type {\n",
       "        vertical-align: middle;\n",
       "    }\n",
       "\n",
       "    .dataframe tbody tr th {\n",
       "        vertical-align: top;\n",
       "    }\n",
       "\n",
       "    .dataframe thead th {\n",
       "        text-align: right;\n",
       "    }\n",
       "</style>\n",
       "<table border=\"1\" class=\"dataframe\">\n",
       "  <thead>\n",
       "    <tr style=\"text-align: right;\">\n",
       "      <th></th>\n",
       "      <th>Name</th>\n",
       "      <th>CV Mean score</th>\n",
       "    </tr>\n",
       "  </thead>\n",
       "  <tbody>\n",
       "    <tr>\n",
       "      <th>0</th>\n",
       "      <td>Logistic Regression</td>\n",
       "      <td>1.0</td>\n",
       "    </tr>\n",
       "    <tr>\n",
       "      <th>1</th>\n",
       "      <td>KNN</td>\n",
       "      <td>1.0</td>\n",
       "    </tr>\n",
       "    <tr>\n",
       "      <th>2</th>\n",
       "      <td>Linear SVM</td>\n",
       "      <td>1.0</td>\n",
       "    </tr>\n",
       "    <tr>\n",
       "      <th>3</th>\n",
       "      <td>Gradient Boosting</td>\n",
       "      <td>1.0</td>\n",
       "    </tr>\n",
       "    <tr>\n",
       "      <th>4</th>\n",
       "      <td>Decision Tree</td>\n",
       "      <td>1.0</td>\n",
       "    </tr>\n",
       "    <tr>\n",
       "      <th>5</th>\n",
       "      <td>Random Forest</td>\n",
       "      <td>1.0</td>\n",
       "    </tr>\n",
       "  </tbody>\n",
       "</table>\n",
       "</div>"
      ],
      "text/plain": [
       "                  Name  CV Mean score\n",
       "0  Logistic Regression            1.0\n",
       "1                  KNN            1.0\n",
       "2           Linear SVM            1.0\n",
       "3    Gradient Boosting            1.0\n",
       "4        Decision Tree            1.0\n",
       "5        Random Forest            1.0"
      ]
     },
     "execution_count": 62,
     "metadata": {},
     "output_type": "execute_result"
    }
   ],
   "source": [
    "num_folds = 5 \n",
    "\n",
    "scores = []\n",
    "\n",
    "for name, clf in zip(names, classifiers):\n",
    "    cv_scores = cross_val_score(clf, train_inputs, train_targets, cv=num_folds)\n",
    "    mean_score = np.mean(cv_scores)\n",
    "    scores.append(mean_score)\n",
    "\n",
    "scores_df = pd.DataFrame()\n",
    "scores_df['Name'] = names\n",
    "scores_df['CV Mean score'] = np.around(scores, 3)\n",
    "\n",
    "sorted_scores_df = scores_df.sort_values('CV Mean score', ascending=False)\n",
    "sorted_scores_df"
   ]
  },
  {
   "cell_type": "code",
   "execution_count": 64,
   "metadata": {
    "colab": {
     "background_save": true
    },
    "id": "wyjoQhmKbon1",
    "outputId": "d86aad62-db32-4360-a33b-5ae804d4f8cd"
   },
   "outputs": [
    {
     "data": {
      "application/vnd.plotly.v1+json": {
       "config": {
        "plotlyServerURL": "https://plot.ly"
       },
       "data": [
        {
         "coloraxis": "coloraxis",
         "hovertemplate": "Predicted Label: %{x}<br>Correct Label: %{y}<br>Value: %{z}<extra></extra>",
         "name": "0",
         "texttemplate": "%{z}",
         "type": "heatmap",
         "xaxis": "x",
         "yaxis": "y",
         "z": [
          [
           1,
           0
          ],
          [
           0,
           1
          ]
         ]
        }
       ],
       "layout": {
        "coloraxis": {
         "colorbar": {
          "title": {
           "text": "Value"
          }
         },
         "colorscale": [
          [
           0,
           "rgb(20,44,66)"
          ],
          [
           1,
           "rgb(90,179,244)"
          ]
         ]
        },
        "margin": {
         "t": 60
        },
        "template": {
         "data": {
          "bar": [
           {
            "error_x": {
             "color": "rgb(51,51,51)"
            },
            "error_y": {
             "color": "rgb(51,51,51)"
            },
            "marker": {
             "line": {
              "color": "rgb(237,237,237)",
              "width": 0.5
             },
             "pattern": {
              "fillmode": "overlay",
              "size": 10,
              "solidity": 0.2
             }
            },
            "type": "bar"
           }
          ],
          "barpolar": [
           {
            "marker": {
             "line": {
              "color": "rgb(237,237,237)",
              "width": 0.5
             },
             "pattern": {
              "fillmode": "overlay",
              "size": 10,
              "solidity": 0.2
             }
            },
            "type": "barpolar"
           }
          ],
          "carpet": [
           {
            "aaxis": {
             "endlinecolor": "rgb(51,51,51)",
             "gridcolor": "white",
             "linecolor": "white",
             "minorgridcolor": "white",
             "startlinecolor": "rgb(51,51,51)"
            },
            "baxis": {
             "endlinecolor": "rgb(51,51,51)",
             "gridcolor": "white",
             "linecolor": "white",
             "minorgridcolor": "white",
             "startlinecolor": "rgb(51,51,51)"
            },
            "type": "carpet"
           }
          ],
          "choropleth": [
           {
            "colorbar": {
             "outlinewidth": 0,
             "tickcolor": "rgb(237,237,237)",
             "ticklen": 6,
             "ticks": "inside"
            },
            "type": "choropleth"
           }
          ],
          "contour": [
           {
            "colorbar": {
             "outlinewidth": 0,
             "tickcolor": "rgb(237,237,237)",
             "ticklen": 6,
             "ticks": "inside"
            },
            "colorscale": [
             [
              0,
              "rgb(20,44,66)"
             ],
             [
              1,
              "rgb(90,179,244)"
             ]
            ],
            "type": "contour"
           }
          ],
          "contourcarpet": [
           {
            "colorbar": {
             "outlinewidth": 0,
             "tickcolor": "rgb(237,237,237)",
             "ticklen": 6,
             "ticks": "inside"
            },
            "type": "contourcarpet"
           }
          ],
          "heatmap": [
           {
            "colorbar": {
             "outlinewidth": 0,
             "tickcolor": "rgb(237,237,237)",
             "ticklen": 6,
             "ticks": "inside"
            },
            "colorscale": [
             [
              0,
              "rgb(20,44,66)"
             ],
             [
              1,
              "rgb(90,179,244)"
             ]
            ],
            "type": "heatmap"
           }
          ],
          "heatmapgl": [
           {
            "colorbar": {
             "outlinewidth": 0,
             "tickcolor": "rgb(237,237,237)",
             "ticklen": 6,
             "ticks": "inside"
            },
            "colorscale": [
             [
              0,
              "rgb(20,44,66)"
             ],
             [
              1,
              "rgb(90,179,244)"
             ]
            ],
            "type": "heatmapgl"
           }
          ],
          "histogram": [
           {
            "marker": {
             "pattern": {
              "fillmode": "overlay",
              "size": 10,
              "solidity": 0.2
             }
            },
            "type": "histogram"
           }
          ],
          "histogram2d": [
           {
            "colorbar": {
             "outlinewidth": 0,
             "tickcolor": "rgb(237,237,237)",
             "ticklen": 6,
             "ticks": "inside"
            },
            "colorscale": [
             [
              0,
              "rgb(20,44,66)"
             ],
             [
              1,
              "rgb(90,179,244)"
             ]
            ],
            "type": "histogram2d"
           }
          ],
          "histogram2dcontour": [
           {
            "colorbar": {
             "outlinewidth": 0,
             "tickcolor": "rgb(237,237,237)",
             "ticklen": 6,
             "ticks": "inside"
            },
            "colorscale": [
             [
              0,
              "rgb(20,44,66)"
             ],
             [
              1,
              "rgb(90,179,244)"
             ]
            ],
            "type": "histogram2dcontour"
           }
          ],
          "mesh3d": [
           {
            "colorbar": {
             "outlinewidth": 0,
             "tickcolor": "rgb(237,237,237)",
             "ticklen": 6,
             "ticks": "inside"
            },
            "type": "mesh3d"
           }
          ],
          "parcoords": [
           {
            "line": {
             "colorbar": {
              "outlinewidth": 0,
              "tickcolor": "rgb(237,237,237)",
              "ticklen": 6,
              "ticks": "inside"
             }
            },
            "type": "parcoords"
           }
          ],
          "pie": [
           {
            "automargin": true,
            "type": "pie"
           }
          ],
          "scatter": [
           {
            "fillpattern": {
             "fillmode": "overlay",
             "size": 10,
             "solidity": 0.2
            },
            "type": "scatter"
           }
          ],
          "scatter3d": [
           {
            "line": {
             "colorbar": {
              "outlinewidth": 0,
              "tickcolor": "rgb(237,237,237)",
              "ticklen": 6,
              "ticks": "inside"
             }
            },
            "marker": {
             "colorbar": {
              "outlinewidth": 0,
              "tickcolor": "rgb(237,237,237)",
              "ticklen": 6,
              "ticks": "inside"
             }
            },
            "type": "scatter3d"
           }
          ],
          "scattercarpet": [
           {
            "marker": {
             "colorbar": {
              "outlinewidth": 0,
              "tickcolor": "rgb(237,237,237)",
              "ticklen": 6,
              "ticks": "inside"
             }
            },
            "type": "scattercarpet"
           }
          ],
          "scattergeo": [
           {
            "marker": {
             "colorbar": {
              "outlinewidth": 0,
              "tickcolor": "rgb(237,237,237)",
              "ticklen": 6,
              "ticks": "inside"
             }
            },
            "type": "scattergeo"
           }
          ],
          "scattergl": [
           {
            "marker": {
             "colorbar": {
              "outlinewidth": 0,
              "tickcolor": "rgb(237,237,237)",
              "ticklen": 6,
              "ticks": "inside"
             }
            },
            "type": "scattergl"
           }
          ],
          "scattermapbox": [
           {
            "marker": {
             "colorbar": {
              "outlinewidth": 0,
              "tickcolor": "rgb(237,237,237)",
              "ticklen": 6,
              "ticks": "inside"
             }
            },
            "type": "scattermapbox"
           }
          ],
          "scatterpolar": [
           {
            "marker": {
             "colorbar": {
              "outlinewidth": 0,
              "tickcolor": "rgb(237,237,237)",
              "ticklen": 6,
              "ticks": "inside"
             }
            },
            "type": "scatterpolar"
           }
          ],
          "scatterpolargl": [
           {
            "marker": {
             "colorbar": {
              "outlinewidth": 0,
              "tickcolor": "rgb(237,237,237)",
              "ticklen": 6,
              "ticks": "inside"
             }
            },
            "type": "scatterpolargl"
           }
          ],
          "scatterternary": [
           {
            "marker": {
             "colorbar": {
              "outlinewidth": 0,
              "tickcolor": "rgb(237,237,237)",
              "ticklen": 6,
              "ticks": "inside"
             }
            },
            "type": "scatterternary"
           }
          ],
          "surface": [
           {
            "colorbar": {
             "outlinewidth": 0,
             "tickcolor": "rgb(237,237,237)",
             "ticklen": 6,
             "ticks": "inside"
            },
            "colorscale": [
             [
              0,
              "rgb(20,44,66)"
             ],
             [
              1,
              "rgb(90,179,244)"
             ]
            ],
            "type": "surface"
           }
          ],
          "table": [
           {
            "cells": {
             "fill": {
              "color": "rgb(237,237,237)"
             },
             "line": {
              "color": "white"
             }
            },
            "header": {
             "fill": {
              "color": "rgb(217,217,217)"
             },
             "line": {
              "color": "white"
             }
            },
            "type": "table"
           }
          ]
         },
         "layout": {
          "annotationdefaults": {
           "arrowhead": 0,
           "arrowwidth": 1
          },
          "autotypenumbers": "strict",
          "coloraxis": {
           "colorbar": {
            "outlinewidth": 0,
            "tickcolor": "rgb(237,237,237)",
            "ticklen": 6,
            "ticks": "inside"
           }
          },
          "colorscale": {
           "sequential": [
            [
             0,
             "rgb(20,44,66)"
            ],
            [
             1,
             "rgb(90,179,244)"
            ]
           ],
           "sequentialminus": [
            [
             0,
             "rgb(20,44,66)"
            ],
            [
             1,
             "rgb(90,179,244)"
            ]
           ]
          },
          "colorway": [
           "#F8766D",
           "#A3A500",
           "#00BF7D",
           "#00B0F6",
           "#E76BF3"
          ],
          "font": {
           "color": "rgb(51,51,51)"
          },
          "geo": {
           "bgcolor": "white",
           "lakecolor": "white",
           "landcolor": "rgb(237,237,237)",
           "showlakes": true,
           "showland": true,
           "subunitcolor": "white"
          },
          "hoverlabel": {
           "align": "left"
          },
          "hovermode": "closest",
          "paper_bgcolor": "white",
          "plot_bgcolor": "rgb(237,237,237)",
          "polar": {
           "angularaxis": {
            "gridcolor": "white",
            "linecolor": "white",
            "showgrid": true,
            "tickcolor": "rgb(51,51,51)",
            "ticks": "outside"
           },
           "bgcolor": "rgb(237,237,237)",
           "radialaxis": {
            "gridcolor": "white",
            "linecolor": "white",
            "showgrid": true,
            "tickcolor": "rgb(51,51,51)",
            "ticks": "outside"
           }
          },
          "scene": {
           "xaxis": {
            "backgroundcolor": "rgb(237,237,237)",
            "gridcolor": "white",
            "gridwidth": 2,
            "linecolor": "white",
            "showbackground": true,
            "showgrid": true,
            "tickcolor": "rgb(51,51,51)",
            "ticks": "outside",
            "zerolinecolor": "white"
           },
           "yaxis": {
            "backgroundcolor": "rgb(237,237,237)",
            "gridcolor": "white",
            "gridwidth": 2,
            "linecolor": "white",
            "showbackground": true,
            "showgrid": true,
            "tickcolor": "rgb(51,51,51)",
            "ticks": "outside",
            "zerolinecolor": "white"
           },
           "zaxis": {
            "backgroundcolor": "rgb(237,237,237)",
            "gridcolor": "white",
            "gridwidth": 2,
            "linecolor": "white",
            "showbackground": true,
            "showgrid": true,
            "tickcolor": "rgb(51,51,51)",
            "ticks": "outside",
            "zerolinecolor": "white"
           }
          },
          "shapedefaults": {
           "fillcolor": "black",
           "line": {
            "width": 0
           },
           "opacity": 0.3
          },
          "ternary": {
           "aaxis": {
            "gridcolor": "white",
            "linecolor": "white",
            "showgrid": true,
            "tickcolor": "rgb(51,51,51)",
            "ticks": "outside"
           },
           "baxis": {
            "gridcolor": "white",
            "linecolor": "white",
            "showgrid": true,
            "tickcolor": "rgb(51,51,51)",
            "ticks": "outside"
           },
           "bgcolor": "rgb(237,237,237)",
           "caxis": {
            "gridcolor": "white",
            "linecolor": "white",
            "showgrid": true,
            "tickcolor": "rgb(51,51,51)",
            "ticks": "outside"
           }
          },
          "xaxis": {
           "automargin": true,
           "gridcolor": "white",
           "linecolor": "white",
           "showgrid": true,
           "tickcolor": "rgb(51,51,51)",
           "ticks": "outside",
           "title": {
            "standoff": 15
           },
           "zerolinecolor": "white"
          },
          "yaxis": {
           "automargin": true,
           "gridcolor": "white",
           "linecolor": "white",
           "showgrid": true,
           "tickcolor": "rgb(51,51,51)",
           "ticks": "outside",
           "title": {
            "standoff": 15
           },
           "zerolinecolor": "white"
          }
         }
        },
        "xaxis": {
         "anchor": "y",
         "domain": [
          0,
          1
         ],
         "side": "bottom",
         "title": {
          "text": "Predicted Label"
         }
        },
        "yaxis": {
         "anchor": "x",
         "autorange": "reversed",
         "domain": [
          0,
          1
         ],
         "title": {
          "text": "Correct Label"
         }
        }
       }
      },
      "text/html": [
       "<div>                            <div id=\"78d9c9ae-ec88-4eac-8b96-55d80dfc90b6\" class=\"plotly-graph-div\" style=\"height:525px; width:100%;\"></div>            <script type=\"text/javascript\">                require([\"plotly\"], function(Plotly) {                    window.PLOTLYENV=window.PLOTLYENV || {};                                    if (document.getElementById(\"78d9c9ae-ec88-4eac-8b96-55d80dfc90b6\")) {                    Plotly.newPlot(                        \"78d9c9ae-ec88-4eac-8b96-55d80dfc90b6\",                        [{\"coloraxis\":\"coloraxis\",\"name\":\"0\",\"texttemplate\":\"%{z}\",\"z\":[[1.0,0.0],[0.0,1.0]],\"type\":\"heatmap\",\"xaxis\":\"x\",\"yaxis\":\"y\",\"hovertemplate\":\"Predicted Label: %{x}<br>Correct Label: %{y}<br>Value: %{z}<extra></extra>\"}],                        {\"template\":{\"data\":{\"barpolar\":[{\"marker\":{\"line\":{\"color\":\"rgb(237,237,237)\",\"width\":0.5},\"pattern\":{\"fillmode\":\"overlay\",\"size\":10,\"solidity\":0.2}},\"type\":\"barpolar\"}],\"bar\":[{\"error_x\":{\"color\":\"rgb(51,51,51)\"},\"error_y\":{\"color\":\"rgb(51,51,51)\"},\"marker\":{\"line\":{\"color\":\"rgb(237,237,237)\",\"width\":0.5},\"pattern\":{\"fillmode\":\"overlay\",\"size\":10,\"solidity\":0.2}},\"type\":\"bar\"}],\"carpet\":[{\"aaxis\":{\"endlinecolor\":\"rgb(51,51,51)\",\"gridcolor\":\"white\",\"linecolor\":\"white\",\"minorgridcolor\":\"white\",\"startlinecolor\":\"rgb(51,51,51)\"},\"baxis\":{\"endlinecolor\":\"rgb(51,51,51)\",\"gridcolor\":\"white\",\"linecolor\":\"white\",\"minorgridcolor\":\"white\",\"startlinecolor\":\"rgb(51,51,51)\"},\"type\":\"carpet\"}],\"choropleth\":[{\"colorbar\":{\"outlinewidth\":0,\"tickcolor\":\"rgb(237,237,237)\",\"ticklen\":6,\"ticks\":\"inside\"},\"type\":\"choropleth\"}],\"contourcarpet\":[{\"colorbar\":{\"outlinewidth\":0,\"tickcolor\":\"rgb(237,237,237)\",\"ticklen\":6,\"ticks\":\"inside\"},\"type\":\"contourcarpet\"}],\"contour\":[{\"colorbar\":{\"outlinewidth\":0,\"tickcolor\":\"rgb(237,237,237)\",\"ticklen\":6,\"ticks\":\"inside\"},\"colorscale\":[[0,\"rgb(20,44,66)\"],[1,\"rgb(90,179,244)\"]],\"type\":\"contour\"}],\"heatmapgl\":[{\"colorbar\":{\"outlinewidth\":0,\"tickcolor\":\"rgb(237,237,237)\",\"ticklen\":6,\"ticks\":\"inside\"},\"colorscale\":[[0,\"rgb(20,44,66)\"],[1,\"rgb(90,179,244)\"]],\"type\":\"heatmapgl\"}],\"heatmap\":[{\"colorbar\":{\"outlinewidth\":0,\"tickcolor\":\"rgb(237,237,237)\",\"ticklen\":6,\"ticks\":\"inside\"},\"colorscale\":[[0,\"rgb(20,44,66)\"],[1,\"rgb(90,179,244)\"]],\"type\":\"heatmap\"}],\"histogram2dcontour\":[{\"colorbar\":{\"outlinewidth\":0,\"tickcolor\":\"rgb(237,237,237)\",\"ticklen\":6,\"ticks\":\"inside\"},\"colorscale\":[[0,\"rgb(20,44,66)\"],[1,\"rgb(90,179,244)\"]],\"type\":\"histogram2dcontour\"}],\"histogram2d\":[{\"colorbar\":{\"outlinewidth\":0,\"tickcolor\":\"rgb(237,237,237)\",\"ticklen\":6,\"ticks\":\"inside\"},\"colorscale\":[[0,\"rgb(20,44,66)\"],[1,\"rgb(90,179,244)\"]],\"type\":\"histogram2d\"}],\"histogram\":[{\"marker\":{\"pattern\":{\"fillmode\":\"overlay\",\"size\":10,\"solidity\":0.2}},\"type\":\"histogram\"}],\"mesh3d\":[{\"colorbar\":{\"outlinewidth\":0,\"tickcolor\":\"rgb(237,237,237)\",\"ticklen\":6,\"ticks\":\"inside\"},\"type\":\"mesh3d\"}],\"parcoords\":[{\"line\":{\"colorbar\":{\"outlinewidth\":0,\"tickcolor\":\"rgb(237,237,237)\",\"ticklen\":6,\"ticks\":\"inside\"}},\"type\":\"parcoords\"}],\"pie\":[{\"automargin\":true,\"type\":\"pie\"}],\"scatter3d\":[{\"line\":{\"colorbar\":{\"outlinewidth\":0,\"tickcolor\":\"rgb(237,237,237)\",\"ticklen\":6,\"ticks\":\"inside\"}},\"marker\":{\"colorbar\":{\"outlinewidth\":0,\"tickcolor\":\"rgb(237,237,237)\",\"ticklen\":6,\"ticks\":\"inside\"}},\"type\":\"scatter3d\"}],\"scattercarpet\":[{\"marker\":{\"colorbar\":{\"outlinewidth\":0,\"tickcolor\":\"rgb(237,237,237)\",\"ticklen\":6,\"ticks\":\"inside\"}},\"type\":\"scattercarpet\"}],\"scattergeo\":[{\"marker\":{\"colorbar\":{\"outlinewidth\":0,\"tickcolor\":\"rgb(237,237,237)\",\"ticklen\":6,\"ticks\":\"inside\"}},\"type\":\"scattergeo\"}],\"scattergl\":[{\"marker\":{\"colorbar\":{\"outlinewidth\":0,\"tickcolor\":\"rgb(237,237,237)\",\"ticklen\":6,\"ticks\":\"inside\"}},\"type\":\"scattergl\"}],\"scattermapbox\":[{\"marker\":{\"colorbar\":{\"outlinewidth\":0,\"tickcolor\":\"rgb(237,237,237)\",\"ticklen\":6,\"ticks\":\"inside\"}},\"type\":\"scattermapbox\"}],\"scatterpolargl\":[{\"marker\":{\"colorbar\":{\"outlinewidth\":0,\"tickcolor\":\"rgb(237,237,237)\",\"ticklen\":6,\"ticks\":\"inside\"}},\"type\":\"scatterpolargl\"}],\"scatterpolar\":[{\"marker\":{\"colorbar\":{\"outlinewidth\":0,\"tickcolor\":\"rgb(237,237,237)\",\"ticklen\":6,\"ticks\":\"inside\"}},\"type\":\"scatterpolar\"}],\"scatter\":[{\"fillpattern\":{\"fillmode\":\"overlay\",\"size\":10,\"solidity\":0.2},\"type\":\"scatter\"}],\"scatterternary\":[{\"marker\":{\"colorbar\":{\"outlinewidth\":0,\"tickcolor\":\"rgb(237,237,237)\",\"ticklen\":6,\"ticks\":\"inside\"}},\"type\":\"scatterternary\"}],\"surface\":[{\"colorbar\":{\"outlinewidth\":0,\"tickcolor\":\"rgb(237,237,237)\",\"ticklen\":6,\"ticks\":\"inside\"},\"colorscale\":[[0,\"rgb(20,44,66)\"],[1,\"rgb(90,179,244)\"]],\"type\":\"surface\"}],\"table\":[{\"cells\":{\"fill\":{\"color\":\"rgb(237,237,237)\"},\"line\":{\"color\":\"white\"}},\"header\":{\"fill\":{\"color\":\"rgb(217,217,217)\"},\"line\":{\"color\":\"white\"}},\"type\":\"table\"}]},\"layout\":{\"annotationdefaults\":{\"arrowhead\":0,\"arrowwidth\":1},\"autotypenumbers\":\"strict\",\"coloraxis\":{\"colorbar\":{\"outlinewidth\":0,\"tickcolor\":\"rgb(237,237,237)\",\"ticklen\":6,\"ticks\":\"inside\"}},\"colorscale\":{\"sequential\":[[0,\"rgb(20,44,66)\"],[1,\"rgb(90,179,244)\"]],\"sequentialminus\":[[0,\"rgb(20,44,66)\"],[1,\"rgb(90,179,244)\"]]},\"colorway\":[\"#F8766D\",\"#A3A500\",\"#00BF7D\",\"#00B0F6\",\"#E76BF3\"],\"font\":{\"color\":\"rgb(51,51,51)\"},\"geo\":{\"bgcolor\":\"white\",\"lakecolor\":\"white\",\"landcolor\":\"rgb(237,237,237)\",\"showlakes\":true,\"showland\":true,\"subunitcolor\":\"white\"},\"hoverlabel\":{\"align\":\"left\"},\"hovermode\":\"closest\",\"paper_bgcolor\":\"white\",\"plot_bgcolor\":\"rgb(237,237,237)\",\"polar\":{\"angularaxis\":{\"gridcolor\":\"white\",\"linecolor\":\"white\",\"showgrid\":true,\"tickcolor\":\"rgb(51,51,51)\",\"ticks\":\"outside\"},\"bgcolor\":\"rgb(237,237,237)\",\"radialaxis\":{\"gridcolor\":\"white\",\"linecolor\":\"white\",\"showgrid\":true,\"tickcolor\":\"rgb(51,51,51)\",\"ticks\":\"outside\"}},\"scene\":{\"xaxis\":{\"backgroundcolor\":\"rgb(237,237,237)\",\"gridcolor\":\"white\",\"gridwidth\":2,\"linecolor\":\"white\",\"showbackground\":true,\"showgrid\":true,\"tickcolor\":\"rgb(51,51,51)\",\"ticks\":\"outside\",\"zerolinecolor\":\"white\"},\"yaxis\":{\"backgroundcolor\":\"rgb(237,237,237)\",\"gridcolor\":\"white\",\"gridwidth\":2,\"linecolor\":\"white\",\"showbackground\":true,\"showgrid\":true,\"tickcolor\":\"rgb(51,51,51)\",\"ticks\":\"outside\",\"zerolinecolor\":\"white\"},\"zaxis\":{\"backgroundcolor\":\"rgb(237,237,237)\",\"gridcolor\":\"white\",\"gridwidth\":2,\"linecolor\":\"white\",\"showbackground\":true,\"showgrid\":true,\"tickcolor\":\"rgb(51,51,51)\",\"ticks\":\"outside\",\"zerolinecolor\":\"white\"}},\"shapedefaults\":{\"fillcolor\":\"black\",\"line\":{\"width\":0},\"opacity\":0.3},\"ternary\":{\"aaxis\":{\"gridcolor\":\"white\",\"linecolor\":\"white\",\"showgrid\":true,\"tickcolor\":\"rgb(51,51,51)\",\"ticks\":\"outside\"},\"baxis\":{\"gridcolor\":\"white\",\"linecolor\":\"white\",\"showgrid\":true,\"tickcolor\":\"rgb(51,51,51)\",\"ticks\":\"outside\"},\"bgcolor\":\"rgb(237,237,237)\",\"caxis\":{\"gridcolor\":\"white\",\"linecolor\":\"white\",\"showgrid\":true,\"tickcolor\":\"rgb(51,51,51)\",\"ticks\":\"outside\"}},\"xaxis\":{\"automargin\":true,\"gridcolor\":\"white\",\"linecolor\":\"white\",\"showgrid\":true,\"tickcolor\":\"rgb(51,51,51)\",\"ticks\":\"outside\",\"title\":{\"standoff\":15},\"zerolinecolor\":\"white\"},\"yaxis\":{\"automargin\":true,\"gridcolor\":\"white\",\"linecolor\":\"white\",\"showgrid\":true,\"tickcolor\":\"rgb(51,51,51)\",\"ticks\":\"outside\",\"title\":{\"standoff\":15},\"zerolinecolor\":\"white\"}}},\"xaxis\":{\"anchor\":\"y\",\"domain\":[0.0,1.0],\"title\":{\"text\":\"Predicted Label\"},\"side\":\"bottom\"},\"yaxis\":{\"anchor\":\"x\",\"domain\":[0.0,1.0],\"autorange\":\"reversed\",\"title\":{\"text\":\"Correct Label\"}},\"coloraxis\":{\"colorbar\":{\"title\":{\"text\":\"Value\"}},\"colorscale\":[[0.0,\"rgb(20,44,66)\"],[1.0,\"rgb(90,179,244)\"]]},\"margin\":{\"t\":60}},                        {\"responsive\": true}                    ).then(function(){\n",
       "                            \n",
       "var gd = document.getElementById('78d9c9ae-ec88-4eac-8b96-55d80dfc90b6');\n",
       "var x = new MutationObserver(function (mutations, observer) {{\n",
       "        var display = window.getComputedStyle(gd).display;\n",
       "        if (!display || display === 'none') {{\n",
       "            console.log([gd, 'removed!']);\n",
       "            Plotly.purge(gd);\n",
       "            observer.disconnect();\n",
       "        }}\n",
       "}});\n",
       "\n",
       "// Listen for the removal of the full notebook cells\n",
       "var notebookContainer = gd.closest('#notebook-container');\n",
       "if (notebookContainer) {{\n",
       "    x.observe(notebookContainer, {childList: true});\n",
       "}}\n",
       "\n",
       "// Listen for the clearing of the current output cell\n",
       "var outputEl = gd.closest('.output');\n",
       "if (outputEl) {{\n",
       "    x.observe(outputEl, {childList: true});\n",
       "}}\n",
       "\n",
       "                        })                };                });            </script>        </div>"
      ]
     },
     "metadata": {},
     "output_type": "display_data"
    }
   ],
   "source": [
    "class_weights = {0: 1, 1: 2}  \n",
    "\n",
    "model = LogisticRegression(solver='liblinear', random_state=42, class_weight=class_weights)\n",
    "\n",
    "model.fit(train_inputs, train_targets)\n",
    "\n",
    "LRtrain_preds = model.predict(val_inputs)\n",
    "\n",
    "confusionmatrix = np.around(confusion_matrix(val_targets, LRtrain_preds, normalize='true'), 3)\n",
    "\n",
    "fig = px.imshow(confusionmatrix, template='ggplot2', text_auto=True, aspect=\"auto\",\n",
    "                labels=dict(x=\"Predicted Label\", y=\"Correct Label\", color='Value'))\n",
    "fig.update_xaxes(side=\"bottom\")\n",
    "fig.show()\n",
    "\n"
   ]
  },
  {
   "cell_type": "code",
   "execution_count": 65,
   "metadata": {
    "colab": {
     "background_save": true
    },
    "id": "cWn2mfJIbok5",
    "outputId": "f22be720-4e16-4288-a23c-3c887df7d770"
   },
   "outputs": [
    {
     "data": {
      "image/png": "[encoded data removed]",
      "text/plain": [
       "<Figure size 640x480 with 1 Axes>"
      ]
     },
     "metadata": {},
     "output_type": "display_data"
    }
   ],
   "source": [
    "y_pred = model.predict(val_inputs) \n",
    "fpr, tpr, thresholds = roc_curve(val_targets, y_pred)\n",
    "\n",
    "auc = roc_auc_score(val_targets, y_pred)\n",
    "\n",
    "plt.figure()\n",
    "plt.plot(fpr, tpr, label='ROC curve (AUC = {:.2f})'.format(auc))\n",
    "plt.plot([0, 1], [0, 1], 'k--') \n",
    "plt.xlim([0.0, 1.0])\n",
    "plt.ylim([0.0, 1.05])\n",
    "\n",
    "plt.gca().spines['top'].set_visible(False)\n",
    "plt.gca().spines['right'].set_visible(False)\n",
    "plt.xlabel('False Positive Rate')\n",
    "plt.ylabel('True Positive Rate')\n",
    "plt.title('Test Set ROC Curve')\n",
    "plt.legend(loc=\"lower right\")\n",
    "plt.show()"
   ]
  },
  {
   "cell_type": "code",
   "execution_count": 66,
   "metadata": {
    "colab": {
     "background_save": true
    },
    "id": "I3-rzpNocIfI",
    "outputId": "f7c09f5f-21ff-456d-9e6b-78434ef2edb4"
   },
   "outputs": [
    {
     "name": "stdout",
     "output_type": "stream",
     "text": [
      "              precision    recall  f1-score   support\n",
      "\n",
      "           0       1.00      1.00      1.00        54\n",
      "           1       1.00      1.00      1.00        89\n",
      "\n",
      "    accuracy                           1.00       143\n",
      "   macro avg       1.00      1.00      1.00       143\n",
      "weighted avg       1.00      1.00      1.00       143\n",
      "\n"
     ]
    }
   ],
   "source": [
    "print(classification_report(val_targets, LRtrain_preds))"
   ]
  },
  {
   "cell_type": "code",
   "execution_count": 67,
   "metadata": {
    "colab": {
     "background_save": true
    },
    "id": "m-Ab3uqOcIbv",
    "outputId": "50d0081f-f401-40e2-c5fb-8b6f0ac6fda2"
   },
   "outputs": [
    {
     "name": "stdout",
     "output_type": "stream",
     "text": [
      "0 / 143 cases misclassified by LR model, Error rate : 0.0%.\n"
     ]
    }
   ],
   "source": [
    "misclassified_count = np.sum(val_targets != LRtrain_preds)\n",
    "total_cases = len(val_targets)\n",
    "error_rate = np.around((misclassified_count / total_cases) * 100, 3)\n",
    "\n",
    "print(f\"{misclassified_count} / {total_cases} cases misclassified by LR model, Error rate : {error_rate}%.\")"
   ]
  },
  {
   "cell_type": "code",
   "execution_count": 68,
   "metadata": {
    "colab": {
     "background_save": true
    },
    "id": "JGHSm7xwcIXU"
   },
   "outputs": [],
   "source": [
    "X = df.iloc[:,:-1].values\n",
    "y = df.iloc[:,-1].values"
   ]
  },
  {
   "cell_type": "code",
   "execution_count": 69,
   "metadata": {
    "colab": {
     "background_save": true
    },
    "id": "cI7wToQRcIUf",
    "outputId": "e6ab1e81-f4b7-4ad3-8c33-f52719b97a69"
   },
   "outputs": [
    {
     "name": "stdout",
     "output_type": "stream",
     "text": [
      "Original Data shape: (569, 25) \n",
      "Modified Data shape: (569, 1)\n"
     ]
    }
   ],
   "source": [
    "lda = LinearDiscriminantAnalysis()\n",
    "X_lda = lda.fit_transform(X, y)\n",
    "print(\"Original Data shape:\",X.shape, \"\\nModified Data shape:\", X_lda.shape)"
   ]
  },
  {
   "cell_type": "code",
   "execution_count": 70,
   "metadata": {
    "colab": {
     "background_save": true
    },
    "id": "6Ku2i4nLcIRT"
   },
   "outputs": [],
   "source": [
    "X_train, X_test, y_train, y_test = train_test_split(X_lda, y, test_size=0.2, random_state=42)"
   ]
  },
  {
   "cell_type": "code",
   "execution_count": 71,
   "metadata": {
    "colab": {
     "background_save": true
    },
    "id": "d6sklP8YcINo",
    "outputId": "801f75ab-ac9d-40d1-9929-8e73e988e550"
   },
   "outputs": [
    {
     "data": {
      "text/html": [
       "<style>#sk-container-id-1 {color: black;}#sk-container-id-1 pre{padding: 0;}#sk-container-id-1 div.sk-toggleable {background-color: white;}#sk-container-id-1 label.sk-toggleable__label {cursor: pointer;display: block;width: 100%;margin-bottom: 0;padding: 0.3em;box-sizing: border-box;text-align: center;}#sk-container-id-1 label.sk-toggleable__label-arrow:before {content: \"▸\";float: left;margin-right: 0.25em;color: #696969;}#sk-container-id-1 label.sk-toggleable__label-arrow:hover:before {color: black;}#sk-container-id-1 div.sk-estimator:hover label.sk-toggleable__label-arrow:before {color: black;}#sk-container-id-1 div.sk-toggleable__content {max-height: 0;max-width: 0;overflow: hidden;text-align: left;background-color: #f0f8ff;}#sk-container-id-1 div.sk-toggleable__content pre {margin: 0.2em;color: black;border-radius: 0.25em;background-color: #f0f8ff;}#sk-container-id-1 input.sk-toggleable__control:checked~div.sk-toggleable__content {max-height: 200px;max-width: 100%;overflow: auto;}#sk-container-id-1 input.sk-toggleable__control:checked~label.sk-toggleable__label-arrow:before {content: \"▾\";}#sk-container-id-1 div.sk-estimator input.sk-toggleable__control:checked~label.sk-toggleable__label {background-color: #d4ebff;}#sk-container-id-1 div.sk-label input.sk-toggleable__control:checked~label.sk-toggleable__label {background-color: #d4ebff;}#sk-container-id-1 input.sk-hidden--visually {border: 0;clip: rect(1px 1px 1px 1px);clip: rect(1px, 1px, 1px, 1px);height: 1px;margin: -1px;overflow: hidden;padding: 0;position: absolute;width: 1px;}#sk-container-id-1 div.sk-estimator {font-family: monospace;background-color: #f0f8ff;border: 1px dotted black;border-radius: 0.25em;box-sizing: border-box;margin-bottom: 0.5em;}#sk-container-id-1 div.sk-estimator:hover {background-color: #d4ebff;}#sk-container-id-1 div.sk-parallel-item::after {content: \"\";width: 100%;border-bottom: 1px solid gray;flex-grow: 1;}#sk-container-id-1 div.sk-label:hover label.sk-toggleable__label {background-color: #d4ebff;}#sk-container-id-1 div.sk-serial::before {content: \"\";position: absolute;border-left: 1px solid gray;box-sizing: border-box;top: 0;bottom: 0;left: 50%;z-index: 0;}#sk-container-id-1 div.sk-serial {display: flex;flex-direction: column;align-items: center;background-color: white;padding-right: 0.2em;padding-left: 0.2em;position: relative;}#sk-container-id-1 div.sk-item {position: relative;z-index: 1;}#sk-container-id-1 div.sk-parallel {display: flex;align-items: stretch;justify-content: center;background-color: white;position: relative;}#sk-container-id-1 div.sk-item::before, #sk-container-id-1 div.sk-parallel-item::before {content: \"\";position: absolute;border-left: 1px solid gray;box-sizing: border-box;top: 0;bottom: 0;left: 50%;z-index: -1;}#sk-container-id-1 div.sk-parallel-item {display: flex;flex-direction: column;z-index: 1;position: relative;background-color: white;}#sk-container-id-1 div.sk-parallel-item:first-child::after {align-self: flex-end;width: 50%;}#sk-container-id-1 div.sk-parallel-item:last-child::after {align-self: flex-start;width: 50%;}#sk-container-id-1 div.sk-parallel-item:only-child::after {width: 0;}#sk-container-id-1 div.sk-dashed-wrapped {border: 1px dashed gray;margin: 0 0.4em 0.5em 0.4em;box-sizing: border-box;padding-bottom: 0.4em;background-color: white;}#sk-container-id-1 div.sk-label label {font-family: monospace;font-weight: bold;display: inline-block;line-height: 1.2em;}#sk-container-id-1 div.sk-label-container {text-align: center;}#sk-container-id-1 div.sk-container {/* jupyter's `normalize.less` sets `[hidden] { display: none; }` but bootstrap.min.css set `[hidden] { display: none !important; }` so we also need the `!important` here to be able to override the default hidden behavior on the sphinx rendered scikit-learn.org. See: https://github.com/scikit-learn/scikit-learn/issues/21755 */display: inline-block !important;position: relative;}#sk-container-id-1 div.sk-text-repr-fallback {display: none;}</style><div id=\"sk-container-id-1\" class=\"sk-top-container\"><div class=\"sk-text-repr-fallback\"><pre>LinearDiscriminantAnalysis()</pre><b>In a Jupyter environment, please rerun this cell to show the HTML representation or trust the notebook. <br />On GitHub, the HTML representation is unable to render, please try loading this page with nbviewer.org.</b></div><div class=\"sk-container\" hidden><div class=\"sk-item\"><div class=\"sk-estimator sk-toggleable\"><input class=\"sk-toggleable__control sk-hidden--visually\" id=\"sk-estimator-id-1\" type=\"checkbox\" checked><label for=\"sk-estimator-id-1\" class=\"sk-toggleable__label sk-toggleable__label-arrow\">LinearDiscriminantAnalysis</label><div class=\"sk-toggleable__content\"><pre>LinearDiscriminantAnalysis()</pre></div></div></div></div></div>"
      ],
      "text/plain": [
       "LinearDiscriminantAnalysis()"
      ]
     },
     "execution_count": 71,
     "metadata": {},
     "output_type": "execute_result"
    }
   ],
   "source": [
    "lda.fit(X_train, y_train)"
   ]
  },
  {
   "cell_type": "code",
   "execution_count": 72,
   "metadata": {
    "colab": {
     "background_save": true
    },
    "id": "3TgPC7GocIKa",
    "outputId": "efb64f19-43b4-4874-8aa0-8aa6fd379e17"
   },
   "outputs": [
    {
     "data": {
      "application/vnd.plotly.v1+json": {
       "config": {
        "plotlyServerURL": "https://plot.ly"
       },
       "data": [
        {
         "coloraxis": "coloraxis",
         "hovertemplate": "Predicted Label: %{x}<br>Correct Label: %{y}<br>Value: %{z}<extra></extra>",
         "name": "0",
         "texttemplate": "%{z}",
         "type": "heatmap",
         "xaxis": "x",
         "yaxis": "y",
         "z": [
          [
           0.899,
           0.101
          ],
          [
           0.003,
           0.997
          ]
         ]
        }
       ],
       "layout": {
        "coloraxis": {
         "colorbar": {
          "title": {
           "text": "Value"
          }
         },
         "colorscale": [
          [
           0,
           "#440154"
          ],
          [
           0.1111111111111111,
           "#482878"
          ],
          [
           0.2222222222222222,
           "#3e4989"
          ],
          [
           0.3333333333333333,
           "#31688e"
          ],
          [
           0.4444444444444444,
           "#26828e"
          ],
          [
           0.5555555555555556,
           "#1f9e89"
          ],
          [
           0.6666666666666666,
           "#35b779"
          ],
          [
           0.7777777777777778,
           "#6ece58"
          ],
          [
           0.8888888888888888,
           "#b5de2b"
          ],
          [
           1,
           "#fde725"
          ]
         ]
        },
        "margin": {
         "t": 60
        },
        "template": {
         "data": {
          "bar": [
           {
            "error_x": {
             "color": "rgb(36,36,36)"
            },
            "error_y": {
             "color": "rgb(36,36,36)"
            },
            "marker": {
             "line": {
              "color": "white",
              "width": 0.5
             },
             "pattern": {
              "fillmode": "overlay",
              "size": 10,
              "solidity": 0.2
             }
            },
            "type": "bar"
           }
          ],
          "barpolar": [
           {
            "marker": {
             "line": {
              "color": "white",
              "width": 0.5
             },
             "pattern": {
              "fillmode": "overlay",
              "size": 10,
              "solidity": 0.2
             }
            },
            "type": "barpolar"
           }
          ],
          "carpet": [
           {
            "aaxis": {
             "endlinecolor": "rgb(36,36,36)",
             "gridcolor": "white",
             "linecolor": "white",
             "minorgridcolor": "white",
             "startlinecolor": "rgb(36,36,36)"
            },
            "baxis": {
             "endlinecolor": "rgb(36,36,36)",
             "gridcolor": "white",
             "linecolor": "white",
             "minorgridcolor": "white",
             "startlinecolor": "rgb(36,36,36)"
            },
            "type": "carpet"
           }
          ],
          "choropleth": [
           {
            "colorbar": {
             "outlinewidth": 1,
             "tickcolor": "rgb(36,36,36)",
             "ticks": "outside"
            },
            "type": "choropleth"
           }
          ],
          "contour": [
           {
            "colorbar": {
             "outlinewidth": 1,
             "tickcolor": "rgb(36,36,36)",
             "ticks": "outside"
            },
            "colorscale": [
             [
              0,
              "#440154"
             ],
             [
              0.1111111111111111,
              "#482878"
             ],
             [
              0.2222222222222222,
              "#3e4989"
             ],
             [
              0.3333333333333333,
              "#31688e"
             ],
             [
              0.4444444444444444,
              "#26828e"
             ],
             [
              0.5555555555555556,
              "#1f9e89"
             ],
             [
              0.6666666666666666,
              "#35b779"
             ],
             [
              0.7777777777777778,
              "#6ece58"
             ],
             [
              0.8888888888888888,
              "#b5de2b"
             ],
             [
              1,
              "#fde725"
             ]
            ],
            "type": "contour"
           }
          ],
          "contourcarpet": [
           {
            "colorbar": {
             "outlinewidth": 1,
             "tickcolor": "rgb(36,36,36)",
             "ticks": "outside"
            },
            "type": "contourcarpet"
           }
          ],
          "heatmap": [
           {
            "colorbar": {
             "outlinewidth": 1,
             "tickcolor": "rgb(36,36,36)",
             "ticks": "outside"
            },
            "colorscale": [
             [
              0,
              "#440154"
             ],
             [
              0.1111111111111111,
              "#482878"
             ],
             [
              0.2222222222222222,
              "#3e4989"
             ],
             [
              0.3333333333333333,
              "#31688e"
             ],
             [
              0.4444444444444444,
              "#26828e"
             ],
             [
              0.5555555555555556,
              "#1f9e89"
             ],
             [
              0.6666666666666666,
              "#35b779"
             ],
             [
              0.7777777777777778,
              "#6ece58"
             ],
             [
              0.8888888888888888,
              "#b5de2b"
             ],
             [
              1,
              "#fde725"
             ]
            ],
            "type": "heatmap"
           }
          ],
          "heatmapgl": [
           {
            "colorbar": {
             "outlinewidth": 1,
             "tickcolor": "rgb(36,36,36)",
             "ticks": "outside"
            },
            "colorscale": [
             [
              0,
              "#440154"
             ],
             [
              0.1111111111111111,
              "#482878"
             ],
             [
              0.2222222222222222,
              "#3e4989"
             ],
             [
              0.3333333333333333,
              "#31688e"
             ],
             [
              0.4444444444444444,
              "#26828e"
             ],
             [
              0.5555555555555556,
              "#1f9e89"
             ],
             [
              0.6666666666666666,
              "#35b779"
             ],
             [
              0.7777777777777778,
              "#6ece58"
             ],
             [
              0.8888888888888888,
              "#b5de2b"
             ],
             [
              1,
              "#fde725"
             ]
            ],
            "type": "heatmapgl"
           }
          ],
          "histogram": [
           {
            "marker": {
             "line": {
              "color": "white",
              "width": 0.6
             }
            },
            "type": "histogram"
           }
          ],
          "histogram2d": [
           {
            "colorbar": {
             "outlinewidth": 1,
             "tickcolor": "rgb(36,36,36)",
             "ticks": "outside"
            },
            "colorscale": [
             [
              0,
              "#440154"
             ],
             [
              0.1111111111111111,
              "#482878"
             ],
             [
              0.2222222222222222,
              "#3e4989"
             ],
             [
              0.3333333333333333,
              "#31688e"
             ],
             [
              0.4444444444444444,
              "#26828e"
             ],
             [
              0.5555555555555556,
              "#1f9e89"
             ],
             [
              0.6666666666666666,
              "#35b779"
             ],
             [
              0.7777777777777778,
              "#6ece58"
             ],
             [
              0.8888888888888888,
              "#b5de2b"
             ],
             [
              1,
              "#fde725"
             ]
            ],
            "type": "histogram2d"
           }
          ],
          "histogram2dcontour": [
           {
            "colorbar": {
             "outlinewidth": 1,
             "tickcolor": "rgb(36,36,36)",
             "ticks": "outside"
            },
            "colorscale": [
             [
              0,
              "#440154"
             ],
             [
              0.1111111111111111,
              "#482878"
             ],
             [
              0.2222222222222222,
              "#3e4989"
             ],
             [
              0.3333333333333333,
              "#31688e"
             ],
             [
              0.4444444444444444,
              "#26828e"
             ],
             [
              0.5555555555555556,
              "#1f9e89"
             ],
             [
              0.6666666666666666,
              "#35b779"
             ],
             [
              0.7777777777777778,
              "#6ece58"
             ],
             [
              0.8888888888888888,
              "#b5de2b"
             ],
             [
              1,
              "#fde725"
             ]
            ],
            "type": "histogram2dcontour"
           }
          ],
          "mesh3d": [
           {
            "colorbar": {
             "outlinewidth": 1,
             "tickcolor": "rgb(36,36,36)",
             "ticks": "outside"
            },
            "type": "mesh3d"
           }
          ],
          "parcoords": [
           {
            "line": {
             "colorbar": {
              "outlinewidth": 1,
              "tickcolor": "rgb(36,36,36)",
              "ticks": "outside"
             }
            },
            "type": "parcoords"
           }
          ],
          "pie": [
           {
            "automargin": true,
            "type": "pie"
           }
          ],
          "scatter": [
           {
            "fillpattern": {
             "fillmode": "overlay",
             "size": 10,
             "solidity": 0.2
            },
            "type": "scatter"
           }
          ],
          "scatter3d": [
           {
            "line": {
             "colorbar": {
              "outlinewidth": 1,
              "tickcolor": "rgb(36,36,36)",
              "ticks": "outside"
             }
            },
            "marker": {
             "colorbar": {
              "outlinewidth": 1,
              "tickcolor": "rgb(36,36,36)",
              "ticks": "outside"
             }
            },
            "type": "scatter3d"
           }
          ],
          "scattercarpet": [
           {
            "marker": {
             "colorbar": {
              "outlinewidth": 1,
              "tickcolor": "rgb(36,36,36)",
              "ticks": "outside"
             }
            },
            "type": "scattercarpet"
           }
          ],
          "scattergeo": [
           {
            "marker": {
             "colorbar": {
              "outlinewidth": 1,
              "tickcolor": "rgb(36,36,36)",
              "ticks": "outside"
             }
            },
            "type": "scattergeo"
           }
          ],
          "scattergl": [
           {
            "marker": {
             "colorbar": {
              "outlinewidth": 1,
              "tickcolor": "rgb(36,36,36)",
              "ticks": "outside"
             }
            },
            "type": "scattergl"
           }
          ],
          "scattermapbox": [
           {
            "marker": {
             "colorbar": {
              "outlinewidth": 1,
              "tickcolor": "rgb(36,36,36)",
              "ticks": "outside"
             }
            },
            "type": "scattermapbox"
           }
          ],
          "scatterpolar": [
           {
            "marker": {
             "colorbar": {
              "outlinewidth": 1,
              "tickcolor": "rgb(36,36,36)",
              "ticks": "outside"
             }
            },
            "type": "scatterpolar"
           }
          ],
          "scatterpolargl": [
           {
            "marker": {
             "colorbar": {
              "outlinewidth": 1,
              "tickcolor": "rgb(36,36,36)",
              "ticks": "outside"
             }
            },
            "type": "scatterpolargl"
           }
          ],
          "scatterternary": [
           {
            "marker": {
             "colorbar": {
              "outlinewidth": 1,
              "tickcolor": "rgb(36,36,36)",
              "ticks": "outside"
             }
            },
            "type": "scatterternary"
           }
          ],
          "surface": [
           {
            "colorbar": {
             "outlinewidth": 1,
             "tickcolor": "rgb(36,36,36)",
             "ticks": "outside"
            },
            "colorscale": [
             [
              0,
              "#440154"
             ],
             [
              0.1111111111111111,
              "#482878"
             ],
             [
              0.2222222222222222,
              "#3e4989"
             ],
             [
              0.3333333333333333,
              "#31688e"
             ],
             [
              0.4444444444444444,
              "#26828e"
             ],
             [
              0.5555555555555556,
              "#1f9e89"
             ],
             [
              0.6666666666666666,
              "#35b779"
             ],
             [
              0.7777777777777778,
              "#6ece58"
             ],
             [
              0.8888888888888888,
              "#b5de2b"
             ],
             [
              1,
              "#fde725"
             ]
            ],
            "type": "surface"
           }
          ],
          "table": [
           {
            "cells": {
             "fill": {
              "color": "rgb(237,237,237)"
             },
             "line": {
              "color": "white"
             }
            },
            "header": {
             "fill": {
              "color": "rgb(217,217,217)"
             },
             "line": {
              "color": "white"
             }
            },
            "type": "table"
           }
          ]
         },
         "layout": {
          "annotationdefaults": {
           "arrowhead": 0,
           "arrowwidth": 1
          },
          "autotypenumbers": "strict",
          "coloraxis": {
           "colorbar": {
            "outlinewidth": 1,
            "tickcolor": "rgb(36,36,36)",
            "ticks": "outside"
           }
          },
          "colorscale": {
           "diverging": [
            [
             0,
             "rgb(103,0,31)"
            ],
            [
             0.1,
             "rgb(178,24,43)"
            ],
            [
             0.2,
             "rgb(214,96,77)"
            ],
            [
             0.3,
             "rgb(244,165,130)"
            ],
            [
             0.4,
             "rgb(253,219,199)"
            ],
            [
             0.5,
             "rgb(247,247,247)"
            ],
            [
             0.6,
             "rgb(209,229,240)"
            ],
            [
             0.7,
             "rgb(146,197,222)"
            ],
            [
             0.8,
             "rgb(67,147,195)"
            ],
            [
             0.9,
             "rgb(33,102,172)"
            ],
            [
             1,
             "rgb(5,48,97)"
            ]
           ],
           "sequential": [
            [
             0,
             "#440154"
            ],
            [
             0.1111111111111111,
             "#482878"
            ],
            [
             0.2222222222222222,
             "#3e4989"
            ],
            [
             0.3333333333333333,
             "#31688e"
            ],
            [
             0.4444444444444444,
             "#26828e"
            ],
            [
             0.5555555555555556,
             "#1f9e89"
            ],
            [
             0.6666666666666666,
             "#35b779"
            ],
            [
             0.7777777777777778,
             "#6ece58"
            ],
            [
             0.8888888888888888,
             "#b5de2b"
            ],
            [
             1,
             "#fde725"
            ]
           ],
           "sequentialminus": [
            [
             0,
             "#440154"
            ],
            [
             0.1111111111111111,
             "#482878"
            ],
            [
             0.2222222222222222,
             "#3e4989"
            ],
            [
             0.3333333333333333,
             "#31688e"
            ],
            [
             0.4444444444444444,
             "#26828e"
            ],
            [
             0.5555555555555556,
             "#1f9e89"
            ],
            [
             0.6666666666666666,
             "#35b779"
            ],
            [
             0.7777777777777778,
             "#6ece58"
            ],
            [
             0.8888888888888888,
             "#b5de2b"
            ],
            [
             1,
             "#fde725"
            ]
           ]
          },
          "colorway": [
           "#1F77B4",
           "#FF7F0E",
           "#2CA02C",
           "#D62728",
           "#9467BD",
           "#8C564B",
           "#E377C2",
           "#7F7F7F",
           "#BCBD22",
           "#17BECF"
          ],
          "font": {
           "color": "rgb(36,36,36)"
          },
          "geo": {
           "bgcolor": "white",
           "lakecolor": "white",
           "landcolor": "white",
           "showlakes": true,
           "showland": true,
           "subunitcolor": "white"
          },
          "hoverlabel": {
           "align": "left"
          },
          "hovermode": "closest",
          "mapbox": {
           "style": "light"
          },
          "paper_bgcolor": "white",
          "plot_bgcolor": "white",
          "polar": {
           "angularaxis": {
            "gridcolor": "rgb(232,232,232)",
            "linecolor": "rgb(36,36,36)",
            "showgrid": false,
            "showline": true,
            "ticks": "outside"
           },
           "bgcolor": "white",
           "radialaxis": {
            "gridcolor": "rgb(232,232,232)",
            "linecolor": "rgb(36,36,36)",
            "showgrid": false,
            "showline": true,
            "ticks": "outside"
           }
          },
          "scene": {
           "xaxis": {
            "backgroundcolor": "white",
            "gridcolor": "rgb(232,232,232)",
            "gridwidth": 2,
            "linecolor": "rgb(36,36,36)",
            "showbackground": true,
            "showgrid": false,
            "showline": true,
            "ticks": "outside",
            "zeroline": false,
            "zerolinecolor": "rgb(36,36,36)"
           },
           "yaxis": {
            "backgroundcolor": "white",
            "gridcolor": "rgb(232,232,232)",
            "gridwidth": 2,
            "linecolor": "rgb(36,36,36)",
            "showbackground": true,
            "showgrid": false,
            "showline": true,
            "ticks": "outside",
            "zeroline": false,
            "zerolinecolor": "rgb(36,36,36)"
           },
           "zaxis": {
            "backgroundcolor": "white",
            "gridcolor": "rgb(232,232,232)",
            "gridwidth": 2,
            "linecolor": "rgb(36,36,36)",
            "showbackground": true,
            "showgrid": false,
            "showline": true,
            "ticks": "outside",
            "zeroline": false,
            "zerolinecolor": "rgb(36,36,36)"
           }
          },
          "shapedefaults": {
           "fillcolor": "black",
           "line": {
            "width": 0
           },
           "opacity": 0.3
          },
          "ternary": {
           "aaxis": {
            "gridcolor": "rgb(232,232,232)",
            "linecolor": "rgb(36,36,36)",
            "showgrid": false,
            "showline": true,
            "ticks": "outside"
           },
           "baxis": {
            "gridcolor": "rgb(232,232,232)",
            "linecolor": "rgb(36,36,36)",
            "showgrid": false,
            "showline": true,
            "ticks": "outside"
           },
           "bgcolor": "white",
           "caxis": {
            "gridcolor": "rgb(232,232,232)",
            "linecolor": "rgb(36,36,36)",
            "showgrid": false,
            "showline": true,
            "ticks": "outside"
           }
          },
          "title": {
           "x": 0.05
          },
          "xaxis": {
           "automargin": true,
           "gridcolor": "rgb(232,232,232)",
           "linecolor": "rgb(36,36,36)",
           "showgrid": false,
           "showline": true,
           "ticks": "outside",
           "title": {
            "standoff": 15
           },
           "zeroline": false,
           "zerolinecolor": "rgb(36,36,36)"
          },
          "yaxis": {
           "automargin": true,
           "gridcolor": "rgb(232,232,232)",
           "linecolor": "rgb(36,36,36)",
           "showgrid": false,
           "showline": true,
           "ticks": "outside",
           "title": {
            "standoff": 15
           },
           "zeroline": false,
           "zerolinecolor": "rgb(36,36,36)"
          }
         }
        },
        "xaxis": {
         "anchor": "y",
         "domain": [
          0,
          1
         ],
         "side": "bottom",
         "title": {
          "text": "Predicted Label"
         }
        },
        "yaxis": {
         "anchor": "x",
         "autorange": "reversed",
         "domain": [
          0,
          1
         ],
         "title": {
          "text": "Correct Label"
         }
        }
       }
      },
      "text/html": [
       "<div>                            <div id=\"825c43b1-952b-46c8-b0ba-eb7b45cfe96b\" class=\"plotly-graph-div\" style=\"height:525px; width:100%;\"></div>            <script type=\"text/javascript\">                require([\"plotly\"], function(Plotly) {                    window.PLOTLYENV=window.PLOTLYENV || {};                                    if (document.getElementById(\"825c43b1-952b-46c8-b0ba-eb7b45cfe96b\")) {                    Plotly.newPlot(                        \"825c43b1-952b-46c8-b0ba-eb7b45cfe96b\",                        [{\"coloraxis\":\"coloraxis\",\"name\":\"0\",\"texttemplate\":\"%{z}\",\"z\":[[0.899,0.101],[0.003,0.997]],\"type\":\"heatmap\",\"xaxis\":\"x\",\"yaxis\":\"y\",\"hovertemplate\":\"Predicted Label: %{x}<br>Correct Label: %{y}<br>Value: %{z}<extra></extra>\"}],                        {\"template\":{\"data\":{\"barpolar\":[{\"marker\":{\"line\":{\"color\":\"white\",\"width\":0.5},\"pattern\":{\"fillmode\":\"overlay\",\"size\":10,\"solidity\":0.2}},\"type\":\"barpolar\"}],\"bar\":[{\"error_x\":{\"color\":\"rgb(36,36,36)\"},\"error_y\":{\"color\":\"rgb(36,36,36)\"},\"marker\":{\"line\":{\"color\":\"white\",\"width\":0.5},\"pattern\":{\"fillmode\":\"overlay\",\"size\":10,\"solidity\":0.2}},\"type\":\"bar\"}],\"carpet\":[{\"aaxis\":{\"endlinecolor\":\"rgb(36,36,36)\",\"gridcolor\":\"white\",\"linecolor\":\"white\",\"minorgridcolor\":\"white\",\"startlinecolor\":\"rgb(36,36,36)\"},\"baxis\":{\"endlinecolor\":\"rgb(36,36,36)\",\"gridcolor\":\"white\",\"linecolor\":\"white\",\"minorgridcolor\":\"white\",\"startlinecolor\":\"rgb(36,36,36)\"},\"type\":\"carpet\"}],\"choropleth\":[{\"colorbar\":{\"outlinewidth\":1,\"tickcolor\":\"rgb(36,36,36)\",\"ticks\":\"outside\"},\"type\":\"choropleth\"}],\"contourcarpet\":[{\"colorbar\":{\"outlinewidth\":1,\"tickcolor\":\"rgb(36,36,36)\",\"ticks\":\"outside\"},\"type\":\"contourcarpet\"}],\"contour\":[{\"colorbar\":{\"outlinewidth\":1,\"tickcolor\":\"rgb(36,36,36)\",\"ticks\":\"outside\"},\"colorscale\":[[0.0,\"#440154\"],[0.1111111111111111,\"#482878\"],[0.2222222222222222,\"#3e4989\"],[0.3333333333333333,\"#31688e\"],[0.4444444444444444,\"#26828e\"],[0.5555555555555556,\"#1f9e89\"],[0.6666666666666666,\"#35b779\"],[0.7777777777777778,\"#6ece58\"],[0.8888888888888888,\"#b5de2b\"],[1.0,\"#fde725\"]],\"type\":\"contour\"}],\"heatmapgl\":[{\"colorbar\":{\"outlinewidth\":1,\"tickcolor\":\"rgb(36,36,36)\",\"ticks\":\"outside\"},\"colorscale\":[[0.0,\"#440154\"],[0.1111111111111111,\"#482878\"],[0.2222222222222222,\"#3e4989\"],[0.3333333333333333,\"#31688e\"],[0.4444444444444444,\"#26828e\"],[0.5555555555555556,\"#1f9e89\"],[0.6666666666666666,\"#35b779\"],[0.7777777777777778,\"#6ece58\"],[0.8888888888888888,\"#b5de2b\"],[1.0,\"#fde725\"]],\"type\":\"heatmapgl\"}],\"heatmap\":[{\"colorbar\":{\"outlinewidth\":1,\"tickcolor\":\"rgb(36,36,36)\",\"ticks\":\"outside\"},\"colorscale\":[[0.0,\"#440154\"],[0.1111111111111111,\"#482878\"],[0.2222222222222222,\"#3e4989\"],[0.3333333333333333,\"#31688e\"],[0.4444444444444444,\"#26828e\"],[0.5555555555555556,\"#1f9e89\"],[0.6666666666666666,\"#35b779\"],[0.7777777777777778,\"#6ece58\"],[0.8888888888888888,\"#b5de2b\"],[1.0,\"#fde725\"]],\"type\":\"heatmap\"}],\"histogram2dcontour\":[{\"colorbar\":{\"outlinewidth\":1,\"tickcolor\":\"rgb(36,36,36)\",\"ticks\":\"outside\"},\"colorscale\":[[0.0,\"#440154\"],[0.1111111111111111,\"#482878\"],[0.2222222222222222,\"#3e4989\"],[0.3333333333333333,\"#31688e\"],[0.4444444444444444,\"#26828e\"],[0.5555555555555556,\"#1f9e89\"],[0.6666666666666666,\"#35b779\"],[0.7777777777777778,\"#6ece58\"],[0.8888888888888888,\"#b5de2b\"],[1.0,\"#fde725\"]],\"type\":\"histogram2dcontour\"}],\"histogram2d\":[{\"colorbar\":{\"outlinewidth\":1,\"tickcolor\":\"rgb(36,36,36)\",\"ticks\":\"outside\"},\"colorscale\":[[0.0,\"#440154\"],[0.1111111111111111,\"#482878\"],[0.2222222222222222,\"#3e4989\"],[0.3333333333333333,\"#31688e\"],[0.4444444444444444,\"#26828e\"],[0.5555555555555556,\"#1f9e89\"],[0.6666666666666666,\"#35b779\"],[0.7777777777777778,\"#6ece58\"],[0.8888888888888888,\"#b5de2b\"],[1.0,\"#fde725\"]],\"type\":\"histogram2d\"}],\"histogram\":[{\"marker\":{\"line\":{\"color\":\"white\",\"width\":0.6}},\"type\":\"histogram\"}],\"mesh3d\":[{\"colorbar\":{\"outlinewidth\":1,\"tickcolor\":\"rgb(36,36,36)\",\"ticks\":\"outside\"},\"type\":\"mesh3d\"}],\"parcoords\":[{\"line\":{\"colorbar\":{\"outlinewidth\":1,\"tickcolor\":\"rgb(36,36,36)\",\"ticks\":\"outside\"}},\"type\":\"parcoords\"}],\"pie\":[{\"automargin\":true,\"type\":\"pie\"}],\"scatter3d\":[{\"line\":{\"colorbar\":{\"outlinewidth\":1,\"tickcolor\":\"rgb(36,36,36)\",\"ticks\":\"outside\"}},\"marker\":{\"colorbar\":{\"outlinewidth\":1,\"tickcolor\":\"rgb(36,36,36)\",\"ticks\":\"outside\"}},\"type\":\"scatter3d\"}],\"scattercarpet\":[{\"marker\":{\"colorbar\":{\"outlinewidth\":1,\"tickcolor\":\"rgb(36,36,36)\",\"ticks\":\"outside\"}},\"type\":\"scattercarpet\"}],\"scattergeo\":[{\"marker\":{\"colorbar\":{\"outlinewidth\":1,\"tickcolor\":\"rgb(36,36,36)\",\"ticks\":\"outside\"}},\"type\":\"scattergeo\"}],\"scattergl\":[{\"marker\":{\"colorbar\":{\"outlinewidth\":1,\"tickcolor\":\"rgb(36,36,36)\",\"ticks\":\"outside\"}},\"type\":\"scattergl\"}],\"scattermapbox\":[{\"marker\":{\"colorbar\":{\"outlinewidth\":1,\"tickcolor\":\"rgb(36,36,36)\",\"ticks\":\"outside\"}},\"type\":\"scattermapbox\"}],\"scatterpolargl\":[{\"marker\":{\"colorbar\":{\"outlinewidth\":1,\"tickcolor\":\"rgb(36,36,36)\",\"ticks\":\"outside\"}},\"type\":\"scatterpolargl\"}],\"scatterpolar\":[{\"marker\":{\"colorbar\":{\"outlinewidth\":1,\"tickcolor\":\"rgb(36,36,36)\",\"ticks\":\"outside\"}},\"type\":\"scatterpolar\"}],\"scatter\":[{\"fillpattern\":{\"fillmode\":\"overlay\",\"size\":10,\"solidity\":0.2},\"type\":\"scatter\"}],\"scatterternary\":[{\"marker\":{\"colorbar\":{\"outlinewidth\":1,\"tickcolor\":\"rgb(36,36,36)\",\"ticks\":\"outside\"}},\"type\":\"scatterternary\"}],\"surface\":[{\"colorbar\":{\"outlinewidth\":1,\"tickcolor\":\"rgb(36,36,36)\",\"ticks\":\"outside\"},\"colorscale\":[[0.0,\"#440154\"],[0.1111111111111111,\"#482878\"],[0.2222222222222222,\"#3e4989\"],[0.3333333333333333,\"#31688e\"],[0.4444444444444444,\"#26828e\"],[0.5555555555555556,\"#1f9e89\"],[0.6666666666666666,\"#35b779\"],[0.7777777777777778,\"#6ece58\"],[0.8888888888888888,\"#b5de2b\"],[1.0,\"#fde725\"]],\"type\":\"surface\"}],\"table\":[{\"cells\":{\"fill\":{\"color\":\"rgb(237,237,237)\"},\"line\":{\"color\":\"white\"}},\"header\":{\"fill\":{\"color\":\"rgb(217,217,217)\"},\"line\":{\"color\":\"white\"}},\"type\":\"table\"}]},\"layout\":{\"annotationdefaults\":{\"arrowhead\":0,\"arrowwidth\":1},\"autotypenumbers\":\"strict\",\"coloraxis\":{\"colorbar\":{\"outlinewidth\":1,\"tickcolor\":\"rgb(36,36,36)\",\"ticks\":\"outside\"}},\"colorscale\":{\"diverging\":[[0.0,\"rgb(103,0,31)\"],[0.1,\"rgb(178,24,43)\"],[0.2,\"rgb(214,96,77)\"],[0.3,\"rgb(244,165,130)\"],[0.4,\"rgb(253,219,199)\"],[0.5,\"rgb(247,247,247)\"],[0.6,\"rgb(209,229,240)\"],[0.7,\"rgb(146,197,222)\"],[0.8,\"rgb(67,147,195)\"],[0.9,\"rgb(33,102,172)\"],[1.0,\"rgb(5,48,97)\"]],\"sequential\":[[0.0,\"#440154\"],[0.1111111111111111,\"#482878\"],[0.2222222222222222,\"#3e4989\"],[0.3333333333333333,\"#31688e\"],[0.4444444444444444,\"#26828e\"],[0.5555555555555556,\"#1f9e89\"],[0.6666666666666666,\"#35b779\"],[0.7777777777777778,\"#6ece58\"],[0.8888888888888888,\"#b5de2b\"],[1.0,\"#fde725\"]],\"sequentialminus\":[[0.0,\"#440154\"],[0.1111111111111111,\"#482878\"],[0.2222222222222222,\"#3e4989\"],[0.3333333333333333,\"#31688e\"],[0.4444444444444444,\"#26828e\"],[0.5555555555555556,\"#1f9e89\"],[0.6666666666666666,\"#35b779\"],[0.7777777777777778,\"#6ece58\"],[0.8888888888888888,\"#b5de2b\"],[1.0,\"#fde725\"]]},\"colorway\":[\"#1F77B4\",\"#FF7F0E\",\"#2CA02C\",\"#D62728\",\"#9467BD\",\"#8C564B\",\"#E377C2\",\"#7F7F7F\",\"#BCBD22\",\"#17BECF\"],\"font\":{\"color\":\"rgb(36,36,36)\"},\"geo\":{\"bgcolor\":\"white\",\"lakecolor\":\"white\",\"landcolor\":\"white\",\"showlakes\":true,\"showland\":true,\"subunitcolor\":\"white\"},\"hoverlabel\":{\"align\":\"left\"},\"hovermode\":\"closest\",\"mapbox\":{\"style\":\"light\"},\"paper_bgcolor\":\"white\",\"plot_bgcolor\":\"white\",\"polar\":{\"angularaxis\":{\"gridcolor\":\"rgb(232,232,232)\",\"linecolor\":\"rgb(36,36,36)\",\"showgrid\":false,\"showline\":true,\"ticks\":\"outside\"},\"bgcolor\":\"white\",\"radialaxis\":{\"gridcolor\":\"rgb(232,232,232)\",\"linecolor\":\"rgb(36,36,36)\",\"showgrid\":false,\"showline\":true,\"ticks\":\"outside\"}},\"scene\":{\"xaxis\":{\"backgroundcolor\":\"white\",\"gridcolor\":\"rgb(232,232,232)\",\"gridwidth\":2,\"linecolor\":\"rgb(36,36,36)\",\"showbackground\":true,\"showgrid\":false,\"showline\":true,\"ticks\":\"outside\",\"zeroline\":false,\"zerolinecolor\":\"rgb(36,36,36)\"},\"yaxis\":{\"backgroundcolor\":\"white\",\"gridcolor\":\"rgb(232,232,232)\",\"gridwidth\":2,\"linecolor\":\"rgb(36,36,36)\",\"showbackground\":true,\"showgrid\":false,\"showline\":true,\"ticks\":\"outside\",\"zeroline\":false,\"zerolinecolor\":\"rgb(36,36,36)\"},\"zaxis\":{\"backgroundcolor\":\"white\",\"gridcolor\":\"rgb(232,232,232)\",\"gridwidth\":2,\"linecolor\":\"rgb(36,36,36)\",\"showbackground\":true,\"showgrid\":false,\"showline\":true,\"ticks\":\"outside\",\"zeroline\":false,\"zerolinecolor\":\"rgb(36,36,36)\"}},\"shapedefaults\":{\"fillcolor\":\"black\",\"line\":{\"width\":0},\"opacity\":0.3},\"ternary\":{\"aaxis\":{\"gridcolor\":\"rgb(232,232,232)\",\"linecolor\":\"rgb(36,36,36)\",\"showgrid\":false,\"showline\":true,\"ticks\":\"outside\"},\"baxis\":{\"gridcolor\":\"rgb(232,232,232)\",\"linecolor\":\"rgb(36,36,36)\",\"showgrid\":false,\"showline\":true,\"ticks\":\"outside\"},\"bgcolor\":\"white\",\"caxis\":{\"gridcolor\":\"rgb(232,232,232)\",\"linecolor\":\"rgb(36,36,36)\",\"showgrid\":false,\"showline\":true,\"ticks\":\"outside\"}},\"title\":{\"x\":0.05},\"xaxis\":{\"automargin\":true,\"gridcolor\":\"rgb(232,232,232)\",\"linecolor\":\"rgb(36,36,36)\",\"showgrid\":false,\"showline\":true,\"ticks\":\"outside\",\"title\":{\"standoff\":15},\"zeroline\":false,\"zerolinecolor\":\"rgb(36,36,36)\"},\"yaxis\":{\"automargin\":true,\"gridcolor\":\"rgb(232,232,232)\",\"linecolor\":\"rgb(36,36,36)\",\"showgrid\":false,\"showline\":true,\"ticks\":\"outside\",\"title\":{\"standoff\":15},\"zeroline\":false,\"zerolinecolor\":\"rgb(36,36,36)\"}}},\"xaxis\":{\"anchor\":\"y\",\"domain\":[0.0,1.0],\"title\":{\"text\":\"Predicted Label\"},\"side\":\"bottom\"},\"yaxis\":{\"anchor\":\"x\",\"domain\":[0.0,1.0],\"autorange\":\"reversed\",\"title\":{\"text\":\"Correct Label\"}},\"coloraxis\":{\"colorbar\":{\"title\":{\"text\":\"Value\"}},\"colorscale\":[[0.0,\"#440154\"],[0.1111111111111111,\"#482878\"],[0.2222222222222222,\"#3e4989\"],[0.3333333333333333,\"#31688e\"],[0.4444444444444444,\"#26828e\"],[0.5555555555555556,\"#1f9e89\"],[0.6666666666666666,\"#35b779\"],[0.7777777777777778,\"#6ece58\"],[0.8888888888888888,\"#b5de2b\"],[1.0,\"#fde725\"]]},\"margin\":{\"t\":60}},                        {\"responsive\": true}                    ).then(function(){\n",
       "                            \n",
       "var gd = document.getElementById('825c43b1-952b-46c8-b0ba-eb7b45cfe96b');\n",
       "var x = new MutationObserver(function (mutations, observer) {{\n",
       "        var display = window.getComputedStyle(gd).display;\n",
       "        if (!display || display === 'none') {{\n",
       "            console.log([gd, 'removed!']);\n",
       "            Plotly.purge(gd);\n",
       "            observer.disconnect();\n",
       "        }}\n",
       "}});\n",
       "\n",
       "// Listen for the removal of the full notebook cells\n",
       "var notebookContainer = gd.closest('#notebook-container');\n",
       "if (notebookContainer) {{\n",
       "    x.observe(notebookContainer, {childList: true});\n",
       "}}\n",
       "\n",
       "// Listen for the clearing of the current output cell\n",
       "var outputEl = gd.closest('.output');\n",
       "if (outputEl) {{\n",
       "    x.observe(outputEl, {childList: true});\n",
       "}}\n",
       "\n",
       "                        })                };                });            </script>        </div>"
      ]
     },
     "metadata": {},
     "output_type": "display_data"
    }
   ],
   "source": [
    "LDAtrain_preds = lda.predict(X_train)\n",
    "confusionmatrix = np.around(confusion_matrix(y_train, LDAtrain_preds, normalize='true'),3)\n",
    "\n",
    "fig = px.imshow(confusionmatrix,\n",
    "                template='simple_white',\n",
    "                text_auto=True,\n",
    "                aspect=\"auto\",\n",
    "                labels=dict(x=\"Predicted Label\", y=\"Correct Label\", color='Value'))\n",
    "fig.update_xaxes(side=\"bottom\")\n",
    "fig.show()"
   ]
  },
  {
   "cell_type": "code",
   "execution_count": 73,
   "metadata": {
    "colab": {
     "background_save": true
    },
    "id": "suFpk8VzcIHg",
    "outputId": "304931e9-1b5f-4203-d5f2-ea78fa4f4c38"
   },
   "outputs": [
    {
     "data": {
      "image/png": "[encoded data removed]",
      "text/plain": [
       "<Figure size 640x480 with 1 Axes>"
      ]
     },
     "metadata": {},
     "output_type": "display_data"
    }
   ],
   "source": [
    "y_pred = lda.predict(X_train) \n",
    "fpr, tpr, thresholds = roc_curve(y_train, y_pred)\n",
    "\n",
    "\n",
    "auc = roc_auc_score(y_train, y_pred)\n",
    "\n",
    "plt.figure()\n",
    "plt.plot(fpr, tpr, label='LDA ROC curve (AUC = {:.2f})'.format(auc))\n",
    "plt.plot([0, 1], [0, 1], 'k--') \n",
    "plt.xlim([0.0, 1.0])\n",
    "plt.ylim([0.0, 1.05])\n",
    "\n",
    "plt.gca().spines['top'].set_visible(False)\n",
    "plt.gca().spines['right'].set_visible(False)\n",
    "plt.xlabel('False Positive Rate')\n",
    "plt.ylabel('True Positive Rate')\n",
    "plt.title('LDA ROC Curve')\n",
    "plt.legend(loc=\"lower right\")\n",
    "plt.show()"
   ]
  },
  {
   "cell_type": "code",
   "execution_count": 74,
   "metadata": {
    "colab": {
     "background_save": true
    },
    "id": "bf5zvE1wcIEG",
    "outputId": "d59da2cb-29cd-45c2-b2b2-d0b2e3fa1f7e"
   },
   "outputs": [
    {
     "name": "stdout",
     "output_type": "stream",
     "text": [
      "18 / 455 cases misclassified by LDA, Error rate : 3.956%.\n"
     ]
    }
   ],
   "source": [
    "misclassified_count = len(y_train[y_train != LDAtrain_preds])\n",
    "total_cases = len(y_train)\n",
    "error_rate = np.around((misclassified_count / total_cases) * 100, 3)\n",
    "\n",
    "print(f\"{misclassified_count} / {total_cases} cases misclassified by LDA, Error rate : {error_rate}%.\")"
   ]
  },
  {
   "cell_type": "code",
   "execution_count": 76,
   "metadata": {},
   "outputs": [
    {
     "name": "stdout",
     "output_type": "stream",
     "text": [
      "Collecting ydata_profiling\n",
      "  Using cached ydata_profiling-4.6.4-py2.py3-none-any.whl.metadata (20 kB)\n",
      "Requirement already satisfied: scipy<1.12,>=1.4.1 in ./anaconda3/lib/python3.11/site-packages (from ydata_profiling) (1.11.1)\n",
      "Requirement already satisfied: pandas!=1.4.0,<3,>1.1 in ./anaconda3/lib/python3.11/site-packages (from ydata_profiling) (2.0.3)\n",
      "Requirement already satisfied: matplotlib<3.9,>=3.2 in ./anaconda3/lib/python3.11/site-packages (from ydata_profiling) (3.7.2)\n",
      "Collecting pydantic>=2 (from ydata_profiling)\n",
      "  Using cached pydantic-2.5.3-py3-none-any.whl.metadata (65 kB)\n",
      "Requirement already satisfied: PyYAML<6.1,>=5.0.0 in ./anaconda3/lib/python3.11/site-packages (from ydata_profiling) (6.0)\n",
      "Requirement already satisfied: jinja2<3.2,>=2.11.1 in ./anaconda3/lib/python3.11/site-packages (from ydata_profiling) (3.1.2)\n",
      "Collecting visions==0.7.5 (from visions[type_image_path]==0.7.5->ydata_profiling)\n",
      "  Using cached visions-0.7.5-py3-none-any.whl (102 kB)\n",
      "Requirement already satisfied: numpy<1.26,>=1.16.0 in ./anaconda3/lib/python3.11/site-packages (from ydata_profiling) (1.24.3)\n",
      "Collecting htmlmin==0.1.12 (from ydata_profiling)\n",
      "  Using cached htmlmin-0.1.12.tar.gz (19 kB)\n",
      "  Preparing metadata (setup.py) ... \u001b[?25ldone\n",
      "\u001b[?25hCollecting phik<0.13,>=0.11.1 (from ydata_profiling)\n",
      "  Downloading phik-0.12.4-cp311-cp311-macosx_10_13_x86_64.whl.metadata (5.6 kB)\n",
      "Requirement already satisfied: requests<3,>=2.24.0 in ./anaconda3/lib/python3.11/site-packages (from ydata_profiling) (2.31.0)\n",
      "Requirement already satisfied: tqdm<5,>=4.48.2 in ./anaconda3/lib/python3.11/site-packages (from ydata_profiling) (4.65.0)\n",
      "Requirement already satisfied: seaborn<0.13,>=0.10.1 in ./anaconda3/lib/python3.11/site-packages (from ydata_profiling) (0.12.2)\n",
      "Collecting multimethod<2,>=1.4 (from ydata_profiling)\n",
      "  Using cached multimethod-1.10-py3-none-any.whl.metadata (8.2 kB)\n",
      "Requirement already satisfied: statsmodels<1,>=0.13.2 in ./anaconda3/lib/python3.11/site-packages (from ydata_profiling) (0.14.0)\n",
      "Collecting typeguard<5,>=4.1.2 (from ydata_profiling)\n",
      "  Using cached typeguard-4.1.5-py3-none-any.whl.metadata (3.7 kB)\n",
      "Collecting imagehash==4.3.1 (from ydata_profiling)\n",
      "  Using cached ImageHash-4.3.1-py2.py3-none-any.whl (296 kB)\n",
      "Collecting wordcloud>=1.9.1 (from ydata_profiling)\n",
      "  Downloading wordcloud-1.9.3-cp311-cp311-macosx_10_9_x86_64.whl.metadata (3.4 kB)\n",
      "Collecting dacite>=1.8 (from ydata_profiling)\n",
      "  Using cached dacite-1.8.1-py3-none-any.whl.metadata (15 kB)\n",
      "Requirement already satisfied: numba<0.59.0,>=0.56.0 in ./anaconda3/lib/python3.11/site-packages (from ydata_profiling) (0.57.0)\n",
      "Requirement already satisfied: PyWavelets in ./anaconda3/lib/python3.11/site-packages (from imagehash==4.3.1->ydata_profiling) (1.4.1)\n",
      "Requirement already satisfied: pillow in ./anaconda3/lib/python3.11/site-packages (from imagehash==4.3.1->ydata_profiling) (9.4.0)\n",
      "Requirement already satisfied: attrs>=19.3.0 in ./anaconda3/lib/python3.11/site-packages (from visions==0.7.5->visions[type_image_path]==0.7.5->ydata_profiling) (22.1.0)\n",
      "Requirement already satisfied: networkx>=2.4 in ./anaconda3/lib/python3.11/site-packages (from visions==0.7.5->visions[type_image_path]==0.7.5->ydata_profiling) (3.1)\n",
      "Collecting tangled-up-in-unicode>=0.0.4 (from visions==0.7.5->visions[type_image_path]==0.7.5->ydata_profiling)\n",
      "  Using cached tangled_up_in_unicode-0.2.0-py3-none-any.whl (4.7 MB)\n",
      "Requirement already satisfied: MarkupSafe>=2.0 in ./anaconda3/lib/python3.11/site-packages (from jinja2<3.2,>=2.11.1->ydata_profiling) (2.1.1)\n",
      "Requirement already satisfied: contourpy>=1.0.1 in ./anaconda3/lib/python3.11/site-packages (from matplotlib<3.9,>=3.2->ydata_profiling) (1.0.5)\n",
      "Requirement already satisfied: cycler>=0.10 in ./anaconda3/lib/python3.11/site-packages (from matplotlib<3.9,>=3.2->ydata_profiling) (0.11.0)\n",
      "Requirement already satisfied: fonttools>=4.22.0 in ./anaconda3/lib/python3.11/site-packages (from matplotlib<3.9,>=3.2->ydata_profiling) (4.25.0)\n",
      "Requirement already satisfied: kiwisolver>=1.0.1 in ./anaconda3/lib/python3.11/site-packages (from matplotlib<3.9,>=3.2->ydata_profiling) (1.4.4)\n",
      "Requirement already satisfied: packaging>=20.0 in ./anaconda3/lib/python3.11/site-packages (from matplotlib<3.9,>=3.2->ydata_profiling) (23.1)\n",
      "Requirement already satisfied: pyparsing<3.1,>=2.3.1 in ./anaconda3/lib/python3.11/site-packages (from matplotlib<3.9,>=3.2->ydata_profiling) (3.0.9)\n",
      "Requirement already satisfied: python-dateutil>=2.7 in ./anaconda3/lib/python3.11/site-packages (from matplotlib<3.9,>=3.2->ydata_profiling) (2.8.2)\n",
      "Requirement already satisfied: llvmlite<0.41,>=0.40.0dev0 in ./anaconda3/lib/python3.11/site-packages (from numba<0.59.0,>=0.56.0->ydata_profiling) (0.40.0)\n",
      "Requirement already satisfied: pytz>=2020.1 in ./anaconda3/lib/python3.11/site-packages (from pandas!=1.4.0,<3,>1.1->ydata_profiling) (2023.3.post1)\n",
      "Requirement already satisfied: tzdata>=2022.1 in ./anaconda3/lib/python3.11/site-packages (from pandas!=1.4.0,<3,>1.1->ydata_profiling) (2023.3)\n",
      "Requirement already satisfied: joblib>=0.14.1 in ./anaconda3/lib/python3.11/site-packages (from phik<0.13,>=0.11.1->ydata_profiling) (1.2.0)\n",
      "Collecting annotated-types>=0.4.0 (from pydantic>=2->ydata_profiling)\n",
      "  Using cached annotated_types-0.6.0-py3-none-any.whl.metadata (12 kB)\n",
      "Collecting pydantic-core==2.14.6 (from pydantic>=2->ydata_profiling)\n",
      "  Downloading pydantic_core-2.14.6-cp311-cp311-macosx_10_7_x86_64.whl.metadata (6.5 kB)\n",
      "Requirement already satisfied: typing-extensions>=4.6.1 in ./anaconda3/lib/python3.11/site-packages (from pydantic>=2->ydata_profiling) (4.7.1)\n",
      "Requirement already satisfied: charset-normalizer<4,>=2 in ./anaconda3/lib/python3.11/site-packages (from requests<3,>=2.24.0->ydata_profiling) (2.0.4)\n",
      "Requirement already satisfied: idna<4,>=2.5 in ./anaconda3/lib/python3.11/site-packages (from requests<3,>=2.24.0->ydata_profiling) (3.4)\n",
      "Requirement already satisfied: urllib3<3,>=1.21.1 in ./anaconda3/lib/python3.11/site-packages (from requests<3,>=2.24.0->ydata_profiling) (1.26.16)\n",
      "Requirement already satisfied: certifi>=2017.4.17 in ./anaconda3/lib/python3.11/site-packages (from requests<3,>=2.24.0->ydata_profiling) (2023.7.22)\n",
      "Requirement already satisfied: patsy>=0.5.2 in ./anaconda3/lib/python3.11/site-packages (from statsmodels<1,>=0.13.2->ydata_profiling) (0.5.3)\n",
      "Requirement already satisfied: six in ./anaconda3/lib/python3.11/site-packages (from patsy>=0.5.2->statsmodels<1,>=0.13.2->ydata_profiling) (1.16.0)\n",
      "Using cached ydata_profiling-4.6.4-py2.py3-none-any.whl (357 kB)\n",
      "Using cached dacite-1.8.1-py3-none-any.whl (14 kB)\n",
      "Using cached multimethod-1.10-py3-none-any.whl (9.9 kB)\n",
      "Downloading phik-0.12.4-cp311-cp311-macosx_10_13_x86_64.whl (660 kB)\n",
      "\u001b[2K   \u001b[90m━━━━━━━━━━━━━━━━━━━━━━━━━━━━━━━━━━━━━━━━\u001b[0m \u001b[32m660.6/660.6 kB\u001b[0m \u001b[31m4.5 MB/s\u001b[0m eta \u001b[36m0:00:00\u001b[0m00:01\u001b[0m00:01\u001b[0m\n",
      "\u001b[?25hUsing cached pydantic-2.5.3-py3-none-any.whl (381 kB)\n",
      "Downloading pydantic_core-2.14.6-cp311-cp311-macosx_10_7_x86_64.whl (1.9 MB)\n",
      "\u001b[2K   \u001b[90m━━━━━━━━━━━━━━━━━━━━━━━━━━━━━━━━━━━━━━━━\u001b[0m \u001b[32m1.9/1.9 MB\u001b[0m \u001b[31m5.0 MB/s\u001b[0m eta \u001b[36m0:00:00\u001b[0m00:01\u001b[0m00:01\u001b[0m\n",
      "\u001b[?25hUsing cached typeguard-4.1.5-py3-none-any.whl (34 kB)\n",
      "Downloading wordcloud-1.9.3-cp311-cp311-macosx_10_9_x86_64.whl (172 kB)\n",
      "\u001b[2K   \u001b[90m━━━━━━━━━━━━━━━━━━━━━━━━━━━━━━━━━━━━━━━━\u001b[0m \u001b[32m172.4/172.4 kB\u001b[0m \u001b[31m3.2 MB/s\u001b[0m eta \u001b[36m0:00:00\u001b[0mta \u001b[36m0:00:01\u001b[0m\n",
      "\u001b[?25hUsing cached annotated_types-0.6.0-py3-none-any.whl (12 kB)\n",
      "Building wheels for collected packages: htmlmin\n",
      "  Building wheel for htmlmin (setup.py) ... \u001b[?25ldone\n",
      "\u001b[?25h  Created wheel for htmlmin: filename=htmlmin-0.1.12-py3-none-any.whl size=27081 sha256=e70efd12e1dc3127517333409abfe6a2e206e081546da22b64ce44ac2f0e6f11\n",
      "  Stored in directory: /Users/user/Library/Caches/pip/wheels/8d/55/1a/19cd535375ed1ede0c996405ebffe34b196d78e2d9545723a2\n",
      "Successfully built htmlmin\n",
      "Installing collected packages: htmlmin, typeguard, tangled-up-in-unicode, pydantic-core, multimethod, dacite, annotated-types, pydantic, imagehash, wordcloud, visions, phik, ydata_profiling\n",
      "  Attempting uninstall: pydantic\n",
      "    Found existing installation: pydantic 1.10.8\n",
      "    Uninstalling pydantic-1.10.8:\n",
      "      Successfully uninstalled pydantic-1.10.8\n"
     ]
    },
    {
     "name": "stdout",
     "output_type": "stream",
     "text": [
      "\u001b[31mERROR: pip's dependency resolver does not currently take into account all the packages that are installed. This behaviour is the source of the following dependency conflicts.\n",
      "anaconda-cloud-auth 0.1.3 requires pydantic<2.0, but you have pydantic 2.5.3 which is incompatible.\u001b[0m\u001b[31m\n",
      "\u001b[0mSuccessfully installed annotated-types-0.6.0 dacite-1.8.1 htmlmin-0.1.12 imagehash-4.3.1 multimethod-1.10 phik-0.12.4 pydantic-2.5.3 pydantic-core-2.14.6 tangled-up-in-unicode-0.2.0 typeguard-4.1.5 visions-0.7.5 wordcloud-1.9.3 ydata_profiling-4.6.4\n",
      "Note: you may need to restart the kernel to use updated packages.\n"
     ]
    }
   ],
   "source": [
    "pip install ydata_profiling"
   ]
  },
  {
   "cell_type": "code",
   "execution_count": 77,
   "metadata": {
    "colab": {
     "background_save": true
    },
    "id": "yuCywH53uz8h"
   },
   "outputs": [],
   "source": [
    "import pickle\n",
    "\n",
    "pickle.dump(LogisticRegression,open('ronibiasanto1.pkl','wb'))"
   ]
  },
  {
   "cell_type": "code",
   "execution_count": null,
   "metadata": {},
   "outputs": [],
   "source": []
  }
 ],
 "metadata": {
  "accelerator": "GPU",
  "colab": {
   "provenance": []
  },
  "kernelspec": {
   "display_name": "Python 3 (ipykernel)",
   "language": "python",
   "name": "python3"
  },
  "language_info": {
   "codemirror_mode": {
    "name": "ipython",
    "version": 3
   },
   "file_extension": ".py",
   "mimetype": "text/x-python",
   "name": "python",
   "nbconvert_exporter": "python",
   "pygments_lexer": "ipython3",
   "version": "3.11.5"
  }
 },
 "nbformat": 4,
 "nbformat_minor": 1
}
